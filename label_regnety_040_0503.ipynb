{
 "cells": [
  {
   "cell_type": "code",
   "execution_count": 1,
   "metadata": {},
   "outputs": [],
   "source": [
    "import os\n",
    "import cv2\n",
    "import time\n",
    "import random\n",
    "import logging\n",
    "import easydict\n",
    "import numpy as np\n",
    "import pandas as pd\n",
    "from tqdm import tqdm\n",
    "from os.path import join as opj\n",
    "from sklearn.model_selection import StratifiedKFold\n",
    "from sklearn.metrics import f1_score\n",
    "from PIL import Image\n",
    "from natsort import natsorted\n",
    "\n",
    "import timm\n",
    "import torch\n",
    "import torch.nn as nn\n",
    "import torch_optimizer as optim\n",
    "from torch.utils.data import Dataset, DataLoader\n",
    "from torch.cuda.amp import autocast, grad_scaler\n",
    "from torchvision import transforms\n",
    "from torch import Tensor\n",
    "from torchvision.transforms import functional as F\n",
    "import torch.cuda.amp as amp\n",
    "from adamp import AdamP, SGDP\n",
    "\n",
    "import warnings\n",
    "warnings.filterwarnings('ignore')"
   ]
  },
  {
   "cell_type": "code",
   "execution_count": 2,
   "metadata": {},
   "outputs": [],
   "source": [
    "args = easydict.EasyDict(\n",
    "    {'exp_num':'0',\n",
    "     \n",
    "     # Path settings\n",
    "     'data_path':'./open',\n",
    "     'Kfold':5,\n",
    "     'model_path':'label_results/',\n",
    "     'image_type':'train_1024', \n",
    "     'class_num' : 88,\n",
    "\n",
    "     # Model parameter settings\n",
    "     'model_name':'regnety_040',\n",
    "     'drop_path_rate':0.2,\n",
    "     \n",
    "     # Training parameter settings\n",
    "     ## Base Parameter\n",
    "     'img_size':512,\n",
    "     'batch_size':16,\n",
    "     'epochs':100,\n",
    "     'optimizer':'Lamb',\n",
    "     'initial_lr':5e-4,\n",
    "     'weight_decay':1e-3,\n",
    "\n",
    "     ## Augmentation\n",
    "     'aug_ver':2,\n",
    "\n",
    "     ## Scheduler (OnecycleLR)\n",
    "     'scheduler':'Reduce',\n",
    "     'warm_epoch':5,\n",
    "     'max_lr':1e-3,\n",
    "\n",
    "     ### Cosine Annealing\n",
    "     'min_lr':5e-5,\n",
    "     'tmax':145,\n",
    "\n",
    "     ## etc.\n",
    "     'patience': 7,\n",
    "     'clipping':None,\n",
    "\n",
    "     # Hardware settings\n",
    "     'amp':True,\n",
    "     'multi_gpu':True,\n",
    "     'logging':False,\n",
    "     'num_workers':4,\n",
    "     'seed':42\n",
    "     \n",
    "     \n",
    "    })"
   ]
  },
  {
   "cell_type": "code",
   "execution_count": 3,
   "metadata": {},
   "outputs": [],
   "source": [
    "os.environ[\"CUDA_DEVICE_ORDER\"]=\"PCI_BUS_ID\"  # Arrange GPU devices starting from 0\n",
    "os.environ[\"CUDA_VISIBLE_DEVICES\"]= \"0,1\"  # Set the GPUs 2 and 3 to use"
   ]
  },
  {
   "cell_type": "markdown",
   "metadata": {},
   "source": [
    "# 데이터 증강"
   ]
  },
  {
   "cell_type": "code",
   "execution_count": 4,
   "metadata": {},
   "outputs": [],
   "source": [
    "DATA_DIR = './open'\n",
    "\n",
    "train_df = pd.read_csv(os.path.join(DATA_DIR, 'train_df.csv'))\n",
    "train_df = train_df.drop('index', axis=1)"
   ]
  },
  {
   "cell_type": "code",
   "execution_count": 5,
   "metadata": {},
   "outputs": [],
   "source": [
    "seed = 42\n",
    "os.environ['PYTHONHASHSEED'] = str(seed)\n",
    "random.seed(seed)\n",
    "np.random.seed(seed)"
   ]
  },
  {
   "cell_type": "markdown",
   "metadata": {},
   "source": [
    "# Random_Crop"
   ]
  },
  {
   "cell_type": "code",
   "execution_count": 6,
   "metadata": {},
   "outputs": [],
   "source": [
    "def get_random_crop(image, crop_height, crop_width):\n",
    "\n",
    "    max_x = image.shape[1] - crop_width\n",
    "    max_y = image.shape[0] - crop_height\n",
    "\n",
    "    x = np.random.randint(0, max_x)\n",
    "    y = np.random.randint(0, max_y)\n",
    "\n",
    "    crop = image[y: y + crop_height, x: x + crop_width]\n",
    "\n",
    "    return crop"
   ]
  },
  {
   "cell_type": "code",
   "execution_count": 7,
   "metadata": {
    "scrolled": true
   },
   "outputs": [
    {
     "name": "stderr",
     "output_type": "stream",
     "text": [
      "\r",
      "  0%|          | 0/88 [00:00<?, ?it/s]"
     ]
    },
    {
     "name": "stdout",
     "output_type": "stream",
     "text": [
      "cable-bent_wire\n",
      "['10008.png', '11086.png', '11552.png', '11599.png', '13211.png', '13215.png', '13795.png']\n"
     ]
    },
    {
     "name": "stderr",
     "output_type": "stream",
     "text": [
      "\r",
      "  7%|▋         | 6/88 [00:00<00:08,  9.46it/s]"
     ]
    },
    {
     "name": "stdout",
     "output_type": "stream",
     "text": [
      "carpet-hole\n",
      "['10010.png', '10307.png', '10641.png', '10711.png', '11673.png', '12260.png', '12432.png', '12823.png', '14030.png']\n"
     ]
    },
    {
     "name": "stderr",
     "output_type": "stream",
     "text": [
      "\r",
      "  8%|▊         | 7/88 [00:01<00:19,  4.15it/s]"
     ]
    },
    {
     "name": "stdout",
     "output_type": "stream",
     "text": [
      "pill-pill_type\n",
      "['10013.png', '10534.png', '10914.png', '12103.png', '13701.png']\n"
     ]
    },
    {
     "name": "stderr",
     "output_type": "stream",
     "text": [
      "\r",
      " 10%|█         | 9/88 [00:01<00:17,  4.61it/s]"
     ]
    },
    {
     "name": "stdout",
     "output_type": "stream",
     "text": [
      "metal_nut-scratch\n",
      "['10016.png', '10220.png', '10585.png', '11339.png', '12824.png', '12882.png', '12947.png', '13351.png', '13364.png', '13985.png', '14067.png', '14131.png']\n"
     ]
    },
    {
     "name": "stderr",
     "output_type": "stream",
     "text": [
      "\r",
      " 12%|█▎        | 11/88 [00:02<00:20,  3.70it/s]"
     ]
    },
    {
     "name": "stdout",
     "output_type": "stream",
     "text": [
      "screw-thread_side\n",
      "['10019.png', '10114.png', '10169.png', '10888.png', '11610.png', '11802.png', '12153.png', '13004.png', '13019.png', '13106.png', '13766.png', '14066.png']\n"
     ]
    },
    {
     "name": "stderr",
     "output_type": "stream",
     "text": [
      "\r",
      " 15%|█▍        | 13/88 [00:03<00:21,  3.48it/s]"
     ]
    },
    {
     "name": "stdout",
     "output_type": "stream",
     "text": [
      "zipper-fabric_border\n",
      "['10020.png', '10861.png', '13029.png', '13302.png', '13347.png', '13389.png', '13391.png', '13498.png', '14211.png']\n"
     ]
    },
    {
     "name": "stderr",
     "output_type": "stream",
     "text": [
      "\r",
      " 16%|█▌        | 14/88 [00:03<00:23,  3.10it/s]"
     ]
    },
    {
     "name": "stdout",
     "output_type": "stream",
     "text": [
      "pill-scratch\n",
      "['10023.png', '10675.png', '10736.png', '11173.png', '11418.png', '11620.png', '11978.png', '13180.png', '13324.png', '13401.png', '13942.png', '14101.png']\n"
     ]
    },
    {
     "name": "stderr",
     "output_type": "stream",
     "text": [
      "\r",
      " 18%|█▊        | 16/88 [00:04<00:25,  2.83it/s]"
     ]
    },
    {
     "name": "stdout",
     "output_type": "stream",
     "text": [
      "hazelnut-crack\n",
      "['10033.png', '10089.png', '11209.png', '12354.png', '12696.png', '12864.png', '13704.png', '13959.png', '14086.png']\n"
     ]
    },
    {
     "name": "stderr",
     "output_type": "stream",
     "text": [
      "\r",
      " 20%|██        | 18/88 [00:05<00:25,  2.76it/s]"
     ]
    },
    {
     "name": "stdout",
     "output_type": "stream",
     "text": [
      "screw-manipulated_front\n",
      "['10035.png', '10842.png', '11084.png', '11097.png', '11129.png', '11442.png', '11446.png', '11528.png', '12344.png', '12979.png', '13532.png', '14175.png']\n"
     ]
    },
    {
     "name": "stderr",
     "output_type": "stream",
     "text": [
      "\r",
      " 22%|██▏       | 19/88 [00:05<00:28,  2.41it/s]"
     ]
    },
    {
     "name": "stdout",
     "output_type": "stream",
     "text": [
      "bottle-contamination\n",
      "['10053.png', '10759.png', '10837.png', '11273.png', '11307.png', '11763.png', '12276.png', '12757.png', '12787.png', '13112.png', '13462.png']\n"
     ]
    },
    {
     "name": "stderr",
     "output_type": "stream",
     "text": [
      "\r",
      " 27%|██▋       | 24/88 [00:06<00:16,  3.93it/s]"
     ]
    },
    {
     "name": "stdout",
     "output_type": "stream",
     "text": [
      "zipper-split_teeth\n",
      "['10073.png', '10426.png', '10557.png', '10605.png', '10887.png', '11456.png', '12374.png', '12587.png', '13991.png']\n"
     ]
    },
    {
     "name": "stderr",
     "output_type": "stream",
     "text": [
      "\r",
      " 30%|██▉       | 26/88 [00:07<00:15,  3.99it/s]"
     ]
    },
    {
     "name": "stdout",
     "output_type": "stream",
     "text": [
      "pill-crack\n",
      "['10082.png', '10407.png', '10748.png', '11042.png', '11461.png', '11546.png', '12782.png', '12825.png', '13054.png', '13433.png', '13468.png', '13591.png', '14113.png']\n"
     ]
    },
    {
     "name": "stderr",
     "output_type": "stream",
     "text": [
      "\r",
      " 31%|███       | 27/88 [00:07<00:21,  2.89it/s]"
     ]
    },
    {
     "name": "stdout",
     "output_type": "stream",
     "text": [
      "wood-combined\n",
      "['10088.png', '12184.png', '12482.png', '12784.png', '13074.png', '13491.png']\n"
     ]
    },
    {
     "name": "stderr",
     "output_type": "stream",
     "text": [
      "\r",
      " 32%|███▏      | 28/88 [00:08<00:22,  2.65it/s]"
     ]
    },
    {
     "name": "stdout",
     "output_type": "stream",
     "text": [
      "pill-color\n",
      "['10092.png', '10104.png', '10742.png', '10749.png', '10820.png', '11489.png', '11879.png', '11945.png', '12189.png', '12291.png', '13879.png', '13945.png', '14252.png']\n"
     ]
    },
    {
     "name": "stderr",
     "output_type": "stream",
     "text": [
      "\r",
      " 33%|███▎      | 29/88 [00:09<00:28,  2.08it/s]"
     ]
    },
    {
     "name": "stdout",
     "output_type": "stream",
     "text": [
      "screw-thread_top\n",
      "['10095.png', '11236.png', '11501.png', '11563.png', '12245.png', '12275.png', '12381.png', '12523.png', '12721.png', '13386.png', '13551.png', '14071.png']\n"
     ]
    },
    {
     "name": "stderr",
     "output_type": "stream",
     "text": [
      "\r",
      " 34%|███▍      | 30/88 [00:09<00:30,  1.93it/s]"
     ]
    },
    {
     "name": "stdout",
     "output_type": "stream",
     "text": [
      "cable-missing_cable\n",
      "['10096.png', '10791.png', '11344.png', '11632.png', '12703.png', '14167.png']\n"
     ]
    },
    {
     "name": "stderr",
     "output_type": "stream",
     "text": [
      "\r",
      " 35%|███▌      | 31/88 [00:10<00:29,  1.91it/s]"
     ]
    },
    {
     "name": "stdout",
     "output_type": "stream",
     "text": [
      "capsule-squeeze\n",
      "['10110.png', '10111.png', '10343.png', '11613.png', '12311.png', '12424.png', '12632.png', '12715.png', '14105.png', '14217.png']\n"
     ]
    },
    {
     "name": "stderr",
     "output_type": "stream",
     "text": [
      "\r",
      " 36%|███▋      | 32/88 [00:11<00:34,  1.63it/s]"
     ]
    },
    {
     "name": "stdout",
     "output_type": "stream",
     "text": [
      "zipper-rough\n",
      "['10112.png', '10371.png', '10486.png', '10726.png', '12704.png', '13212.png', '13281.png', '13290.png', '13782.png']\n"
     ]
    },
    {
     "name": "stderr",
     "output_type": "stream",
     "text": [
      "\r",
      " 38%|███▊      | 33/88 [00:11<00:31,  1.73it/s]"
     ]
    },
    {
     "name": "stdout",
     "output_type": "stream",
     "text": [
      "capsule-crack\n",
      "['10113.png', '10156.png', '10444.png', '10731.png', '11069.png', '11356.png', '12378.png', '13455.png', '13592.png', '13907.png', '13960.png', '14073.png']\n"
     ]
    },
    {
     "name": "stderr",
     "output_type": "stream",
     "text": [
      "\r",
      " 39%|███▊      | 34/88 [00:12<00:37,  1.44it/s]"
     ]
    },
    {
     "name": "stdout",
     "output_type": "stream",
     "text": [
      "capsule-poke\n",
      "['10118.png', '10903.png', '11117.png', '11785.png', '11999.png', '12236.png', '12470.png', '13009.png', '13819.png', '14043.png', '14180.png']\n"
     ]
    },
    {
     "name": "stderr",
     "output_type": "stream",
     "text": [
      "\r",
      " 40%|███▉      | 35/88 [00:13<00:40,  1.32it/s]"
     ]
    },
    {
     "name": "stdout",
     "output_type": "stream",
     "text": [
      "metal_nut-flip\n",
      "['10132.png', '10628.png', '11500.png', '11503.png', '11523.png', '12467.png', '12991.png', '13077.png', '13384.png', '13804.png', '13852.png', '14088.png']\n"
     ]
    },
    {
     "name": "stderr",
     "output_type": "stream",
     "text": [
      "\r",
      " 41%|████      | 36/88 [00:14<00:39,  1.32it/s]"
     ]
    },
    {
     "name": "stdout",
     "output_type": "stream",
     "text": [
      "carpet-metal_contamination\n",
      "['10133.png', '10948.png', '11158.png', '11180.png', '11192.png', '11859.png', '11924.png', '12879.png', '12895.png']\n"
     ]
    },
    {
     "name": "stderr",
     "output_type": "stream",
     "text": [
      "\r",
      " 42%|████▏     | 37/88 [00:15<00:39,  1.31it/s]"
     ]
    },
    {
     "name": "stdout",
     "output_type": "stream",
     "text": [
      "metal_nut-color\n",
      "['10142.png', '10275.png', '10655.png', '10966.png', '11488.png', '12101.png', '12666.png', '12977.png', '13060.png', '13691.png', '14216.png']\n"
     ]
    },
    {
     "name": "stderr",
     "output_type": "stream",
     "text": [
      "\r",
      " 43%|████▎     | 38/88 [00:16<00:37,  1.34it/s]"
     ]
    },
    {
     "name": "stdout",
     "output_type": "stream",
     "text": [
      "transistor-bent_lead\n",
      "['10144.png', '12353.png', '12355.png', '13752.png', '14248.png']\n"
     ]
    },
    {
     "name": "stderr",
     "output_type": "stream",
     "text": [
      "\r",
      " 44%|████▍     | 39/88 [00:16<00:32,  1.53it/s]"
     ]
    },
    {
     "name": "stdout",
     "output_type": "stream",
     "text": [
      "zipper-fabric_interior\n",
      "['10153.png', '10182.png', '10445.png', '10478.png', '11455.png', '11600.png', '12556.png', '14205.png']\n"
     ]
    },
    {
     "name": "stderr",
     "output_type": "stream",
     "text": [
      "\r",
      " 45%|████▌     | 40/88 [00:16<00:28,  1.71it/s]"
     ]
    },
    {
     "name": "stdout",
     "output_type": "stream",
     "text": [
      "leather-fold\n",
      "['10154.png', '10233.png', '12675.png', '13233.png', '13438.png', '13488.png', '13654.png', '13662.png', '13713.png']\n"
     ]
    },
    {
     "name": "stderr",
     "output_type": "stream",
     "text": [
      "\r",
      " 47%|████▋     | 41/88 [00:17<00:29,  1.58it/s]"
     ]
    },
    {
     "name": "stdout",
     "output_type": "stream",
     "text": [
      "tile-glue_strip\n",
      "['10157.png', '11107.png', '11588.png', '11932.png', '12930.png', '13464.png', '13623.png', '13636.png', '13799.png']\n"
     ]
    },
    {
     "name": "stderr",
     "output_type": "stream",
     "text": [
      "\r",
      " 48%|████▊     | 42/88 [00:18<00:29,  1.56it/s]"
     ]
    },
    {
     "name": "stdout",
     "output_type": "stream",
     "text": [
      "screw-scratch_neck\n",
      "['10165.png', '10498.png', '10940.png', '11157.png', '11447.png', '11972.png', '12265.png', '12433.png', '12780.png', '13081.png', '13138.png', '13182.png', '13460.png']\n"
     ]
    },
    {
     "name": "stderr",
     "output_type": "stream",
     "text": [
      "\r",
      " 49%|████▉     | 43/88 [00:18<00:29,  1.52it/s]"
     ]
    },
    {
     "name": "stdout",
     "output_type": "stream",
     "text": [
      "screw-scratch_head\n",
      "['10197.png', '10304.png', '10367.png', '11078.png', '11727.png', '12555.png', '12778.png', '12795.png', '13369.png', '13483.png', '13733.png', '13888.png']\n"
     ]
    },
    {
     "name": "stderr",
     "output_type": "stream",
     "text": [
      "\r",
      " 50%|█████     | 44/88 [00:19<00:28,  1.54it/s]"
     ]
    },
    {
     "name": "stdout",
     "output_type": "stream",
     "text": [
      "hazelnut-cut\n",
      "['10200.png', '10942.png', '11172.png', '11443.png', '12034.png', '12486.png', '12809.png', '12914.png', '13683.png']\n"
     ]
    },
    {
     "name": "stderr",
     "output_type": "stream",
     "text": [
      "\r",
      " 51%|█████     | 45/88 [00:20<00:29,  1.48it/s]"
     ]
    },
    {
     "name": "stdout",
     "output_type": "stream",
     "text": [
      "bottle-broken_large\n",
      "['10204.png', '10260.png', '10712.png', '10839.png', '10912.png', '11143.png', '11828.png', '12006.png', '12253.png', '13456.png']\n"
     ]
    },
    {
     "name": "stderr",
     "output_type": "stream",
     "text": [
      "\r",
      " 52%|█████▏    | 46/88 [00:20<00:27,  1.52it/s]"
     ]
    },
    {
     "name": "stdout",
     "output_type": "stream",
     "text": [
      "bottle-broken_small\n",
      "['10217.png', '10244.png', '10767.png', '11628.png', '11791.png', '11805.png', '11905.png', '12278.png', '13436.png', '13679.png', '14139.png']\n"
     ]
    },
    {
     "name": "stderr",
     "output_type": "stream",
     "text": [
      "\r",
      " 53%|█████▎    | 47/88 [00:21<00:27,  1.49it/s]"
     ]
    },
    {
     "name": "stdout",
     "output_type": "stream",
     "text": [
      "leather-cut\n",
      "['10230.png', '10279.png', '10618.png', '11125.png', '11240.png', '11920.png', '12422.png', '13298.png', '13571.png', '14245.png']\n"
     ]
    },
    {
     "name": "stderr",
     "output_type": "stream",
     "text": [
      "\r",
      " 55%|█████▍    | 48/88 [00:22<00:28,  1.39it/s]"
     ]
    },
    {
     "name": "stdout",
     "output_type": "stream",
     "text": [
      "cable-cut_outer_insulation\n",
      "['10234.png', '10249.png', '11284.png', '12220.png', '14153.png']\n"
     ]
    },
    {
     "name": "stderr",
     "output_type": "stream",
     "text": [
      "\r",
      " 56%|█████▌    | 49/88 [00:22<00:24,  1.58it/s]"
     ]
    },
    {
     "name": "stdout",
     "output_type": "stream",
     "text": [
      "zipper-squeezed_teeth\n",
      "['10235.png', '10811.png', '11430.png', '11496.png', '11700.png', '13187.png', '13647.png', '13731.png']\n"
     ]
    },
    {
     "name": "stderr",
     "output_type": "stream",
     "text": [
      "\r",
      " 57%|█████▋    | 50/88 [00:23<00:21,  1.74it/s]"
     ]
    },
    {
     "name": "stdout",
     "output_type": "stream",
     "text": [
      "toothbrush-defective\n",
      "['10237.png', '10573.png', '11080.png', '11218.png', '11231.png', '11750.png', '12159.png', '12163.png', '12321.png', '12873.png', '12925.png', '12955.png', '13134.png', '13245.png', '14053.png']\n"
     ]
    },
    {
     "name": "stderr",
     "output_type": "stream",
     "text": [
      "\r",
      " 58%|█████▊    | 51/88 [00:24<00:28,  1.28it/s]"
     ]
    },
    {
     "name": "stdout",
     "output_type": "stream",
     "text": [
      "cable-cut_inner_insulation\n",
      "['10239.png', '10777.png', '10891.png', '11215.png', '12372.png', '13013.png', '13967.png']\n"
     ]
    },
    {
     "name": "stderr",
     "output_type": "stream",
     "text": [
      "\r",
      " 59%|█████▉    | 52/88 [00:25<00:26,  1.37it/s]"
     ]
    },
    {
     "name": "stdout",
     "output_type": "stream",
     "text": [
      "pill-contamination\n",
      "['10243.png', '10694.png', '10764.png', '10806.png', '11251.png', '11393.png', '12806.png', '13000.png', '13500.png', '13553.png', '13784.png']\n"
     ]
    },
    {
     "name": "stderr",
     "output_type": "stream",
     "text": [
      "\r",
      " 60%|██████    | 53/88 [00:26<00:25,  1.36it/s]"
     ]
    },
    {
     "name": "stdout",
     "output_type": "stream",
     "text": [
      "cable-missing_wire\n",
      "['10284.png', '11141.png', '13167.png', '13540.png', '14192.png']\n"
     ]
    },
    {
     "name": "stderr",
     "output_type": "stream",
     "text": [
      "\r",
      " 61%|██████▏   | 54/88 [00:26<00:22,  1.54it/s]"
     ]
    },
    {
     "name": "stdout",
     "output_type": "stream",
     "text": [
      "carpet-thread\n",
      "['10291.png', '10470.png', '10810.png', '10956.png', '12415.png', '12560.png', '12708.png', '13620.png', '13894.png', '13950.png']\n"
     ]
    },
    {
     "name": "stderr",
     "output_type": "stream",
     "text": [
      "\r",
      " 62%|██████▎   | 55/88 [00:27<00:23,  1.39it/s]"
     ]
    },
    {
     "name": "stdout",
     "output_type": "stream",
     "text": [
      "grid-broken\n",
      "['10292.png', '10679.png', '11259.png', '13067.png', '13989.png', '14266.png']\n"
     ]
    },
    {
     "name": "stderr",
     "output_type": "stream",
     "text": [
      "\r",
      " 64%|██████▎   | 56/88 [00:27<00:19,  1.67it/s]"
     ]
    },
    {
     "name": "stdout",
     "output_type": "stream",
     "text": [
      "pill-faulty_imprint\n",
      "['10305.png', '10671.png', '10970.png', '11055.png', '11063.png', '11241.png', '11646.png', '12145.png', '12631.png', '13722.png']\n"
     ]
    },
    {
     "name": "stderr",
     "output_type": "stream",
     "text": [
      "\r",
      " 65%|██████▍   | 57/88 [00:28<00:19,  1.60it/s]"
     ]
    },
    {
     "name": "stdout",
     "output_type": "stream",
     "text": [
      "hazelnut-hole\n",
      "['10312.png', '10688.png', '11364.png', '11431.png', '12088.png', '12090.png', '13237.png', '13956.png', '14097.png']\n"
     ]
    },
    {
     "name": "stderr",
     "output_type": "stream",
     "text": [
      "\r",
      " 66%|██████▌   | 58/88 [00:29<00:20,  1.50it/s]"
     ]
    },
    {
     "name": "stdout",
     "output_type": "stream",
     "text": [
      "leather-glue\n",
      "['10314.png', '11574.png', '11842.png', '11895.png', '12076.png', '12341.png', '12377.png', '13091.png', '13400.png', '13897.png']\n"
     ]
    },
    {
     "name": "stderr",
     "output_type": "stream",
     "text": [
      "\r",
      " 67%|██████▋   | 59/88 [00:29<00:21,  1.37it/s]"
     ]
    },
    {
     "name": "stdout",
     "output_type": "stream",
     "text": [
      "leather-poke\n",
      "['10327.png', '10739.png', '11203.png', '11210.png', '12294.png', '12502.png', '12506.png', '12909.png', '14237.png']\n"
     ]
    },
    {
     "name": "stderr",
     "output_type": "stream",
     "text": [
      "\r",
      " 68%|██████▊   | 60/88 [00:30<00:20,  1.35it/s]"
     ]
    },
    {
     "name": "stdout",
     "output_type": "stream",
     "text": [
      "transistor-damaged_case\n",
      "['10392.png', '11479.png', '11569.png', '12016.png', '12384.png']\n"
     ]
    },
    {
     "name": "stderr",
     "output_type": "stream",
     "text": [
      "\r",
      " 69%|██████▉   | 61/88 [00:31<00:17,  1.54it/s]"
     ]
    },
    {
     "name": "stdout",
     "output_type": "stream",
     "text": [
      "wood-scratch\n",
      "['10441.png', '10635.png', '10832.png', '11658.png', '12083.png', '12313.png', '12500.png', '12510.png', '12623.png', '13505.png', '14208.png']\n"
     ]
    },
    {
     "name": "stderr",
     "output_type": "stream",
     "text": [
      "\r",
      " 70%|███████   | 62/88 [00:32<00:19,  1.34it/s]"
     ]
    },
    {
     "name": "stdout",
     "output_type": "stream",
     "text": [
      "tile-gray_stroke\n",
      "['10463.png', '10487.png', '11916.png', '12581.png', '13072.png', '13372.png', '13409.png', '13459.png']\n"
     ]
    },
    {
     "name": "stderr",
     "output_type": "stream",
     "text": [
      "\r",
      " 72%|███████▏  | 63/88 [00:32<00:17,  1.43it/s]"
     ]
    },
    {
     "name": "stdout",
     "output_type": "stream",
     "text": [
      "capsule-faulty_imprint\n",
      "['10473.png', '11415.png', '11577.png', '11779.png', '11787.png', '12094.png', '12443.png', '12483.png', '12984.png', '13221.png', '14006.png']\n"
     ]
    },
    {
     "name": "stderr",
     "output_type": "stream",
     "text": [
      "\r",
      " 73%|███████▎  | 64/88 [00:33<00:18,  1.30it/s]"
     ]
    },
    {
     "name": "stdout",
     "output_type": "stream",
     "text": [
      "grid-glue\n",
      "['10509.png', '11182.png', '11798.png', '11919.png', '12820.png', '13693.png']\n"
     ]
    },
    {
     "name": "stderr",
     "output_type": "stream",
     "text": [
      "\r",
      " 74%|███████▍  | 65/88 [00:34<00:14,  1.57it/s]"
     ]
    },
    {
     "name": "stdout",
     "output_type": "stream",
     "text": [
      "zipper-combined\n",
      "['10537.png', '10753.png', '10802.png', '11730.png', '13475.png', '13511.png', '14070.png', '14195.png']\n"
     ]
    },
    {
     "name": "stderr",
     "output_type": "stream",
     "text": [
      "\r",
      " 75%|███████▌  | 66/88 [00:34<00:12,  1.75it/s]"
     ]
    },
    {
     "name": "stdout",
     "output_type": "stream",
     "text": [
      "carpet-color\n",
      "['10555.png', '10866.png', '11065.png', '11340.png', '11862.png', '11891.png', '13613.png', '14125.png', '14182.png', '14213.png']\n"
     ]
    },
    {
     "name": "stderr",
     "output_type": "stream",
     "text": [
      "\r",
      " 76%|███████▌  | 67/88 [00:35<00:13,  1.50it/s]"
     ]
    },
    {
     "name": "stdout",
     "output_type": "stream",
     "text": [
      "grid-bent\n",
      "['10582.png', '11088.png', '12230.png', '13392.png', '13653.png', '13858.png']\n"
     ]
    },
    {
     "name": "stderr",
     "output_type": "stream",
     "text": [
      "\r",
      " 77%|███████▋  | 68/88 [00:35<00:11,  1.77it/s]"
     ]
    },
    {
     "name": "stdout",
     "output_type": "stream",
     "text": [
      "pill-combined\n",
      "['10591.png', '10922.png', '11565.png', '12003.png', '12369.png', '12651.png', '12808.png', '13088.png', '13777.png']\n"
     ]
    },
    {
     "name": "stderr",
     "output_type": "stream",
     "text": [
      "\r",
      " 78%|███████▊  | 69/88 [00:36<00:11,  1.71it/s]"
     ]
    },
    {
     "name": "stdout",
     "output_type": "stream",
     "text": [
      "hazelnut-print\n",
      "['10599.png', '10710.png', '10808.png', '11048.png', '12707.png', '12740.png', '13380.png', '13769.png', '14173.png']\n"
     ]
    },
    {
     "name": "stderr",
     "output_type": "stream",
     "text": [
      "\r",
      " 80%|███████▉  | 70/88 [00:37<00:11,  1.58it/s]"
     ]
    },
    {
     "name": "stdout",
     "output_type": "stream",
     "text": [
      "cable-combined\n",
      "['10634.png', '11993.png', '12711.png', '12942.png', '13208.png', '14251.png']\n"
     ]
    },
    {
     "name": "stderr",
     "output_type": "stream",
     "text": [
      "\r",
      " 81%|████████  | 71/88 [00:37<00:10,  1.68it/s]"
     ]
    },
    {
     "name": "stdout",
     "output_type": "stream",
     "text": [
      "capsule-scratch\n",
      "['10676.png', '11376.png', '11592.png', '11656.png', '11914.png', '12548.png', '12739.png', '12781.png', '12966.png', '13269.png', '13442.png', '13849.png']\n"
     ]
    },
    {
     "name": "stderr",
     "output_type": "stream",
     "text": [
      "\r",
      " 82%|████████▏ | 72/88 [00:38<00:11,  1.40it/s]"
     ]
    },
    {
     "name": "stdout",
     "output_type": "stream",
     "text": [
      "metal_nut-bent\n",
      "['10682.png', '11439.png', '11444.png', '11745.png', '11781.png', '11818.png', '11831.png', '12861.png', '13294.png', '13590.png', '13830.png', '14005.png', '14150.png']\n"
     ]
    },
    {
     "name": "stderr",
     "output_type": "stream",
     "text": [
      "\r",
      " 83%|████████▎ | 73/88 [00:39<00:11,  1.34it/s]"
     ]
    },
    {
     "name": "stdout",
     "output_type": "stream",
     "text": [
      "zipper-broken_teeth\n",
      "['10702.png', '10757.png', '10774.png', '10849.png', '11060.png', '11198.png', '12436.png', '12450.png', '13884.png', '14085.png']\n"
     ]
    },
    {
     "name": "stderr",
     "output_type": "stream",
     "text": [
      "\r",
      " 84%|████████▍ | 74/88 [00:39<00:09,  1.47it/s]"
     ]
    },
    {
     "name": "stdout",
     "output_type": "stream",
     "text": [
      "tile-oil\n",
      "['10727.png', '10829.png', '10869.png', '12136.png', '12302.png', '12998.png', '13350.png', '13393.png', '13931.png']\n"
     ]
    },
    {
     "name": "stderr",
     "output_type": "stream",
     "text": [
      "\r",
      " 85%|████████▌ | 75/88 [00:40<00:08,  1.48it/s]"
     ]
    },
    {
     "name": "stdout",
     "output_type": "stream",
     "text": [
      "transistor-misplaced\n",
      "['10824.png', '11017.png', '12471.png', '14014.png', '14203.png']\n"
     ]
    },
    {
     "name": "stderr",
     "output_type": "stream",
     "text": [
      "\r",
      " 86%|████████▋ | 76/88 [00:40<00:07,  1.66it/s]"
     ]
    },
    {
     "name": "stdout",
     "output_type": "stream",
     "text": [
      "grid-thread\n",
      "['10971.png', '11470.png', '11562.png', '11979.png', '13622.png', '14023.png']\n"
     ]
    },
    {
     "name": "stderr",
     "output_type": "stream",
     "text": [
      "\r",
      " 88%|████████▊ | 77/88 [00:41<00:05,  1.91it/s]"
     ]
    },
    {
     "name": "stdout",
     "output_type": "stream",
     "text": [
      "grid-metal_contamination\n",
      "['11024.png', '11237.png', '12827.png', '12969.png', '13651.png', '14233.png']\n"
     ]
    },
    {
     "name": "stderr",
     "output_type": "stream",
     "text": [
      "\r",
      " 89%|████████▊ | 78/88 [00:41<00:04,  2.13it/s]"
     ]
    },
    {
     "name": "stdout",
     "output_type": "stream",
     "text": [
      "carpet-cut\n",
      "['11033.png', '11139.png', '11382.png', '11726.png', '13080.png', '13117.png', '13407.png', '13419.png', '13484.png']\n"
     ]
    },
    {
     "name": "stderr",
     "output_type": "stream",
     "text": [
      "\r",
      " 90%|████████▉ | 79/88 [00:42<00:05,  1.75it/s]"
     ]
    },
    {
     "name": "stdout",
     "output_type": "stream",
     "text": [
      "wood-color\n",
      "['11134.png', '11281.png', '13321.png', '13667.png']\n"
     ]
    },
    {
     "name": "stderr",
     "output_type": "stream",
     "text": [
      "\r",
      " 91%|█████████ | 80/88 [00:42<00:04,  1.95it/s]"
     ]
    },
    {
     "name": "stdout",
     "output_type": "stream",
     "text": [
      "cable-cable_swap\n",
      "['11168.png', '11732.png', '11863.png', '12853.png', '12992.png', '13921.png']\n"
     ]
    },
    {
     "name": "stderr",
     "output_type": "stream",
     "text": [
      "\r",
      " 92%|█████████▏| 81/88 [00:43<00:03,  1.92it/s]"
     ]
    },
    {
     "name": "stdout",
     "output_type": "stream",
     "text": [
      "tile-crack\n",
      "['11206.png', '11598.png', '12541.png', '12589.png', '12876.png', '12999.png', '13857.png', '14193.png', '14204.png']\n"
     ]
    },
    {
     "name": "stderr",
     "output_type": "stream",
     "text": [
      "\r",
      " 93%|█████████▎| 82/88 [00:44<00:03,  1.77it/s]"
     ]
    },
    {
     "name": "stdout",
     "output_type": "stream",
     "text": [
      "leather-color\n",
      "['11294.png', '11838.png', '11900.png', '12023.png', '12309.png', '12716.png', '13230.png', '13312.png', '13817.png', '14152.png']\n"
     ]
    },
    {
     "name": "stderr",
     "output_type": "stream",
     "text": [
      "\r",
      " 94%|█████████▍| 83/88 [00:44<00:03,  1.54it/s]"
     ]
    },
    {
     "name": "stdout",
     "output_type": "stream",
     "text": [
      "cable-poke_insulation\n",
      "['11438.png', '11637.png', '12086.png', '12627.png', '12783.png']\n"
     ]
    },
    {
     "name": "stderr",
     "output_type": "stream",
     "text": [
      "\r",
      " 95%|█████████▌| 84/88 [00:45<00:02,  1.72it/s]"
     ]
    },
    {
     "name": "stdout",
     "output_type": "stream",
     "text": [
      "transistor-cut_lead\n",
      "['11449.png', '12904.png', '13015.png', '13159.png', '13776.png']\n"
     ]
    },
    {
     "name": "stderr",
     "output_type": "stream",
     "text": [
      "\r",
      " 97%|█████████▋| 85/88 [00:45<00:01,  1.86it/s]"
     ]
    },
    {
     "name": "stdout",
     "output_type": "stream",
     "text": [
      "wood-hole\n",
      "['11795.png', '12525.png', '12748.png', '13226.png', '14069.png']\n"
     ]
    },
    {
     "name": "stderr",
     "output_type": "stream",
     "text": [
      "\r",
      " 98%|█████████▊| 86/88 [00:46<00:01,  1.95it/s]"
     ]
    },
    {
     "name": "stdout",
     "output_type": "stream",
     "text": [
      "tile-rough\n",
      "['11947.png', '12012.png', '12096.png', '12383.png', '12399.png', '12630.png', '12819.png', '13246.png']\n"
     ]
    },
    {
     "name": "stderr",
     "output_type": "stream",
     "text": [
      "\r",
      " 99%|█████████▉| 87/88 [00:46<00:00,  1.86it/s]"
     ]
    },
    {
     "name": "stdout",
     "output_type": "stream",
     "text": [
      "wood-liquid\n",
      "['12106.png', '12178.png', '12610.png', '13183.png', '13259.png']\n"
     ]
    },
    {
     "name": "stderr",
     "output_type": "stream",
     "text": [
      "100%|██████████| 88/88 [00:47<00:00,  1.86it/s]\n"
     ]
    }
   ],
   "source": [
    "oslabel = list(train_df['label'].unique())\n",
    "\n",
    "\n",
    "for label in tqdm(oslabel):\n",
    "    if 'good' not in label:\n",
    "        print(label)\n",
    "        idx = 0\n",
    "        one_sample = train_df[train_df['label'] == label].reset_index(drop=True)\n",
    "        images_list = natsorted(one_sample['file_name'])\n",
    "        print(images_list)\n",
    "        for _, image_name in enumerate(images_list):\n",
    "            image = np.array(Image.open(opj('./open/train_add_data/', image_name)).convert('RGB'))\n",
    "            \n",
    "            aug_img = cv2.resize(image, dsize=(1024, 1024))\n",
    "            aug_img = get_random_crop(aug_img, 900, 900)\n",
    "            aug_img = cv2.cvtColor(aug_img, cv2.COLOR_BGR2RGB)\n",
    "            save_path = opj('./open/train_add_data', f'{label}_{idx}_crop.png')\n",
    "            save_name = f'{label}_{idx}_crop.png'\n",
    "            idx += 1\n",
    "            cv2.imwrite(save_path, aug_img)\n",
    "            train_df.loc[len(train_df)] = [save_name] + one_sample.iloc[0][1:].values.tolist()"
   ]
  },
  {
   "cell_type": "markdown",
   "metadata": {},
   "source": [
    "# Rotation"
   ]
  },
  {
   "cell_type": "code",
   "execution_count": 8,
   "metadata": {},
   "outputs": [],
   "source": [
    "def rotation(img, angle):\n",
    "    angle = int(random.uniform(-angle, angle))\n",
    "    h, w = img.shape[:2]\n",
    "    M = cv2.getRotationMatrix2D((int(w/2), int(h/2)), angle, 1)\n",
    "    img = cv2.warpAffine(img, M, (w, h)) \n",
    "    return img"
   ]
  },
  {
   "cell_type": "code",
   "execution_count": 9,
   "metadata": {
    "scrolled": true
   },
   "outputs": [
    {
     "name": "stderr",
     "output_type": "stream",
     "text": [
      "\r",
      "  0%|          | 0/88 [00:00<?, ?it/s]"
     ]
    },
    {
     "name": "stdout",
     "output_type": "stream",
     "text": [
      "cable-bent_wire\n",
      "['10008.png', '11086.png', '11552.png', '11599.png', '13211.png', '13215.png', '13795.png', 'cable-bent_wire_0_crop.png', 'cable-bent_wire_1_crop.png', 'cable-bent_wire_2_crop.png', 'cable-bent_wire_3_crop.png', 'cable-bent_wire_4_crop.png', 'cable-bent_wire_5_crop.png', 'cable-bent_wire_6_crop.png']\n"
     ]
    },
    {
     "name": "stderr",
     "output_type": "stream",
     "text": [
      "\r",
      "  7%|▋         | 6/88 [00:01<00:16,  4.98it/s]"
     ]
    },
    {
     "name": "stdout",
     "output_type": "stream",
     "text": [
      "carpet-hole\n",
      "['10010.png', '10307.png', '10641.png', '10711.png', '11673.png', '12260.png', '12432.png', '12823.png', '14030.png', 'carpet-hole_0_crop.png', 'carpet-hole_1_crop.png', 'carpet-hole_2_crop.png', 'carpet-hole_3_crop.png', 'carpet-hole_4_crop.png', 'carpet-hole_5_crop.png', 'carpet-hole_6_crop.png', 'carpet-hole_7_crop.png', 'carpet-hole_8_crop.png']\n"
     ]
    },
    {
     "name": "stderr",
     "output_type": "stream",
     "text": [
      "\r",
      "  8%|▊         | 7/88 [00:02<00:37,  2.13it/s]"
     ]
    },
    {
     "name": "stdout",
     "output_type": "stream",
     "text": [
      "pill-pill_type\n",
      "['10013.png', '10534.png', '10914.png', '12103.png', '13701.png', 'pill-pill_type_0_crop.png', 'pill-pill_type_1_crop.png', 'pill-pill_type_2_crop.png', 'pill-pill_type_3_crop.png', 'pill-pill_type_4_crop.png']\n"
     ]
    },
    {
     "name": "stderr",
     "output_type": "stream",
     "text": [
      "\r",
      " 10%|█         | 9/88 [00:03<00:34,  2.29it/s]"
     ]
    },
    {
     "name": "stdout",
     "output_type": "stream",
     "text": [
      "metal_nut-scratch\n",
      "['10016.png', '10220.png', '10585.png', '11339.png', '12824.png', '12882.png', '12947.png', '13351.png', '13364.png', '13985.png', '14067.png', '14131.png', 'metal_nut-scratch_0_crop.png', 'metal_nut-scratch_1_crop.png', 'metal_nut-scratch_2_crop.png', 'metal_nut-scratch_3_crop.png', 'metal_nut-scratch_4_crop.png', 'metal_nut-scratch_5_crop.png', 'metal_nut-scratch_6_crop.png', 'metal_nut-scratch_7_crop.png', 'metal_nut-scratch_8_crop.png', 'metal_nut-scratch_9_crop.png', 'metal_nut-scratch_10_crop.png', 'metal_nut-scratch_11_crop.png']\n"
     ]
    },
    {
     "name": "stderr",
     "output_type": "stream",
     "text": [
      "\r",
      " 12%|█▎        | 11/88 [00:05<00:45,  1.70it/s]"
     ]
    },
    {
     "name": "stdout",
     "output_type": "stream",
     "text": [
      "screw-thread_side\n",
      "['10019.png', '10114.png', '10169.png', '10888.png', '11610.png', '11802.png', '12153.png', '13004.png', '13019.png', '13106.png', '13766.png', '14066.png', 'screw-thread_side_0_crop.png', 'screw-thread_side_1_crop.png', 'screw-thread_side_2_crop.png', 'screw-thread_side_3_crop.png', 'screw-thread_side_4_crop.png', 'screw-thread_side_5_crop.png', 'screw-thread_side_6_crop.png', 'screw-thread_side_7_crop.png', 'screw-thread_side_8_crop.png', 'screw-thread_side_9_crop.png', 'screw-thread_side_10_crop.png', 'screw-thread_side_11_crop.png']\n"
     ]
    },
    {
     "name": "stderr",
     "output_type": "stream",
     "text": [
      "\r",
      " 15%|█▍        | 13/88 [00:06<00:47,  1.57it/s]"
     ]
    },
    {
     "name": "stdout",
     "output_type": "stream",
     "text": [
      "zipper-fabric_border\n",
      "['10020.png', '10861.png', '13029.png', '13302.png', '13347.png', '13389.png', '13391.png', '13498.png', '14211.png', 'zipper-fabric_border_0_crop.png', 'zipper-fabric_border_1_crop.png', 'zipper-fabric_border_2_crop.png', 'zipper-fabric_border_3_crop.png', 'zipper-fabric_border_4_crop.png', 'zipper-fabric_border_5_crop.png', 'zipper-fabric_border_6_crop.png', 'zipper-fabric_border_7_crop.png', 'zipper-fabric_border_8_crop.png']\n"
     ]
    },
    {
     "name": "stderr",
     "output_type": "stream",
     "text": [
      "\r",
      " 16%|█▌        | 14/88 [00:07<00:54,  1.36it/s]"
     ]
    },
    {
     "name": "stdout",
     "output_type": "stream",
     "text": [
      "pill-scratch\n",
      "['10023.png', '10675.png', '10736.png', '11173.png', '11418.png', '11620.png', '11978.png', '13180.png', '13324.png', '13401.png', '13942.png', '14101.png', 'pill-scratch_0_crop.png', 'pill-scratch_1_crop.png', 'pill-scratch_2_crop.png', 'pill-scratch_3_crop.png', 'pill-scratch_4_crop.png', 'pill-scratch_5_crop.png', 'pill-scratch_6_crop.png', 'pill-scratch_7_crop.png', 'pill-scratch_8_crop.png', 'pill-scratch_9_crop.png', 'pill-scratch_10_crop.png', 'pill-scratch_11_crop.png']\n"
     ]
    },
    {
     "name": "stderr",
     "output_type": "stream",
     "text": [
      "\r",
      " 18%|█▊        | 16/88 [00:09<00:57,  1.26it/s]"
     ]
    },
    {
     "name": "stdout",
     "output_type": "stream",
     "text": [
      "hazelnut-crack\n",
      "['10033.png', '10089.png', '11209.png', '12354.png', '12696.png', '12864.png', '13704.png', '13959.png', '14086.png', 'hazelnut-crack_0_crop.png', 'hazelnut-crack_1_crop.png', 'hazelnut-crack_2_crop.png', 'hazelnut-crack_3_crop.png', 'hazelnut-crack_4_crop.png', 'hazelnut-crack_5_crop.png', 'hazelnut-crack_6_crop.png', 'hazelnut-crack_7_crop.png', 'hazelnut-crack_8_crop.png']\n"
     ]
    },
    {
     "name": "stderr",
     "output_type": "stream",
     "text": [
      "\r",
      " 20%|██        | 18/88 [00:11<00:54,  1.28it/s]"
     ]
    },
    {
     "name": "stdout",
     "output_type": "stream",
     "text": [
      "screw-manipulated_front\n",
      "['10035.png', '10842.png', '11084.png', '11097.png', '11129.png', '11442.png', '11446.png', '11528.png', '12344.png', '12979.png', '13532.png', '14175.png', 'screw-manipulated_front_0_crop.png', 'screw-manipulated_front_1_crop.png', 'screw-manipulated_front_2_crop.png', 'screw-manipulated_front_3_crop.png', 'screw-manipulated_front_4_crop.png', 'screw-manipulated_front_5_crop.png', 'screw-manipulated_front_6_crop.png', 'screw-manipulated_front_7_crop.png', 'screw-manipulated_front_8_crop.png', 'screw-manipulated_front_9_crop.png', 'screw-manipulated_front_10_crop.png', 'screw-manipulated_front_11_crop.png']\n"
     ]
    },
    {
     "name": "stderr",
     "output_type": "stream",
     "text": [
      "\r",
      " 22%|██▏       | 19/88 [00:12<01:02,  1.10it/s]"
     ]
    },
    {
     "name": "stdout",
     "output_type": "stream",
     "text": [
      "bottle-contamination\n",
      "['10053.png', '10759.png', '10837.png', '11273.png', '11307.png', '11763.png', '12276.png', '12757.png', '12787.png', '13112.png', '13462.png', 'bottle-contamination_0_crop.png', 'bottle-contamination_1_crop.png', 'bottle-contamination_2_crop.png', 'bottle-contamination_3_crop.png', 'bottle-contamination_4_crop.png', 'bottle-contamination_5_crop.png', 'bottle-contamination_6_crop.png', 'bottle-contamination_7_crop.png', 'bottle-contamination_8_crop.png', 'bottle-contamination_9_crop.png', 'bottle-contamination_10_crop.png']\n"
     ]
    },
    {
     "name": "stderr",
     "output_type": "stream",
     "text": [
      "\r",
      " 27%|██▋       | 24/88 [00:14<00:35,  1.78it/s]"
     ]
    },
    {
     "name": "stdout",
     "output_type": "stream",
     "text": [
      "zipper-split_teeth\n",
      "['10073.png', '10426.png', '10557.png', '10605.png', '10887.png', '11456.png', '12374.png', '12587.png', '13991.png', 'zipper-split_teeth_0_crop.png', 'zipper-split_teeth_1_crop.png', 'zipper-split_teeth_2_crop.png', 'zipper-split_teeth_3_crop.png', 'zipper-split_teeth_4_crop.png', 'zipper-split_teeth_5_crop.png', 'zipper-split_teeth_6_crop.png', 'zipper-split_teeth_7_crop.png', 'zipper-split_teeth_8_crop.png']\n"
     ]
    },
    {
     "name": "stderr",
     "output_type": "stream",
     "text": [
      "\r",
      " 30%|██▉       | 26/88 [00:15<00:34,  1.79it/s]"
     ]
    },
    {
     "name": "stdout",
     "output_type": "stream",
     "text": [
      "pill-crack\n",
      "['10082.png', '10407.png', '10748.png', '11042.png', '11461.png', '11546.png', '12782.png', '12825.png', '13054.png', '13433.png', '13468.png', '13591.png', '14113.png', 'pill-crack_0_crop.png', 'pill-crack_1_crop.png', 'pill-crack_2_crop.png', 'pill-crack_3_crop.png', 'pill-crack_4_crop.png', 'pill-crack_5_crop.png', 'pill-crack_6_crop.png', 'pill-crack_7_crop.png', 'pill-crack_8_crop.png', 'pill-crack_9_crop.png', 'pill-crack_10_crop.png', 'pill-crack_11_crop.png', 'pill-crack_12_crop.png']\n"
     ]
    },
    {
     "name": "stderr",
     "output_type": "stream",
     "text": [
      "\r",
      " 31%|███       | 27/88 [00:17<00:46,  1.31it/s]"
     ]
    },
    {
     "name": "stdout",
     "output_type": "stream",
     "text": [
      "wood-combined\n",
      "['10088.png', '12184.png', '12482.png', '12784.png', '13074.png', '13491.png', 'wood-combined_0_crop.png', 'wood-combined_1_crop.png', 'wood-combined_2_crop.png', 'wood-combined_3_crop.png', 'wood-combined_4_crop.png', 'wood-combined_5_crop.png']\n"
     ]
    },
    {
     "name": "stderr",
     "output_type": "stream",
     "text": [
      "\r",
      " 32%|███▏      | 28/88 [00:18<00:49,  1.22it/s]"
     ]
    },
    {
     "name": "stdout",
     "output_type": "stream",
     "text": [
      "pill-color\n",
      "['10092.png', '10104.png', '10742.png', '10749.png', '10820.png', '11489.png', '11879.png', '11945.png', '12189.png', '12291.png', '13879.png', '13945.png', '14252.png', 'pill-color_0_crop.png', 'pill-color_1_crop.png', 'pill-color_2_crop.png', 'pill-color_3_crop.png', 'pill-color_4_crop.png', 'pill-color_5_crop.png', 'pill-color_6_crop.png', 'pill-color_7_crop.png', 'pill-color_8_crop.png', 'pill-color_9_crop.png', 'pill-color_10_crop.png', 'pill-color_11_crop.png', 'pill-color_12_crop.png']\n"
     ]
    },
    {
     "name": "stderr",
     "output_type": "stream",
     "text": [
      "\r",
      " 33%|███▎      | 29/88 [00:20<01:01,  1.05s/it]"
     ]
    },
    {
     "name": "stdout",
     "output_type": "stream",
     "text": [
      "screw-thread_top\n",
      "['10095.png', '11236.png', '11501.png', '11563.png', '12245.png', '12275.png', '12381.png', '12523.png', '12721.png', '13386.png', '13551.png', '14071.png', 'screw-thread_top_0_crop.png', 'screw-thread_top_1_crop.png', 'screw-thread_top_2_crop.png', 'screw-thread_top_3_crop.png', 'screw-thread_top_4_crop.png', 'screw-thread_top_5_crop.png', 'screw-thread_top_6_crop.png', 'screw-thread_top_7_crop.png', 'screw-thread_top_8_crop.png', 'screw-thread_top_9_crop.png', 'screw-thread_top_10_crop.png', 'screw-thread_top_11_crop.png']\n"
     ]
    },
    {
     "name": "stderr",
     "output_type": "stream",
     "text": [
      "\r",
      " 34%|███▍      | 30/88 [00:21<01:06,  1.14s/it]"
     ]
    },
    {
     "name": "stdout",
     "output_type": "stream",
     "text": [
      "cable-missing_cable\n",
      "['10096.png', '10791.png', '11344.png', '11632.png', '12703.png', '14167.png', 'cable-missing_cable_0_crop.png', 'cable-missing_cable_1_crop.png', 'cable-missing_cable_2_crop.png', 'cable-missing_cable_3_crop.png', 'cable-missing_cable_4_crop.png', 'cable-missing_cable_5_crop.png']\n"
     ]
    },
    {
     "name": "stderr",
     "output_type": "stream",
     "text": [
      "\r",
      " 35%|███▌      | 31/88 [00:22<01:03,  1.11s/it]"
     ]
    },
    {
     "name": "stdout",
     "output_type": "stream",
     "text": [
      "capsule-squeeze\n",
      "['10110.png', '10111.png', '10343.png', '11613.png', '12311.png', '12424.png', '12632.png', '12715.png', '14105.png', '14217.png', 'capsule-squeeze_0_crop.png', 'capsule-squeeze_1_crop.png', 'capsule-squeeze_2_crop.png', 'capsule-squeeze_3_crop.png', 'capsule-squeeze_4_crop.png', 'capsule-squeeze_5_crop.png', 'capsule-squeeze_6_crop.png', 'capsule-squeeze_7_crop.png', 'capsule-squeeze_8_crop.png', 'capsule-squeeze_9_crop.png']\n"
     ]
    },
    {
     "name": "stderr",
     "output_type": "stream",
     "text": [
      "\r",
      " 36%|███▋      | 32/88 [00:24<01:10,  1.25s/it]"
     ]
    },
    {
     "name": "stdout",
     "output_type": "stream",
     "text": [
      "zipper-rough\n",
      "['10112.png', '10371.png', '10486.png', '10726.png', '12704.png', '13212.png', '13281.png', '13290.png', '13782.png', 'zipper-rough_0_crop.png', 'zipper-rough_1_crop.png', 'zipper-rough_2_crop.png', 'zipper-rough_3_crop.png', 'zipper-rough_4_crop.png', 'zipper-rough_5_crop.png', 'zipper-rough_6_crop.png', 'zipper-rough_7_crop.png', 'zipper-rough_8_crop.png']\n"
     ]
    },
    {
     "name": "stderr",
     "output_type": "stream",
     "text": [
      "\r",
      " 38%|███▊      | 33/88 [00:25<01:07,  1.22s/it]"
     ]
    },
    {
     "name": "stdout",
     "output_type": "stream",
     "text": [
      "capsule-crack\n",
      "['10113.png', '10156.png', '10444.png', '10731.png', '11069.png', '11356.png', '12378.png', '13455.png', '13592.png', '13907.png', '13960.png', '14073.png', 'capsule-crack_0_crop.png', 'capsule-crack_1_crop.png', 'capsule-crack_2_crop.png', 'capsule-crack_3_crop.png', 'capsule-crack_4_crop.png', 'capsule-crack_5_crop.png', 'capsule-crack_6_crop.png', 'capsule-crack_7_crop.png', 'capsule-crack_8_crop.png', 'capsule-crack_9_crop.png', 'capsule-crack_10_crop.png', 'capsule-crack_11_crop.png']\n"
     ]
    },
    {
     "name": "stderr",
     "output_type": "stream",
     "text": [
      "\r",
      " 39%|███▊      | 34/88 [00:27<01:18,  1.45s/it]"
     ]
    },
    {
     "name": "stdout",
     "output_type": "stream",
     "text": [
      "capsule-poke\n",
      "['10118.png', '10903.png', '11117.png', '11785.png', '11999.png', '12236.png', '12470.png', '13009.png', '13819.png', '14043.png', '14180.png', 'capsule-poke_0_crop.png', 'capsule-poke_1_crop.png', 'capsule-poke_2_crop.png', 'capsule-poke_3_crop.png', 'capsule-poke_4_crop.png', 'capsule-poke_5_crop.png', 'capsule-poke_6_crop.png', 'capsule-poke_7_crop.png', 'capsule-poke_8_crop.png', 'capsule-poke_9_crop.png', 'capsule-poke_10_crop.png']\n"
     ]
    },
    {
     "name": "stderr",
     "output_type": "stream",
     "text": [
      "\r",
      " 40%|███▉      | 35/88 [00:29<01:23,  1.57s/it]"
     ]
    },
    {
     "name": "stdout",
     "output_type": "stream",
     "text": [
      "metal_nut-flip\n",
      "['10132.png', '10628.png', '11500.png', '11503.png', '11523.png', '12467.png', '12991.png', '13077.png', '13384.png', '13804.png', '13852.png', '14088.png', 'metal_nut-flip_0_crop.png', 'metal_nut-flip_1_crop.png', 'metal_nut-flip_2_crop.png', 'metal_nut-flip_3_crop.png', 'metal_nut-flip_4_crop.png', 'metal_nut-flip_5_crop.png', 'metal_nut-flip_6_crop.png', 'metal_nut-flip_7_crop.png', 'metal_nut-flip_8_crop.png', 'metal_nut-flip_9_crop.png', 'metal_nut-flip_10_crop.png', 'metal_nut-flip_11_crop.png']\n"
     ]
    },
    {
     "name": "stderr",
     "output_type": "stream",
     "text": [
      "\r",
      " 41%|████      | 36/88 [00:31<01:24,  1.63s/it]"
     ]
    },
    {
     "name": "stdout",
     "output_type": "stream",
     "text": [
      "carpet-metal_contamination\n",
      "['10133.png', '10948.png', '11158.png', '11180.png', '11192.png', '11859.png', '11924.png', '12879.png', '12895.png', 'carpet-metal_contamination_0_crop.png', 'carpet-metal_contamination_1_crop.png', 'carpet-metal_contamination_2_crop.png', 'carpet-metal_contamination_3_crop.png', 'carpet-metal_contamination_4_crop.png', 'carpet-metal_contamination_5_crop.png', 'carpet-metal_contamination_6_crop.png', 'carpet-metal_contamination_7_crop.png', 'carpet-metal_contamination_8_crop.png']\n"
     ]
    },
    {
     "name": "stderr",
     "output_type": "stream",
     "text": [
      "\r",
      " 42%|████▏     | 37/88 [00:32<01:22,  1.61s/it]"
     ]
    },
    {
     "name": "stdout",
     "output_type": "stream",
     "text": [
      "metal_nut-color\n",
      "['10142.png', '10275.png', '10655.png', '10966.png', '11488.png', '12101.png', '12666.png', '12977.png', '13060.png', '13691.png', '14216.png', 'metal_nut-color_0_crop.png', 'metal_nut-color_1_crop.png', 'metal_nut-color_2_crop.png', 'metal_nut-color_3_crop.png', 'metal_nut-color_4_crop.png', 'metal_nut-color_5_crop.png', 'metal_nut-color_6_crop.png', 'metal_nut-color_7_crop.png', 'metal_nut-color_8_crop.png', 'metal_nut-color_9_crop.png', 'metal_nut-color_10_crop.png']\n"
     ]
    },
    {
     "name": "stderr",
     "output_type": "stream",
     "text": [
      "\r",
      " 43%|████▎     | 38/88 [00:34<01:22,  1.65s/it]"
     ]
    },
    {
     "name": "stdout",
     "output_type": "stream",
     "text": [
      "transistor-bent_lead\n",
      "['10144.png', '12353.png', '12355.png', '13752.png', '14248.png', 'transistor-bent_lead_0_crop.png', 'transistor-bent_lead_1_crop.png', 'transistor-bent_lead_2_crop.png', 'transistor-bent_lead_3_crop.png', 'transistor-bent_lead_4_crop.png']\n"
     ]
    },
    {
     "name": "stderr",
     "output_type": "stream",
     "text": [
      "\r",
      " 44%|████▍     | 39/88 [00:35<01:09,  1.42s/it]"
     ]
    },
    {
     "name": "stdout",
     "output_type": "stream",
     "text": [
      "zipper-fabric_interior\n",
      "['10153.png', '10182.png', '10445.png', '10478.png', '11455.png', '11600.png', '12556.png', '14205.png', 'zipper-fabric_interior_0_crop.png', 'zipper-fabric_interior_1_crop.png', 'zipper-fabric_interior_2_crop.png', 'zipper-fabric_interior_3_crop.png', 'zipper-fabric_interior_4_crop.png', 'zipper-fabric_interior_5_crop.png', 'zipper-fabric_interior_6_crop.png', 'zipper-fabric_interior_7_crop.png']\n"
     ]
    },
    {
     "name": "stderr",
     "output_type": "stream",
     "text": [
      "\r",
      " 45%|████▌     | 40/88 [00:36<01:01,  1.29s/it]"
     ]
    },
    {
     "name": "stdout",
     "output_type": "stream",
     "text": [
      "leather-fold\n",
      "['10154.png', '10233.png', '12675.png', '13233.png', '13438.png', '13488.png', '13654.png', '13662.png', '13713.png', 'leather-fold_0_crop.png', 'leather-fold_1_crop.png', 'leather-fold_2_crop.png', 'leather-fold_3_crop.png', 'leather-fold_4_crop.png', 'leather-fold_5_crop.png', 'leather-fold_6_crop.png', 'leather-fold_7_crop.png', 'leather-fold_8_crop.png']\n"
     ]
    },
    {
     "name": "stderr",
     "output_type": "stream",
     "text": [
      "\r",
      " 47%|████▋     | 41/88 [00:38<01:04,  1.37s/it]"
     ]
    },
    {
     "name": "stdout",
     "output_type": "stream",
     "text": [
      "tile-glue_strip\n",
      "['10157.png', '11107.png', '11588.png', '11932.png', '12930.png', '13464.png', '13623.png', '13636.png', '13799.png', 'tile-glue_strip_0_crop.png', 'tile-glue_strip_1_crop.png', 'tile-glue_strip_2_crop.png', 'tile-glue_strip_3_crop.png', 'tile-glue_strip_4_crop.png', 'tile-glue_strip_5_crop.png', 'tile-glue_strip_6_crop.png', 'tile-glue_strip_7_crop.png', 'tile-glue_strip_8_crop.png']\n"
     ]
    },
    {
     "name": "stderr",
     "output_type": "stream",
     "text": [
      "\r",
      " 48%|████▊     | 42/88 [00:39<01:04,  1.41s/it]"
     ]
    },
    {
     "name": "stdout",
     "output_type": "stream",
     "text": [
      "screw-scratch_neck\n",
      "['10165.png', '10498.png', '10940.png', '11157.png', '11447.png', '11972.png', '12265.png', '12433.png', '12780.png', '13081.png', '13138.png', '13182.png', '13460.png', 'screw-scratch_neck_0_crop.png', 'screw-scratch_neck_1_crop.png', 'screw-scratch_neck_2_crop.png', 'screw-scratch_neck_3_crop.png', 'screw-scratch_neck_4_crop.png', 'screw-scratch_neck_5_crop.png', 'screw-scratch_neck_6_crop.png', 'screw-scratch_neck_7_crop.png', 'screw-scratch_neck_8_crop.png', 'screw-scratch_neck_9_crop.png', 'screw-scratch_neck_10_crop.png', 'screw-scratch_neck_11_crop.png', 'screw-scratch_neck_12_crop.png']\n"
     ]
    },
    {
     "name": "stderr",
     "output_type": "stream",
     "text": [
      "\r",
      " 49%|████▉     | 43/88 [00:41<01:05,  1.46s/it]"
     ]
    },
    {
     "name": "stdout",
     "output_type": "stream",
     "text": [
      "screw-scratch_head\n",
      "['10197.png', '10304.png', '10367.png', '11078.png', '11727.png', '12555.png', '12778.png', '12795.png', '13369.png', '13483.png', '13733.png', '13888.png', 'screw-scratch_head_0_crop.png', 'screw-scratch_head_1_crop.png', 'screw-scratch_head_2_crop.png', 'screw-scratch_head_3_crop.png', 'screw-scratch_head_4_crop.png', 'screw-scratch_head_5_crop.png', 'screw-scratch_head_6_crop.png', 'screw-scratch_head_7_crop.png', 'screw-scratch_head_8_crop.png', 'screw-scratch_head_9_crop.png', 'screw-scratch_head_10_crop.png', 'screw-scratch_head_11_crop.png']\n"
     ]
    },
    {
     "name": "stderr",
     "output_type": "stream",
     "text": [
      "\r",
      " 50%|█████     | 44/88 [00:42<01:03,  1.45s/it]"
     ]
    },
    {
     "name": "stdout",
     "output_type": "stream",
     "text": [
      "hazelnut-cut\n",
      "['10200.png', '10942.png', '11172.png', '11443.png', '12034.png', '12486.png', '12809.png', '12914.png', '13683.png', 'hazelnut-cut_0_crop.png', 'hazelnut-cut_1_crop.png', 'hazelnut-cut_2_crop.png', 'hazelnut-cut_3_crop.png', 'hazelnut-cut_4_crop.png', 'hazelnut-cut_5_crop.png', 'hazelnut-cut_6_crop.png', 'hazelnut-cut_7_crop.png', 'hazelnut-cut_8_crop.png']\n"
     ]
    },
    {
     "name": "stderr",
     "output_type": "stream",
     "text": [
      "\r",
      " 51%|█████     | 45/88 [00:43<01:02,  1.45s/it]"
     ]
    },
    {
     "name": "stdout",
     "output_type": "stream",
     "text": [
      "bottle-broken_large\n",
      "['10204.png', '10260.png', '10712.png', '10839.png', '10912.png', '11143.png', '11828.png', '12006.png', '12253.png', '13456.png', 'bottle-broken_large_0_crop.png', 'bottle-broken_large_1_crop.png', 'bottle-broken_large_2_crop.png', 'bottle-broken_large_3_crop.png', 'bottle-broken_large_4_crop.png', 'bottle-broken_large_5_crop.png', 'bottle-broken_large_6_crop.png', 'bottle-broken_large_7_crop.png', 'bottle-broken_large_8_crop.png', 'bottle-broken_large_9_crop.png']\n"
     ]
    },
    {
     "name": "stderr",
     "output_type": "stream",
     "text": [
      "\r",
      " 52%|█████▏    | 46/88 [00:45<01:00,  1.44s/it]"
     ]
    },
    {
     "name": "stdout",
     "output_type": "stream",
     "text": [
      "bottle-broken_small\n",
      "['10217.png', '10244.png', '10767.png', '11628.png', '11791.png', '11805.png', '11905.png', '12278.png', '13436.png', '13679.png', '14139.png', 'bottle-broken_small_0_crop.png', 'bottle-broken_small_1_crop.png', 'bottle-broken_small_2_crop.png', 'bottle-broken_small_3_crop.png', 'bottle-broken_small_4_crop.png', 'bottle-broken_small_5_crop.png', 'bottle-broken_small_6_crop.png', 'bottle-broken_small_7_crop.png', 'bottle-broken_small_8_crop.png', 'bottle-broken_small_9_crop.png', 'bottle-broken_small_10_crop.png']\n"
     ]
    },
    {
     "name": "stderr",
     "output_type": "stream",
     "text": [
      "\r",
      " 53%|█████▎    | 47/88 [00:46<01:00,  1.48s/it]"
     ]
    },
    {
     "name": "stdout",
     "output_type": "stream",
     "text": [
      "leather-cut\n",
      "['10230.png', '10279.png', '10618.png', '11125.png', '11240.png', '11920.png', '12422.png', '13298.png', '13571.png', '14245.png', 'leather-cut_0_crop.png', 'leather-cut_1_crop.png', 'leather-cut_2_crop.png', 'leather-cut_3_crop.png', 'leather-cut_4_crop.png', 'leather-cut_5_crop.png', 'leather-cut_6_crop.png', 'leather-cut_7_crop.png', 'leather-cut_8_crop.png', 'leather-cut_9_crop.png']\n"
     ]
    },
    {
     "name": "stderr",
     "output_type": "stream",
     "text": [
      "\r",
      " 55%|█████▍    | 48/88 [00:48<01:02,  1.57s/it]"
     ]
    },
    {
     "name": "stdout",
     "output_type": "stream",
     "text": [
      "cable-cut_outer_insulation\n",
      "['10234.png', '10249.png', '11284.png', '12220.png', '14153.png', 'cable-cut_outer_insulation_0_crop.png', 'cable-cut_outer_insulation_1_crop.png', 'cable-cut_outer_insulation_2_crop.png', 'cable-cut_outer_insulation_3_crop.png', 'cable-cut_outer_insulation_4_crop.png']\n"
     ]
    },
    {
     "name": "stderr",
     "output_type": "stream",
     "text": [
      "\r",
      " 56%|█████▌    | 49/88 [00:49<00:53,  1.37s/it]"
     ]
    },
    {
     "name": "stdout",
     "output_type": "stream",
     "text": [
      "zipper-squeezed_teeth\n",
      "['10235.png', '10811.png', '11430.png', '11496.png', '11700.png', '13187.png', '13647.png', '13731.png', 'zipper-squeezed_teeth_0_crop.png', 'zipper-squeezed_teeth_1_crop.png', 'zipper-squeezed_teeth_2_crop.png', 'zipper-squeezed_teeth_3_crop.png', 'zipper-squeezed_teeth_4_crop.png', 'zipper-squeezed_teeth_5_crop.png', 'zipper-squeezed_teeth_6_crop.png', 'zipper-squeezed_teeth_7_crop.png']\n"
     ]
    },
    {
     "name": "stderr",
     "output_type": "stream",
     "text": [
      "\r",
      " 57%|█████▋    | 50/88 [00:50<00:47,  1.26s/it]"
     ]
    },
    {
     "name": "stdout",
     "output_type": "stream",
     "text": [
      "toothbrush-defective\n",
      "['10237.png', '10573.png', '11080.png', '11218.png', '11231.png', '11750.png', '12159.png', '12163.png', '12321.png', '12873.png', '12925.png', '12955.png', '13134.png', '13245.png', '14053.png', 'toothbrush-defective_0_crop.png', 'toothbrush-defective_1_crop.png', 'toothbrush-defective_2_crop.png', 'toothbrush-defective_3_crop.png', 'toothbrush-defective_4_crop.png', 'toothbrush-defective_5_crop.png', 'toothbrush-defective_6_crop.png', 'toothbrush-defective_7_crop.png', 'toothbrush-defective_8_crop.png', 'toothbrush-defective_9_crop.png', 'toothbrush-defective_10_crop.png', 'toothbrush-defective_11_crop.png', 'toothbrush-defective_12_crop.png', 'toothbrush-defective_13_crop.png', 'toothbrush-defective_14_crop.png']\n"
     ]
    },
    {
     "name": "stderr",
     "output_type": "stream",
     "text": [
      "\r",
      " 58%|█████▊    | 51/88 [00:53<01:00,  1.64s/it]"
     ]
    },
    {
     "name": "stdout",
     "output_type": "stream",
     "text": [
      "cable-cut_inner_insulation\n",
      "['10239.png', '10777.png', '10891.png', '11215.png', '12372.png', '13013.png', '13967.png', 'cable-cut_inner_insulation_0_crop.png', 'cable-cut_inner_insulation_1_crop.png', 'cable-cut_inner_insulation_2_crop.png', 'cable-cut_inner_insulation_3_crop.png', 'cable-cut_inner_insulation_4_crop.png', 'cable-cut_inner_insulation_5_crop.png', 'cable-cut_inner_insulation_6_crop.png']\n"
     ]
    },
    {
     "name": "stderr",
     "output_type": "stream",
     "text": [
      "\r",
      " 59%|█████▉    | 52/88 [00:54<00:54,  1.52s/it]"
     ]
    },
    {
     "name": "stdout",
     "output_type": "stream",
     "text": [
      "pill-contamination\n",
      "['10243.png', '10694.png', '10764.png', '10806.png', '11251.png', '11393.png', '12806.png', '13000.png', '13500.png', '13553.png', '13784.png', 'pill-contamination_0_crop.png', 'pill-contamination_1_crop.png', 'pill-contamination_2_crop.png', 'pill-contamination_3_crop.png', 'pill-contamination_4_crop.png', 'pill-contamination_5_crop.png', 'pill-contamination_6_crop.png', 'pill-contamination_7_crop.png', 'pill-contamination_8_crop.png', 'pill-contamination_9_crop.png', 'pill-contamination_10_crop.png']\n"
     ]
    },
    {
     "name": "stderr",
     "output_type": "stream",
     "text": [
      "\r",
      " 60%|██████    | 53/88 [00:56<00:54,  1.55s/it]"
     ]
    },
    {
     "name": "stdout",
     "output_type": "stream",
     "text": [
      "cable-missing_wire\n",
      "['10284.png', '11141.png', '13167.png', '13540.png', '14192.png', 'cable-missing_wire_0_crop.png', 'cable-missing_wire_1_crop.png', 'cable-missing_wire_2_crop.png', 'cable-missing_wire_3_crop.png', 'cable-missing_wire_4_crop.png']\n"
     ]
    },
    {
     "name": "stderr",
     "output_type": "stream",
     "text": [
      "\r",
      " 61%|██████▏   | 54/88 [00:56<00:46,  1.35s/it]"
     ]
    },
    {
     "name": "stdout",
     "output_type": "stream",
     "text": [
      "carpet-thread\n",
      "['10291.png', '10470.png', '10810.png', '10956.png', '12415.png', '12560.png', '12708.png', '13620.png', '13894.png', '13950.png', 'carpet-thread_0_crop.png', 'carpet-thread_1_crop.png', 'carpet-thread_2_crop.png', 'carpet-thread_3_crop.png', 'carpet-thread_4_crop.png', 'carpet-thread_5_crop.png', 'carpet-thread_6_crop.png', 'carpet-thread_7_crop.png', 'carpet-thread_8_crop.png', 'carpet-thread_9_crop.png']\n"
     ]
    },
    {
     "name": "stderr",
     "output_type": "stream",
     "text": [
      "\r",
      " 62%|██████▎   | 55/88 [00:58<00:49,  1.49s/it]"
     ]
    },
    {
     "name": "stdout",
     "output_type": "stream",
     "text": [
      "grid-broken\n",
      "['10292.png', '10679.png', '11259.png', '13067.png', '13989.png', '14266.png', 'grid-broken_0_crop.png', 'grid-broken_1_crop.png', 'grid-broken_2_crop.png', 'grid-broken_3_crop.png', 'grid-broken_4_crop.png', 'grid-broken_5_crop.png']\n"
     ]
    },
    {
     "name": "stderr",
     "output_type": "stream",
     "text": [
      "\r",
      " 64%|██████▎   | 56/88 [00:59<00:40,  1.28s/it]"
     ]
    },
    {
     "name": "stdout",
     "output_type": "stream",
     "text": [
      "pill-faulty_imprint\n",
      "['10305.png', '10671.png', '10970.png', '11055.png', '11063.png', '11241.png', '11646.png', '12145.png', '12631.png', '13722.png', 'pill-faulty_imprint_0_crop.png', 'pill-faulty_imprint_1_crop.png', 'pill-faulty_imprint_2_crop.png', 'pill-faulty_imprint_3_crop.png', 'pill-faulty_imprint_4_crop.png', 'pill-faulty_imprint_5_crop.png', 'pill-faulty_imprint_6_crop.png', 'pill-faulty_imprint_7_crop.png', 'pill-faulty_imprint_8_crop.png', 'pill-faulty_imprint_9_crop.png']\n"
     ]
    },
    {
     "name": "stderr",
     "output_type": "stream",
     "text": [
      "\r",
      " 65%|██████▍   | 57/88 [01:01<00:41,  1.35s/it]"
     ]
    },
    {
     "name": "stdout",
     "output_type": "stream",
     "text": [
      "hazelnut-hole\n",
      "['10312.png', '10688.png', '11364.png', '11431.png', '12088.png', '12090.png', '13237.png', '13956.png', '14097.png', 'hazelnut-hole_0_crop.png', 'hazelnut-hole_1_crop.png', 'hazelnut-hole_2_crop.png', 'hazelnut-hole_3_crop.png', 'hazelnut-hole_4_crop.png', 'hazelnut-hole_5_crop.png', 'hazelnut-hole_6_crop.png', 'hazelnut-hole_7_crop.png', 'hazelnut-hole_8_crop.png']\n"
     ]
    },
    {
     "name": "stderr",
     "output_type": "stream",
     "text": [
      "\r",
      " 66%|██████▌   | 58/88 [01:02<00:41,  1.40s/it]"
     ]
    },
    {
     "name": "stdout",
     "output_type": "stream",
     "text": [
      "leather-glue\n",
      "['10314.png', '11574.png', '11842.png', '11895.png', '12076.png', '12341.png', '12377.png', '13091.png', '13400.png', '13897.png', 'leather-glue_0_crop.png', 'leather-glue_1_crop.png', 'leather-glue_2_crop.png', 'leather-glue_3_crop.png', 'leather-glue_4_crop.png', 'leather-glue_5_crop.png', 'leather-glue_6_crop.png', 'leather-glue_7_crop.png', 'leather-glue_8_crop.png', 'leather-glue_9_crop.png']\n"
     ]
    },
    {
     "name": "stderr",
     "output_type": "stream",
     "text": [
      "\r",
      " 67%|██████▋   | 59/88 [01:04<00:43,  1.49s/it]"
     ]
    },
    {
     "name": "stdout",
     "output_type": "stream",
     "text": [
      "leather-poke\n",
      "['10327.png', '10739.png', '11203.png', '11210.png', '12294.png', '12502.png', '12506.png', '12909.png', '14237.png', 'leather-poke_0_crop.png', 'leather-poke_1_crop.png', 'leather-poke_2_crop.png', 'leather-poke_3_crop.png', 'leather-poke_4_crop.png', 'leather-poke_5_crop.png', 'leather-poke_6_crop.png', 'leather-poke_7_crop.png', 'leather-poke_8_crop.png']\n"
     ]
    },
    {
     "name": "stderr",
     "output_type": "stream",
     "text": [
      "\r",
      " 68%|██████▊   | 60/88 [01:05<00:42,  1.51s/it]"
     ]
    },
    {
     "name": "stdout",
     "output_type": "stream",
     "text": [
      "transistor-damaged_case\n",
      "['10392.png', '11479.png', '11569.png', '12016.png', '12384.png', 'transistor-damaged_case_0_crop.png', 'transistor-damaged_case_1_crop.png', 'transistor-damaged_case_2_crop.png', 'transistor-damaged_case_3_crop.png', 'transistor-damaged_case_4_crop.png']\n"
     ]
    },
    {
     "name": "stderr",
     "output_type": "stream",
     "text": [
      "\r",
      " 69%|██████▉   | 61/88 [01:06<00:35,  1.32s/it]"
     ]
    },
    {
     "name": "stdout",
     "output_type": "stream",
     "text": [
      "wood-scratch\n",
      "['10441.png', '10635.png', '10832.png', '11658.png', '12083.png', '12313.png', '12500.png', '12510.png', '12623.png', '13505.png', '14208.png', 'wood-scratch_0_crop.png', 'wood-scratch_1_crop.png', 'wood-scratch_2_crop.png', 'wood-scratch_3_crop.png', 'wood-scratch_4_crop.png', 'wood-scratch_5_crop.png', 'wood-scratch_6_crop.png', 'wood-scratch_7_crop.png', 'wood-scratch_8_crop.png', 'wood-scratch_9_crop.png', 'wood-scratch_10_crop.png']\n"
     ]
    },
    {
     "name": "stderr",
     "output_type": "stream",
     "text": [
      "\r",
      " 70%|███████   | 62/88 [01:08<00:39,  1.50s/it]"
     ]
    },
    {
     "name": "stdout",
     "output_type": "stream",
     "text": [
      "tile-gray_stroke\n",
      "['10463.png', '10487.png', '11916.png', '12581.png', '13072.png', '13372.png', '13409.png', '13459.png', 'tile-gray_stroke_0_crop.png', 'tile-gray_stroke_1_crop.png', 'tile-gray_stroke_2_crop.png', 'tile-gray_stroke_3_crop.png', 'tile-gray_stroke_4_crop.png', 'tile-gray_stroke_5_crop.png', 'tile-gray_stroke_6_crop.png', 'tile-gray_stroke_7_crop.png']\n"
     ]
    },
    {
     "name": "stderr",
     "output_type": "stream",
     "text": [
      "\r",
      " 72%|███████▏  | 63/88 [01:09<00:35,  1.44s/it]"
     ]
    },
    {
     "name": "stdout",
     "output_type": "stream",
     "text": [
      "capsule-faulty_imprint\n",
      "['10473.png', '11415.png', '11577.png', '11779.png', '11787.png', '12094.png', '12443.png', '12483.png', '12984.png', '13221.png', '14006.png', 'capsule-faulty_imprint_0_crop.png', 'capsule-faulty_imprint_1_crop.png', 'capsule-faulty_imprint_2_crop.png', 'capsule-faulty_imprint_3_crop.png', 'capsule-faulty_imprint_4_crop.png', 'capsule-faulty_imprint_5_crop.png', 'capsule-faulty_imprint_6_crop.png', 'capsule-faulty_imprint_7_crop.png', 'capsule-faulty_imprint_8_crop.png', 'capsule-faulty_imprint_9_crop.png', 'capsule-faulty_imprint_10_crop.png']\n"
     ]
    },
    {
     "name": "stderr",
     "output_type": "stream",
     "text": [
      "\r",
      " 73%|███████▎  | 64/88 [01:11<00:37,  1.56s/it]"
     ]
    },
    {
     "name": "stdout",
     "output_type": "stream",
     "text": [
      "grid-glue\n",
      "['10509.png', '11182.png', '11798.png', '11919.png', '12820.png', '13693.png', 'grid-glue_0_crop.png', 'grid-glue_1_crop.png', 'grid-glue_2_crop.png', 'grid-glue_3_crop.png', 'grid-glue_4_crop.png', 'grid-glue_5_crop.png']\n"
     ]
    },
    {
     "name": "stderr",
     "output_type": "stream",
     "text": [
      "\r",
      " 74%|███████▍  | 65/88 [01:12<00:30,  1.32s/it]"
     ]
    },
    {
     "name": "stdout",
     "output_type": "stream",
     "text": [
      "zipper-combined\n",
      "['10537.png', '10753.png', '10802.png', '11730.png', '13475.png', '13511.png', '14070.png', '14195.png', 'zipper-combined_0_crop.png', 'zipper-combined_1_crop.png', 'zipper-combined_2_crop.png', 'zipper-combined_3_crop.png', 'zipper-combined_4_crop.png', 'zipper-combined_5_crop.png', 'zipper-combined_6_crop.png', 'zipper-combined_7_crop.png']\n"
     ]
    },
    {
     "name": "stderr",
     "output_type": "stream",
     "text": [
      "\r",
      " 75%|███████▌  | 66/88 [01:13<00:26,  1.21s/it]"
     ]
    },
    {
     "name": "stdout",
     "output_type": "stream",
     "text": [
      "carpet-color\n",
      "['10555.png', '10866.png', '11065.png', '11340.png', '11862.png', '11891.png', '13613.png', '14125.png', '14182.png', '14213.png', 'carpet-color_0_crop.png', 'carpet-color_1_crop.png', 'carpet-color_2_crop.png', 'carpet-color_3_crop.png', 'carpet-color_4_crop.png', 'carpet-color_5_crop.png', 'carpet-color_6_crop.png', 'carpet-color_7_crop.png', 'carpet-color_8_crop.png', 'carpet-color_9_crop.png']\n"
     ]
    },
    {
     "name": "stderr",
     "output_type": "stream",
     "text": [
      "\r",
      " 76%|███████▌  | 67/88 [01:15<00:28,  1.37s/it]"
     ]
    },
    {
     "name": "stdout",
     "output_type": "stream",
     "text": [
      "grid-bent\n",
      "['10582.png', '11088.png', '12230.png', '13392.png', '13653.png', '13858.png', 'grid-bent_0_crop.png', 'grid-bent_1_crop.png', 'grid-bent_2_crop.png', 'grid-bent_3_crop.png', 'grid-bent_4_crop.png', 'grid-bent_5_crop.png']\n"
     ]
    },
    {
     "name": "stderr",
     "output_type": "stream",
     "text": [
      "\r",
      " 77%|███████▋  | 68/88 [01:15<00:23,  1.18s/it]"
     ]
    },
    {
     "name": "stdout",
     "output_type": "stream",
     "text": [
      "pill-combined\n",
      "['10591.png', '10922.png', '11565.png', '12003.png', '12369.png', '12651.png', '12808.png', '13088.png', '13777.png', 'pill-combined_0_crop.png', 'pill-combined_1_crop.png', 'pill-combined_2_crop.png', 'pill-combined_3_crop.png', 'pill-combined_4_crop.png', 'pill-combined_5_crop.png', 'pill-combined_6_crop.png', 'pill-combined_7_crop.png', 'pill-combined_8_crop.png']\n"
     ]
    },
    {
     "name": "stderr",
     "output_type": "stream",
     "text": [
      "\r",
      " 78%|███████▊  | 69/88 [01:17<00:23,  1.23s/it]"
     ]
    },
    {
     "name": "stdout",
     "output_type": "stream",
     "text": [
      "hazelnut-print\n",
      "['10599.png', '10710.png', '10808.png', '11048.png', '12707.png', '12740.png', '13380.png', '13769.png', '14173.png', 'hazelnut-print_0_crop.png', 'hazelnut-print_1_crop.png', 'hazelnut-print_2_crop.png', 'hazelnut-print_3_crop.png', 'hazelnut-print_4_crop.png', 'hazelnut-print_5_crop.png', 'hazelnut-print_6_crop.png', 'hazelnut-print_7_crop.png', 'hazelnut-print_8_crop.png']\n"
     ]
    },
    {
     "name": "stderr",
     "output_type": "stream",
     "text": [
      "\r",
      " 80%|███████▉  | 70/88 [01:18<00:23,  1.31s/it]"
     ]
    },
    {
     "name": "stdout",
     "output_type": "stream",
     "text": [
      "cable-combined\n",
      "['10634.png', '11993.png', '12711.png', '12942.png', '13208.png', '14251.png', 'cable-combined_0_crop.png', 'cable-combined_1_crop.png', 'cable-combined_2_crop.png', 'cable-combined_3_crop.png', 'cable-combined_4_crop.png', 'cable-combined_5_crop.png']\n"
     ]
    },
    {
     "name": "stderr",
     "output_type": "stream",
     "text": [
      "\r",
      " 81%|████████  | 71/88 [01:19<00:20,  1.23s/it]"
     ]
    },
    {
     "name": "stdout",
     "output_type": "stream",
     "text": [
      "capsule-scratch\n",
      "['10676.png', '11376.png', '11592.png', '11656.png', '11914.png', '12548.png', '12739.png', '12781.png', '12966.png', '13269.png', '13442.png', '13849.png', 'capsule-scratch_0_crop.png', 'capsule-scratch_1_crop.png', 'capsule-scratch_2_crop.png', 'capsule-scratch_3_crop.png', 'capsule-scratch_4_crop.png', 'capsule-scratch_5_crop.png', 'capsule-scratch_6_crop.png', 'capsule-scratch_7_crop.png', 'capsule-scratch_8_crop.png', 'capsule-scratch_9_crop.png', 'capsule-scratch_10_crop.png', 'capsule-scratch_11_crop.png']\n"
     ]
    },
    {
     "name": "stderr",
     "output_type": "stream",
     "text": [
      "\r",
      " 82%|████████▏ | 72/88 [01:21<00:23,  1.47s/it]"
     ]
    },
    {
     "name": "stdout",
     "output_type": "stream",
     "text": [
      "metal_nut-bent\n",
      "['10682.png', '11439.png', '11444.png', '11745.png', '11781.png', '11818.png', '11831.png', '12861.png', '13294.png', '13590.png', '13830.png', '14005.png', '14150.png', 'metal_nut-bent_0_crop.png', 'metal_nut-bent_1_crop.png', 'metal_nut-bent_2_crop.png', 'metal_nut-bent_3_crop.png', 'metal_nut-bent_4_crop.png', 'metal_nut-bent_5_crop.png', 'metal_nut-bent_6_crop.png', 'metal_nut-bent_7_crop.png', 'metal_nut-bent_8_crop.png', 'metal_nut-bent_9_crop.png', 'metal_nut-bent_10_crop.png', 'metal_nut-bent_11_crop.png', 'metal_nut-bent_12_crop.png']\n"
     ]
    },
    {
     "name": "stderr",
     "output_type": "stream",
     "text": [
      "\r",
      " 83%|████████▎ | 73/88 [01:23<00:24,  1.60s/it]"
     ]
    },
    {
     "name": "stdout",
     "output_type": "stream",
     "text": [
      "zipper-broken_teeth\n",
      "['10702.png', '10757.png', '10774.png', '10849.png', '11060.png', '11198.png', '12436.png', '12450.png', '13884.png', '14085.png', 'zipper-broken_teeth_0_crop.png', 'zipper-broken_teeth_1_crop.png', 'zipper-broken_teeth_2_crop.png', 'zipper-broken_teeth_3_crop.png', 'zipper-broken_teeth_4_crop.png', 'zipper-broken_teeth_5_crop.png', 'zipper-broken_teeth_6_crop.png', 'zipper-broken_teeth_7_crop.png', 'zipper-broken_teeth_8_crop.png', 'zipper-broken_teeth_9_crop.png']\n"
     ]
    },
    {
     "name": "stderr",
     "output_type": "stream",
     "text": [
      "\r",
      " 84%|████████▍ | 74/88 [01:25<00:20,  1.49s/it]"
     ]
    },
    {
     "name": "stdout",
     "output_type": "stream",
     "text": [
      "tile-oil\n",
      "['10727.png', '10829.png', '10869.png', '12136.png', '12302.png', '12998.png', '13350.png', '13393.png', '13931.png', 'tile-oil_0_crop.png', 'tile-oil_1_crop.png', 'tile-oil_2_crop.png', 'tile-oil_3_crop.png', 'tile-oil_4_crop.png', 'tile-oil_5_crop.png', 'tile-oil_6_crop.png', 'tile-oil_7_crop.png', 'tile-oil_8_crop.png']\n"
     ]
    },
    {
     "name": "stderr",
     "output_type": "stream",
     "text": [
      "\r",
      " 85%|████████▌ | 75/88 [01:26<00:19,  1.47s/it]"
     ]
    },
    {
     "name": "stdout",
     "output_type": "stream",
     "text": [
      "transistor-misplaced\n",
      "['10824.png', '11017.png', '12471.png', '14014.png', '14203.png', 'transistor-misplaced_0_crop.png', 'transistor-misplaced_1_crop.png', 'transistor-misplaced_2_crop.png', 'transistor-misplaced_3_crop.png', 'transistor-misplaced_4_crop.png']\n"
     ]
    },
    {
     "name": "stderr",
     "output_type": "stream",
     "text": [
      "\r",
      " 86%|████████▋ | 76/88 [01:27<00:15,  1.29s/it]"
     ]
    },
    {
     "name": "stdout",
     "output_type": "stream",
     "text": [
      "grid-thread\n",
      "['10971.png', '11470.png', '11562.png', '11979.png', '13622.png', '14023.png', 'grid-thread_0_crop.png', 'grid-thread_1_crop.png', 'grid-thread_2_crop.png', 'grid-thread_3_crop.png', 'grid-thread_4_crop.png', 'grid-thread_5_crop.png']\n"
     ]
    },
    {
     "name": "stderr",
     "output_type": "stream",
     "text": [
      "\r",
      " 88%|████████▊ | 77/88 [01:28<00:12,  1.14s/it]"
     ]
    },
    {
     "name": "stdout",
     "output_type": "stream",
     "text": [
      "grid-metal_contamination\n",
      "['11024.png', '11237.png', '12827.png', '12969.png', '13651.png', '14233.png', 'grid-metal_contamination_0_crop.png', 'grid-metal_contamination_1_crop.png', 'grid-metal_contamination_2_crop.png', 'grid-metal_contamination_3_crop.png', 'grid-metal_contamination_4_crop.png', 'grid-metal_contamination_5_crop.png']\n"
     ]
    },
    {
     "name": "stderr",
     "output_type": "stream",
     "text": [
      "\r",
      " 89%|████████▊ | 78/88 [01:28<00:10,  1.03s/it]"
     ]
    },
    {
     "name": "stdout",
     "output_type": "stream",
     "text": [
      "carpet-cut\n",
      "['11033.png', '11139.png', '11382.png', '11726.png', '13080.png', '13117.png', '13407.png', '13419.png', '13484.png', 'carpet-cut_0_crop.png', 'carpet-cut_1_crop.png', 'carpet-cut_2_crop.png', 'carpet-cut_3_crop.png', 'carpet-cut_4_crop.png', 'carpet-cut_5_crop.png', 'carpet-cut_6_crop.png', 'carpet-cut_7_crop.png', 'carpet-cut_8_crop.png']\n"
     ]
    },
    {
     "name": "stderr",
     "output_type": "stream",
     "text": [
      "\r",
      " 90%|████████▉ | 79/88 [01:30<00:10,  1.19s/it]"
     ]
    },
    {
     "name": "stdout",
     "output_type": "stream",
     "text": [
      "wood-color\n",
      "['11134.png', '11281.png', '13321.png', '13667.png', 'wood-color_0_crop.png', 'wood-color_1_crop.png', 'wood-color_2_crop.png', 'wood-color_3_crop.png']\n"
     ]
    },
    {
     "name": "stderr",
     "output_type": "stream",
     "text": [
      "\r",
      " 91%|█████████ | 80/88 [01:31<00:08,  1.04s/it]"
     ]
    },
    {
     "name": "stdout",
     "output_type": "stream",
     "text": [
      "cable-cable_swap\n",
      "['11168.png', '11732.png', '11863.png', '12853.png', '12992.png', '13921.png', 'cable-cable_swap_0_crop.png', 'cable-cable_swap_1_crop.png', 'cable-cable_swap_2_crop.png', 'cable-cable_swap_3_crop.png', 'cable-cable_swap_4_crop.png', 'cable-cable_swap_5_crop.png']\n"
     ]
    },
    {
     "name": "stderr",
     "output_type": "stream",
     "text": [
      "\r",
      " 92%|█████████▏| 81/88 [01:32<00:07,  1.05s/it]"
     ]
    },
    {
     "name": "stdout",
     "output_type": "stream",
     "text": [
      "tile-crack\n",
      "['11206.png', '11598.png', '12541.png', '12589.png', '12876.png', '12999.png', '13857.png', '14193.png', '14204.png', 'tile-crack_0_crop.png', 'tile-crack_1_crop.png', 'tile-crack_2_crop.png', 'tile-crack_3_crop.png', 'tile-crack_4_crop.png', 'tile-crack_5_crop.png', 'tile-crack_6_crop.png', 'tile-crack_7_crop.png', 'tile-crack_8_crop.png']\n"
     ]
    },
    {
     "name": "stderr",
     "output_type": "stream",
     "text": [
      "\r",
      " 93%|█████████▎| 82/88 [01:33<00:07,  1.17s/it]"
     ]
    },
    {
     "name": "stdout",
     "output_type": "stream",
     "text": [
      "leather-color\n",
      "['11294.png', '11838.png', '11900.png', '12023.png', '12309.png', '12716.png', '13230.png', '13312.png', '13817.png', '14152.png', 'leather-color_0_crop.png', 'leather-color_1_crop.png', 'leather-color_2_crop.png', 'leather-color_3_crop.png', 'leather-color_4_crop.png', 'leather-color_5_crop.png', 'leather-color_6_crop.png', 'leather-color_7_crop.png', 'leather-color_8_crop.png', 'leather-color_9_crop.png']\n"
     ]
    },
    {
     "name": "stderr",
     "output_type": "stream",
     "text": [
      "\r",
      " 94%|█████████▍| 83/88 [01:35<00:06,  1.34s/it]"
     ]
    },
    {
     "name": "stdout",
     "output_type": "stream",
     "text": [
      "cable-poke_insulation\n",
      "['11438.png', '11637.png', '12086.png', '12627.png', '12783.png', 'cable-poke_insulation_0_crop.png', 'cable-poke_insulation_1_crop.png', 'cable-poke_insulation_2_crop.png', 'cable-poke_insulation_3_crop.png', 'cable-poke_insulation_4_crop.png']\n"
     ]
    },
    {
     "name": "stderr",
     "output_type": "stream",
     "text": [
      "\r",
      " 95%|█████████▌| 84/88 [01:36<00:04,  1.19s/it]"
     ]
    },
    {
     "name": "stdout",
     "output_type": "stream",
     "text": [
      "transistor-cut_lead\n",
      "['11449.png', '12904.png', '13015.png', '13159.png', '13776.png', 'transistor-cut_lead_0_crop.png', 'transistor-cut_lead_1_crop.png', 'transistor-cut_lead_2_crop.png', 'transistor-cut_lead_3_crop.png', 'transistor-cut_lead_4_crop.png']\n"
     ]
    },
    {
     "name": "stderr",
     "output_type": "stream",
     "text": [
      "\r",
      " 97%|█████████▋| 85/88 [01:37<00:03,  1.10s/it]"
     ]
    },
    {
     "name": "stdout",
     "output_type": "stream",
     "text": [
      "wood-hole\n",
      "['11795.png', '12525.png', '12748.png', '13226.png', '14069.png', 'wood-hole_0_crop.png', 'wood-hole_1_crop.png', 'wood-hole_2_crop.png', 'wood-hole_3_crop.png', 'wood-hole_4_crop.png']\n"
     ]
    },
    {
     "name": "stderr",
     "output_type": "stream",
     "text": [
      "\r",
      " 98%|█████████▊| 86/88 [01:38<00:02,  1.03s/it]"
     ]
    },
    {
     "name": "stdout",
     "output_type": "stream",
     "text": [
      "tile-rough\n",
      "['11947.png', '12012.png', '12096.png', '12383.png', '12399.png', '12630.png', '12819.png', '13246.png', 'tile-rough_0_crop.png', 'tile-rough_1_crop.png', 'tile-rough_2_crop.png', 'tile-rough_3_crop.png', 'tile-rough_4_crop.png', 'tile-rough_5_crop.png', 'tile-rough_6_crop.png', 'tile-rough_7_crop.png']\n"
     ]
    },
    {
     "name": "stderr",
     "output_type": "stream",
     "text": [
      "\r",
      " 99%|█████████▉| 87/88 [01:39<00:01,  1.11s/it]"
     ]
    },
    {
     "name": "stdout",
     "output_type": "stream",
     "text": [
      "wood-liquid\n",
      "['12106.png', '12178.png', '12610.png', '13183.png', '13259.png', 'wood-liquid_0_crop.png', 'wood-liquid_1_crop.png', 'wood-liquid_2_crop.png', 'wood-liquid_3_crop.png', 'wood-liquid_4_crop.png']\n"
     ]
    },
    {
     "name": "stderr",
     "output_type": "stream",
     "text": [
      "100%|██████████| 88/88 [01:40<00:00,  1.14s/it]\n"
     ]
    }
   ],
   "source": [
    "for label in tqdm(oslabel):\n",
    "    if 'good' not in label:\n",
    "        print(label)\n",
    "        idx = 0\n",
    "        one_sample = train_df[train_df['label'] == label].reset_index(drop=True)\n",
    "        images_list = natsorted(one_sample['file_name'])\n",
    "        print(images_list)\n",
    "        for _, image_name in enumerate(images_list):\n",
    "            image = np.array(Image.open(opj('./open/train_add_data/', image_name)).convert('RGB'))\n",
    "            \n",
    "            aug_img = rotation(image, 30)  \n",
    "            aug_img = cv2.resize(aug_img, dsize=(1024, 1024))\n",
    "            aug_img = cv2.cvtColor(aug_img, cv2.COLOR_BGR2RGB)\n",
    "            save_path = opj('./open/train_add_data', f'{label}_{idx}_rotation.png')\n",
    "            save_name = f'{label}_{idx}_rotation.png'\n",
    "            idx += 1\n",
    "            cv2.imwrite(save_path, aug_img)\n",
    "            train_df.loc[len(train_df)] = [save_name] + one_sample.iloc[0][1:].values.tolist() "
   ]
  },
  {
   "cell_type": "markdown",
   "metadata": {},
   "source": [
    "# Flip"
   ]
  },
  {
   "cell_type": "code",
   "execution_count": 10,
   "metadata": {
    "scrolled": true
   },
   "outputs": [
    {
     "name": "stderr",
     "output_type": "stream",
     "text": [
      "\r",
      "  0%|          | 0/88 [00:00<?, ?it/s]"
     ]
    },
    {
     "name": "stdout",
     "output_type": "stream",
     "text": [
      "cable-bent_wire\n",
      "['10008.png', '11086.png', '11552.png', '11599.png', '13211.png', '13215.png', '13795.png', 'cable-bent_wire_0_crop.png', 'cable-bent_wire_0_rotation.png', 'cable-bent_wire_1_crop.png', 'cable-bent_wire_1_rotation.png', 'cable-bent_wire_2_crop.png', 'cable-bent_wire_2_rotation.png', 'cable-bent_wire_3_crop.png', 'cable-bent_wire_3_rotation.png', 'cable-bent_wire_4_crop.png', 'cable-bent_wire_4_rotation.png', 'cable-bent_wire_5_crop.png', 'cable-bent_wire_5_rotation.png', 'cable-bent_wire_6_crop.png', 'cable-bent_wire_6_rotation.png', 'cable-bent_wire_7_rotation.png', 'cable-bent_wire_8_rotation.png', 'cable-bent_wire_9_rotation.png', 'cable-bent_wire_10_rotation.png', 'cable-bent_wire_11_rotation.png', 'cable-bent_wire_12_rotation.png', 'cable-bent_wire_13_rotation.png']\n"
     ]
    },
    {
     "name": "stderr",
     "output_type": "stream",
     "text": [
      "\r",
      "  7%|▋         | 6/88 [00:02<00:32,  2.50it/s]"
     ]
    },
    {
     "name": "stdout",
     "output_type": "stream",
     "text": [
      "carpet-hole\n",
      "['10010.png', '10307.png', '10641.png', '10711.png', '11673.png', '12260.png', '12432.png', '12823.png', '14030.png', 'carpet-hole_0_crop.png', 'carpet-hole_0_rotation.png', 'carpet-hole_1_crop.png', 'carpet-hole_1_rotation.png', 'carpet-hole_2_crop.png', 'carpet-hole_2_rotation.png', 'carpet-hole_3_crop.png', 'carpet-hole_3_rotation.png', 'carpet-hole_4_crop.png', 'carpet-hole_4_rotation.png', 'carpet-hole_5_crop.png', 'carpet-hole_5_rotation.png', 'carpet-hole_6_crop.png', 'carpet-hole_6_rotation.png', 'carpet-hole_7_crop.png', 'carpet-hole_7_rotation.png', 'carpet-hole_8_crop.png', 'carpet-hole_8_rotation.png', 'carpet-hole_9_rotation.png', 'carpet-hole_10_rotation.png', 'carpet-hole_11_rotation.png', 'carpet-hole_12_rotation.png', 'carpet-hole_13_rotation.png', 'carpet-hole_14_rotation.png', 'carpet-hole_15_rotation.png', 'carpet-hole_16_rotation.png', 'carpet-hole_17_rotation.png']\n"
     ]
    },
    {
     "name": "stderr",
     "output_type": "stream",
     "text": [
      "\r",
      "  8%|▊         | 7/88 [00:05<01:14,  1.08it/s]"
     ]
    },
    {
     "name": "stdout",
     "output_type": "stream",
     "text": [
      "pill-pill_type\n",
      "['10013.png', '10534.png', '10914.png', '12103.png', '13701.png', 'pill-pill_type_0_crop.png', 'pill-pill_type_0_rotation.png', 'pill-pill_type_1_crop.png', 'pill-pill_type_1_rotation.png', 'pill-pill_type_2_crop.png', 'pill-pill_type_2_rotation.png', 'pill-pill_type_3_crop.png', 'pill-pill_type_3_rotation.png', 'pill-pill_type_4_crop.png', 'pill-pill_type_4_rotation.png', 'pill-pill_type_5_rotation.png', 'pill-pill_type_6_rotation.png', 'pill-pill_type_7_rotation.png', 'pill-pill_type_8_rotation.png', 'pill-pill_type_9_rotation.png']\n"
     ]
    },
    {
     "name": "stderr",
     "output_type": "stream",
     "text": [
      "\r",
      " 10%|█         | 9/88 [00:07<01:09,  1.14it/s]"
     ]
    },
    {
     "name": "stdout",
     "output_type": "stream",
     "text": [
      "metal_nut-scratch\n",
      "['10016.png', '10220.png', '10585.png', '11339.png', '12824.png', '12882.png', '12947.png', '13351.png', '13364.png', '13985.png', '14067.png', '14131.png', 'metal_nut-scratch_0_crop.png', 'metal_nut-scratch_0_rotation.png', 'metal_nut-scratch_1_crop.png', 'metal_nut-scratch_1_rotation.png', 'metal_nut-scratch_2_crop.png', 'metal_nut-scratch_2_rotation.png', 'metal_nut-scratch_3_crop.png', 'metal_nut-scratch_3_rotation.png', 'metal_nut-scratch_4_crop.png', 'metal_nut-scratch_4_rotation.png', 'metal_nut-scratch_5_crop.png', 'metal_nut-scratch_5_rotation.png', 'metal_nut-scratch_6_crop.png', 'metal_nut-scratch_6_rotation.png', 'metal_nut-scratch_7_crop.png', 'metal_nut-scratch_7_rotation.png', 'metal_nut-scratch_8_crop.png', 'metal_nut-scratch_8_rotation.png', 'metal_nut-scratch_9_crop.png', 'metal_nut-scratch_9_rotation.png', 'metal_nut-scratch_10_crop.png', 'metal_nut-scratch_10_rotation.png', 'metal_nut-scratch_11_crop.png', 'metal_nut-scratch_11_rotation.png', 'metal_nut-scratch_12_rotation.png', 'metal_nut-scratch_13_rotation.png', 'metal_nut-scratch_14_rotation.png', 'metal_nut-scratch_15_rotation.png', 'metal_nut-scratch_16_rotation.png', 'metal_nut-scratch_17_rotation.png', 'metal_nut-scratch_18_rotation.png', 'metal_nut-scratch_19_rotation.png', 'metal_nut-scratch_20_rotation.png', 'metal_nut-scratch_21_rotation.png', 'metal_nut-scratch_22_rotation.png', 'metal_nut-scratch_23_rotation.png']\n"
     ]
    },
    {
     "name": "stderr",
     "output_type": "stream",
     "text": [
      "\r",
      " 12%|█▎        | 11/88 [00:10<01:32,  1.21s/it]"
     ]
    },
    {
     "name": "stdout",
     "output_type": "stream",
     "text": [
      "screw-thread_side\n",
      "['10019.png', '10114.png', '10169.png', '10888.png', '11610.png', '11802.png', '12153.png', '13004.png', '13019.png', '13106.png', '13766.png', '14066.png', 'screw-thread_side_0_crop.png', 'screw-thread_side_0_rotation.png', 'screw-thread_side_1_crop.png', 'screw-thread_side_1_rotation.png', 'screw-thread_side_2_crop.png', 'screw-thread_side_2_rotation.png', 'screw-thread_side_3_crop.png', 'screw-thread_side_3_rotation.png', 'screw-thread_side_4_crop.png', 'screw-thread_side_4_rotation.png', 'screw-thread_side_5_crop.png', 'screw-thread_side_5_rotation.png', 'screw-thread_side_6_crop.png', 'screw-thread_side_6_rotation.png', 'screw-thread_side_7_crop.png', 'screw-thread_side_7_rotation.png', 'screw-thread_side_8_crop.png', 'screw-thread_side_8_rotation.png', 'screw-thread_side_9_crop.png', 'screw-thread_side_9_rotation.png', 'screw-thread_side_10_crop.png', 'screw-thread_side_10_rotation.png', 'screw-thread_side_11_crop.png', 'screw-thread_side_11_rotation.png', 'screw-thread_side_12_rotation.png', 'screw-thread_side_13_rotation.png', 'screw-thread_side_14_rotation.png', 'screw-thread_side_15_rotation.png', 'screw-thread_side_16_rotation.png', 'screw-thread_side_17_rotation.png', 'screw-thread_side_18_rotation.png', 'screw-thread_side_19_rotation.png', 'screw-thread_side_20_rotation.png', 'screw-thread_side_21_rotation.png', 'screw-thread_side_22_rotation.png', 'screw-thread_side_23_rotation.png']\n"
     ]
    },
    {
     "name": "stderr",
     "output_type": "stream",
     "text": [
      "\r",
      " 15%|█▍        | 13/88 [00:13<01:39,  1.33s/it]"
     ]
    },
    {
     "name": "stdout",
     "output_type": "stream",
     "text": [
      "zipper-fabric_border\n",
      "['10020.png', '10861.png', '13029.png', '13302.png', '13347.png', '13389.png', '13391.png', '13498.png', '14211.png', 'zipper-fabric_border_0_crop.png', 'zipper-fabric_border_0_rotation.png', 'zipper-fabric_border_1_crop.png', 'zipper-fabric_border_1_rotation.png', 'zipper-fabric_border_2_crop.png', 'zipper-fabric_border_2_rotation.png', 'zipper-fabric_border_3_crop.png', 'zipper-fabric_border_3_rotation.png', 'zipper-fabric_border_4_crop.png', 'zipper-fabric_border_4_rotation.png', 'zipper-fabric_border_5_crop.png', 'zipper-fabric_border_5_rotation.png', 'zipper-fabric_border_6_crop.png', 'zipper-fabric_border_6_rotation.png', 'zipper-fabric_border_7_crop.png', 'zipper-fabric_border_7_rotation.png', 'zipper-fabric_border_8_crop.png', 'zipper-fabric_border_8_rotation.png', 'zipper-fabric_border_9_rotation.png', 'zipper-fabric_border_10_rotation.png', 'zipper-fabric_border_11_rotation.png', 'zipper-fabric_border_12_rotation.png', 'zipper-fabric_border_13_rotation.png', 'zipper-fabric_border_14_rotation.png', 'zipper-fabric_border_15_rotation.png', 'zipper-fabric_border_16_rotation.png', 'zipper-fabric_border_17_rotation.png']\n"
     ]
    },
    {
     "name": "stderr",
     "output_type": "stream",
     "text": [
      "\r",
      " 16%|█▌        | 14/88 [00:16<01:52,  1.52s/it]"
     ]
    },
    {
     "name": "stdout",
     "output_type": "stream",
     "text": [
      "pill-scratch\n",
      "['10023.png', '10675.png', '10736.png', '11173.png', '11418.png', '11620.png', '11978.png', '13180.png', '13324.png', '13401.png', '13942.png', '14101.png', 'pill-scratch_0_crop.png', 'pill-scratch_0_rotation.png', 'pill-scratch_1_crop.png', 'pill-scratch_1_rotation.png', 'pill-scratch_2_crop.png', 'pill-scratch_2_rotation.png', 'pill-scratch_3_crop.png', 'pill-scratch_3_rotation.png', 'pill-scratch_4_crop.png', 'pill-scratch_4_rotation.png', 'pill-scratch_5_crop.png', 'pill-scratch_5_rotation.png', 'pill-scratch_6_crop.png', 'pill-scratch_6_rotation.png', 'pill-scratch_7_crop.png', 'pill-scratch_7_rotation.png', 'pill-scratch_8_crop.png', 'pill-scratch_8_rotation.png', 'pill-scratch_9_crop.png', 'pill-scratch_9_rotation.png', 'pill-scratch_10_crop.png', 'pill-scratch_10_rotation.png', 'pill-scratch_11_crop.png', 'pill-scratch_11_rotation.png', 'pill-scratch_12_rotation.png', 'pill-scratch_13_rotation.png', 'pill-scratch_14_rotation.png', 'pill-scratch_15_rotation.png', 'pill-scratch_16_rotation.png', 'pill-scratch_17_rotation.png', 'pill-scratch_18_rotation.png', 'pill-scratch_19_rotation.png', 'pill-scratch_20_rotation.png', 'pill-scratch_21_rotation.png', 'pill-scratch_22_rotation.png', 'pill-scratch_23_rotation.png']\n"
     ]
    },
    {
     "name": "stderr",
     "output_type": "stream",
     "text": [
      "\r",
      " 18%|█▊        | 16/88 [00:20<01:58,  1.64s/it]"
     ]
    },
    {
     "name": "stdout",
     "output_type": "stream",
     "text": [
      "hazelnut-crack\n",
      "['10033.png', '10089.png', '11209.png', '12354.png', '12696.png', '12864.png', '13704.png', '13959.png', '14086.png', 'hazelnut-crack_0_crop.png', 'hazelnut-crack_0_rotation.png', 'hazelnut-crack_1_crop.png', 'hazelnut-crack_1_rotation.png', 'hazelnut-crack_2_crop.png', 'hazelnut-crack_2_rotation.png', 'hazelnut-crack_3_crop.png', 'hazelnut-crack_3_rotation.png', 'hazelnut-crack_4_crop.png', 'hazelnut-crack_4_rotation.png', 'hazelnut-crack_5_crop.png', 'hazelnut-crack_5_rotation.png', 'hazelnut-crack_6_crop.png', 'hazelnut-crack_6_rotation.png', 'hazelnut-crack_7_crop.png', 'hazelnut-crack_7_rotation.png', 'hazelnut-crack_8_crop.png', 'hazelnut-crack_8_rotation.png', 'hazelnut-crack_9_rotation.png', 'hazelnut-crack_10_rotation.png', 'hazelnut-crack_11_rotation.png', 'hazelnut-crack_12_rotation.png', 'hazelnut-crack_13_rotation.png', 'hazelnut-crack_14_rotation.png', 'hazelnut-crack_15_rotation.png', 'hazelnut-crack_16_rotation.png', 'hazelnut-crack_17_rotation.png']\n"
     ]
    },
    {
     "name": "stderr",
     "output_type": "stream",
     "text": [
      "\r",
      " 20%|██        | 18/88 [00:23<01:51,  1.59s/it]"
     ]
    },
    {
     "name": "stdout",
     "output_type": "stream",
     "text": [
      "screw-manipulated_front\n",
      "['10035.png', '10842.png', '11084.png', '11097.png', '11129.png', '11442.png', '11446.png', '11528.png', '12344.png', '12979.png', '13532.png', '14175.png', 'screw-manipulated_front_0_crop.png', 'screw-manipulated_front_0_rotation.png', 'screw-manipulated_front_1_crop.png', 'screw-manipulated_front_1_rotation.png', 'screw-manipulated_front_2_crop.png', 'screw-manipulated_front_2_rotation.png', 'screw-manipulated_front_3_crop.png', 'screw-manipulated_front_3_rotation.png', 'screw-manipulated_front_4_crop.png', 'screw-manipulated_front_4_rotation.png', 'screw-manipulated_front_5_crop.png', 'screw-manipulated_front_5_rotation.png', 'screw-manipulated_front_6_crop.png', 'screw-manipulated_front_6_rotation.png', 'screw-manipulated_front_7_crop.png', 'screw-manipulated_front_7_rotation.png', 'screw-manipulated_front_8_crop.png', 'screw-manipulated_front_8_rotation.png', 'screw-manipulated_front_9_crop.png', 'screw-manipulated_front_9_rotation.png', 'screw-manipulated_front_10_crop.png', 'screw-manipulated_front_10_rotation.png', 'screw-manipulated_front_11_crop.png', 'screw-manipulated_front_11_rotation.png', 'screw-manipulated_front_12_rotation.png', 'screw-manipulated_front_13_rotation.png', 'screw-manipulated_front_14_rotation.png', 'screw-manipulated_front_15_rotation.png', 'screw-manipulated_front_16_rotation.png', 'screw-manipulated_front_17_rotation.png', 'screw-manipulated_front_18_rotation.png', 'screw-manipulated_front_19_rotation.png', 'screw-manipulated_front_20_rotation.png', 'screw-manipulated_front_21_rotation.png', 'screw-manipulated_front_22_rotation.png', 'screw-manipulated_front_23_rotation.png']\n"
     ]
    },
    {
     "name": "stderr",
     "output_type": "stream",
     "text": [
      "\r",
      " 22%|██▏       | 19/88 [00:26<02:10,  1.89s/it]"
     ]
    },
    {
     "name": "stdout",
     "output_type": "stream",
     "text": [
      "bottle-contamination\n",
      "['10053.png', '10759.png', '10837.png', '11273.png', '11307.png', '11763.png', '12276.png', '12757.png', '12787.png', '13112.png', '13462.png', 'bottle-contamination_0_crop.png', 'bottle-contamination_0_rotation.png', 'bottle-contamination_1_crop.png', 'bottle-contamination_1_rotation.png', 'bottle-contamination_2_crop.png', 'bottle-contamination_2_rotation.png', 'bottle-contamination_3_crop.png', 'bottle-contamination_3_rotation.png', 'bottle-contamination_4_crop.png', 'bottle-contamination_4_rotation.png', 'bottle-contamination_5_crop.png', 'bottle-contamination_5_rotation.png', 'bottle-contamination_6_crop.png', 'bottle-contamination_6_rotation.png', 'bottle-contamination_7_crop.png', 'bottle-contamination_7_rotation.png', 'bottle-contamination_8_crop.png', 'bottle-contamination_8_rotation.png', 'bottle-contamination_9_crop.png', 'bottle-contamination_9_rotation.png', 'bottle-contamination_10_crop.png', 'bottle-contamination_10_rotation.png', 'bottle-contamination_11_rotation.png', 'bottle-contamination_12_rotation.png', 'bottle-contamination_13_rotation.png', 'bottle-contamination_14_rotation.png', 'bottle-contamination_15_rotation.png', 'bottle-contamination_16_rotation.png', 'bottle-contamination_17_rotation.png', 'bottle-contamination_18_rotation.png', 'bottle-contamination_19_rotation.png', 'bottle-contamination_20_rotation.png', 'bottle-contamination_21_rotation.png']\n"
     ]
    },
    {
     "name": "stderr",
     "output_type": "stream",
     "text": [
      "\r",
      " 27%|██▋       | 24/88 [00:29<01:13,  1.14s/it]"
     ]
    },
    {
     "name": "stdout",
     "output_type": "stream",
     "text": [
      "zipper-split_teeth\n",
      "['10073.png', '10426.png', '10557.png', '10605.png', '10887.png', '11456.png', '12374.png', '12587.png', '13991.png', 'zipper-split_teeth_0_crop.png', 'zipper-split_teeth_0_rotation.png', 'zipper-split_teeth_1_crop.png', 'zipper-split_teeth_1_rotation.png', 'zipper-split_teeth_2_crop.png', 'zipper-split_teeth_2_rotation.png', 'zipper-split_teeth_3_crop.png', 'zipper-split_teeth_3_rotation.png', 'zipper-split_teeth_4_crop.png', 'zipper-split_teeth_4_rotation.png', 'zipper-split_teeth_5_crop.png', 'zipper-split_teeth_5_rotation.png', 'zipper-split_teeth_6_crop.png', 'zipper-split_teeth_6_rotation.png', 'zipper-split_teeth_7_crop.png', 'zipper-split_teeth_7_rotation.png', 'zipper-split_teeth_8_crop.png', 'zipper-split_teeth_8_rotation.png', 'zipper-split_teeth_9_rotation.png', 'zipper-split_teeth_10_rotation.png', 'zipper-split_teeth_11_rotation.png', 'zipper-split_teeth_12_rotation.png', 'zipper-split_teeth_13_rotation.png', 'zipper-split_teeth_14_rotation.png', 'zipper-split_teeth_15_rotation.png', 'zipper-split_teeth_16_rotation.png', 'zipper-split_teeth_17_rotation.png']\n"
     ]
    },
    {
     "name": "stderr",
     "output_type": "stream",
     "text": [
      "\r",
      " 30%|██▉       | 26/88 [00:31<01:11,  1.15s/it]"
     ]
    },
    {
     "name": "stdout",
     "output_type": "stream",
     "text": [
      "pill-crack\n",
      "['10082.png', '10407.png', '10748.png', '11042.png', '11461.png', '11546.png', '12782.png', '12825.png', '13054.png', '13433.png', '13468.png', '13591.png', '14113.png', 'pill-crack_0_crop.png', 'pill-crack_0_rotation.png', 'pill-crack_1_crop.png', 'pill-crack_1_rotation.png', 'pill-crack_2_crop.png', 'pill-crack_2_rotation.png', 'pill-crack_3_crop.png', 'pill-crack_3_rotation.png', 'pill-crack_4_crop.png', 'pill-crack_4_rotation.png', 'pill-crack_5_crop.png', 'pill-crack_5_rotation.png', 'pill-crack_6_crop.png', 'pill-crack_6_rotation.png', 'pill-crack_7_crop.png', 'pill-crack_7_rotation.png', 'pill-crack_8_crop.png', 'pill-crack_8_rotation.png', 'pill-crack_9_crop.png', 'pill-crack_9_rotation.png', 'pill-crack_10_crop.png', 'pill-crack_10_rotation.png', 'pill-crack_11_crop.png', 'pill-crack_11_rotation.png', 'pill-crack_12_crop.png', 'pill-crack_12_rotation.png', 'pill-crack_13_rotation.png', 'pill-crack_14_rotation.png', 'pill-crack_15_rotation.png', 'pill-crack_16_rotation.png', 'pill-crack_17_rotation.png', 'pill-crack_18_rotation.png', 'pill-crack_19_rotation.png', 'pill-crack_20_rotation.png', 'pill-crack_21_rotation.png', 'pill-crack_22_rotation.png', 'pill-crack_23_rotation.png', 'pill-crack_24_rotation.png', 'pill-crack_25_rotation.png']\n"
     ]
    },
    {
     "name": "stderr",
     "output_type": "stream",
     "text": [
      "\r",
      " 31%|███       | 27/88 [00:35<01:36,  1.58s/it]"
     ]
    },
    {
     "name": "stdout",
     "output_type": "stream",
     "text": [
      "wood-combined\n",
      "['10088.png', '12184.png', '12482.png', '12784.png', '13074.png', '13491.png', 'wood-combined_0_crop.png', 'wood-combined_0_rotation.png', 'wood-combined_1_crop.png', 'wood-combined_1_rotation.png', 'wood-combined_2_crop.png', 'wood-combined_2_rotation.png', 'wood-combined_3_crop.png', 'wood-combined_3_rotation.png', 'wood-combined_4_crop.png', 'wood-combined_4_rotation.png', 'wood-combined_5_crop.png', 'wood-combined_5_rotation.png', 'wood-combined_6_rotation.png', 'wood-combined_7_rotation.png', 'wood-combined_8_rotation.png', 'wood-combined_9_rotation.png', 'wood-combined_10_rotation.png', 'wood-combined_11_rotation.png']\n"
     ]
    },
    {
     "name": "stderr",
     "output_type": "stream",
     "text": [
      "\r",
      " 32%|███▏      | 28/88 [00:37<01:39,  1.66s/it]"
     ]
    },
    {
     "name": "stdout",
     "output_type": "stream",
     "text": [
      "pill-color\n",
      "['10092.png', '10104.png', '10742.png', '10749.png', '10820.png', '11489.png', '11879.png', '11945.png', '12189.png', '12291.png', '13879.png', '13945.png', '14252.png', 'pill-color_0_crop.png', 'pill-color_0_rotation.png', 'pill-color_1_crop.png', 'pill-color_1_rotation.png', 'pill-color_2_crop.png', 'pill-color_2_rotation.png', 'pill-color_3_crop.png', 'pill-color_3_rotation.png', 'pill-color_4_crop.png', 'pill-color_4_rotation.png', 'pill-color_5_crop.png', 'pill-color_5_rotation.png', 'pill-color_6_crop.png', 'pill-color_6_rotation.png', 'pill-color_7_crop.png', 'pill-color_7_rotation.png', 'pill-color_8_crop.png', 'pill-color_8_rotation.png', 'pill-color_9_crop.png', 'pill-color_9_rotation.png', 'pill-color_10_crop.png', 'pill-color_10_rotation.png', 'pill-color_11_crop.png', 'pill-color_11_rotation.png', 'pill-color_12_crop.png', 'pill-color_12_rotation.png', 'pill-color_13_rotation.png', 'pill-color_14_rotation.png', 'pill-color_15_rotation.png', 'pill-color_16_rotation.png', 'pill-color_17_rotation.png', 'pill-color_18_rotation.png', 'pill-color_19_rotation.png', 'pill-color_20_rotation.png', 'pill-color_21_rotation.png', 'pill-color_22_rotation.png', 'pill-color_23_rotation.png', 'pill-color_24_rotation.png', 'pill-color_25_rotation.png']\n"
     ]
    },
    {
     "name": "stderr",
     "output_type": "stream",
     "text": [
      "\r",
      " 33%|███▎      | 29/88 [00:41<02:05,  2.13s/it]"
     ]
    },
    {
     "name": "stdout",
     "output_type": "stream",
     "text": [
      "screw-thread_top\n",
      "['10095.png', '11236.png', '11501.png', '11563.png', '12245.png', '12275.png', '12381.png', '12523.png', '12721.png', '13386.png', '13551.png', '14071.png', 'screw-thread_top_0_crop.png', 'screw-thread_top_0_rotation.png', 'screw-thread_top_1_crop.png', 'screw-thread_top_1_rotation.png', 'screw-thread_top_2_crop.png', 'screw-thread_top_2_rotation.png', 'screw-thread_top_3_crop.png', 'screw-thread_top_3_rotation.png', 'screw-thread_top_4_crop.png', 'screw-thread_top_4_rotation.png', 'screw-thread_top_5_crop.png', 'screw-thread_top_5_rotation.png', 'screw-thread_top_6_crop.png', 'screw-thread_top_6_rotation.png', 'screw-thread_top_7_crop.png', 'screw-thread_top_7_rotation.png', 'screw-thread_top_8_crop.png', 'screw-thread_top_8_rotation.png', 'screw-thread_top_9_crop.png', 'screw-thread_top_9_rotation.png', 'screw-thread_top_10_crop.png', 'screw-thread_top_10_rotation.png', 'screw-thread_top_11_crop.png', 'screw-thread_top_11_rotation.png', 'screw-thread_top_12_rotation.png', 'screw-thread_top_13_rotation.png', 'screw-thread_top_14_rotation.png', 'screw-thread_top_15_rotation.png', 'screw-thread_top_16_rotation.png', 'screw-thread_top_17_rotation.png', 'screw-thread_top_18_rotation.png', 'screw-thread_top_19_rotation.png', 'screw-thread_top_20_rotation.png', 'screw-thread_top_21_rotation.png', 'screw-thread_top_22_rotation.png', 'screw-thread_top_23_rotation.png']\n"
     ]
    },
    {
     "name": "stderr",
     "output_type": "stream",
     "text": [
      "\r",
      " 34%|███▍      | 30/88 [00:44<02:16,  2.35s/it]"
     ]
    },
    {
     "name": "stdout",
     "output_type": "stream",
     "text": [
      "cable-missing_cable\n",
      "['10096.png', '10791.png', '11344.png', '11632.png', '12703.png', '14167.png', 'cable-missing_cable_0_crop.png', 'cable-missing_cable_0_rotation.png', 'cable-missing_cable_1_crop.png', 'cable-missing_cable_1_rotation.png', 'cable-missing_cable_2_crop.png', 'cable-missing_cable_2_rotation.png', 'cable-missing_cable_3_crop.png', 'cable-missing_cable_3_rotation.png', 'cable-missing_cable_4_crop.png', 'cable-missing_cable_4_rotation.png', 'cable-missing_cable_5_crop.png', 'cable-missing_cable_5_rotation.png', 'cable-missing_cable_6_rotation.png', 'cable-missing_cable_7_rotation.png', 'cable-missing_cable_8_rotation.png', 'cable-missing_cable_9_rotation.png', 'cable-missing_cable_10_rotation.png', 'cable-missing_cable_11_rotation.png']\n"
     ]
    },
    {
     "name": "stderr",
     "output_type": "stream",
     "text": [
      "\r",
      " 35%|███▌      | 31/88 [00:46<02:09,  2.28s/it]"
     ]
    },
    {
     "name": "stdout",
     "output_type": "stream",
     "text": [
      "capsule-squeeze\n",
      "['10110.png', '10111.png', '10343.png', '11613.png', '12311.png', '12424.png', '12632.png', '12715.png', '14105.png', '14217.png', 'capsule-squeeze_0_crop.png', 'capsule-squeeze_0_rotation.png', 'capsule-squeeze_1_crop.png', 'capsule-squeeze_1_rotation.png', 'capsule-squeeze_2_crop.png', 'capsule-squeeze_2_rotation.png', 'capsule-squeeze_3_crop.png', 'capsule-squeeze_3_rotation.png', 'capsule-squeeze_4_crop.png', 'capsule-squeeze_4_rotation.png', 'capsule-squeeze_5_crop.png', 'capsule-squeeze_5_rotation.png', 'capsule-squeeze_6_crop.png', 'capsule-squeeze_6_rotation.png', 'capsule-squeeze_7_crop.png', 'capsule-squeeze_7_rotation.png', 'capsule-squeeze_8_crop.png', 'capsule-squeeze_8_rotation.png', 'capsule-squeeze_9_crop.png', 'capsule-squeeze_9_rotation.png', 'capsule-squeeze_10_rotation.png', 'capsule-squeeze_11_rotation.png', 'capsule-squeeze_12_rotation.png', 'capsule-squeeze_13_rotation.png', 'capsule-squeeze_14_rotation.png', 'capsule-squeeze_15_rotation.png', 'capsule-squeeze_16_rotation.png', 'capsule-squeeze_17_rotation.png', 'capsule-squeeze_18_rotation.png', 'capsule-squeeze_19_rotation.png']\n"
     ]
    },
    {
     "name": "stderr",
     "output_type": "stream",
     "text": [
      "\r",
      " 36%|███▋      | 32/88 [00:49<02:21,  2.52s/it]"
     ]
    },
    {
     "name": "stdout",
     "output_type": "stream",
     "text": [
      "zipper-rough\n",
      "['10112.png', '10371.png', '10486.png', '10726.png', '12704.png', '13212.png', '13281.png', '13290.png', '13782.png', 'zipper-rough_0_crop.png', 'zipper-rough_0_rotation.png', 'zipper-rough_1_crop.png', 'zipper-rough_1_rotation.png', 'zipper-rough_2_crop.png', 'zipper-rough_2_rotation.png', 'zipper-rough_3_crop.png', 'zipper-rough_3_rotation.png', 'zipper-rough_4_crop.png', 'zipper-rough_4_rotation.png', 'zipper-rough_5_crop.png', 'zipper-rough_5_rotation.png', 'zipper-rough_6_crop.png', 'zipper-rough_6_rotation.png', 'zipper-rough_7_crop.png', 'zipper-rough_7_rotation.png', 'zipper-rough_8_crop.png', 'zipper-rough_8_rotation.png', 'zipper-rough_9_rotation.png', 'zipper-rough_10_rotation.png', 'zipper-rough_11_rotation.png', 'zipper-rough_12_rotation.png', 'zipper-rough_13_rotation.png', 'zipper-rough_14_rotation.png', 'zipper-rough_15_rotation.png', 'zipper-rough_16_rotation.png', 'zipper-rough_17_rotation.png']\n"
     ]
    },
    {
     "name": "stderr",
     "output_type": "stream",
     "text": [
      "\r",
      " 38%|███▊      | 33/88 [00:52<02:16,  2.48s/it]"
     ]
    },
    {
     "name": "stdout",
     "output_type": "stream",
     "text": [
      "capsule-crack\n",
      "['10113.png', '10156.png', '10444.png', '10731.png', '11069.png', '11356.png', '12378.png', '13455.png', '13592.png', '13907.png', '13960.png', '14073.png', 'capsule-crack_0_crop.png', 'capsule-crack_0_rotation.png', 'capsule-crack_1_crop.png', 'capsule-crack_1_rotation.png', 'capsule-crack_2_crop.png', 'capsule-crack_2_rotation.png', 'capsule-crack_3_crop.png', 'capsule-crack_3_rotation.png', 'capsule-crack_4_crop.png', 'capsule-crack_4_rotation.png', 'capsule-crack_5_crop.png', 'capsule-crack_5_rotation.png', 'capsule-crack_6_crop.png', 'capsule-crack_6_rotation.png', 'capsule-crack_7_crop.png', 'capsule-crack_7_rotation.png', 'capsule-crack_8_crop.png', 'capsule-crack_8_rotation.png', 'capsule-crack_9_crop.png', 'capsule-crack_9_rotation.png', 'capsule-crack_10_crop.png', 'capsule-crack_10_rotation.png', 'capsule-crack_11_crop.png', 'capsule-crack_11_rotation.png', 'capsule-crack_12_rotation.png', 'capsule-crack_13_rotation.png', 'capsule-crack_14_rotation.png', 'capsule-crack_15_rotation.png', 'capsule-crack_16_rotation.png', 'capsule-crack_17_rotation.png', 'capsule-crack_18_rotation.png', 'capsule-crack_19_rotation.png', 'capsule-crack_20_rotation.png', 'capsule-crack_21_rotation.png', 'capsule-crack_22_rotation.png', 'capsule-crack_23_rotation.png']\n"
     ]
    },
    {
     "name": "stderr",
     "output_type": "stream",
     "text": [
      "\r",
      " 39%|███▊      | 34/88 [00:56<02:36,  2.90s/it]"
     ]
    },
    {
     "name": "stdout",
     "output_type": "stream",
     "text": [
      "capsule-poke\n",
      "['10118.png', '10903.png', '11117.png', '11785.png', '11999.png', '12236.png', '12470.png', '13009.png', '13819.png', '14043.png', '14180.png', 'capsule-poke_0_crop.png', 'capsule-poke_0_rotation.png', 'capsule-poke_1_crop.png', 'capsule-poke_1_rotation.png', 'capsule-poke_2_crop.png', 'capsule-poke_2_rotation.png', 'capsule-poke_3_crop.png', 'capsule-poke_3_rotation.png', 'capsule-poke_4_crop.png', 'capsule-poke_4_rotation.png', 'capsule-poke_5_crop.png', 'capsule-poke_5_rotation.png', 'capsule-poke_6_crop.png', 'capsule-poke_6_rotation.png', 'capsule-poke_7_crop.png', 'capsule-poke_7_rotation.png', 'capsule-poke_8_crop.png', 'capsule-poke_8_rotation.png', 'capsule-poke_9_crop.png', 'capsule-poke_9_rotation.png', 'capsule-poke_10_crop.png', 'capsule-poke_10_rotation.png', 'capsule-poke_11_rotation.png', 'capsule-poke_12_rotation.png', 'capsule-poke_13_rotation.png', 'capsule-poke_14_rotation.png', 'capsule-poke_15_rotation.png', 'capsule-poke_16_rotation.png', 'capsule-poke_17_rotation.png', 'capsule-poke_18_rotation.png', 'capsule-poke_19_rotation.png', 'capsule-poke_20_rotation.png', 'capsule-poke_21_rotation.png']\n"
     ]
    },
    {
     "name": "stderr",
     "output_type": "stream",
     "text": [
      "\r",
      " 40%|███▉      | 35/88 [00:59<02:45,  3.12s/it]"
     ]
    },
    {
     "name": "stdout",
     "output_type": "stream",
     "text": [
      "metal_nut-flip\n",
      "['10132.png', '10628.png', '11500.png', '11503.png', '11523.png', '12467.png', '12991.png', '13077.png', '13384.png', '13804.png', '13852.png', '14088.png', 'metal_nut-flip_0_crop.png', 'metal_nut-flip_0_rotation.png', 'metal_nut-flip_1_crop.png', 'metal_nut-flip_1_rotation.png', 'metal_nut-flip_2_crop.png', 'metal_nut-flip_2_rotation.png', 'metal_nut-flip_3_crop.png', 'metal_nut-flip_3_rotation.png', 'metal_nut-flip_4_crop.png', 'metal_nut-flip_4_rotation.png', 'metal_nut-flip_5_crop.png', 'metal_nut-flip_5_rotation.png', 'metal_nut-flip_6_crop.png', 'metal_nut-flip_6_rotation.png', 'metal_nut-flip_7_crop.png', 'metal_nut-flip_7_rotation.png', 'metal_nut-flip_8_crop.png', 'metal_nut-flip_8_rotation.png', 'metal_nut-flip_9_crop.png', 'metal_nut-flip_9_rotation.png', 'metal_nut-flip_10_crop.png', 'metal_nut-flip_10_rotation.png', 'metal_nut-flip_11_crop.png', 'metal_nut-flip_11_rotation.png', 'metal_nut-flip_12_rotation.png', 'metal_nut-flip_13_rotation.png', 'metal_nut-flip_14_rotation.png', 'metal_nut-flip_15_rotation.png', 'metal_nut-flip_16_rotation.png', 'metal_nut-flip_17_rotation.png', 'metal_nut-flip_18_rotation.png', 'metal_nut-flip_19_rotation.png', 'metal_nut-flip_20_rotation.png', 'metal_nut-flip_21_rotation.png', 'metal_nut-flip_22_rotation.png', 'metal_nut-flip_23_rotation.png']\n"
     ]
    },
    {
     "name": "stderr",
     "output_type": "stream",
     "text": [
      "\r",
      " 41%|████      | 36/88 [01:03<02:50,  3.28s/it]"
     ]
    },
    {
     "name": "stdout",
     "output_type": "stream",
     "text": [
      "carpet-metal_contamination\n",
      "['10133.png', '10948.png', '11158.png', '11180.png', '11192.png', '11859.png', '11924.png', '12879.png', '12895.png', 'carpet-metal_contamination_0_crop.png', 'carpet-metal_contamination_0_rotation.png', 'carpet-metal_contamination_1_crop.png', 'carpet-metal_contamination_1_rotation.png', 'carpet-metal_contamination_2_crop.png', 'carpet-metal_contamination_2_rotation.png', 'carpet-metal_contamination_3_crop.png', 'carpet-metal_contamination_3_rotation.png', 'carpet-metal_contamination_4_crop.png', 'carpet-metal_contamination_4_rotation.png', 'carpet-metal_contamination_5_crop.png', 'carpet-metal_contamination_5_rotation.png', 'carpet-metal_contamination_6_crop.png', 'carpet-metal_contamination_6_rotation.png', 'carpet-metal_contamination_7_crop.png', 'carpet-metal_contamination_7_rotation.png', 'carpet-metal_contamination_8_crop.png', 'carpet-metal_contamination_8_rotation.png', 'carpet-metal_contamination_9_rotation.png', 'carpet-metal_contamination_10_rotation.png', 'carpet-metal_contamination_11_rotation.png', 'carpet-metal_contamination_12_rotation.png', 'carpet-metal_contamination_13_rotation.png', 'carpet-metal_contamination_14_rotation.png', 'carpet-metal_contamination_15_rotation.png', 'carpet-metal_contamination_16_rotation.png', 'carpet-metal_contamination_17_rotation.png']\n"
     ]
    },
    {
     "name": "stderr",
     "output_type": "stream",
     "text": [
      "\r",
      " 42%|████▏     | 37/88 [01:06<02:45,  3.24s/it]"
     ]
    },
    {
     "name": "stdout",
     "output_type": "stream",
     "text": [
      "metal_nut-color\n",
      "['10142.png', '10275.png', '10655.png', '10966.png', '11488.png', '12101.png', '12666.png', '12977.png', '13060.png', '13691.png', '14216.png', 'metal_nut-color_0_crop.png', 'metal_nut-color_0_rotation.png', 'metal_nut-color_1_crop.png', 'metal_nut-color_1_rotation.png', 'metal_nut-color_2_crop.png', 'metal_nut-color_2_rotation.png', 'metal_nut-color_3_crop.png', 'metal_nut-color_3_rotation.png', 'metal_nut-color_4_crop.png', 'metal_nut-color_4_rotation.png', 'metal_nut-color_5_crop.png', 'metal_nut-color_5_rotation.png', 'metal_nut-color_6_crop.png', 'metal_nut-color_6_rotation.png', 'metal_nut-color_7_crop.png', 'metal_nut-color_7_rotation.png', 'metal_nut-color_8_crop.png', 'metal_nut-color_8_rotation.png', 'metal_nut-color_9_crop.png', 'metal_nut-color_9_rotation.png', 'metal_nut-color_10_crop.png', 'metal_nut-color_10_rotation.png', 'metal_nut-color_11_rotation.png', 'metal_nut-color_12_rotation.png', 'metal_nut-color_13_rotation.png', 'metal_nut-color_14_rotation.png', 'metal_nut-color_15_rotation.png', 'metal_nut-color_16_rotation.png', 'metal_nut-color_17_rotation.png', 'metal_nut-color_18_rotation.png', 'metal_nut-color_19_rotation.png', 'metal_nut-color_20_rotation.png', 'metal_nut-color_21_rotation.png']\n"
     ]
    },
    {
     "name": "stderr",
     "output_type": "stream",
     "text": [
      "\r",
      " 43%|████▎     | 38/88 [01:10<02:44,  3.30s/it]"
     ]
    },
    {
     "name": "stdout",
     "output_type": "stream",
     "text": [
      "transistor-bent_lead\n",
      "['10144.png', '12353.png', '12355.png', '13752.png', '14248.png', 'transistor-bent_lead_0_crop.png', 'transistor-bent_lead_0_rotation.png', 'transistor-bent_lead_1_crop.png', 'transistor-bent_lead_1_rotation.png', 'transistor-bent_lead_2_crop.png', 'transistor-bent_lead_2_rotation.png', 'transistor-bent_lead_3_crop.png', 'transistor-bent_lead_3_rotation.png', 'transistor-bent_lead_4_crop.png', 'transistor-bent_lead_4_rotation.png', 'transistor-bent_lead_5_rotation.png', 'transistor-bent_lead_6_rotation.png', 'transistor-bent_lead_7_rotation.png', 'transistor-bent_lead_8_rotation.png', 'transistor-bent_lead_9_rotation.png']\n"
     ]
    },
    {
     "name": "stderr",
     "output_type": "stream",
     "text": [
      "\r",
      " 44%|████▍     | 39/88 [01:11<02:18,  2.83s/it]"
     ]
    },
    {
     "name": "stdout",
     "output_type": "stream",
     "text": [
      "zipper-fabric_interior\n",
      "['10153.png', '10182.png', '10445.png', '10478.png', '11455.png', '11600.png', '12556.png', '14205.png', 'zipper-fabric_interior_0_crop.png', 'zipper-fabric_interior_0_rotation.png', 'zipper-fabric_interior_1_crop.png', 'zipper-fabric_interior_1_rotation.png', 'zipper-fabric_interior_2_crop.png', 'zipper-fabric_interior_2_rotation.png', 'zipper-fabric_interior_3_crop.png', 'zipper-fabric_interior_3_rotation.png', 'zipper-fabric_interior_4_crop.png', 'zipper-fabric_interior_4_rotation.png', 'zipper-fabric_interior_5_crop.png', 'zipper-fabric_interior_5_rotation.png', 'zipper-fabric_interior_6_crop.png', 'zipper-fabric_interior_6_rotation.png', 'zipper-fabric_interior_7_crop.png', 'zipper-fabric_interior_7_rotation.png', 'zipper-fabric_interior_8_rotation.png', 'zipper-fabric_interior_9_rotation.png', 'zipper-fabric_interior_10_rotation.png', 'zipper-fabric_interior_11_rotation.png', 'zipper-fabric_interior_12_rotation.png', 'zipper-fabric_interior_13_rotation.png', 'zipper-fabric_interior_14_rotation.png', 'zipper-fabric_interior_15_rotation.png']\n"
     ]
    },
    {
     "name": "stderr",
     "output_type": "stream",
     "text": [
      "\r",
      " 45%|████▌     | 40/88 [01:14<02:05,  2.62s/it]"
     ]
    },
    {
     "name": "stdout",
     "output_type": "stream",
     "text": [
      "leather-fold\n",
      "['10154.png', '10233.png', '12675.png', '13233.png', '13438.png', '13488.png', '13654.png', '13662.png', '13713.png', 'leather-fold_0_crop.png', 'leather-fold_0_rotation.png', 'leather-fold_1_crop.png', 'leather-fold_1_rotation.png', 'leather-fold_2_crop.png', 'leather-fold_2_rotation.png', 'leather-fold_3_crop.png', 'leather-fold_3_rotation.png', 'leather-fold_4_crop.png', 'leather-fold_4_rotation.png', 'leather-fold_5_crop.png', 'leather-fold_5_rotation.png', 'leather-fold_6_crop.png', 'leather-fold_6_rotation.png', 'leather-fold_7_crop.png', 'leather-fold_7_rotation.png', 'leather-fold_8_crop.png', 'leather-fold_8_rotation.png', 'leather-fold_9_rotation.png', 'leather-fold_10_rotation.png', 'leather-fold_11_rotation.png', 'leather-fold_12_rotation.png', 'leather-fold_13_rotation.png', 'leather-fold_14_rotation.png', 'leather-fold_15_rotation.png', 'leather-fold_16_rotation.png', 'leather-fold_17_rotation.png']\n"
     ]
    },
    {
     "name": "stderr",
     "output_type": "stream",
     "text": [
      "\r",
      " 47%|████▋     | 41/88 [01:17<02:09,  2.75s/it]"
     ]
    },
    {
     "name": "stdout",
     "output_type": "stream",
     "text": [
      "tile-glue_strip\n",
      "['10157.png', '11107.png', '11588.png', '11932.png', '12930.png', '13464.png', '13623.png', '13636.png', '13799.png', 'tile-glue_strip_0_crop.png', 'tile-glue_strip_0_rotation.png', 'tile-glue_strip_1_crop.png', 'tile-glue_strip_1_rotation.png', 'tile-glue_strip_2_crop.png', 'tile-glue_strip_2_rotation.png', 'tile-glue_strip_3_crop.png', 'tile-glue_strip_3_rotation.png', 'tile-glue_strip_4_crop.png', 'tile-glue_strip_4_rotation.png', 'tile-glue_strip_5_crop.png', 'tile-glue_strip_5_rotation.png', 'tile-glue_strip_6_crop.png', 'tile-glue_strip_6_rotation.png', 'tile-glue_strip_7_crop.png', 'tile-glue_strip_7_rotation.png', 'tile-glue_strip_8_crop.png', 'tile-glue_strip_8_rotation.png', 'tile-glue_strip_9_rotation.png', 'tile-glue_strip_10_rotation.png', 'tile-glue_strip_11_rotation.png', 'tile-glue_strip_12_rotation.png', 'tile-glue_strip_13_rotation.png', 'tile-glue_strip_14_rotation.png', 'tile-glue_strip_15_rotation.png', 'tile-glue_strip_16_rotation.png', 'tile-glue_strip_17_rotation.png']\n"
     ]
    },
    {
     "name": "stderr",
     "output_type": "stream",
     "text": [
      "\r",
      " 48%|████▊     | 42/88 [01:20<02:09,  2.81s/it]"
     ]
    },
    {
     "name": "stdout",
     "output_type": "stream",
     "text": [
      "screw-scratch_neck\n",
      "['10165.png', '10498.png', '10940.png', '11157.png', '11447.png', '11972.png', '12265.png', '12433.png', '12780.png', '13081.png', '13138.png', '13182.png', '13460.png', 'screw-scratch_neck_0_crop.png', 'screw-scratch_neck_0_rotation.png', 'screw-scratch_neck_1_crop.png', 'screw-scratch_neck_1_rotation.png', 'screw-scratch_neck_2_crop.png', 'screw-scratch_neck_2_rotation.png', 'screw-scratch_neck_3_crop.png', 'screw-scratch_neck_3_rotation.png', 'screw-scratch_neck_4_crop.png', 'screw-scratch_neck_4_rotation.png', 'screw-scratch_neck_5_crop.png', 'screw-scratch_neck_5_rotation.png', 'screw-scratch_neck_6_crop.png', 'screw-scratch_neck_6_rotation.png', 'screw-scratch_neck_7_crop.png', 'screw-scratch_neck_7_rotation.png', 'screw-scratch_neck_8_crop.png', 'screw-scratch_neck_8_rotation.png', 'screw-scratch_neck_9_crop.png', 'screw-scratch_neck_9_rotation.png', 'screw-scratch_neck_10_crop.png', 'screw-scratch_neck_10_rotation.png', 'screw-scratch_neck_11_crop.png', 'screw-scratch_neck_11_rotation.png', 'screw-scratch_neck_12_crop.png', 'screw-scratch_neck_12_rotation.png', 'screw-scratch_neck_13_rotation.png', 'screw-scratch_neck_14_rotation.png', 'screw-scratch_neck_15_rotation.png', 'screw-scratch_neck_16_rotation.png', 'screw-scratch_neck_17_rotation.png', 'screw-scratch_neck_18_rotation.png', 'screw-scratch_neck_19_rotation.png', 'screw-scratch_neck_20_rotation.png', 'screw-scratch_neck_21_rotation.png', 'screw-scratch_neck_22_rotation.png', 'screw-scratch_neck_23_rotation.png', 'screw-scratch_neck_24_rotation.png', 'screw-scratch_neck_25_rotation.png']\n"
     ]
    },
    {
     "name": "stderr",
     "output_type": "stream",
     "text": [
      "\r",
      " 49%|████▉     | 43/88 [01:23<02:13,  2.97s/it]"
     ]
    },
    {
     "name": "stdout",
     "output_type": "stream",
     "text": [
      "screw-scratch_head\n",
      "['10197.png', '10304.png', '10367.png', '11078.png', '11727.png', '12555.png', '12778.png', '12795.png', '13369.png', '13483.png', '13733.png', '13888.png', 'screw-scratch_head_0_crop.png', 'screw-scratch_head_0_rotation.png', 'screw-scratch_head_1_crop.png', 'screw-scratch_head_1_rotation.png', 'screw-scratch_head_2_crop.png', 'screw-scratch_head_2_rotation.png', 'screw-scratch_head_3_crop.png', 'screw-scratch_head_3_rotation.png', 'screw-scratch_head_4_crop.png', 'screw-scratch_head_4_rotation.png', 'screw-scratch_head_5_crop.png', 'screw-scratch_head_5_rotation.png', 'screw-scratch_head_6_crop.png', 'screw-scratch_head_6_rotation.png', 'screw-scratch_head_7_crop.png', 'screw-scratch_head_7_rotation.png', 'screw-scratch_head_8_crop.png', 'screw-scratch_head_8_rotation.png', 'screw-scratch_head_9_crop.png', 'screw-scratch_head_9_rotation.png', 'screw-scratch_head_10_crop.png', 'screw-scratch_head_10_rotation.png', 'screw-scratch_head_11_crop.png', 'screw-scratch_head_11_rotation.png', 'screw-scratch_head_12_rotation.png', 'screw-scratch_head_13_rotation.png', 'screw-scratch_head_14_rotation.png', 'screw-scratch_head_15_rotation.png', 'screw-scratch_head_16_rotation.png', 'screw-scratch_head_17_rotation.png', 'screw-scratch_head_18_rotation.png', 'screw-scratch_head_19_rotation.png', 'screw-scratch_head_20_rotation.png', 'screw-scratch_head_21_rotation.png', 'screw-scratch_head_22_rotation.png', 'screw-scratch_head_23_rotation.png']\n"
     ]
    },
    {
     "name": "stderr",
     "output_type": "stream",
     "text": [
      "\r",
      " 50%|█████     | 44/88 [01:26<02:13,  3.03s/it]"
     ]
    },
    {
     "name": "stdout",
     "output_type": "stream",
     "text": [
      "hazelnut-cut\n",
      "['10200.png', '10942.png', '11172.png', '11443.png', '12034.png', '12486.png', '12809.png', '12914.png', '13683.png', 'hazelnut-cut_0_crop.png', 'hazelnut-cut_0_rotation.png', 'hazelnut-cut_1_crop.png', 'hazelnut-cut_1_rotation.png', 'hazelnut-cut_2_crop.png', 'hazelnut-cut_2_rotation.png', 'hazelnut-cut_3_crop.png', 'hazelnut-cut_3_rotation.png', 'hazelnut-cut_4_crop.png', 'hazelnut-cut_4_rotation.png', 'hazelnut-cut_5_crop.png', 'hazelnut-cut_5_rotation.png', 'hazelnut-cut_6_crop.png', 'hazelnut-cut_6_rotation.png', 'hazelnut-cut_7_crop.png', 'hazelnut-cut_7_rotation.png', 'hazelnut-cut_8_crop.png', 'hazelnut-cut_8_rotation.png', 'hazelnut-cut_9_rotation.png', 'hazelnut-cut_10_rotation.png', 'hazelnut-cut_11_rotation.png', 'hazelnut-cut_12_rotation.png', 'hazelnut-cut_13_rotation.png', 'hazelnut-cut_14_rotation.png', 'hazelnut-cut_15_rotation.png', 'hazelnut-cut_16_rotation.png', 'hazelnut-cut_17_rotation.png']\n"
     ]
    },
    {
     "name": "stderr",
     "output_type": "stream",
     "text": [
      "\r",
      " 51%|█████     | 45/88 [01:29<02:08,  3.00s/it]"
     ]
    },
    {
     "name": "stdout",
     "output_type": "stream",
     "text": [
      "bottle-broken_large\n",
      "['10204.png', '10260.png', '10712.png', '10839.png', '10912.png', '11143.png', '11828.png', '12006.png', '12253.png', '13456.png', 'bottle-broken_large_0_crop.png', 'bottle-broken_large_0_rotation.png', 'bottle-broken_large_1_crop.png', 'bottle-broken_large_1_rotation.png', 'bottle-broken_large_2_crop.png', 'bottle-broken_large_2_rotation.png', 'bottle-broken_large_3_crop.png', 'bottle-broken_large_3_rotation.png', 'bottle-broken_large_4_crop.png', 'bottle-broken_large_4_rotation.png', 'bottle-broken_large_5_crop.png', 'bottle-broken_large_5_rotation.png', 'bottle-broken_large_6_crop.png', 'bottle-broken_large_6_rotation.png', 'bottle-broken_large_7_crop.png', 'bottle-broken_large_7_rotation.png', 'bottle-broken_large_8_crop.png', 'bottle-broken_large_8_rotation.png', 'bottle-broken_large_9_crop.png', 'bottle-broken_large_9_rotation.png', 'bottle-broken_large_10_rotation.png', 'bottle-broken_large_11_rotation.png', 'bottle-broken_large_12_rotation.png', 'bottle-broken_large_13_rotation.png', 'bottle-broken_large_14_rotation.png', 'bottle-broken_large_15_rotation.png', 'bottle-broken_large_16_rotation.png', 'bottle-broken_large_17_rotation.png', 'bottle-broken_large_18_rotation.png', 'bottle-broken_large_19_rotation.png']\n"
     ]
    },
    {
     "name": "stderr",
     "output_type": "stream",
     "text": [
      "\r",
      " 52%|█████▏    | 46/88 [01:32<02:03,  2.93s/it]"
     ]
    },
    {
     "name": "stdout",
     "output_type": "stream",
     "text": [
      "bottle-broken_small\n",
      "['10217.png', '10244.png', '10767.png', '11628.png', '11791.png', '11805.png', '11905.png', '12278.png', '13436.png', '13679.png', '14139.png', 'bottle-broken_small_0_crop.png', 'bottle-broken_small_0_rotation.png', 'bottle-broken_small_1_crop.png', 'bottle-broken_small_1_rotation.png', 'bottle-broken_small_2_crop.png', 'bottle-broken_small_2_rotation.png', 'bottle-broken_small_3_crop.png', 'bottle-broken_small_3_rotation.png', 'bottle-broken_small_4_crop.png', 'bottle-broken_small_4_rotation.png', 'bottle-broken_small_5_crop.png', 'bottle-broken_small_5_rotation.png', 'bottle-broken_small_6_crop.png', 'bottle-broken_small_6_rotation.png', 'bottle-broken_small_7_crop.png', 'bottle-broken_small_7_rotation.png', 'bottle-broken_small_8_crop.png', 'bottle-broken_small_8_rotation.png', 'bottle-broken_small_9_crop.png', 'bottle-broken_small_9_rotation.png', 'bottle-broken_small_10_crop.png', 'bottle-broken_small_10_rotation.png', 'bottle-broken_small_11_rotation.png', 'bottle-broken_small_12_rotation.png', 'bottle-broken_small_13_rotation.png', 'bottle-broken_small_14_rotation.png', 'bottle-broken_small_15_rotation.png', 'bottle-broken_small_16_rotation.png', 'bottle-broken_small_17_rotation.png', 'bottle-broken_small_18_rotation.png', 'bottle-broken_small_19_rotation.png', 'bottle-broken_small_20_rotation.png', 'bottle-broken_small_21_rotation.png']\n"
     ]
    },
    {
     "name": "stderr",
     "output_type": "stream",
     "text": [
      "\r",
      " 53%|█████▎    | 47/88 [01:35<02:01,  2.97s/it]"
     ]
    },
    {
     "name": "stdout",
     "output_type": "stream",
     "text": [
      "leather-cut\n",
      "['10230.png', '10279.png', '10618.png', '11125.png', '11240.png', '11920.png', '12422.png', '13298.png', '13571.png', '14245.png', 'leather-cut_0_crop.png', 'leather-cut_0_rotation.png', 'leather-cut_1_crop.png', 'leather-cut_1_rotation.png', 'leather-cut_2_crop.png', 'leather-cut_2_rotation.png', 'leather-cut_3_crop.png', 'leather-cut_3_rotation.png', 'leather-cut_4_crop.png', 'leather-cut_4_rotation.png', 'leather-cut_5_crop.png', 'leather-cut_5_rotation.png', 'leather-cut_6_crop.png', 'leather-cut_6_rotation.png', 'leather-cut_7_crop.png', 'leather-cut_7_rotation.png', 'leather-cut_8_crop.png', 'leather-cut_8_rotation.png', 'leather-cut_9_crop.png', 'leather-cut_9_rotation.png', 'leather-cut_10_rotation.png', 'leather-cut_11_rotation.png', 'leather-cut_12_rotation.png', 'leather-cut_13_rotation.png', 'leather-cut_14_rotation.png', 'leather-cut_15_rotation.png', 'leather-cut_16_rotation.png', 'leather-cut_17_rotation.png', 'leather-cut_18_rotation.png', 'leather-cut_19_rotation.png']\n"
     ]
    },
    {
     "name": "stderr",
     "output_type": "stream",
     "text": [
      "\r",
      " 55%|█████▍    | 48/88 [01:38<02:03,  3.10s/it]"
     ]
    },
    {
     "name": "stdout",
     "output_type": "stream",
     "text": [
      "cable-cut_outer_insulation\n",
      "['10234.png', '10249.png', '11284.png', '12220.png', '14153.png', 'cable-cut_outer_insulation_0_crop.png', 'cable-cut_outer_insulation_0_rotation.png', 'cable-cut_outer_insulation_1_crop.png', 'cable-cut_outer_insulation_1_rotation.png', 'cable-cut_outer_insulation_2_crop.png', 'cable-cut_outer_insulation_2_rotation.png', 'cable-cut_outer_insulation_3_crop.png', 'cable-cut_outer_insulation_3_rotation.png', 'cable-cut_outer_insulation_4_crop.png', 'cable-cut_outer_insulation_4_rotation.png', 'cable-cut_outer_insulation_5_rotation.png', 'cable-cut_outer_insulation_6_rotation.png', 'cable-cut_outer_insulation_7_rotation.png', 'cable-cut_outer_insulation_8_rotation.png', 'cable-cut_outer_insulation_9_rotation.png']\n"
     ]
    },
    {
     "name": "stderr",
     "output_type": "stream",
     "text": [
      "\r",
      " 56%|█████▌    | 49/88 [01:40<01:44,  2.68s/it]"
     ]
    },
    {
     "name": "stdout",
     "output_type": "stream",
     "text": [
      "zipper-squeezed_teeth\n",
      "['10235.png', '10811.png', '11430.png', '11496.png', '11700.png', '13187.png', '13647.png', '13731.png', 'zipper-squeezed_teeth_0_crop.png', 'zipper-squeezed_teeth_0_rotation.png', 'zipper-squeezed_teeth_1_crop.png', 'zipper-squeezed_teeth_1_rotation.png', 'zipper-squeezed_teeth_2_crop.png', 'zipper-squeezed_teeth_2_rotation.png', 'zipper-squeezed_teeth_3_crop.png', 'zipper-squeezed_teeth_3_rotation.png', 'zipper-squeezed_teeth_4_crop.png', 'zipper-squeezed_teeth_4_rotation.png', 'zipper-squeezed_teeth_5_crop.png', 'zipper-squeezed_teeth_5_rotation.png', 'zipper-squeezed_teeth_6_crop.png', 'zipper-squeezed_teeth_6_rotation.png', 'zipper-squeezed_teeth_7_crop.png', 'zipper-squeezed_teeth_7_rotation.png', 'zipper-squeezed_teeth_8_rotation.png', 'zipper-squeezed_teeth_9_rotation.png', 'zipper-squeezed_teeth_10_rotation.png', 'zipper-squeezed_teeth_11_rotation.png', 'zipper-squeezed_teeth_12_rotation.png', 'zipper-squeezed_teeth_13_rotation.png', 'zipper-squeezed_teeth_14_rotation.png', 'zipper-squeezed_teeth_15_rotation.png']\n"
     ]
    },
    {
     "name": "stderr",
     "output_type": "stream",
     "text": [
      "\r",
      " 57%|█████▋    | 50/88 [01:42<01:34,  2.49s/it]"
     ]
    },
    {
     "name": "stdout",
     "output_type": "stream",
     "text": [
      "toothbrush-defective\n",
      "['10237.png', '10573.png', '11080.png', '11218.png', '11231.png', '11750.png', '12159.png', '12163.png', '12321.png', '12873.png', '12925.png', '12955.png', '13134.png', '13245.png', '14053.png', 'toothbrush-defective_0_crop.png', 'toothbrush-defective_0_rotation.png', 'toothbrush-defective_1_crop.png', 'toothbrush-defective_1_rotation.png', 'toothbrush-defective_2_crop.png', 'toothbrush-defective_2_rotation.png', 'toothbrush-defective_3_crop.png', 'toothbrush-defective_3_rotation.png', 'toothbrush-defective_4_crop.png', 'toothbrush-defective_4_rotation.png', 'toothbrush-defective_5_crop.png', 'toothbrush-defective_5_rotation.png', 'toothbrush-defective_6_crop.png', 'toothbrush-defective_6_rotation.png', 'toothbrush-defective_7_crop.png', 'toothbrush-defective_7_rotation.png', 'toothbrush-defective_8_crop.png', 'toothbrush-defective_8_rotation.png', 'toothbrush-defective_9_crop.png', 'toothbrush-defective_9_rotation.png', 'toothbrush-defective_10_crop.png', 'toothbrush-defective_10_rotation.png', 'toothbrush-defective_11_crop.png', 'toothbrush-defective_11_rotation.png', 'toothbrush-defective_12_crop.png', 'toothbrush-defective_12_rotation.png', 'toothbrush-defective_13_crop.png', 'toothbrush-defective_13_rotation.png', 'toothbrush-defective_14_crop.png', 'toothbrush-defective_14_rotation.png', 'toothbrush-defective_15_rotation.png', 'toothbrush-defective_16_rotation.png', 'toothbrush-defective_17_rotation.png', 'toothbrush-defective_18_rotation.png', 'toothbrush-defective_19_rotation.png', 'toothbrush-defective_20_rotation.png', 'toothbrush-defective_21_rotation.png', 'toothbrush-defective_22_rotation.png', 'toothbrush-defective_23_rotation.png', 'toothbrush-defective_24_rotation.png', 'toothbrush-defective_25_rotation.png', 'toothbrush-defective_26_rotation.png', 'toothbrush-defective_27_rotation.png', 'toothbrush-defective_28_rotation.png', 'toothbrush-defective_29_rotation.png']\n"
     ]
    },
    {
     "name": "stderr",
     "output_type": "stream",
     "text": [
      "\r",
      " 58%|█████▊    | 51/88 [01:47<02:00,  3.26s/it]"
     ]
    },
    {
     "name": "stdout",
     "output_type": "stream",
     "text": [
      "cable-cut_inner_insulation\n",
      "['10239.png', '10777.png', '10891.png', '11215.png', '12372.png', '13013.png', '13967.png', 'cable-cut_inner_insulation_0_crop.png', 'cable-cut_inner_insulation_0_rotation.png', 'cable-cut_inner_insulation_1_crop.png', 'cable-cut_inner_insulation_1_rotation.png', 'cable-cut_inner_insulation_2_crop.png', 'cable-cut_inner_insulation_2_rotation.png', 'cable-cut_inner_insulation_3_crop.png', 'cable-cut_inner_insulation_3_rotation.png', 'cable-cut_inner_insulation_4_crop.png', 'cable-cut_inner_insulation_4_rotation.png', 'cable-cut_inner_insulation_5_crop.png', 'cable-cut_inner_insulation_5_rotation.png', 'cable-cut_inner_insulation_6_crop.png', 'cable-cut_inner_insulation_6_rotation.png', 'cable-cut_inner_insulation_7_rotation.png', 'cable-cut_inner_insulation_8_rotation.png', 'cable-cut_inner_insulation_9_rotation.png', 'cable-cut_inner_insulation_10_rotation.png', 'cable-cut_inner_insulation_11_rotation.png', 'cable-cut_inner_insulation_12_rotation.png', 'cable-cut_inner_insulation_13_rotation.png']\n"
     ]
    },
    {
     "name": "stderr",
     "output_type": "stream",
     "text": [
      "\r",
      " 59%|█████▉    | 52/88 [01:49<01:47,  3.00s/it]"
     ]
    },
    {
     "name": "stdout",
     "output_type": "stream",
     "text": [
      "pill-contamination\n",
      "['10243.png', '10694.png', '10764.png', '10806.png', '11251.png', '11393.png', '12806.png', '13000.png', '13500.png', '13553.png', '13784.png', 'pill-contamination_0_crop.png', 'pill-contamination_0_rotation.png', 'pill-contamination_1_crop.png', 'pill-contamination_1_rotation.png', 'pill-contamination_2_crop.png', 'pill-contamination_2_rotation.png', 'pill-contamination_3_crop.png', 'pill-contamination_3_rotation.png', 'pill-contamination_4_crop.png', 'pill-contamination_4_rotation.png', 'pill-contamination_5_crop.png', 'pill-contamination_5_rotation.png', 'pill-contamination_6_crop.png', 'pill-contamination_6_rotation.png', 'pill-contamination_7_crop.png', 'pill-contamination_7_rotation.png', 'pill-contamination_8_crop.png', 'pill-contamination_8_rotation.png', 'pill-contamination_9_crop.png', 'pill-contamination_9_rotation.png', 'pill-contamination_10_crop.png', 'pill-contamination_10_rotation.png', 'pill-contamination_11_rotation.png', 'pill-contamination_12_rotation.png', 'pill-contamination_13_rotation.png', 'pill-contamination_14_rotation.png', 'pill-contamination_15_rotation.png', 'pill-contamination_16_rotation.png', 'pill-contamination_17_rotation.png', 'pill-contamination_18_rotation.png', 'pill-contamination_19_rotation.png', 'pill-contamination_20_rotation.png', 'pill-contamination_21_rotation.png']\n"
     ]
    },
    {
     "name": "stderr",
     "output_type": "stream",
     "text": [
      "\r",
      " 60%|██████    | 53/88 [01:53<01:50,  3.14s/it]"
     ]
    },
    {
     "name": "stdout",
     "output_type": "stream",
     "text": [
      "cable-missing_wire\n",
      "['10284.png', '11141.png', '13167.png', '13540.png', '14192.png', 'cable-missing_wire_0_crop.png', 'cable-missing_wire_0_rotation.png', 'cable-missing_wire_1_crop.png', 'cable-missing_wire_1_rotation.png', 'cable-missing_wire_2_crop.png', 'cable-missing_wire_2_rotation.png', 'cable-missing_wire_3_crop.png', 'cable-missing_wire_3_rotation.png', 'cable-missing_wire_4_crop.png', 'cable-missing_wire_4_rotation.png', 'cable-missing_wire_5_rotation.png', 'cable-missing_wire_6_rotation.png', 'cable-missing_wire_7_rotation.png', 'cable-missing_wire_8_rotation.png', 'cable-missing_wire_9_rotation.png']\n"
     ]
    },
    {
     "name": "stderr",
     "output_type": "stream",
     "text": [
      "\r",
      " 61%|██████▏   | 54/88 [01:55<01:32,  2.72s/it]"
     ]
    },
    {
     "name": "stdout",
     "output_type": "stream",
     "text": [
      "carpet-thread\n",
      "['10291.png', '10470.png', '10810.png', '10956.png', '12415.png', '12560.png', '12708.png', '13620.png', '13894.png', '13950.png', 'carpet-thread_0_crop.png', 'carpet-thread_0_rotation.png', 'carpet-thread_1_crop.png', 'carpet-thread_1_rotation.png', 'carpet-thread_2_crop.png', 'carpet-thread_2_rotation.png', 'carpet-thread_3_crop.png', 'carpet-thread_3_rotation.png', 'carpet-thread_4_crop.png', 'carpet-thread_4_rotation.png', 'carpet-thread_5_crop.png', 'carpet-thread_5_rotation.png', 'carpet-thread_6_crop.png', 'carpet-thread_6_rotation.png', 'carpet-thread_7_crop.png', 'carpet-thread_7_rotation.png', 'carpet-thread_8_crop.png', 'carpet-thread_8_rotation.png', 'carpet-thread_9_crop.png', 'carpet-thread_9_rotation.png', 'carpet-thread_10_rotation.png', 'carpet-thread_11_rotation.png', 'carpet-thread_12_rotation.png', 'carpet-thread_13_rotation.png', 'carpet-thread_14_rotation.png', 'carpet-thread_15_rotation.png', 'carpet-thread_16_rotation.png', 'carpet-thread_17_rotation.png', 'carpet-thread_18_rotation.png', 'carpet-thread_19_rotation.png']\n"
     ]
    },
    {
     "name": "stderr",
     "output_type": "stream",
     "text": [
      "\r",
      " 62%|██████▎   | 55/88 [01:58<01:37,  2.95s/it]"
     ]
    },
    {
     "name": "stdout",
     "output_type": "stream",
     "text": [
      "grid-broken\n",
      "['10292.png', '10679.png', '11259.png', '13067.png', '13989.png', '14266.png', 'grid-broken_0_crop.png', 'grid-broken_0_rotation.png', 'grid-broken_1_crop.png', 'grid-broken_1_rotation.png', 'grid-broken_2_crop.png', 'grid-broken_2_rotation.png', 'grid-broken_3_crop.png', 'grid-broken_3_rotation.png', 'grid-broken_4_crop.png', 'grid-broken_4_rotation.png', 'grid-broken_5_crop.png', 'grid-broken_5_rotation.png', 'grid-broken_6_rotation.png', 'grid-broken_7_rotation.png', 'grid-broken_8_rotation.png', 'grid-broken_9_rotation.png', 'grid-broken_10_rotation.png', 'grid-broken_11_rotation.png']\n"
     ]
    },
    {
     "name": "stderr",
     "output_type": "stream",
     "text": [
      "\r",
      " 64%|██████▎   | 56/88 [02:00<01:21,  2.56s/it]"
     ]
    },
    {
     "name": "stdout",
     "output_type": "stream",
     "text": [
      "pill-faulty_imprint\n",
      "['10305.png', '10671.png', '10970.png', '11055.png', '11063.png', '11241.png', '11646.png', '12145.png', '12631.png', '13722.png', 'pill-faulty_imprint_0_crop.png', 'pill-faulty_imprint_0_rotation.png', 'pill-faulty_imprint_1_crop.png', 'pill-faulty_imprint_1_rotation.png', 'pill-faulty_imprint_2_crop.png', 'pill-faulty_imprint_2_rotation.png', 'pill-faulty_imprint_3_crop.png', 'pill-faulty_imprint_3_rotation.png', 'pill-faulty_imprint_4_crop.png', 'pill-faulty_imprint_4_rotation.png', 'pill-faulty_imprint_5_crop.png', 'pill-faulty_imprint_5_rotation.png', 'pill-faulty_imprint_6_crop.png', 'pill-faulty_imprint_6_rotation.png', 'pill-faulty_imprint_7_crop.png', 'pill-faulty_imprint_7_rotation.png', 'pill-faulty_imprint_8_crop.png', 'pill-faulty_imprint_8_rotation.png', 'pill-faulty_imprint_9_crop.png', 'pill-faulty_imprint_9_rotation.png', 'pill-faulty_imprint_10_rotation.png', 'pill-faulty_imprint_11_rotation.png', 'pill-faulty_imprint_12_rotation.png', 'pill-faulty_imprint_13_rotation.png', 'pill-faulty_imprint_14_rotation.png', 'pill-faulty_imprint_15_rotation.png', 'pill-faulty_imprint_16_rotation.png', 'pill-faulty_imprint_17_rotation.png', 'pill-faulty_imprint_18_rotation.png', 'pill-faulty_imprint_19_rotation.png']\n"
     ]
    },
    {
     "name": "stderr",
     "output_type": "stream",
     "text": [
      "\r",
      " 65%|██████▍   | 57/88 [02:03<01:24,  2.73s/it]"
     ]
    },
    {
     "name": "stdout",
     "output_type": "stream",
     "text": [
      "hazelnut-hole\n",
      "['10312.png', '10688.png', '11364.png', '11431.png', '12088.png', '12090.png', '13237.png', '13956.png', '14097.png', 'hazelnut-hole_0_crop.png', 'hazelnut-hole_0_rotation.png', 'hazelnut-hole_1_crop.png', 'hazelnut-hole_1_rotation.png', 'hazelnut-hole_2_crop.png', 'hazelnut-hole_2_rotation.png', 'hazelnut-hole_3_crop.png', 'hazelnut-hole_3_rotation.png', 'hazelnut-hole_4_crop.png', 'hazelnut-hole_4_rotation.png', 'hazelnut-hole_5_crop.png', 'hazelnut-hole_5_rotation.png', 'hazelnut-hole_6_crop.png', 'hazelnut-hole_6_rotation.png', 'hazelnut-hole_7_crop.png', 'hazelnut-hole_7_rotation.png', 'hazelnut-hole_8_crop.png', 'hazelnut-hole_8_rotation.png', 'hazelnut-hole_9_rotation.png', 'hazelnut-hole_10_rotation.png', 'hazelnut-hole_11_rotation.png', 'hazelnut-hole_12_rotation.png', 'hazelnut-hole_13_rotation.png', 'hazelnut-hole_14_rotation.png', 'hazelnut-hole_15_rotation.png', 'hazelnut-hole_16_rotation.png', 'hazelnut-hole_17_rotation.png']\n"
     ]
    },
    {
     "name": "stderr",
     "output_type": "stream",
     "text": [
      "\r",
      " 66%|██████▌   | 58/88 [02:06<01:23,  2.79s/it]"
     ]
    },
    {
     "name": "stdout",
     "output_type": "stream",
     "text": [
      "leather-glue\n",
      "['10314.png', '11574.png', '11842.png', '11895.png', '12076.png', '12341.png', '12377.png', '13091.png', '13400.png', '13897.png', 'leather-glue_0_crop.png', 'leather-glue_0_rotation.png', 'leather-glue_1_crop.png', 'leather-glue_1_rotation.png', 'leather-glue_2_crop.png', 'leather-glue_2_rotation.png', 'leather-glue_3_crop.png', 'leather-glue_3_rotation.png', 'leather-glue_4_crop.png', 'leather-glue_4_rotation.png', 'leather-glue_5_crop.png', 'leather-glue_5_rotation.png', 'leather-glue_6_crop.png', 'leather-glue_6_rotation.png', 'leather-glue_7_crop.png', 'leather-glue_7_rotation.png', 'leather-glue_8_crop.png', 'leather-glue_8_rotation.png', 'leather-glue_9_crop.png', 'leather-glue_9_rotation.png', 'leather-glue_10_rotation.png', 'leather-glue_11_rotation.png', 'leather-glue_12_rotation.png', 'leather-glue_13_rotation.png', 'leather-glue_14_rotation.png', 'leather-glue_15_rotation.png', 'leather-glue_16_rotation.png', 'leather-glue_17_rotation.png', 'leather-glue_18_rotation.png', 'leather-glue_19_rotation.png']\n"
     ]
    },
    {
     "name": "stderr",
     "output_type": "stream",
     "text": [
      "\r",
      " 67%|██████▋   | 59/88 [02:09<01:26,  2.98s/it]"
     ]
    },
    {
     "name": "stdout",
     "output_type": "stream",
     "text": [
      "leather-poke\n",
      "['10327.png', '10739.png', '11203.png', '11210.png', '12294.png', '12502.png', '12506.png', '12909.png', '14237.png', 'leather-poke_0_crop.png', 'leather-poke_0_rotation.png', 'leather-poke_1_crop.png', 'leather-poke_1_rotation.png', 'leather-poke_2_crop.png', 'leather-poke_2_rotation.png', 'leather-poke_3_crop.png', 'leather-poke_3_rotation.png', 'leather-poke_4_crop.png', 'leather-poke_4_rotation.png', 'leather-poke_5_crop.png', 'leather-poke_5_rotation.png', 'leather-poke_6_crop.png', 'leather-poke_6_rotation.png', 'leather-poke_7_crop.png', 'leather-poke_7_rotation.png', 'leather-poke_8_crop.png', 'leather-poke_8_rotation.png', 'leather-poke_9_rotation.png', 'leather-poke_10_rotation.png', 'leather-poke_11_rotation.png', 'leather-poke_12_rotation.png', 'leather-poke_13_rotation.png', 'leather-poke_14_rotation.png', 'leather-poke_15_rotation.png', 'leather-poke_16_rotation.png', 'leather-poke_17_rotation.png']\n"
     ]
    },
    {
     "name": "stderr",
     "output_type": "stream",
     "text": [
      "\r",
      " 68%|██████▊   | 60/88 [02:12<01:24,  3.00s/it]"
     ]
    },
    {
     "name": "stdout",
     "output_type": "stream",
     "text": [
      "transistor-damaged_case\n",
      "['10392.png', '11479.png', '11569.png', '12016.png', '12384.png', 'transistor-damaged_case_0_crop.png', 'transistor-damaged_case_0_rotation.png', 'transistor-damaged_case_1_crop.png', 'transistor-damaged_case_1_rotation.png', 'transistor-damaged_case_2_crop.png', 'transistor-damaged_case_2_rotation.png', 'transistor-damaged_case_3_crop.png', 'transistor-damaged_case_3_rotation.png', 'transistor-damaged_case_4_crop.png', 'transistor-damaged_case_4_rotation.png', 'transistor-damaged_case_5_rotation.png', 'transistor-damaged_case_6_rotation.png', 'transistor-damaged_case_7_rotation.png', 'transistor-damaged_case_8_rotation.png', 'transistor-damaged_case_9_rotation.png']\n"
     ]
    },
    {
     "name": "stderr",
     "output_type": "stream",
     "text": [
      "\r",
      " 69%|██████▉   | 61/88 [02:14<01:10,  2.62s/it]"
     ]
    },
    {
     "name": "stdout",
     "output_type": "stream",
     "text": [
      "wood-scratch\n",
      "['10441.png', '10635.png', '10832.png', '11658.png', '12083.png', '12313.png', '12500.png', '12510.png', '12623.png', '13505.png', '14208.png', 'wood-scratch_0_crop.png', 'wood-scratch_0_rotation.png', 'wood-scratch_1_crop.png', 'wood-scratch_1_rotation.png', 'wood-scratch_2_crop.png', 'wood-scratch_2_rotation.png', 'wood-scratch_3_crop.png', 'wood-scratch_3_rotation.png', 'wood-scratch_4_crop.png', 'wood-scratch_4_rotation.png', 'wood-scratch_5_crop.png', 'wood-scratch_5_rotation.png', 'wood-scratch_6_crop.png', 'wood-scratch_6_rotation.png', 'wood-scratch_7_crop.png', 'wood-scratch_7_rotation.png', 'wood-scratch_8_crop.png', 'wood-scratch_8_rotation.png', 'wood-scratch_9_crop.png', 'wood-scratch_9_rotation.png', 'wood-scratch_10_crop.png', 'wood-scratch_10_rotation.png', 'wood-scratch_11_rotation.png', 'wood-scratch_12_rotation.png', 'wood-scratch_13_rotation.png', 'wood-scratch_14_rotation.png', 'wood-scratch_15_rotation.png', 'wood-scratch_16_rotation.png', 'wood-scratch_17_rotation.png', 'wood-scratch_18_rotation.png', 'wood-scratch_19_rotation.png', 'wood-scratch_20_rotation.png', 'wood-scratch_21_rotation.png']\n"
     ]
    },
    {
     "name": "stderr",
     "output_type": "stream",
     "text": [
      "\r",
      " 70%|███████   | 62/88 [02:18<01:17,  2.98s/it]"
     ]
    },
    {
     "name": "stdout",
     "output_type": "stream",
     "text": [
      "tile-gray_stroke\n",
      "['10463.png', '10487.png', '11916.png', '12581.png', '13072.png', '13372.png', '13409.png', '13459.png', 'tile-gray_stroke_0_crop.png', 'tile-gray_stroke_0_rotation.png', 'tile-gray_stroke_1_crop.png', 'tile-gray_stroke_1_rotation.png', 'tile-gray_stroke_2_crop.png', 'tile-gray_stroke_2_rotation.png', 'tile-gray_stroke_3_crop.png', 'tile-gray_stroke_3_rotation.png', 'tile-gray_stroke_4_crop.png', 'tile-gray_stroke_4_rotation.png', 'tile-gray_stroke_5_crop.png', 'tile-gray_stroke_5_rotation.png', 'tile-gray_stroke_6_crop.png', 'tile-gray_stroke_6_rotation.png', 'tile-gray_stroke_7_crop.png', 'tile-gray_stroke_7_rotation.png', 'tile-gray_stroke_8_rotation.png', 'tile-gray_stroke_9_rotation.png', 'tile-gray_stroke_10_rotation.png', 'tile-gray_stroke_11_rotation.png', 'tile-gray_stroke_12_rotation.png', 'tile-gray_stroke_13_rotation.png', 'tile-gray_stroke_14_rotation.png', 'tile-gray_stroke_15_rotation.png']\n"
     ]
    },
    {
     "name": "stderr",
     "output_type": "stream",
     "text": [
      "\r",
      " 72%|███████▏  | 63/88 [02:21<01:11,  2.88s/it]"
     ]
    },
    {
     "name": "stdout",
     "output_type": "stream",
     "text": [
      "capsule-faulty_imprint\n",
      "['10473.png', '11415.png', '11577.png', '11779.png', '11787.png', '12094.png', '12443.png', '12483.png', '12984.png', '13221.png', '14006.png', 'capsule-faulty_imprint_0_crop.png', 'capsule-faulty_imprint_0_rotation.png', 'capsule-faulty_imprint_1_crop.png', 'capsule-faulty_imprint_1_rotation.png', 'capsule-faulty_imprint_2_crop.png', 'capsule-faulty_imprint_2_rotation.png', 'capsule-faulty_imprint_3_crop.png', 'capsule-faulty_imprint_3_rotation.png', 'capsule-faulty_imprint_4_crop.png', 'capsule-faulty_imprint_4_rotation.png', 'capsule-faulty_imprint_5_crop.png', 'capsule-faulty_imprint_5_rotation.png', 'capsule-faulty_imprint_6_crop.png', 'capsule-faulty_imprint_6_rotation.png', 'capsule-faulty_imprint_7_crop.png', 'capsule-faulty_imprint_7_rotation.png', 'capsule-faulty_imprint_8_crop.png', 'capsule-faulty_imprint_8_rotation.png', 'capsule-faulty_imprint_9_crop.png', 'capsule-faulty_imprint_9_rotation.png', 'capsule-faulty_imprint_10_crop.png', 'capsule-faulty_imprint_10_rotation.png', 'capsule-faulty_imprint_11_rotation.png', 'capsule-faulty_imprint_12_rotation.png', 'capsule-faulty_imprint_13_rotation.png', 'capsule-faulty_imprint_14_rotation.png', 'capsule-faulty_imprint_15_rotation.png', 'capsule-faulty_imprint_16_rotation.png', 'capsule-faulty_imprint_17_rotation.png', 'capsule-faulty_imprint_18_rotation.png', 'capsule-faulty_imprint_19_rotation.png', 'capsule-faulty_imprint_20_rotation.png', 'capsule-faulty_imprint_21_rotation.png']\n"
     ]
    },
    {
     "name": "stderr",
     "output_type": "stream",
     "text": [
      "\r",
      " 73%|███████▎  | 64/88 [02:24<01:15,  3.13s/it]"
     ]
    },
    {
     "name": "stdout",
     "output_type": "stream",
     "text": [
      "grid-glue\n",
      "['10509.png', '11182.png', '11798.png', '11919.png', '12820.png', '13693.png', 'grid-glue_0_crop.png', 'grid-glue_0_rotation.png', 'grid-glue_1_crop.png', 'grid-glue_1_rotation.png', 'grid-glue_2_crop.png', 'grid-glue_2_rotation.png', 'grid-glue_3_crop.png', 'grid-glue_3_rotation.png', 'grid-glue_4_crop.png', 'grid-glue_4_rotation.png', 'grid-glue_5_crop.png', 'grid-glue_5_rotation.png', 'grid-glue_6_rotation.png', 'grid-glue_7_rotation.png', 'grid-glue_8_rotation.png', 'grid-glue_9_rotation.png', 'grid-glue_10_rotation.png', 'grid-glue_11_rotation.png']\n"
     ]
    },
    {
     "name": "stderr",
     "output_type": "stream",
     "text": [
      "\r",
      " 74%|███████▍  | 65/88 [02:26<01:01,  2.69s/it]"
     ]
    },
    {
     "name": "stdout",
     "output_type": "stream",
     "text": [
      "zipper-combined\n",
      "['10537.png', '10753.png', '10802.png', '11730.png', '13475.png', '13511.png', '14070.png', '14195.png', 'zipper-combined_0_crop.png', 'zipper-combined_0_rotation.png', 'zipper-combined_1_crop.png', 'zipper-combined_1_rotation.png', 'zipper-combined_2_crop.png', 'zipper-combined_2_rotation.png', 'zipper-combined_3_crop.png', 'zipper-combined_3_rotation.png', 'zipper-combined_4_crop.png', 'zipper-combined_4_rotation.png', 'zipper-combined_5_crop.png', 'zipper-combined_5_rotation.png', 'zipper-combined_6_crop.png', 'zipper-combined_6_rotation.png', 'zipper-combined_7_crop.png', 'zipper-combined_7_rotation.png', 'zipper-combined_8_rotation.png', 'zipper-combined_9_rotation.png', 'zipper-combined_10_rotation.png', 'zipper-combined_11_rotation.png', 'zipper-combined_12_rotation.png', 'zipper-combined_13_rotation.png', 'zipper-combined_14_rotation.png', 'zipper-combined_15_rotation.png']\n"
     ]
    },
    {
     "name": "stderr",
     "output_type": "stream",
     "text": [
      "\r",
      " 75%|███████▌  | 66/88 [02:28<00:55,  2.51s/it]"
     ]
    },
    {
     "name": "stdout",
     "output_type": "stream",
     "text": [
      "carpet-color\n",
      "['10555.png', '10866.png', '11065.png', '11340.png', '11862.png', '11891.png', '13613.png', '14125.png', '14182.png', '14213.png', 'carpet-color_0_crop.png', 'carpet-color_0_rotation.png', 'carpet-color_1_crop.png', 'carpet-color_1_rotation.png', 'carpet-color_2_crop.png', 'carpet-color_2_rotation.png', 'carpet-color_3_crop.png', 'carpet-color_3_rotation.png', 'carpet-color_4_crop.png', 'carpet-color_4_rotation.png', 'carpet-color_5_crop.png', 'carpet-color_5_rotation.png', 'carpet-color_6_crop.png', 'carpet-color_6_rotation.png', 'carpet-color_7_crop.png', 'carpet-color_7_rotation.png', 'carpet-color_8_crop.png', 'carpet-color_8_rotation.png', 'carpet-color_9_crop.png', 'carpet-color_9_rotation.png', 'carpet-color_10_rotation.png', 'carpet-color_11_rotation.png', 'carpet-color_12_rotation.png', 'carpet-color_13_rotation.png', 'carpet-color_14_rotation.png', 'carpet-color_15_rotation.png', 'carpet-color_16_rotation.png', 'carpet-color_17_rotation.png', 'carpet-color_18_rotation.png', 'carpet-color_19_rotation.png']\n"
     ]
    },
    {
     "name": "stderr",
     "output_type": "stream",
     "text": [
      "\r",
      " 76%|███████▌  | 67/88 [02:32<00:58,  2.81s/it]"
     ]
    },
    {
     "name": "stdout",
     "output_type": "stream",
     "text": [
      "grid-bent\n",
      "['10582.png', '11088.png', '12230.png', '13392.png', '13653.png', '13858.png', 'grid-bent_0_crop.png', 'grid-bent_0_rotation.png', 'grid-bent_1_crop.png', 'grid-bent_1_rotation.png', 'grid-bent_2_crop.png', 'grid-bent_2_rotation.png', 'grid-bent_3_crop.png', 'grid-bent_3_rotation.png', 'grid-bent_4_crop.png', 'grid-bent_4_rotation.png', 'grid-bent_5_crop.png', 'grid-bent_5_rotation.png', 'grid-bent_6_rotation.png', 'grid-bent_7_rotation.png', 'grid-bent_8_rotation.png', 'grid-bent_9_rotation.png', 'grid-bent_10_rotation.png', 'grid-bent_11_rotation.png']\n"
     ]
    },
    {
     "name": "stderr",
     "output_type": "stream",
     "text": [
      "\r",
      " 77%|███████▋  | 68/88 [02:33<00:48,  2.44s/it]"
     ]
    },
    {
     "name": "stdout",
     "output_type": "stream",
     "text": [
      "pill-combined\n",
      "['10591.png', '10922.png', '11565.png', '12003.png', '12369.png', '12651.png', '12808.png', '13088.png', '13777.png', 'pill-combined_0_crop.png', 'pill-combined_0_rotation.png', 'pill-combined_1_crop.png', 'pill-combined_1_rotation.png', 'pill-combined_2_crop.png', 'pill-combined_2_rotation.png', 'pill-combined_3_crop.png', 'pill-combined_3_rotation.png', 'pill-combined_4_crop.png', 'pill-combined_4_rotation.png', 'pill-combined_5_crop.png', 'pill-combined_5_rotation.png', 'pill-combined_6_crop.png', 'pill-combined_6_rotation.png', 'pill-combined_7_crop.png', 'pill-combined_7_rotation.png', 'pill-combined_8_crop.png', 'pill-combined_8_rotation.png', 'pill-combined_9_rotation.png', 'pill-combined_10_rotation.png', 'pill-combined_11_rotation.png', 'pill-combined_12_rotation.png', 'pill-combined_13_rotation.png', 'pill-combined_14_rotation.png', 'pill-combined_15_rotation.png', 'pill-combined_16_rotation.png', 'pill-combined_17_rotation.png']\n"
     ]
    },
    {
     "name": "stderr",
     "output_type": "stream",
     "text": [
      "\r",
      " 78%|███████▊  | 69/88 [02:36<00:48,  2.55s/it]"
     ]
    },
    {
     "name": "stdout",
     "output_type": "stream",
     "text": [
      "hazelnut-print\n",
      "['10599.png', '10710.png', '10808.png', '11048.png', '12707.png', '12740.png', '13380.png', '13769.png', '14173.png', 'hazelnut-print_0_crop.png', 'hazelnut-print_0_rotation.png', 'hazelnut-print_1_crop.png', 'hazelnut-print_1_rotation.png', 'hazelnut-print_2_crop.png', 'hazelnut-print_2_rotation.png', 'hazelnut-print_3_crop.png', 'hazelnut-print_3_rotation.png', 'hazelnut-print_4_crop.png', 'hazelnut-print_4_rotation.png', 'hazelnut-print_5_crop.png', 'hazelnut-print_5_rotation.png', 'hazelnut-print_6_crop.png', 'hazelnut-print_6_rotation.png', 'hazelnut-print_7_crop.png', 'hazelnut-print_7_rotation.png', 'hazelnut-print_8_crop.png', 'hazelnut-print_8_rotation.png', 'hazelnut-print_9_rotation.png', 'hazelnut-print_10_rotation.png', 'hazelnut-print_11_rotation.png', 'hazelnut-print_12_rotation.png', 'hazelnut-print_13_rotation.png', 'hazelnut-print_14_rotation.png', 'hazelnut-print_15_rotation.png', 'hazelnut-print_16_rotation.png', 'hazelnut-print_17_rotation.png']\n"
     ]
    },
    {
     "name": "stderr",
     "output_type": "stream",
     "text": [
      "\r",
      " 80%|███████▉  | 70/88 [02:39<00:48,  2.67s/it]"
     ]
    },
    {
     "name": "stdout",
     "output_type": "stream",
     "text": [
      "cable-combined\n",
      "['10634.png', '11993.png', '12711.png', '12942.png', '13208.png', '14251.png', 'cable-combined_0_crop.png', 'cable-combined_0_rotation.png', 'cable-combined_1_crop.png', 'cable-combined_1_rotation.png', 'cable-combined_2_crop.png', 'cable-combined_2_rotation.png', 'cable-combined_3_crop.png', 'cable-combined_3_rotation.png', 'cable-combined_4_crop.png', 'cable-combined_4_rotation.png', 'cable-combined_5_crop.png', 'cable-combined_5_rotation.png', 'cable-combined_6_rotation.png', 'cable-combined_7_rotation.png', 'cable-combined_8_rotation.png', 'cable-combined_9_rotation.png', 'cable-combined_10_rotation.png', 'cable-combined_11_rotation.png']\n"
     ]
    },
    {
     "name": "stderr",
     "output_type": "stream",
     "text": [
      "\r",
      " 81%|████████  | 71/88 [02:41<00:42,  2.49s/it]"
     ]
    },
    {
     "name": "stdout",
     "output_type": "stream",
     "text": [
      "capsule-scratch\n",
      "['10676.png', '11376.png', '11592.png', '11656.png', '11914.png', '12548.png', '12739.png', '12781.png', '12966.png', '13269.png', '13442.png', '13849.png', 'capsule-scratch_0_crop.png', 'capsule-scratch_0_rotation.png', 'capsule-scratch_1_crop.png', 'capsule-scratch_1_rotation.png', 'capsule-scratch_2_crop.png', 'capsule-scratch_2_rotation.png', 'capsule-scratch_3_crop.png', 'capsule-scratch_3_rotation.png', 'capsule-scratch_4_crop.png', 'capsule-scratch_4_rotation.png', 'capsule-scratch_5_crop.png', 'capsule-scratch_5_rotation.png', 'capsule-scratch_6_crop.png', 'capsule-scratch_6_rotation.png', 'capsule-scratch_7_crop.png', 'capsule-scratch_7_rotation.png', 'capsule-scratch_8_crop.png', 'capsule-scratch_8_rotation.png', 'capsule-scratch_9_crop.png', 'capsule-scratch_9_rotation.png', 'capsule-scratch_10_crop.png', 'capsule-scratch_10_rotation.png', 'capsule-scratch_11_crop.png', 'capsule-scratch_11_rotation.png', 'capsule-scratch_12_rotation.png', 'capsule-scratch_13_rotation.png', 'capsule-scratch_14_rotation.png', 'capsule-scratch_15_rotation.png', 'capsule-scratch_16_rotation.png', 'capsule-scratch_17_rotation.png', 'capsule-scratch_18_rotation.png', 'capsule-scratch_19_rotation.png', 'capsule-scratch_20_rotation.png', 'capsule-scratch_21_rotation.png', 'capsule-scratch_22_rotation.png', 'capsule-scratch_23_rotation.png']\n"
     ]
    },
    {
     "name": "stderr",
     "output_type": "stream",
     "text": [
      "\r",
      " 82%|████████▏ | 72/88 [02:45<00:46,  2.93s/it]"
     ]
    },
    {
     "name": "stdout",
     "output_type": "stream",
     "text": [
      "metal_nut-bent\n",
      "['10682.png', '11439.png', '11444.png', '11745.png', '11781.png', '11818.png', '11831.png', '12861.png', '13294.png', '13590.png', '13830.png', '14005.png', '14150.png', 'metal_nut-bent_0_crop.png', 'metal_nut-bent_0_rotation.png', 'metal_nut-bent_1_crop.png', 'metal_nut-bent_1_rotation.png', 'metal_nut-bent_2_crop.png', 'metal_nut-bent_2_rotation.png', 'metal_nut-bent_3_crop.png', 'metal_nut-bent_3_rotation.png', 'metal_nut-bent_4_crop.png', 'metal_nut-bent_4_rotation.png', 'metal_nut-bent_5_crop.png', 'metal_nut-bent_5_rotation.png', 'metal_nut-bent_6_crop.png', 'metal_nut-bent_6_rotation.png', 'metal_nut-bent_7_crop.png', 'metal_nut-bent_7_rotation.png', 'metal_nut-bent_8_crop.png', 'metal_nut-bent_8_rotation.png', 'metal_nut-bent_9_crop.png', 'metal_nut-bent_9_rotation.png', 'metal_nut-bent_10_crop.png', 'metal_nut-bent_10_rotation.png', 'metal_nut-bent_11_crop.png', 'metal_nut-bent_11_rotation.png', 'metal_nut-bent_12_crop.png', 'metal_nut-bent_12_rotation.png', 'metal_nut-bent_13_rotation.png', 'metal_nut-bent_14_rotation.png', 'metal_nut-bent_15_rotation.png', 'metal_nut-bent_16_rotation.png', 'metal_nut-bent_17_rotation.png', 'metal_nut-bent_18_rotation.png', 'metal_nut-bent_19_rotation.png', 'metal_nut-bent_20_rotation.png', 'metal_nut-bent_21_rotation.png', 'metal_nut-bent_22_rotation.png', 'metal_nut-bent_23_rotation.png', 'metal_nut-bent_24_rotation.png', 'metal_nut-bent_25_rotation.png']\n"
     ]
    },
    {
     "name": "stderr",
     "output_type": "stream",
     "text": [
      "\r",
      " 83%|████████▎ | 73/88 [02:49<00:49,  3.27s/it]"
     ]
    },
    {
     "name": "stdout",
     "output_type": "stream",
     "text": [
      "zipper-broken_teeth\n",
      "['10702.png', '10757.png', '10774.png', '10849.png', '11060.png', '11198.png', '12436.png', '12450.png', '13884.png', '14085.png', 'zipper-broken_teeth_0_crop.png', 'zipper-broken_teeth_0_rotation.png', 'zipper-broken_teeth_1_crop.png', 'zipper-broken_teeth_1_rotation.png', 'zipper-broken_teeth_2_crop.png', 'zipper-broken_teeth_2_rotation.png', 'zipper-broken_teeth_3_crop.png', 'zipper-broken_teeth_3_rotation.png', 'zipper-broken_teeth_4_crop.png', 'zipper-broken_teeth_4_rotation.png', 'zipper-broken_teeth_5_crop.png', 'zipper-broken_teeth_5_rotation.png', 'zipper-broken_teeth_6_crop.png', 'zipper-broken_teeth_6_rotation.png', 'zipper-broken_teeth_7_crop.png', 'zipper-broken_teeth_7_rotation.png', 'zipper-broken_teeth_8_crop.png', 'zipper-broken_teeth_8_rotation.png', 'zipper-broken_teeth_9_crop.png', 'zipper-broken_teeth_9_rotation.png', 'zipper-broken_teeth_10_rotation.png', 'zipper-broken_teeth_11_rotation.png', 'zipper-broken_teeth_12_rotation.png', 'zipper-broken_teeth_13_rotation.png', 'zipper-broken_teeth_14_rotation.png', 'zipper-broken_teeth_15_rotation.png', 'zipper-broken_teeth_16_rotation.png', 'zipper-broken_teeth_17_rotation.png', 'zipper-broken_teeth_18_rotation.png', 'zipper-broken_teeth_19_rotation.png']\n"
     ]
    },
    {
     "name": "stderr",
     "output_type": "stream",
     "text": [
      "\r",
      " 84%|████████▍ | 74/88 [02:52<00:43,  3.08s/it]"
     ]
    },
    {
     "name": "stdout",
     "output_type": "stream",
     "text": [
      "tile-oil\n",
      "['10727.png', '10829.png', '10869.png', '12136.png', '12302.png', '12998.png', '13350.png', '13393.png', '13931.png', 'tile-oil_0_crop.png', 'tile-oil_0_rotation.png', 'tile-oil_1_crop.png', 'tile-oil_1_rotation.png', 'tile-oil_2_crop.png', 'tile-oil_2_rotation.png', 'tile-oil_3_crop.png', 'tile-oil_3_rotation.png', 'tile-oil_4_crop.png', 'tile-oil_4_rotation.png', 'tile-oil_5_crop.png', 'tile-oil_5_rotation.png', 'tile-oil_6_crop.png', 'tile-oil_6_rotation.png', 'tile-oil_7_crop.png', 'tile-oil_7_rotation.png', 'tile-oil_8_crop.png', 'tile-oil_8_rotation.png', 'tile-oil_9_rotation.png', 'tile-oil_10_rotation.png', 'tile-oil_11_rotation.png', 'tile-oil_12_rotation.png', 'tile-oil_13_rotation.png', 'tile-oil_14_rotation.png', 'tile-oil_15_rotation.png', 'tile-oil_16_rotation.png', 'tile-oil_17_rotation.png']\n"
     ]
    },
    {
     "name": "stderr",
     "output_type": "stream",
     "text": [
      "\r",
      " 85%|████████▌ | 75/88 [02:55<00:39,  3.06s/it]"
     ]
    },
    {
     "name": "stdout",
     "output_type": "stream",
     "text": [
      "transistor-misplaced\n",
      "['10824.png', '11017.png', '12471.png', '14014.png', '14203.png', 'transistor-misplaced_0_crop.png', 'transistor-misplaced_0_rotation.png', 'transistor-misplaced_1_crop.png', 'transistor-misplaced_1_rotation.png', 'transistor-misplaced_2_crop.png', 'transistor-misplaced_2_rotation.png', 'transistor-misplaced_3_crop.png', 'transistor-misplaced_3_rotation.png', 'transistor-misplaced_4_crop.png', 'transistor-misplaced_4_rotation.png', 'transistor-misplaced_5_rotation.png', 'transistor-misplaced_6_rotation.png', 'transistor-misplaced_7_rotation.png', 'transistor-misplaced_8_rotation.png', 'transistor-misplaced_9_rotation.png']\n"
     ]
    },
    {
     "name": "stderr",
     "output_type": "stream",
     "text": [
      "\r",
      " 86%|████████▋ | 76/88 [02:56<00:31,  2.65s/it]"
     ]
    },
    {
     "name": "stdout",
     "output_type": "stream",
     "text": [
      "grid-thread\n",
      "['10971.png', '11470.png', '11562.png', '11979.png', '13622.png', '14023.png', 'grid-thread_0_crop.png', 'grid-thread_0_rotation.png', 'grid-thread_1_crop.png', 'grid-thread_1_rotation.png', 'grid-thread_2_crop.png', 'grid-thread_2_rotation.png', 'grid-thread_3_crop.png', 'grid-thread_3_rotation.png', 'grid-thread_4_crop.png', 'grid-thread_4_rotation.png', 'grid-thread_5_crop.png', 'grid-thread_5_rotation.png', 'grid-thread_6_rotation.png', 'grid-thread_7_rotation.png', 'grid-thread_8_rotation.png', 'grid-thread_9_rotation.png', 'grid-thread_10_rotation.png', 'grid-thread_11_rotation.png']\n"
     ]
    },
    {
     "name": "stderr",
     "output_type": "stream",
     "text": [
      "\r",
      " 88%|████████▊ | 77/88 [02:58<00:25,  2.36s/it]"
     ]
    },
    {
     "name": "stdout",
     "output_type": "stream",
     "text": [
      "grid-metal_contamination\n",
      "['11024.png', '11237.png', '12827.png', '12969.png', '13651.png', '14233.png', 'grid-metal_contamination_0_crop.png', 'grid-metal_contamination_0_rotation.png', 'grid-metal_contamination_1_crop.png', 'grid-metal_contamination_1_rotation.png', 'grid-metal_contamination_2_crop.png', 'grid-metal_contamination_2_rotation.png', 'grid-metal_contamination_3_crop.png', 'grid-metal_contamination_3_rotation.png', 'grid-metal_contamination_4_crop.png', 'grid-metal_contamination_4_rotation.png', 'grid-metal_contamination_5_crop.png', 'grid-metal_contamination_5_rotation.png', 'grid-metal_contamination_6_rotation.png', 'grid-metal_contamination_7_rotation.png', 'grid-metal_contamination_8_rotation.png', 'grid-metal_contamination_9_rotation.png', 'grid-metal_contamination_10_rotation.png', 'grid-metal_contamination_11_rotation.png']\n"
     ]
    },
    {
     "name": "stderr",
     "output_type": "stream",
     "text": [
      "\r",
      " 89%|████████▊ | 78/88 [03:00<00:21,  2.15s/it]"
     ]
    },
    {
     "name": "stdout",
     "output_type": "stream",
     "text": [
      "carpet-cut\n",
      "['11033.png', '11139.png', '11382.png', '11726.png', '13080.png', '13117.png', '13407.png', '13419.png', '13484.png', 'carpet-cut_0_crop.png', 'carpet-cut_0_rotation.png', 'carpet-cut_1_crop.png', 'carpet-cut_1_rotation.png', 'carpet-cut_2_crop.png', 'carpet-cut_2_rotation.png', 'carpet-cut_3_crop.png', 'carpet-cut_3_rotation.png', 'carpet-cut_4_crop.png', 'carpet-cut_4_rotation.png', 'carpet-cut_5_crop.png', 'carpet-cut_5_rotation.png', 'carpet-cut_6_crop.png', 'carpet-cut_6_rotation.png', 'carpet-cut_7_crop.png', 'carpet-cut_7_rotation.png', 'carpet-cut_8_crop.png', 'carpet-cut_8_rotation.png', 'carpet-cut_9_rotation.png', 'carpet-cut_10_rotation.png', 'carpet-cut_11_rotation.png', 'carpet-cut_12_rotation.png', 'carpet-cut_13_rotation.png', 'carpet-cut_14_rotation.png', 'carpet-cut_15_rotation.png', 'carpet-cut_16_rotation.png', 'carpet-cut_17_rotation.png']\n"
     ]
    },
    {
     "name": "stderr",
     "output_type": "stream",
     "text": [
      "\r",
      " 90%|████████▉ | 79/88 [03:03<00:21,  2.44s/it]"
     ]
    },
    {
     "name": "stdout",
     "output_type": "stream",
     "text": [
      "wood-color\n",
      "['11134.png', '11281.png', '13321.png', '13667.png', 'wood-color_0_crop.png', 'wood-color_0_rotation.png', 'wood-color_1_crop.png', 'wood-color_1_rotation.png', 'wood-color_2_crop.png', 'wood-color_2_rotation.png', 'wood-color_3_crop.png', 'wood-color_3_rotation.png', 'wood-color_4_rotation.png', 'wood-color_5_rotation.png', 'wood-color_6_rotation.png', 'wood-color_7_rotation.png']\n"
     ]
    },
    {
     "name": "stderr",
     "output_type": "stream",
     "text": [
      "\r",
      " 91%|█████████ | 80/88 [03:04<00:16,  2.12s/it]"
     ]
    },
    {
     "name": "stdout",
     "output_type": "stream",
     "text": [
      "cable-cable_swap\n",
      "['11168.png', '11732.png', '11863.png', '12853.png', '12992.png', '13921.png', 'cable-cable_swap_0_crop.png', 'cable-cable_swap_0_rotation.png', 'cable-cable_swap_1_crop.png', 'cable-cable_swap_1_rotation.png', 'cable-cable_swap_2_crop.png', 'cable-cable_swap_2_rotation.png', 'cable-cable_swap_3_crop.png', 'cable-cable_swap_3_rotation.png', 'cable-cable_swap_4_crop.png', 'cable-cable_swap_4_rotation.png', 'cable-cable_swap_5_crop.png', 'cable-cable_swap_5_rotation.png', 'cable-cable_swap_6_rotation.png', 'cable-cable_swap_7_rotation.png', 'cable-cable_swap_8_rotation.png', 'cable-cable_swap_9_rotation.png', 'cable-cable_swap_10_rotation.png', 'cable-cable_swap_11_rotation.png']\n"
     ]
    },
    {
     "name": "stderr",
     "output_type": "stream",
     "text": [
      "\r",
      " 92%|█████████▏| 81/88 [03:06<00:14,  2.10s/it]"
     ]
    },
    {
     "name": "stdout",
     "output_type": "stream",
     "text": [
      "tile-crack\n",
      "['11206.png', '11598.png', '12541.png', '12589.png', '12876.png', '12999.png', '13857.png', '14193.png', '14204.png', 'tile-crack_0_crop.png', 'tile-crack_0_rotation.png', 'tile-crack_1_crop.png', 'tile-crack_1_rotation.png', 'tile-crack_2_crop.png', 'tile-crack_2_rotation.png', 'tile-crack_3_crop.png', 'tile-crack_3_rotation.png', 'tile-crack_4_crop.png', 'tile-crack_4_rotation.png', 'tile-crack_5_crop.png', 'tile-crack_5_rotation.png', 'tile-crack_6_crop.png', 'tile-crack_6_rotation.png', 'tile-crack_7_crop.png', 'tile-crack_7_rotation.png', 'tile-crack_8_crop.png', 'tile-crack_8_rotation.png', 'tile-crack_9_rotation.png', 'tile-crack_10_rotation.png', 'tile-crack_11_rotation.png', 'tile-crack_12_rotation.png', 'tile-crack_13_rotation.png', 'tile-crack_14_rotation.png', 'tile-crack_15_rotation.png', 'tile-crack_16_rotation.png', 'tile-crack_17_rotation.png']\n"
     ]
    },
    {
     "name": "stderr",
     "output_type": "stream",
     "text": [
      "\r",
      " 93%|█████████▎| 82/88 [03:09<00:14,  2.35s/it]"
     ]
    },
    {
     "name": "stdout",
     "output_type": "stream",
     "text": [
      "leather-color\n",
      "['11294.png', '11838.png', '11900.png', '12023.png', '12309.png', '12716.png', '13230.png', '13312.png', '13817.png', '14152.png', 'leather-color_0_crop.png', 'leather-color_0_rotation.png', 'leather-color_1_crop.png', 'leather-color_1_rotation.png', 'leather-color_2_crop.png', 'leather-color_2_rotation.png', 'leather-color_3_crop.png', 'leather-color_3_rotation.png', 'leather-color_4_crop.png', 'leather-color_4_rotation.png', 'leather-color_5_crop.png', 'leather-color_5_rotation.png', 'leather-color_6_crop.png', 'leather-color_6_rotation.png', 'leather-color_7_crop.png', 'leather-color_7_rotation.png', 'leather-color_8_crop.png', 'leather-color_8_rotation.png', 'leather-color_9_crop.png', 'leather-color_9_rotation.png', 'leather-color_10_rotation.png', 'leather-color_11_rotation.png', 'leather-color_12_rotation.png', 'leather-color_13_rotation.png', 'leather-color_14_rotation.png', 'leather-color_15_rotation.png', 'leather-color_16_rotation.png', 'leather-color_17_rotation.png', 'leather-color_18_rotation.png', 'leather-color_19_rotation.png']\n"
     ]
    },
    {
     "name": "stderr",
     "output_type": "stream",
     "text": [
      "\r",
      " 94%|█████████▍| 83/88 [03:13<00:13,  2.67s/it]"
     ]
    },
    {
     "name": "stdout",
     "output_type": "stream",
     "text": [
      "cable-poke_insulation\n",
      "['11438.png', '11637.png', '12086.png', '12627.png', '12783.png', 'cable-poke_insulation_0_crop.png', 'cable-poke_insulation_0_rotation.png', 'cable-poke_insulation_1_crop.png', 'cable-poke_insulation_1_rotation.png', 'cable-poke_insulation_2_crop.png', 'cable-poke_insulation_2_rotation.png', 'cable-poke_insulation_3_crop.png', 'cable-poke_insulation_3_rotation.png', 'cable-poke_insulation_4_crop.png', 'cable-poke_insulation_4_rotation.png', 'cable-poke_insulation_5_rotation.png', 'cable-poke_insulation_6_rotation.png', 'cable-poke_insulation_7_rotation.png', 'cable-poke_insulation_8_rotation.png', 'cable-poke_insulation_9_rotation.png']\n"
     ]
    },
    {
     "name": "stderr",
     "output_type": "stream",
     "text": [
      "\r",
      " 95%|█████████▌| 84/88 [03:14<00:09,  2.38s/it]"
     ]
    },
    {
     "name": "stdout",
     "output_type": "stream",
     "text": [
      "transistor-cut_lead\n",
      "['11449.png', '12904.png', '13015.png', '13159.png', '13776.png', 'transistor-cut_lead_0_crop.png', 'transistor-cut_lead_0_rotation.png', 'transistor-cut_lead_1_crop.png', 'transistor-cut_lead_1_rotation.png', 'transistor-cut_lead_2_crop.png', 'transistor-cut_lead_2_rotation.png', 'transistor-cut_lead_3_crop.png', 'transistor-cut_lead_3_rotation.png', 'transistor-cut_lead_4_crop.png', 'transistor-cut_lead_4_rotation.png', 'transistor-cut_lead_5_rotation.png', 'transistor-cut_lead_6_rotation.png', 'transistor-cut_lead_7_rotation.png', 'transistor-cut_lead_8_rotation.png', 'transistor-cut_lead_9_rotation.png']\n"
     ]
    },
    {
     "name": "stderr",
     "output_type": "stream",
     "text": [
      "\r",
      " 97%|█████████▋| 85/88 [03:16<00:06,  2.18s/it]"
     ]
    },
    {
     "name": "stdout",
     "output_type": "stream",
     "text": [
      "wood-hole\n",
      "['11795.png', '12525.png', '12748.png', '13226.png', '14069.png', 'wood-hole_0_crop.png', 'wood-hole_0_rotation.png', 'wood-hole_1_crop.png', 'wood-hole_1_rotation.png', 'wood-hole_2_crop.png', 'wood-hole_2_rotation.png', 'wood-hole_3_crop.png', 'wood-hole_3_rotation.png', 'wood-hole_4_crop.png', 'wood-hole_4_rotation.png', 'wood-hole_5_rotation.png', 'wood-hole_6_rotation.png', 'wood-hole_7_rotation.png', 'wood-hole_8_rotation.png', 'wood-hole_9_rotation.png']\n"
     ]
    },
    {
     "name": "stderr",
     "output_type": "stream",
     "text": [
      "\r",
      " 98%|█████████▊| 86/88 [03:18<00:04,  2.03s/it]"
     ]
    },
    {
     "name": "stdout",
     "output_type": "stream",
     "text": [
      "tile-rough\n",
      "['11947.png', '12012.png', '12096.png', '12383.png', '12399.png', '12630.png', '12819.png', '13246.png', 'tile-rough_0_crop.png', 'tile-rough_0_rotation.png', 'tile-rough_1_crop.png', 'tile-rough_1_rotation.png', 'tile-rough_2_crop.png', 'tile-rough_2_rotation.png', 'tile-rough_3_crop.png', 'tile-rough_3_rotation.png', 'tile-rough_4_crop.png', 'tile-rough_4_rotation.png', 'tile-rough_5_crop.png', 'tile-rough_5_rotation.png', 'tile-rough_6_crop.png', 'tile-rough_6_rotation.png', 'tile-rough_7_crop.png', 'tile-rough_7_rotation.png', 'tile-rough_8_rotation.png', 'tile-rough_9_rotation.png', 'tile-rough_10_rotation.png', 'tile-rough_11_rotation.png', 'tile-rough_12_rotation.png', 'tile-rough_13_rotation.png', 'tile-rough_14_rotation.png', 'tile-rough_15_rotation.png']\n"
     ]
    },
    {
     "name": "stderr",
     "output_type": "stream",
     "text": [
      "\r",
      " 99%|█████████▉| 87/88 [03:20<00:02,  2.22s/it]"
     ]
    },
    {
     "name": "stdout",
     "output_type": "stream",
     "text": [
      "wood-liquid\n",
      "['12106.png', '12178.png', '12610.png', '13183.png', '13259.png', 'wood-liquid_0_crop.png', 'wood-liquid_0_rotation.png', 'wood-liquid_1_crop.png', 'wood-liquid_1_rotation.png', 'wood-liquid_2_crop.png', 'wood-liquid_2_rotation.png', 'wood-liquid_3_crop.png', 'wood-liquid_3_rotation.png', 'wood-liquid_4_crop.png', 'wood-liquid_4_rotation.png', 'wood-liquid_5_rotation.png', 'wood-liquid_6_rotation.png', 'wood-liquid_7_rotation.png', 'wood-liquid_8_rotation.png', 'wood-liquid_9_rotation.png']\n"
     ]
    },
    {
     "name": "stderr",
     "output_type": "stream",
     "text": [
      "100%|██████████| 88/88 [03:22<00:00,  2.30s/it]\n"
     ]
    }
   ],
   "source": [
    "for label in tqdm(oslabel):\n",
    "    if 'good' not in label:\n",
    "        print(label)\n",
    "        idx = 0\n",
    "        one_sample = train_df[train_df['label'] == label].reset_index(drop=True)\n",
    "        images_list = natsorted(one_sample['file_name'])\n",
    "        print(images_list)\n",
    "        for _, image_name in enumerate(images_list):\n",
    "            image = np.array(Image.open(opj('./open/train_add_data/', image_name)).convert('RGB'))\n",
    "            \n",
    "            aug_img = cv2.flip(image, 1)\n",
    "            aug_img = cv2.resize(aug_img, dsize=(1024, 1024))\n",
    "            aug_img = cv2.cvtColor(aug_img, cv2.COLOR_BGR2RGB)\n",
    "            save_path = opj('./open/train_add_data', f'{label}_{idx}_flip1.png')\n",
    "            save_name = f'{label}_{idx}_flip1.png'\n",
    "            idx += 1\n",
    "            cv2.imwrite(save_path, aug_img)\n",
    "            train_df.loc[len(train_df)] = [save_name] + one_sample.iloc[0][1:].values.tolist()   "
   ]
  },
  {
   "cell_type": "code",
   "execution_count": 11,
   "metadata": {
    "scrolled": true
   },
   "outputs": [
    {
     "name": "stderr",
     "output_type": "stream",
     "text": [
      "\r",
      "  0%|          | 0/88 [00:00<?, ?it/s]"
     ]
    },
    {
     "name": "stdout",
     "output_type": "stream",
     "text": [
      "cable-bent_wire\n",
      "['10008.png', '11086.png', '11552.png', '11599.png', '13211.png', '13215.png', '13795.png', 'cable-bent_wire_0_crop.png', 'cable-bent_wire_0_flip1.png', 'cable-bent_wire_0_rotation.png', 'cable-bent_wire_1_crop.png', 'cable-bent_wire_1_flip1.png', 'cable-bent_wire_1_rotation.png', 'cable-bent_wire_2_crop.png', 'cable-bent_wire_2_flip1.png', 'cable-bent_wire_2_rotation.png', 'cable-bent_wire_3_crop.png', 'cable-bent_wire_3_flip1.png', 'cable-bent_wire_3_rotation.png', 'cable-bent_wire_4_crop.png', 'cable-bent_wire_4_flip1.png', 'cable-bent_wire_4_rotation.png', 'cable-bent_wire_5_crop.png', 'cable-bent_wire_5_flip1.png', 'cable-bent_wire_5_rotation.png', 'cable-bent_wire_6_crop.png', 'cable-bent_wire_6_flip1.png', 'cable-bent_wire_6_rotation.png', 'cable-bent_wire_7_flip1.png', 'cable-bent_wire_7_rotation.png', 'cable-bent_wire_8_flip1.png', 'cable-bent_wire_8_rotation.png', 'cable-bent_wire_9_flip1.png', 'cable-bent_wire_9_rotation.png', 'cable-bent_wire_10_flip1.png', 'cable-bent_wire_10_rotation.png', 'cable-bent_wire_11_flip1.png', 'cable-bent_wire_11_rotation.png', 'cable-bent_wire_12_flip1.png', 'cable-bent_wire_12_rotation.png', 'cable-bent_wire_13_flip1.png', 'cable-bent_wire_13_rotation.png', 'cable-bent_wire_14_flip1.png', 'cable-bent_wire_15_flip1.png', 'cable-bent_wire_16_flip1.png', 'cable-bent_wire_17_flip1.png', 'cable-bent_wire_18_flip1.png', 'cable-bent_wire_19_flip1.png', 'cable-bent_wire_20_flip1.png', 'cable-bent_wire_21_flip1.png', 'cable-bent_wire_22_flip1.png', 'cable-bent_wire_23_flip1.png', 'cable-bent_wire_24_flip1.png', 'cable-bent_wire_25_flip1.png', 'cable-bent_wire_26_flip1.png', 'cable-bent_wire_27_flip1.png']\n"
     ]
    },
    {
     "name": "stderr",
     "output_type": "stream",
     "text": [
      "\r",
      "  7%|▋         | 6/88 [00:04<01:04,  1.27it/s]"
     ]
    },
    {
     "name": "stdout",
     "output_type": "stream",
     "text": [
      "carpet-hole\n",
      "['10010.png', '10307.png', '10641.png', '10711.png', '11673.png', '12260.png', '12432.png', '12823.png', '14030.png', 'carpet-hole_0_crop.png', 'carpet-hole_0_flip1.png', 'carpet-hole_0_rotation.png', 'carpet-hole_1_crop.png', 'carpet-hole_1_flip1.png', 'carpet-hole_1_rotation.png', 'carpet-hole_2_crop.png', 'carpet-hole_2_flip1.png', 'carpet-hole_2_rotation.png', 'carpet-hole_3_crop.png', 'carpet-hole_3_flip1.png', 'carpet-hole_3_rotation.png', 'carpet-hole_4_crop.png', 'carpet-hole_4_flip1.png', 'carpet-hole_4_rotation.png', 'carpet-hole_5_crop.png', 'carpet-hole_5_flip1.png', 'carpet-hole_5_rotation.png', 'carpet-hole_6_crop.png', 'carpet-hole_6_flip1.png', 'carpet-hole_6_rotation.png', 'carpet-hole_7_crop.png', 'carpet-hole_7_flip1.png', 'carpet-hole_7_rotation.png', 'carpet-hole_8_crop.png', 'carpet-hole_8_flip1.png', 'carpet-hole_8_rotation.png', 'carpet-hole_9_flip1.png', 'carpet-hole_9_rotation.png', 'carpet-hole_10_flip1.png', 'carpet-hole_10_rotation.png', 'carpet-hole_11_flip1.png', 'carpet-hole_11_rotation.png', 'carpet-hole_12_flip1.png', 'carpet-hole_12_rotation.png', 'carpet-hole_13_flip1.png', 'carpet-hole_13_rotation.png', 'carpet-hole_14_flip1.png', 'carpet-hole_14_rotation.png', 'carpet-hole_15_flip1.png', 'carpet-hole_15_rotation.png', 'carpet-hole_16_flip1.png', 'carpet-hole_16_rotation.png', 'carpet-hole_17_flip1.png', 'carpet-hole_17_rotation.png', 'carpet-hole_18_flip1.png', 'carpet-hole_19_flip1.png', 'carpet-hole_20_flip1.png', 'carpet-hole_21_flip1.png', 'carpet-hole_22_flip1.png', 'carpet-hole_23_flip1.png', 'carpet-hole_24_flip1.png', 'carpet-hole_25_flip1.png', 'carpet-hole_26_flip1.png', 'carpet-hole_27_flip1.png', 'carpet-hole_28_flip1.png', 'carpet-hole_29_flip1.png', 'carpet-hole_30_flip1.png', 'carpet-hole_31_flip1.png', 'carpet-hole_32_flip1.png', 'carpet-hole_33_flip1.png', 'carpet-hole_34_flip1.png', 'carpet-hole_35_flip1.png']\n"
     ]
    },
    {
     "name": "stderr",
     "output_type": "stream",
     "text": [
      "\r",
      "  8%|▊         | 7/88 [00:10<02:27,  1.82s/it]"
     ]
    },
    {
     "name": "stdout",
     "output_type": "stream",
     "text": [
      "pill-pill_type\n",
      "['10013.png', '10534.png', '10914.png', '12103.png', '13701.png', 'pill-pill_type_0_crop.png', 'pill-pill_type_0_flip1.png', 'pill-pill_type_0_rotation.png', 'pill-pill_type_1_crop.png', 'pill-pill_type_1_flip1.png', 'pill-pill_type_1_rotation.png', 'pill-pill_type_2_crop.png', 'pill-pill_type_2_flip1.png', 'pill-pill_type_2_rotation.png', 'pill-pill_type_3_crop.png', 'pill-pill_type_3_flip1.png', 'pill-pill_type_3_rotation.png', 'pill-pill_type_4_crop.png', 'pill-pill_type_4_flip1.png', 'pill-pill_type_4_rotation.png', 'pill-pill_type_5_flip1.png', 'pill-pill_type_5_rotation.png', 'pill-pill_type_6_flip1.png', 'pill-pill_type_6_rotation.png', 'pill-pill_type_7_flip1.png', 'pill-pill_type_7_rotation.png', 'pill-pill_type_8_flip1.png', 'pill-pill_type_8_rotation.png', 'pill-pill_type_9_flip1.png', 'pill-pill_type_9_rotation.png', 'pill-pill_type_10_flip1.png', 'pill-pill_type_11_flip1.png', 'pill-pill_type_12_flip1.png', 'pill-pill_type_13_flip1.png', 'pill-pill_type_14_flip1.png', 'pill-pill_type_15_flip1.png', 'pill-pill_type_16_flip1.png', 'pill-pill_type_17_flip1.png', 'pill-pill_type_18_flip1.png', 'pill-pill_type_19_flip1.png']\n"
     ]
    },
    {
     "name": "stderr",
     "output_type": "stream",
     "text": [
      "\r",
      " 10%|█         | 9/88 [00:14<02:16,  1.73s/it]"
     ]
    },
    {
     "name": "stdout",
     "output_type": "stream",
     "text": [
      "metal_nut-scratch\n",
      "['10016.png', '10220.png', '10585.png', '11339.png', '12824.png', '12882.png', '12947.png', '13351.png', '13364.png', '13985.png', '14067.png', '14131.png', 'metal_nut-scratch_0_crop.png', 'metal_nut-scratch_0_flip1.png', 'metal_nut-scratch_0_rotation.png', 'metal_nut-scratch_1_crop.png', 'metal_nut-scratch_1_flip1.png', 'metal_nut-scratch_1_rotation.png', 'metal_nut-scratch_2_crop.png', 'metal_nut-scratch_2_flip1.png', 'metal_nut-scratch_2_rotation.png', 'metal_nut-scratch_3_crop.png', 'metal_nut-scratch_3_flip1.png', 'metal_nut-scratch_3_rotation.png', 'metal_nut-scratch_4_crop.png', 'metal_nut-scratch_4_flip1.png', 'metal_nut-scratch_4_rotation.png', 'metal_nut-scratch_5_crop.png', 'metal_nut-scratch_5_flip1.png', 'metal_nut-scratch_5_rotation.png', 'metal_nut-scratch_6_crop.png', 'metal_nut-scratch_6_flip1.png', 'metal_nut-scratch_6_rotation.png', 'metal_nut-scratch_7_crop.png', 'metal_nut-scratch_7_flip1.png', 'metal_nut-scratch_7_rotation.png', 'metal_nut-scratch_8_crop.png', 'metal_nut-scratch_8_flip1.png', 'metal_nut-scratch_8_rotation.png', 'metal_nut-scratch_9_crop.png', 'metal_nut-scratch_9_flip1.png', 'metal_nut-scratch_9_rotation.png', 'metal_nut-scratch_10_crop.png', 'metal_nut-scratch_10_flip1.png', 'metal_nut-scratch_10_rotation.png', 'metal_nut-scratch_11_crop.png', 'metal_nut-scratch_11_flip1.png', 'metal_nut-scratch_11_rotation.png', 'metal_nut-scratch_12_flip1.png', 'metal_nut-scratch_12_rotation.png', 'metal_nut-scratch_13_flip1.png', 'metal_nut-scratch_13_rotation.png', 'metal_nut-scratch_14_flip1.png', 'metal_nut-scratch_14_rotation.png', 'metal_nut-scratch_15_flip1.png', 'metal_nut-scratch_15_rotation.png', 'metal_nut-scratch_16_flip1.png', 'metal_nut-scratch_16_rotation.png', 'metal_nut-scratch_17_flip1.png', 'metal_nut-scratch_17_rotation.png', 'metal_nut-scratch_18_flip1.png', 'metal_nut-scratch_18_rotation.png', 'metal_nut-scratch_19_flip1.png', 'metal_nut-scratch_19_rotation.png', 'metal_nut-scratch_20_flip1.png', 'metal_nut-scratch_20_rotation.png', 'metal_nut-scratch_21_flip1.png', 'metal_nut-scratch_21_rotation.png', 'metal_nut-scratch_22_flip1.png', 'metal_nut-scratch_22_rotation.png', 'metal_nut-scratch_23_flip1.png', 'metal_nut-scratch_23_rotation.png', 'metal_nut-scratch_24_flip1.png', 'metal_nut-scratch_25_flip1.png', 'metal_nut-scratch_26_flip1.png', 'metal_nut-scratch_27_flip1.png', 'metal_nut-scratch_28_flip1.png', 'metal_nut-scratch_29_flip1.png', 'metal_nut-scratch_30_flip1.png', 'metal_nut-scratch_31_flip1.png', 'metal_nut-scratch_32_flip1.png', 'metal_nut-scratch_33_flip1.png', 'metal_nut-scratch_34_flip1.png', 'metal_nut-scratch_35_flip1.png', 'metal_nut-scratch_36_flip1.png', 'metal_nut-scratch_37_flip1.png', 'metal_nut-scratch_38_flip1.png', 'metal_nut-scratch_39_flip1.png', 'metal_nut-scratch_40_flip1.png', 'metal_nut-scratch_41_flip1.png', 'metal_nut-scratch_42_flip1.png', 'metal_nut-scratch_43_flip1.png', 'metal_nut-scratch_44_flip1.png', 'metal_nut-scratch_45_flip1.png', 'metal_nut-scratch_46_flip1.png', 'metal_nut-scratch_47_flip1.png']\n"
     ]
    },
    {
     "name": "stderr",
     "output_type": "stream",
     "text": [
      "\r",
      " 12%|█▎        | 11/88 [00:21<03:07,  2.44s/it]"
     ]
    },
    {
     "name": "stdout",
     "output_type": "stream",
     "text": [
      "screw-thread_side\n",
      "['10019.png', '10114.png', '10169.png', '10888.png', '11610.png', '11802.png', '12153.png', '13004.png', '13019.png', '13106.png', '13766.png', '14066.png', 'screw-thread_side_0_crop.png', 'screw-thread_side_0_flip1.png', 'screw-thread_side_0_rotation.png', 'screw-thread_side_1_crop.png', 'screw-thread_side_1_flip1.png', 'screw-thread_side_1_rotation.png', 'screw-thread_side_2_crop.png', 'screw-thread_side_2_flip1.png', 'screw-thread_side_2_rotation.png', 'screw-thread_side_3_crop.png', 'screw-thread_side_3_flip1.png', 'screw-thread_side_3_rotation.png', 'screw-thread_side_4_crop.png', 'screw-thread_side_4_flip1.png', 'screw-thread_side_4_rotation.png', 'screw-thread_side_5_crop.png', 'screw-thread_side_5_flip1.png', 'screw-thread_side_5_rotation.png', 'screw-thread_side_6_crop.png', 'screw-thread_side_6_flip1.png', 'screw-thread_side_6_rotation.png', 'screw-thread_side_7_crop.png', 'screw-thread_side_7_flip1.png', 'screw-thread_side_7_rotation.png', 'screw-thread_side_8_crop.png', 'screw-thread_side_8_flip1.png', 'screw-thread_side_8_rotation.png', 'screw-thread_side_9_crop.png', 'screw-thread_side_9_flip1.png', 'screw-thread_side_9_rotation.png', 'screw-thread_side_10_crop.png', 'screw-thread_side_10_flip1.png', 'screw-thread_side_10_rotation.png', 'screw-thread_side_11_crop.png', 'screw-thread_side_11_flip1.png', 'screw-thread_side_11_rotation.png', 'screw-thread_side_12_flip1.png', 'screw-thread_side_12_rotation.png', 'screw-thread_side_13_flip1.png', 'screw-thread_side_13_rotation.png', 'screw-thread_side_14_flip1.png', 'screw-thread_side_14_rotation.png', 'screw-thread_side_15_flip1.png', 'screw-thread_side_15_rotation.png', 'screw-thread_side_16_flip1.png', 'screw-thread_side_16_rotation.png', 'screw-thread_side_17_flip1.png', 'screw-thread_side_17_rotation.png', 'screw-thread_side_18_flip1.png', 'screw-thread_side_18_rotation.png', 'screw-thread_side_19_flip1.png', 'screw-thread_side_19_rotation.png', 'screw-thread_side_20_flip1.png', 'screw-thread_side_20_rotation.png', 'screw-thread_side_21_flip1.png', 'screw-thread_side_21_rotation.png', 'screw-thread_side_22_flip1.png', 'screw-thread_side_22_rotation.png', 'screw-thread_side_23_flip1.png', 'screw-thread_side_23_rotation.png', 'screw-thread_side_24_flip1.png', 'screw-thread_side_25_flip1.png', 'screw-thread_side_26_flip1.png', 'screw-thread_side_27_flip1.png', 'screw-thread_side_28_flip1.png', 'screw-thread_side_29_flip1.png', 'screw-thread_side_30_flip1.png', 'screw-thread_side_31_flip1.png', 'screw-thread_side_32_flip1.png', 'screw-thread_side_33_flip1.png', 'screw-thread_side_34_flip1.png', 'screw-thread_side_35_flip1.png', 'screw-thread_side_36_flip1.png', 'screw-thread_side_37_flip1.png', 'screw-thread_side_38_flip1.png', 'screw-thread_side_39_flip1.png', 'screw-thread_side_40_flip1.png', 'screw-thread_side_41_flip1.png', 'screw-thread_side_42_flip1.png', 'screw-thread_side_43_flip1.png', 'screw-thread_side_44_flip1.png', 'screw-thread_side_45_flip1.png', 'screw-thread_side_46_flip1.png', 'screw-thread_side_47_flip1.png']\n"
     ]
    },
    {
     "name": "stderr",
     "output_type": "stream",
     "text": [
      "\r",
      " 15%|█▍        | 13/88 [00:28<03:21,  2.68s/it]"
     ]
    },
    {
     "name": "stdout",
     "output_type": "stream",
     "text": [
      "zipper-fabric_border\n",
      "['10020.png', '10861.png', '13029.png', '13302.png', '13347.png', '13389.png', '13391.png', '13498.png', '14211.png', 'zipper-fabric_border_0_crop.png', 'zipper-fabric_border_0_flip1.png', 'zipper-fabric_border_0_rotation.png', 'zipper-fabric_border_1_crop.png', 'zipper-fabric_border_1_flip1.png', 'zipper-fabric_border_1_rotation.png', 'zipper-fabric_border_2_crop.png', 'zipper-fabric_border_2_flip1.png', 'zipper-fabric_border_2_rotation.png', 'zipper-fabric_border_3_crop.png', 'zipper-fabric_border_3_flip1.png', 'zipper-fabric_border_3_rotation.png', 'zipper-fabric_border_4_crop.png', 'zipper-fabric_border_4_flip1.png', 'zipper-fabric_border_4_rotation.png', 'zipper-fabric_border_5_crop.png', 'zipper-fabric_border_5_flip1.png', 'zipper-fabric_border_5_rotation.png', 'zipper-fabric_border_6_crop.png', 'zipper-fabric_border_6_flip1.png', 'zipper-fabric_border_6_rotation.png', 'zipper-fabric_border_7_crop.png', 'zipper-fabric_border_7_flip1.png', 'zipper-fabric_border_7_rotation.png', 'zipper-fabric_border_8_crop.png', 'zipper-fabric_border_8_flip1.png', 'zipper-fabric_border_8_rotation.png', 'zipper-fabric_border_9_flip1.png', 'zipper-fabric_border_9_rotation.png', 'zipper-fabric_border_10_flip1.png', 'zipper-fabric_border_10_rotation.png', 'zipper-fabric_border_11_flip1.png', 'zipper-fabric_border_11_rotation.png', 'zipper-fabric_border_12_flip1.png', 'zipper-fabric_border_12_rotation.png', 'zipper-fabric_border_13_flip1.png', 'zipper-fabric_border_13_rotation.png', 'zipper-fabric_border_14_flip1.png', 'zipper-fabric_border_14_rotation.png', 'zipper-fabric_border_15_flip1.png', 'zipper-fabric_border_15_rotation.png', 'zipper-fabric_border_16_flip1.png', 'zipper-fabric_border_16_rotation.png', 'zipper-fabric_border_17_flip1.png', 'zipper-fabric_border_17_rotation.png', 'zipper-fabric_border_18_flip1.png', 'zipper-fabric_border_19_flip1.png', 'zipper-fabric_border_20_flip1.png', 'zipper-fabric_border_21_flip1.png', 'zipper-fabric_border_22_flip1.png', 'zipper-fabric_border_23_flip1.png', 'zipper-fabric_border_24_flip1.png', 'zipper-fabric_border_25_flip1.png', 'zipper-fabric_border_26_flip1.png', 'zipper-fabric_border_27_flip1.png', 'zipper-fabric_border_28_flip1.png', 'zipper-fabric_border_29_flip1.png', 'zipper-fabric_border_30_flip1.png', 'zipper-fabric_border_31_flip1.png', 'zipper-fabric_border_32_flip1.png', 'zipper-fabric_border_33_flip1.png', 'zipper-fabric_border_34_flip1.png', 'zipper-fabric_border_35_flip1.png']\n"
     ]
    },
    {
     "name": "stderr",
     "output_type": "stream",
     "text": [
      "\r",
      " 16%|█▌        | 14/88 [00:32<03:48,  3.09s/it]"
     ]
    },
    {
     "name": "stdout",
     "output_type": "stream",
     "text": [
      "pill-scratch\n",
      "['10023.png', '10675.png', '10736.png', '11173.png', '11418.png', '11620.png', '11978.png', '13180.png', '13324.png', '13401.png', '13942.png', '14101.png', 'pill-scratch_0_crop.png', 'pill-scratch_0_flip1.png', 'pill-scratch_0_rotation.png', 'pill-scratch_1_crop.png', 'pill-scratch_1_flip1.png', 'pill-scratch_1_rotation.png', 'pill-scratch_2_crop.png', 'pill-scratch_2_flip1.png', 'pill-scratch_2_rotation.png', 'pill-scratch_3_crop.png', 'pill-scratch_3_flip1.png', 'pill-scratch_3_rotation.png', 'pill-scratch_4_crop.png', 'pill-scratch_4_flip1.png', 'pill-scratch_4_rotation.png', 'pill-scratch_5_crop.png', 'pill-scratch_5_flip1.png', 'pill-scratch_5_rotation.png', 'pill-scratch_6_crop.png', 'pill-scratch_6_flip1.png', 'pill-scratch_6_rotation.png', 'pill-scratch_7_crop.png', 'pill-scratch_7_flip1.png', 'pill-scratch_7_rotation.png', 'pill-scratch_8_crop.png', 'pill-scratch_8_flip1.png', 'pill-scratch_8_rotation.png', 'pill-scratch_9_crop.png', 'pill-scratch_9_flip1.png', 'pill-scratch_9_rotation.png', 'pill-scratch_10_crop.png', 'pill-scratch_10_flip1.png', 'pill-scratch_10_rotation.png', 'pill-scratch_11_crop.png', 'pill-scratch_11_flip1.png', 'pill-scratch_11_rotation.png', 'pill-scratch_12_flip1.png', 'pill-scratch_12_rotation.png', 'pill-scratch_13_flip1.png', 'pill-scratch_13_rotation.png', 'pill-scratch_14_flip1.png', 'pill-scratch_14_rotation.png', 'pill-scratch_15_flip1.png', 'pill-scratch_15_rotation.png', 'pill-scratch_16_flip1.png', 'pill-scratch_16_rotation.png', 'pill-scratch_17_flip1.png', 'pill-scratch_17_rotation.png', 'pill-scratch_18_flip1.png', 'pill-scratch_18_rotation.png', 'pill-scratch_19_flip1.png', 'pill-scratch_19_rotation.png', 'pill-scratch_20_flip1.png', 'pill-scratch_20_rotation.png', 'pill-scratch_21_flip1.png', 'pill-scratch_21_rotation.png', 'pill-scratch_22_flip1.png', 'pill-scratch_22_rotation.png', 'pill-scratch_23_flip1.png', 'pill-scratch_23_rotation.png', 'pill-scratch_24_flip1.png', 'pill-scratch_25_flip1.png', 'pill-scratch_26_flip1.png', 'pill-scratch_27_flip1.png', 'pill-scratch_28_flip1.png', 'pill-scratch_29_flip1.png', 'pill-scratch_30_flip1.png', 'pill-scratch_31_flip1.png', 'pill-scratch_32_flip1.png', 'pill-scratch_33_flip1.png', 'pill-scratch_34_flip1.png', 'pill-scratch_35_flip1.png', 'pill-scratch_36_flip1.png', 'pill-scratch_37_flip1.png', 'pill-scratch_38_flip1.png', 'pill-scratch_39_flip1.png', 'pill-scratch_40_flip1.png', 'pill-scratch_41_flip1.png', 'pill-scratch_42_flip1.png', 'pill-scratch_43_flip1.png', 'pill-scratch_44_flip1.png', 'pill-scratch_45_flip1.png', 'pill-scratch_46_flip1.png', 'pill-scratch_47_flip1.png']\n"
     ]
    },
    {
     "name": "stderr",
     "output_type": "stream",
     "text": [
      "\r",
      " 18%|█▊        | 16/88 [00:40<03:59,  3.32s/it]"
     ]
    },
    {
     "name": "stdout",
     "output_type": "stream",
     "text": [
      "hazelnut-crack\n",
      "['10033.png', '10089.png', '11209.png', '12354.png', '12696.png', '12864.png', '13704.png', '13959.png', '14086.png', 'hazelnut-crack_0_crop.png', 'hazelnut-crack_0_flip1.png', 'hazelnut-crack_0_rotation.png', 'hazelnut-crack_1_crop.png', 'hazelnut-crack_1_flip1.png', 'hazelnut-crack_1_rotation.png', 'hazelnut-crack_2_crop.png', 'hazelnut-crack_2_flip1.png', 'hazelnut-crack_2_rotation.png', 'hazelnut-crack_3_crop.png', 'hazelnut-crack_3_flip1.png', 'hazelnut-crack_3_rotation.png', 'hazelnut-crack_4_crop.png', 'hazelnut-crack_4_flip1.png', 'hazelnut-crack_4_rotation.png', 'hazelnut-crack_5_crop.png', 'hazelnut-crack_5_flip1.png', 'hazelnut-crack_5_rotation.png', 'hazelnut-crack_6_crop.png', 'hazelnut-crack_6_flip1.png', 'hazelnut-crack_6_rotation.png', 'hazelnut-crack_7_crop.png', 'hazelnut-crack_7_flip1.png', 'hazelnut-crack_7_rotation.png', 'hazelnut-crack_8_crop.png', 'hazelnut-crack_8_flip1.png', 'hazelnut-crack_8_rotation.png', 'hazelnut-crack_9_flip1.png', 'hazelnut-crack_9_rotation.png', 'hazelnut-crack_10_flip1.png', 'hazelnut-crack_10_rotation.png', 'hazelnut-crack_11_flip1.png', 'hazelnut-crack_11_rotation.png', 'hazelnut-crack_12_flip1.png', 'hazelnut-crack_12_rotation.png', 'hazelnut-crack_13_flip1.png', 'hazelnut-crack_13_rotation.png', 'hazelnut-crack_14_flip1.png', 'hazelnut-crack_14_rotation.png', 'hazelnut-crack_15_flip1.png', 'hazelnut-crack_15_rotation.png', 'hazelnut-crack_16_flip1.png', 'hazelnut-crack_16_rotation.png', 'hazelnut-crack_17_flip1.png', 'hazelnut-crack_17_rotation.png', 'hazelnut-crack_18_flip1.png', 'hazelnut-crack_19_flip1.png', 'hazelnut-crack_20_flip1.png', 'hazelnut-crack_21_flip1.png', 'hazelnut-crack_22_flip1.png', 'hazelnut-crack_23_flip1.png', 'hazelnut-crack_24_flip1.png', 'hazelnut-crack_25_flip1.png', 'hazelnut-crack_26_flip1.png', 'hazelnut-crack_27_flip1.png', 'hazelnut-crack_28_flip1.png', 'hazelnut-crack_29_flip1.png', 'hazelnut-crack_30_flip1.png', 'hazelnut-crack_31_flip1.png', 'hazelnut-crack_32_flip1.png', 'hazelnut-crack_33_flip1.png', 'hazelnut-crack_34_flip1.png', 'hazelnut-crack_35_flip1.png']\n"
     ]
    },
    {
     "name": "stderr",
     "output_type": "stream",
     "text": [
      "\r",
      " 20%|██        | 18/88 [00:46<03:43,  3.19s/it]"
     ]
    },
    {
     "name": "stdout",
     "output_type": "stream",
     "text": [
      "screw-manipulated_front\n",
      "['10035.png', '10842.png', '11084.png', '11097.png', '11129.png', '11442.png', '11446.png', '11528.png', '12344.png', '12979.png', '13532.png', '14175.png', 'screw-manipulated_front_0_crop.png', 'screw-manipulated_front_0_flip1.png', 'screw-manipulated_front_0_rotation.png', 'screw-manipulated_front_1_crop.png', 'screw-manipulated_front_1_flip1.png', 'screw-manipulated_front_1_rotation.png', 'screw-manipulated_front_2_crop.png', 'screw-manipulated_front_2_flip1.png', 'screw-manipulated_front_2_rotation.png', 'screw-manipulated_front_3_crop.png', 'screw-manipulated_front_3_flip1.png', 'screw-manipulated_front_3_rotation.png', 'screw-manipulated_front_4_crop.png', 'screw-manipulated_front_4_flip1.png', 'screw-manipulated_front_4_rotation.png', 'screw-manipulated_front_5_crop.png', 'screw-manipulated_front_5_flip1.png', 'screw-manipulated_front_5_rotation.png', 'screw-manipulated_front_6_crop.png', 'screw-manipulated_front_6_flip1.png', 'screw-manipulated_front_6_rotation.png', 'screw-manipulated_front_7_crop.png', 'screw-manipulated_front_7_flip1.png', 'screw-manipulated_front_7_rotation.png', 'screw-manipulated_front_8_crop.png', 'screw-manipulated_front_8_flip1.png', 'screw-manipulated_front_8_rotation.png', 'screw-manipulated_front_9_crop.png', 'screw-manipulated_front_9_flip1.png', 'screw-manipulated_front_9_rotation.png', 'screw-manipulated_front_10_crop.png', 'screw-manipulated_front_10_flip1.png', 'screw-manipulated_front_10_rotation.png', 'screw-manipulated_front_11_crop.png', 'screw-manipulated_front_11_flip1.png', 'screw-manipulated_front_11_rotation.png', 'screw-manipulated_front_12_flip1.png', 'screw-manipulated_front_12_rotation.png', 'screw-manipulated_front_13_flip1.png', 'screw-manipulated_front_13_rotation.png', 'screw-manipulated_front_14_flip1.png', 'screw-manipulated_front_14_rotation.png', 'screw-manipulated_front_15_flip1.png', 'screw-manipulated_front_15_rotation.png', 'screw-manipulated_front_16_flip1.png', 'screw-manipulated_front_16_rotation.png', 'screw-manipulated_front_17_flip1.png', 'screw-manipulated_front_17_rotation.png', 'screw-manipulated_front_18_flip1.png', 'screw-manipulated_front_18_rotation.png', 'screw-manipulated_front_19_flip1.png', 'screw-manipulated_front_19_rotation.png', 'screw-manipulated_front_20_flip1.png', 'screw-manipulated_front_20_rotation.png', 'screw-manipulated_front_21_flip1.png', 'screw-manipulated_front_21_rotation.png', 'screw-manipulated_front_22_flip1.png', 'screw-manipulated_front_22_rotation.png', 'screw-manipulated_front_23_flip1.png', 'screw-manipulated_front_23_rotation.png', 'screw-manipulated_front_24_flip1.png', 'screw-manipulated_front_25_flip1.png', 'screw-manipulated_front_26_flip1.png', 'screw-manipulated_front_27_flip1.png', 'screw-manipulated_front_28_flip1.png', 'screw-manipulated_front_29_flip1.png', 'screw-manipulated_front_30_flip1.png', 'screw-manipulated_front_31_flip1.png', 'screw-manipulated_front_32_flip1.png', 'screw-manipulated_front_33_flip1.png', 'screw-manipulated_front_34_flip1.png', 'screw-manipulated_front_35_flip1.png', 'screw-manipulated_front_36_flip1.png', 'screw-manipulated_front_37_flip1.png', 'screw-manipulated_front_38_flip1.png', 'screw-manipulated_front_39_flip1.png', 'screw-manipulated_front_40_flip1.png', 'screw-manipulated_front_41_flip1.png', 'screw-manipulated_front_42_flip1.png', 'screw-manipulated_front_43_flip1.png', 'screw-manipulated_front_44_flip1.png', 'screw-manipulated_front_45_flip1.png', 'screw-manipulated_front_46_flip1.png', 'screw-manipulated_front_47_flip1.png']\n"
     ]
    },
    {
     "name": "stderr",
     "output_type": "stream",
     "text": [
      "\r",
      " 22%|██▏       | 19/88 [00:52<04:23,  3.82s/it]"
     ]
    },
    {
     "name": "stdout",
     "output_type": "stream",
     "text": [
      "bottle-contamination\n",
      "['10053.png', '10759.png', '10837.png', '11273.png', '11307.png', '11763.png', '12276.png', '12757.png', '12787.png', '13112.png', '13462.png', 'bottle-contamination_0_crop.png', 'bottle-contamination_0_flip1.png', 'bottle-contamination_0_rotation.png', 'bottle-contamination_1_crop.png', 'bottle-contamination_1_flip1.png', 'bottle-contamination_1_rotation.png', 'bottle-contamination_2_crop.png', 'bottle-contamination_2_flip1.png', 'bottle-contamination_2_rotation.png', 'bottle-contamination_3_crop.png', 'bottle-contamination_3_flip1.png', 'bottle-contamination_3_rotation.png', 'bottle-contamination_4_crop.png', 'bottle-contamination_4_flip1.png', 'bottle-contamination_4_rotation.png', 'bottle-contamination_5_crop.png', 'bottle-contamination_5_flip1.png', 'bottle-contamination_5_rotation.png', 'bottle-contamination_6_crop.png', 'bottle-contamination_6_flip1.png', 'bottle-contamination_6_rotation.png', 'bottle-contamination_7_crop.png', 'bottle-contamination_7_flip1.png', 'bottle-contamination_7_rotation.png', 'bottle-contamination_8_crop.png', 'bottle-contamination_8_flip1.png', 'bottle-contamination_8_rotation.png', 'bottle-contamination_9_crop.png', 'bottle-contamination_9_flip1.png', 'bottle-contamination_9_rotation.png', 'bottle-contamination_10_crop.png', 'bottle-contamination_10_flip1.png', 'bottle-contamination_10_rotation.png', 'bottle-contamination_11_flip1.png', 'bottle-contamination_11_rotation.png', 'bottle-contamination_12_flip1.png', 'bottle-contamination_12_rotation.png', 'bottle-contamination_13_flip1.png', 'bottle-contamination_13_rotation.png', 'bottle-contamination_14_flip1.png', 'bottle-contamination_14_rotation.png', 'bottle-contamination_15_flip1.png', 'bottle-contamination_15_rotation.png', 'bottle-contamination_16_flip1.png', 'bottle-contamination_16_rotation.png', 'bottle-contamination_17_flip1.png', 'bottle-contamination_17_rotation.png', 'bottle-contamination_18_flip1.png', 'bottle-contamination_18_rotation.png', 'bottle-contamination_19_flip1.png', 'bottle-contamination_19_rotation.png', 'bottle-contamination_20_flip1.png', 'bottle-contamination_20_rotation.png', 'bottle-contamination_21_flip1.png', 'bottle-contamination_21_rotation.png', 'bottle-contamination_22_flip1.png', 'bottle-contamination_23_flip1.png', 'bottle-contamination_24_flip1.png', 'bottle-contamination_25_flip1.png', 'bottle-contamination_26_flip1.png', 'bottle-contamination_27_flip1.png', 'bottle-contamination_28_flip1.png', 'bottle-contamination_29_flip1.png', 'bottle-contamination_30_flip1.png', 'bottle-contamination_31_flip1.png', 'bottle-contamination_32_flip1.png', 'bottle-contamination_33_flip1.png', 'bottle-contamination_34_flip1.png', 'bottle-contamination_35_flip1.png', 'bottle-contamination_36_flip1.png', 'bottle-contamination_37_flip1.png', 'bottle-contamination_38_flip1.png', 'bottle-contamination_39_flip1.png', 'bottle-contamination_40_flip1.png', 'bottle-contamination_41_flip1.png', 'bottle-contamination_42_flip1.png', 'bottle-contamination_43_flip1.png']\n"
     ]
    },
    {
     "name": "stderr",
     "output_type": "stream",
     "text": [
      "\r",
      " 27%|██▋       | 24/88 [00:58<02:28,  2.32s/it]"
     ]
    },
    {
     "name": "stdout",
     "output_type": "stream",
     "text": [
      "zipper-split_teeth\n",
      "['10073.png', '10426.png', '10557.png', '10605.png', '10887.png', '11456.png', '12374.png', '12587.png', '13991.png', 'zipper-split_teeth_0_crop.png', 'zipper-split_teeth_0_flip1.png', 'zipper-split_teeth_0_rotation.png', 'zipper-split_teeth_1_crop.png', 'zipper-split_teeth_1_flip1.png', 'zipper-split_teeth_1_rotation.png', 'zipper-split_teeth_2_crop.png', 'zipper-split_teeth_2_flip1.png', 'zipper-split_teeth_2_rotation.png', 'zipper-split_teeth_3_crop.png', 'zipper-split_teeth_3_flip1.png', 'zipper-split_teeth_3_rotation.png', 'zipper-split_teeth_4_crop.png', 'zipper-split_teeth_4_flip1.png', 'zipper-split_teeth_4_rotation.png', 'zipper-split_teeth_5_crop.png', 'zipper-split_teeth_5_flip1.png', 'zipper-split_teeth_5_rotation.png', 'zipper-split_teeth_6_crop.png', 'zipper-split_teeth_6_flip1.png', 'zipper-split_teeth_6_rotation.png', 'zipper-split_teeth_7_crop.png', 'zipper-split_teeth_7_flip1.png', 'zipper-split_teeth_7_rotation.png', 'zipper-split_teeth_8_crop.png', 'zipper-split_teeth_8_flip1.png', 'zipper-split_teeth_8_rotation.png', 'zipper-split_teeth_9_flip1.png', 'zipper-split_teeth_9_rotation.png', 'zipper-split_teeth_10_flip1.png', 'zipper-split_teeth_10_rotation.png', 'zipper-split_teeth_11_flip1.png', 'zipper-split_teeth_11_rotation.png', 'zipper-split_teeth_12_flip1.png', 'zipper-split_teeth_12_rotation.png', 'zipper-split_teeth_13_flip1.png', 'zipper-split_teeth_13_rotation.png', 'zipper-split_teeth_14_flip1.png', 'zipper-split_teeth_14_rotation.png', 'zipper-split_teeth_15_flip1.png', 'zipper-split_teeth_15_rotation.png', 'zipper-split_teeth_16_flip1.png', 'zipper-split_teeth_16_rotation.png', 'zipper-split_teeth_17_flip1.png', 'zipper-split_teeth_17_rotation.png', 'zipper-split_teeth_18_flip1.png', 'zipper-split_teeth_19_flip1.png', 'zipper-split_teeth_20_flip1.png', 'zipper-split_teeth_21_flip1.png', 'zipper-split_teeth_22_flip1.png', 'zipper-split_teeth_23_flip1.png', 'zipper-split_teeth_24_flip1.png', 'zipper-split_teeth_25_flip1.png', 'zipper-split_teeth_26_flip1.png', 'zipper-split_teeth_27_flip1.png', 'zipper-split_teeth_28_flip1.png', 'zipper-split_teeth_29_flip1.png', 'zipper-split_teeth_30_flip1.png', 'zipper-split_teeth_31_flip1.png', 'zipper-split_teeth_32_flip1.png', 'zipper-split_teeth_33_flip1.png', 'zipper-split_teeth_34_flip1.png', 'zipper-split_teeth_35_flip1.png']\n"
     ]
    },
    {
     "name": "stderr",
     "output_type": "stream",
     "text": [
      "\r",
      " 30%|██▉       | 26/88 [01:03<02:24,  2.34s/it]"
     ]
    },
    {
     "name": "stdout",
     "output_type": "stream",
     "text": [
      "pill-crack\n",
      "['10082.png', '10407.png', '10748.png', '11042.png', '11461.png', '11546.png', '12782.png', '12825.png', '13054.png', '13433.png', '13468.png', '13591.png', '14113.png', 'pill-crack_0_crop.png', 'pill-crack_0_flip1.png', 'pill-crack_0_rotation.png', 'pill-crack_1_crop.png', 'pill-crack_1_flip1.png', 'pill-crack_1_rotation.png', 'pill-crack_2_crop.png', 'pill-crack_2_flip1.png', 'pill-crack_2_rotation.png', 'pill-crack_3_crop.png', 'pill-crack_3_flip1.png', 'pill-crack_3_rotation.png', 'pill-crack_4_crop.png', 'pill-crack_4_flip1.png', 'pill-crack_4_rotation.png', 'pill-crack_5_crop.png', 'pill-crack_5_flip1.png', 'pill-crack_5_rotation.png', 'pill-crack_6_crop.png', 'pill-crack_6_flip1.png', 'pill-crack_6_rotation.png', 'pill-crack_7_crop.png', 'pill-crack_7_flip1.png', 'pill-crack_7_rotation.png', 'pill-crack_8_crop.png', 'pill-crack_8_flip1.png', 'pill-crack_8_rotation.png', 'pill-crack_9_crop.png', 'pill-crack_9_flip1.png', 'pill-crack_9_rotation.png', 'pill-crack_10_crop.png', 'pill-crack_10_flip1.png', 'pill-crack_10_rotation.png', 'pill-crack_11_crop.png', 'pill-crack_11_flip1.png', 'pill-crack_11_rotation.png', 'pill-crack_12_crop.png', 'pill-crack_12_flip1.png', 'pill-crack_12_rotation.png', 'pill-crack_13_flip1.png', 'pill-crack_13_rotation.png', 'pill-crack_14_flip1.png', 'pill-crack_14_rotation.png', 'pill-crack_15_flip1.png', 'pill-crack_15_rotation.png', 'pill-crack_16_flip1.png', 'pill-crack_16_rotation.png', 'pill-crack_17_flip1.png', 'pill-crack_17_rotation.png', 'pill-crack_18_flip1.png', 'pill-crack_18_rotation.png', 'pill-crack_19_flip1.png', 'pill-crack_19_rotation.png', 'pill-crack_20_flip1.png', 'pill-crack_20_rotation.png', 'pill-crack_21_flip1.png', 'pill-crack_21_rotation.png', 'pill-crack_22_flip1.png', 'pill-crack_22_rotation.png', 'pill-crack_23_flip1.png', 'pill-crack_23_rotation.png', 'pill-crack_24_flip1.png', 'pill-crack_24_rotation.png', 'pill-crack_25_flip1.png', 'pill-crack_25_rotation.png', 'pill-crack_26_flip1.png', 'pill-crack_27_flip1.png', 'pill-crack_28_flip1.png', 'pill-crack_29_flip1.png', 'pill-crack_30_flip1.png', 'pill-crack_31_flip1.png', 'pill-crack_32_flip1.png', 'pill-crack_33_flip1.png', 'pill-crack_34_flip1.png', 'pill-crack_35_flip1.png', 'pill-crack_36_flip1.png', 'pill-crack_37_flip1.png', 'pill-crack_38_flip1.png', 'pill-crack_39_flip1.png', 'pill-crack_40_flip1.png', 'pill-crack_41_flip1.png', 'pill-crack_42_flip1.png', 'pill-crack_43_flip1.png', 'pill-crack_44_flip1.png', 'pill-crack_45_flip1.png', 'pill-crack_46_flip1.png', 'pill-crack_47_flip1.png', 'pill-crack_48_flip1.png', 'pill-crack_49_flip1.png', 'pill-crack_50_flip1.png', 'pill-crack_51_flip1.png']\n"
     ]
    },
    {
     "name": "stderr",
     "output_type": "stream",
     "text": [
      "\r",
      " 31%|███       | 27/88 [01:11<03:15,  3.21s/it]"
     ]
    },
    {
     "name": "stdout",
     "output_type": "stream",
     "text": [
      "wood-combined\n",
      "['10088.png', '12184.png', '12482.png', '12784.png', '13074.png', '13491.png', 'wood-combined_0_crop.png', 'wood-combined_0_flip1.png', 'wood-combined_0_rotation.png', 'wood-combined_1_crop.png', 'wood-combined_1_flip1.png', 'wood-combined_1_rotation.png', 'wood-combined_2_crop.png', 'wood-combined_2_flip1.png', 'wood-combined_2_rotation.png', 'wood-combined_3_crop.png', 'wood-combined_3_flip1.png', 'wood-combined_3_rotation.png', 'wood-combined_4_crop.png', 'wood-combined_4_flip1.png', 'wood-combined_4_rotation.png', 'wood-combined_5_crop.png', 'wood-combined_5_flip1.png', 'wood-combined_5_rotation.png', 'wood-combined_6_flip1.png', 'wood-combined_6_rotation.png', 'wood-combined_7_flip1.png', 'wood-combined_7_rotation.png', 'wood-combined_8_flip1.png', 'wood-combined_8_rotation.png', 'wood-combined_9_flip1.png', 'wood-combined_9_rotation.png', 'wood-combined_10_flip1.png', 'wood-combined_10_rotation.png', 'wood-combined_11_flip1.png', 'wood-combined_11_rotation.png', 'wood-combined_12_flip1.png', 'wood-combined_13_flip1.png', 'wood-combined_14_flip1.png', 'wood-combined_15_flip1.png', 'wood-combined_16_flip1.png', 'wood-combined_17_flip1.png', 'wood-combined_18_flip1.png', 'wood-combined_19_flip1.png', 'wood-combined_20_flip1.png', 'wood-combined_21_flip1.png', 'wood-combined_22_flip1.png', 'wood-combined_23_flip1.png']\n"
     ]
    },
    {
     "name": "stderr",
     "output_type": "stream",
     "text": [
      "\r",
      " 32%|███▏      | 28/88 [01:15<03:21,  3.36s/it]"
     ]
    },
    {
     "name": "stdout",
     "output_type": "stream",
     "text": [
      "pill-color\n",
      "['10092.png', '10104.png', '10742.png', '10749.png', '10820.png', '11489.png', '11879.png', '11945.png', '12189.png', '12291.png', '13879.png', '13945.png', '14252.png', 'pill-color_0_crop.png', 'pill-color_0_flip1.png', 'pill-color_0_rotation.png', 'pill-color_1_crop.png', 'pill-color_1_flip1.png', 'pill-color_1_rotation.png', 'pill-color_2_crop.png', 'pill-color_2_flip1.png', 'pill-color_2_rotation.png', 'pill-color_3_crop.png', 'pill-color_3_flip1.png', 'pill-color_3_rotation.png', 'pill-color_4_crop.png', 'pill-color_4_flip1.png', 'pill-color_4_rotation.png', 'pill-color_5_crop.png', 'pill-color_5_flip1.png', 'pill-color_5_rotation.png', 'pill-color_6_crop.png', 'pill-color_6_flip1.png', 'pill-color_6_rotation.png', 'pill-color_7_crop.png', 'pill-color_7_flip1.png', 'pill-color_7_rotation.png', 'pill-color_8_crop.png', 'pill-color_8_flip1.png', 'pill-color_8_rotation.png', 'pill-color_9_crop.png', 'pill-color_9_flip1.png', 'pill-color_9_rotation.png', 'pill-color_10_crop.png', 'pill-color_10_flip1.png', 'pill-color_10_rotation.png', 'pill-color_11_crop.png', 'pill-color_11_flip1.png', 'pill-color_11_rotation.png', 'pill-color_12_crop.png', 'pill-color_12_flip1.png', 'pill-color_12_rotation.png', 'pill-color_13_flip1.png', 'pill-color_13_rotation.png', 'pill-color_14_flip1.png', 'pill-color_14_rotation.png', 'pill-color_15_flip1.png', 'pill-color_15_rotation.png', 'pill-color_16_flip1.png', 'pill-color_16_rotation.png', 'pill-color_17_flip1.png', 'pill-color_17_rotation.png', 'pill-color_18_flip1.png', 'pill-color_18_rotation.png', 'pill-color_19_flip1.png', 'pill-color_19_rotation.png', 'pill-color_20_flip1.png', 'pill-color_20_rotation.png', 'pill-color_21_flip1.png', 'pill-color_21_rotation.png', 'pill-color_22_flip1.png', 'pill-color_22_rotation.png', 'pill-color_23_flip1.png', 'pill-color_23_rotation.png', 'pill-color_24_flip1.png', 'pill-color_24_rotation.png', 'pill-color_25_flip1.png', 'pill-color_25_rotation.png', 'pill-color_26_flip1.png', 'pill-color_27_flip1.png', 'pill-color_28_flip1.png', 'pill-color_29_flip1.png', 'pill-color_30_flip1.png', 'pill-color_31_flip1.png', 'pill-color_32_flip1.png', 'pill-color_33_flip1.png', 'pill-color_34_flip1.png', 'pill-color_35_flip1.png', 'pill-color_36_flip1.png', 'pill-color_37_flip1.png', 'pill-color_38_flip1.png', 'pill-color_39_flip1.png', 'pill-color_40_flip1.png', 'pill-color_41_flip1.png', 'pill-color_42_flip1.png', 'pill-color_43_flip1.png', 'pill-color_44_flip1.png', 'pill-color_45_flip1.png', 'pill-color_46_flip1.png', 'pill-color_47_flip1.png', 'pill-color_48_flip1.png', 'pill-color_49_flip1.png', 'pill-color_50_flip1.png', 'pill-color_51_flip1.png']\n"
     ]
    },
    {
     "name": "stderr",
     "output_type": "stream",
     "text": [
      "\r",
      " 33%|███▎      | 29/88 [01:23<04:14,  4.32s/it]"
     ]
    },
    {
     "name": "stdout",
     "output_type": "stream",
     "text": [
      "screw-thread_top\n",
      "['10095.png', '11236.png', '11501.png', '11563.png', '12245.png', '12275.png', '12381.png', '12523.png', '12721.png', '13386.png', '13551.png', '14071.png', 'screw-thread_top_0_crop.png', 'screw-thread_top_0_flip1.png', 'screw-thread_top_0_rotation.png', 'screw-thread_top_1_crop.png', 'screw-thread_top_1_flip1.png', 'screw-thread_top_1_rotation.png', 'screw-thread_top_2_crop.png', 'screw-thread_top_2_flip1.png', 'screw-thread_top_2_rotation.png', 'screw-thread_top_3_crop.png', 'screw-thread_top_3_flip1.png', 'screw-thread_top_3_rotation.png', 'screw-thread_top_4_crop.png', 'screw-thread_top_4_flip1.png', 'screw-thread_top_4_rotation.png', 'screw-thread_top_5_crop.png', 'screw-thread_top_5_flip1.png', 'screw-thread_top_5_rotation.png', 'screw-thread_top_6_crop.png', 'screw-thread_top_6_flip1.png', 'screw-thread_top_6_rotation.png', 'screw-thread_top_7_crop.png', 'screw-thread_top_7_flip1.png', 'screw-thread_top_7_rotation.png', 'screw-thread_top_8_crop.png', 'screw-thread_top_8_flip1.png', 'screw-thread_top_8_rotation.png', 'screw-thread_top_9_crop.png', 'screw-thread_top_9_flip1.png', 'screw-thread_top_9_rotation.png', 'screw-thread_top_10_crop.png', 'screw-thread_top_10_flip1.png', 'screw-thread_top_10_rotation.png', 'screw-thread_top_11_crop.png', 'screw-thread_top_11_flip1.png', 'screw-thread_top_11_rotation.png', 'screw-thread_top_12_flip1.png', 'screw-thread_top_12_rotation.png', 'screw-thread_top_13_flip1.png', 'screw-thread_top_13_rotation.png', 'screw-thread_top_14_flip1.png', 'screw-thread_top_14_rotation.png', 'screw-thread_top_15_flip1.png', 'screw-thread_top_15_rotation.png', 'screw-thread_top_16_flip1.png', 'screw-thread_top_16_rotation.png', 'screw-thread_top_17_flip1.png', 'screw-thread_top_17_rotation.png', 'screw-thread_top_18_flip1.png', 'screw-thread_top_18_rotation.png', 'screw-thread_top_19_flip1.png', 'screw-thread_top_19_rotation.png', 'screw-thread_top_20_flip1.png', 'screw-thread_top_20_rotation.png', 'screw-thread_top_21_flip1.png', 'screw-thread_top_21_rotation.png', 'screw-thread_top_22_flip1.png', 'screw-thread_top_22_rotation.png', 'screw-thread_top_23_flip1.png', 'screw-thread_top_23_rotation.png', 'screw-thread_top_24_flip1.png', 'screw-thread_top_25_flip1.png', 'screw-thread_top_26_flip1.png', 'screw-thread_top_27_flip1.png', 'screw-thread_top_28_flip1.png', 'screw-thread_top_29_flip1.png', 'screw-thread_top_30_flip1.png', 'screw-thread_top_31_flip1.png', 'screw-thread_top_32_flip1.png', 'screw-thread_top_33_flip1.png', 'screw-thread_top_34_flip1.png', 'screw-thread_top_35_flip1.png', 'screw-thread_top_36_flip1.png', 'screw-thread_top_37_flip1.png', 'screw-thread_top_38_flip1.png', 'screw-thread_top_39_flip1.png', 'screw-thread_top_40_flip1.png', 'screw-thread_top_41_flip1.png', 'screw-thread_top_42_flip1.png', 'screw-thread_top_43_flip1.png', 'screw-thread_top_44_flip1.png', 'screw-thread_top_45_flip1.png', 'screw-thread_top_46_flip1.png', 'screw-thread_top_47_flip1.png']\n"
     ]
    },
    {
     "name": "stderr",
     "output_type": "stream",
     "text": [
      "\r",
      " 34%|███▍      | 30/88 [01:30<04:38,  4.81s/it]"
     ]
    },
    {
     "name": "stdout",
     "output_type": "stream",
     "text": [
      "cable-missing_cable\n",
      "['10096.png', '10791.png', '11344.png', '11632.png', '12703.png', '14167.png', 'cable-missing_cable_0_crop.png', 'cable-missing_cable_0_flip1.png', 'cable-missing_cable_0_rotation.png', 'cable-missing_cable_1_crop.png', 'cable-missing_cable_1_flip1.png', 'cable-missing_cable_1_rotation.png', 'cable-missing_cable_2_crop.png', 'cable-missing_cable_2_flip1.png', 'cable-missing_cable_2_rotation.png', 'cable-missing_cable_3_crop.png', 'cable-missing_cable_3_flip1.png', 'cable-missing_cable_3_rotation.png', 'cable-missing_cable_4_crop.png', 'cable-missing_cable_4_flip1.png', 'cable-missing_cable_4_rotation.png', 'cable-missing_cable_5_crop.png', 'cable-missing_cable_5_flip1.png', 'cable-missing_cable_5_rotation.png', 'cable-missing_cable_6_flip1.png', 'cable-missing_cable_6_rotation.png', 'cable-missing_cable_7_flip1.png', 'cable-missing_cable_7_rotation.png', 'cable-missing_cable_8_flip1.png', 'cable-missing_cable_8_rotation.png', 'cable-missing_cable_9_flip1.png', 'cable-missing_cable_9_rotation.png', 'cable-missing_cable_10_flip1.png', 'cable-missing_cable_10_rotation.png', 'cable-missing_cable_11_flip1.png', 'cable-missing_cable_11_rotation.png', 'cable-missing_cable_12_flip1.png', 'cable-missing_cable_13_flip1.png', 'cable-missing_cable_14_flip1.png', 'cable-missing_cable_15_flip1.png', 'cable-missing_cable_16_flip1.png', 'cable-missing_cable_17_flip1.png', 'cable-missing_cable_18_flip1.png', 'cable-missing_cable_19_flip1.png', 'cable-missing_cable_20_flip1.png', 'cable-missing_cable_21_flip1.png', 'cable-missing_cable_22_flip1.png', 'cable-missing_cable_23_flip1.png']\n"
     ]
    },
    {
     "name": "stderr",
     "output_type": "stream",
     "text": [
      "\r",
      " 35%|███▌      | 31/88 [01:34<04:25,  4.65s/it]"
     ]
    },
    {
     "name": "stdout",
     "output_type": "stream",
     "text": [
      "capsule-squeeze\n",
      "['10110.png', '10111.png', '10343.png', '11613.png', '12311.png', '12424.png', '12632.png', '12715.png', '14105.png', '14217.png', 'capsule-squeeze_0_crop.png', 'capsule-squeeze_0_flip1.png', 'capsule-squeeze_0_rotation.png', 'capsule-squeeze_1_crop.png', 'capsule-squeeze_1_flip1.png', 'capsule-squeeze_1_rotation.png', 'capsule-squeeze_2_crop.png', 'capsule-squeeze_2_flip1.png', 'capsule-squeeze_2_rotation.png', 'capsule-squeeze_3_crop.png', 'capsule-squeeze_3_flip1.png', 'capsule-squeeze_3_rotation.png', 'capsule-squeeze_4_crop.png', 'capsule-squeeze_4_flip1.png', 'capsule-squeeze_4_rotation.png', 'capsule-squeeze_5_crop.png', 'capsule-squeeze_5_flip1.png', 'capsule-squeeze_5_rotation.png', 'capsule-squeeze_6_crop.png', 'capsule-squeeze_6_flip1.png', 'capsule-squeeze_6_rotation.png', 'capsule-squeeze_7_crop.png', 'capsule-squeeze_7_flip1.png', 'capsule-squeeze_7_rotation.png', 'capsule-squeeze_8_crop.png', 'capsule-squeeze_8_flip1.png', 'capsule-squeeze_8_rotation.png', 'capsule-squeeze_9_crop.png', 'capsule-squeeze_9_flip1.png', 'capsule-squeeze_9_rotation.png', 'capsule-squeeze_10_flip1.png', 'capsule-squeeze_10_rotation.png', 'capsule-squeeze_11_flip1.png', 'capsule-squeeze_11_rotation.png', 'capsule-squeeze_12_flip1.png', 'capsule-squeeze_12_rotation.png', 'capsule-squeeze_13_flip1.png', 'capsule-squeeze_13_rotation.png', 'capsule-squeeze_14_flip1.png', 'capsule-squeeze_14_rotation.png', 'capsule-squeeze_15_flip1.png', 'capsule-squeeze_15_rotation.png', 'capsule-squeeze_16_flip1.png', 'capsule-squeeze_16_rotation.png', 'capsule-squeeze_17_flip1.png', 'capsule-squeeze_17_rotation.png', 'capsule-squeeze_18_flip1.png', 'capsule-squeeze_18_rotation.png', 'capsule-squeeze_19_flip1.png', 'capsule-squeeze_19_rotation.png', 'capsule-squeeze_20_flip1.png', 'capsule-squeeze_21_flip1.png', 'capsule-squeeze_22_flip1.png', 'capsule-squeeze_23_flip1.png', 'capsule-squeeze_24_flip1.png', 'capsule-squeeze_25_flip1.png', 'capsule-squeeze_26_flip1.png', 'capsule-squeeze_27_flip1.png', 'capsule-squeeze_28_flip1.png', 'capsule-squeeze_29_flip1.png', 'capsule-squeeze_30_flip1.png', 'capsule-squeeze_31_flip1.png', 'capsule-squeeze_32_flip1.png', 'capsule-squeeze_33_flip1.png', 'capsule-squeeze_34_flip1.png', 'capsule-squeeze_35_flip1.png', 'capsule-squeeze_36_flip1.png', 'capsule-squeeze_37_flip1.png', 'capsule-squeeze_38_flip1.png', 'capsule-squeeze_39_flip1.png']\n"
     ]
    },
    {
     "name": "stderr",
     "output_type": "stream",
     "text": [
      "\r",
      " 36%|███▋      | 32/88 [01:41<04:46,  5.11s/it]"
     ]
    },
    {
     "name": "stdout",
     "output_type": "stream",
     "text": [
      "zipper-rough\n",
      "['10112.png', '10371.png', '10486.png', '10726.png', '12704.png', '13212.png', '13281.png', '13290.png', '13782.png', 'zipper-rough_0_crop.png', 'zipper-rough_0_flip1.png', 'zipper-rough_0_rotation.png', 'zipper-rough_1_crop.png', 'zipper-rough_1_flip1.png', 'zipper-rough_1_rotation.png', 'zipper-rough_2_crop.png', 'zipper-rough_2_flip1.png', 'zipper-rough_2_rotation.png', 'zipper-rough_3_crop.png', 'zipper-rough_3_flip1.png', 'zipper-rough_3_rotation.png', 'zipper-rough_4_crop.png', 'zipper-rough_4_flip1.png', 'zipper-rough_4_rotation.png', 'zipper-rough_5_crop.png', 'zipper-rough_5_flip1.png', 'zipper-rough_5_rotation.png', 'zipper-rough_6_crop.png', 'zipper-rough_6_flip1.png', 'zipper-rough_6_rotation.png', 'zipper-rough_7_crop.png', 'zipper-rough_7_flip1.png', 'zipper-rough_7_rotation.png', 'zipper-rough_8_crop.png', 'zipper-rough_8_flip1.png', 'zipper-rough_8_rotation.png', 'zipper-rough_9_flip1.png', 'zipper-rough_9_rotation.png', 'zipper-rough_10_flip1.png', 'zipper-rough_10_rotation.png', 'zipper-rough_11_flip1.png', 'zipper-rough_11_rotation.png', 'zipper-rough_12_flip1.png', 'zipper-rough_12_rotation.png', 'zipper-rough_13_flip1.png', 'zipper-rough_13_rotation.png', 'zipper-rough_14_flip1.png', 'zipper-rough_14_rotation.png', 'zipper-rough_15_flip1.png', 'zipper-rough_15_rotation.png', 'zipper-rough_16_flip1.png', 'zipper-rough_16_rotation.png', 'zipper-rough_17_flip1.png', 'zipper-rough_17_rotation.png', 'zipper-rough_18_flip1.png', 'zipper-rough_19_flip1.png', 'zipper-rough_20_flip1.png', 'zipper-rough_21_flip1.png', 'zipper-rough_22_flip1.png', 'zipper-rough_23_flip1.png', 'zipper-rough_24_flip1.png', 'zipper-rough_25_flip1.png', 'zipper-rough_26_flip1.png', 'zipper-rough_27_flip1.png', 'zipper-rough_28_flip1.png', 'zipper-rough_29_flip1.png', 'zipper-rough_30_flip1.png', 'zipper-rough_31_flip1.png', 'zipper-rough_32_flip1.png', 'zipper-rough_33_flip1.png', 'zipper-rough_34_flip1.png', 'zipper-rough_35_flip1.png']\n"
     ]
    },
    {
     "name": "stderr",
     "output_type": "stream",
     "text": [
      "\r",
      " 38%|███▊      | 33/88 [01:45<04:36,  5.03s/it]"
     ]
    },
    {
     "name": "stdout",
     "output_type": "stream",
     "text": [
      "capsule-crack\n",
      "['10113.png', '10156.png', '10444.png', '10731.png', '11069.png', '11356.png', '12378.png', '13455.png', '13592.png', '13907.png', '13960.png', '14073.png', 'capsule-crack_0_crop.png', 'capsule-crack_0_flip1.png', 'capsule-crack_0_rotation.png', 'capsule-crack_1_crop.png', 'capsule-crack_1_flip1.png', 'capsule-crack_1_rotation.png', 'capsule-crack_2_crop.png', 'capsule-crack_2_flip1.png', 'capsule-crack_2_rotation.png', 'capsule-crack_3_crop.png', 'capsule-crack_3_flip1.png', 'capsule-crack_3_rotation.png', 'capsule-crack_4_crop.png', 'capsule-crack_4_flip1.png', 'capsule-crack_4_rotation.png', 'capsule-crack_5_crop.png', 'capsule-crack_5_flip1.png', 'capsule-crack_5_rotation.png', 'capsule-crack_6_crop.png', 'capsule-crack_6_flip1.png', 'capsule-crack_6_rotation.png', 'capsule-crack_7_crop.png', 'capsule-crack_7_flip1.png', 'capsule-crack_7_rotation.png', 'capsule-crack_8_crop.png', 'capsule-crack_8_flip1.png', 'capsule-crack_8_rotation.png', 'capsule-crack_9_crop.png', 'capsule-crack_9_flip1.png', 'capsule-crack_9_rotation.png', 'capsule-crack_10_crop.png', 'capsule-crack_10_flip1.png', 'capsule-crack_10_rotation.png', 'capsule-crack_11_crop.png', 'capsule-crack_11_flip1.png', 'capsule-crack_11_rotation.png', 'capsule-crack_12_flip1.png', 'capsule-crack_12_rotation.png', 'capsule-crack_13_flip1.png', 'capsule-crack_13_rotation.png', 'capsule-crack_14_flip1.png', 'capsule-crack_14_rotation.png', 'capsule-crack_15_flip1.png', 'capsule-crack_15_rotation.png', 'capsule-crack_16_flip1.png', 'capsule-crack_16_rotation.png', 'capsule-crack_17_flip1.png', 'capsule-crack_17_rotation.png', 'capsule-crack_18_flip1.png', 'capsule-crack_18_rotation.png', 'capsule-crack_19_flip1.png', 'capsule-crack_19_rotation.png', 'capsule-crack_20_flip1.png', 'capsule-crack_20_rotation.png', 'capsule-crack_21_flip1.png', 'capsule-crack_21_rotation.png', 'capsule-crack_22_flip1.png', 'capsule-crack_22_rotation.png', 'capsule-crack_23_flip1.png', 'capsule-crack_23_rotation.png', 'capsule-crack_24_flip1.png', 'capsule-crack_25_flip1.png', 'capsule-crack_26_flip1.png', 'capsule-crack_27_flip1.png', 'capsule-crack_28_flip1.png', 'capsule-crack_29_flip1.png', 'capsule-crack_30_flip1.png', 'capsule-crack_31_flip1.png', 'capsule-crack_32_flip1.png', 'capsule-crack_33_flip1.png', 'capsule-crack_34_flip1.png', 'capsule-crack_35_flip1.png', 'capsule-crack_36_flip1.png', 'capsule-crack_37_flip1.png', 'capsule-crack_38_flip1.png', 'capsule-crack_39_flip1.png', 'capsule-crack_40_flip1.png', 'capsule-crack_41_flip1.png', 'capsule-crack_42_flip1.png', 'capsule-crack_43_flip1.png', 'capsule-crack_44_flip1.png', 'capsule-crack_45_flip1.png', 'capsule-crack_46_flip1.png', 'capsule-crack_47_flip1.png']\n"
     ]
    },
    {
     "name": "stderr",
     "output_type": "stream",
     "text": [
      "\r",
      " 39%|███▊      | 34/88 [01:53<05:12,  5.78s/it]"
     ]
    },
    {
     "name": "stdout",
     "output_type": "stream",
     "text": [
      "capsule-poke\n",
      "['10118.png', '10903.png', '11117.png', '11785.png', '11999.png', '12236.png', '12470.png', '13009.png', '13819.png', '14043.png', '14180.png', 'capsule-poke_0_crop.png', 'capsule-poke_0_flip1.png', 'capsule-poke_0_rotation.png', 'capsule-poke_1_crop.png', 'capsule-poke_1_flip1.png', 'capsule-poke_1_rotation.png', 'capsule-poke_2_crop.png', 'capsule-poke_2_flip1.png', 'capsule-poke_2_rotation.png', 'capsule-poke_3_crop.png', 'capsule-poke_3_flip1.png', 'capsule-poke_3_rotation.png', 'capsule-poke_4_crop.png', 'capsule-poke_4_flip1.png', 'capsule-poke_4_rotation.png', 'capsule-poke_5_crop.png', 'capsule-poke_5_flip1.png', 'capsule-poke_5_rotation.png', 'capsule-poke_6_crop.png', 'capsule-poke_6_flip1.png', 'capsule-poke_6_rotation.png', 'capsule-poke_7_crop.png', 'capsule-poke_7_flip1.png', 'capsule-poke_7_rotation.png', 'capsule-poke_8_crop.png', 'capsule-poke_8_flip1.png', 'capsule-poke_8_rotation.png', 'capsule-poke_9_crop.png', 'capsule-poke_9_flip1.png', 'capsule-poke_9_rotation.png', 'capsule-poke_10_crop.png', 'capsule-poke_10_flip1.png', 'capsule-poke_10_rotation.png', 'capsule-poke_11_flip1.png', 'capsule-poke_11_rotation.png', 'capsule-poke_12_flip1.png', 'capsule-poke_12_rotation.png', 'capsule-poke_13_flip1.png', 'capsule-poke_13_rotation.png', 'capsule-poke_14_flip1.png', 'capsule-poke_14_rotation.png', 'capsule-poke_15_flip1.png', 'capsule-poke_15_rotation.png', 'capsule-poke_16_flip1.png', 'capsule-poke_16_rotation.png', 'capsule-poke_17_flip1.png', 'capsule-poke_17_rotation.png', 'capsule-poke_18_flip1.png', 'capsule-poke_18_rotation.png', 'capsule-poke_19_flip1.png', 'capsule-poke_19_rotation.png', 'capsule-poke_20_flip1.png', 'capsule-poke_20_rotation.png', 'capsule-poke_21_flip1.png', 'capsule-poke_21_rotation.png', 'capsule-poke_22_flip1.png', 'capsule-poke_23_flip1.png', 'capsule-poke_24_flip1.png', 'capsule-poke_25_flip1.png', 'capsule-poke_26_flip1.png', 'capsule-poke_27_flip1.png', 'capsule-poke_28_flip1.png', 'capsule-poke_29_flip1.png', 'capsule-poke_30_flip1.png', 'capsule-poke_31_flip1.png', 'capsule-poke_32_flip1.png', 'capsule-poke_33_flip1.png', 'capsule-poke_34_flip1.png', 'capsule-poke_35_flip1.png', 'capsule-poke_36_flip1.png', 'capsule-poke_37_flip1.png', 'capsule-poke_38_flip1.png', 'capsule-poke_39_flip1.png', 'capsule-poke_40_flip1.png', 'capsule-poke_41_flip1.png', 'capsule-poke_42_flip1.png', 'capsule-poke_43_flip1.png']\n"
     ]
    },
    {
     "name": "stderr",
     "output_type": "stream",
     "text": [
      "\r",
      " 40%|███▉      | 35/88 [02:00<05:26,  6.15s/it]"
     ]
    },
    {
     "name": "stdout",
     "output_type": "stream",
     "text": [
      "metal_nut-flip\n",
      "['10132.png', '10628.png', '11500.png', '11503.png', '11523.png', '12467.png', '12991.png', '13077.png', '13384.png', '13804.png', '13852.png', '14088.png', 'metal_nut-flip_0_crop.png', 'metal_nut-flip_0_flip1.png', 'metal_nut-flip_0_rotation.png', 'metal_nut-flip_1_crop.png', 'metal_nut-flip_1_flip1.png', 'metal_nut-flip_1_rotation.png', 'metal_nut-flip_2_crop.png', 'metal_nut-flip_2_flip1.png', 'metal_nut-flip_2_rotation.png', 'metal_nut-flip_3_crop.png', 'metal_nut-flip_3_flip1.png', 'metal_nut-flip_3_rotation.png', 'metal_nut-flip_4_crop.png', 'metal_nut-flip_4_flip1.png', 'metal_nut-flip_4_rotation.png', 'metal_nut-flip_5_crop.png', 'metal_nut-flip_5_flip1.png', 'metal_nut-flip_5_rotation.png', 'metal_nut-flip_6_crop.png', 'metal_nut-flip_6_flip1.png', 'metal_nut-flip_6_rotation.png', 'metal_nut-flip_7_crop.png', 'metal_nut-flip_7_flip1.png', 'metal_nut-flip_7_rotation.png', 'metal_nut-flip_8_crop.png', 'metal_nut-flip_8_flip1.png', 'metal_nut-flip_8_rotation.png', 'metal_nut-flip_9_crop.png', 'metal_nut-flip_9_flip1.png', 'metal_nut-flip_9_rotation.png', 'metal_nut-flip_10_crop.png', 'metal_nut-flip_10_flip1.png', 'metal_nut-flip_10_rotation.png', 'metal_nut-flip_11_crop.png', 'metal_nut-flip_11_flip1.png', 'metal_nut-flip_11_rotation.png', 'metal_nut-flip_12_flip1.png', 'metal_nut-flip_12_rotation.png', 'metal_nut-flip_13_flip1.png', 'metal_nut-flip_13_rotation.png', 'metal_nut-flip_14_flip1.png', 'metal_nut-flip_14_rotation.png', 'metal_nut-flip_15_flip1.png', 'metal_nut-flip_15_rotation.png', 'metal_nut-flip_16_flip1.png', 'metal_nut-flip_16_rotation.png', 'metal_nut-flip_17_flip1.png', 'metal_nut-flip_17_rotation.png', 'metal_nut-flip_18_flip1.png', 'metal_nut-flip_18_rotation.png', 'metal_nut-flip_19_flip1.png', 'metal_nut-flip_19_rotation.png', 'metal_nut-flip_20_flip1.png', 'metal_nut-flip_20_rotation.png', 'metal_nut-flip_21_flip1.png', 'metal_nut-flip_21_rotation.png', 'metal_nut-flip_22_flip1.png', 'metal_nut-flip_22_rotation.png', 'metal_nut-flip_23_flip1.png', 'metal_nut-flip_23_rotation.png', 'metal_nut-flip_24_flip1.png', 'metal_nut-flip_25_flip1.png', 'metal_nut-flip_26_flip1.png', 'metal_nut-flip_27_flip1.png', 'metal_nut-flip_28_flip1.png', 'metal_nut-flip_29_flip1.png', 'metal_nut-flip_30_flip1.png', 'metal_nut-flip_31_flip1.png', 'metal_nut-flip_32_flip1.png', 'metal_nut-flip_33_flip1.png', 'metal_nut-flip_34_flip1.png', 'metal_nut-flip_35_flip1.png', 'metal_nut-flip_36_flip1.png', 'metal_nut-flip_37_flip1.png', 'metal_nut-flip_38_flip1.png', 'metal_nut-flip_39_flip1.png', 'metal_nut-flip_40_flip1.png', 'metal_nut-flip_41_flip1.png', 'metal_nut-flip_42_flip1.png', 'metal_nut-flip_43_flip1.png', 'metal_nut-flip_44_flip1.png', 'metal_nut-flip_45_flip1.png', 'metal_nut-flip_46_flip1.png', 'metal_nut-flip_47_flip1.png']\n"
     ]
    },
    {
     "name": "stderr",
     "output_type": "stream",
     "text": [
      "\r",
      " 41%|████      | 36/88 [02:08<05:40,  6.55s/it]"
     ]
    },
    {
     "name": "stdout",
     "output_type": "stream",
     "text": [
      "carpet-metal_contamination\n",
      "['10133.png', '10948.png', '11158.png', '11180.png', '11192.png', '11859.png', '11924.png', '12879.png', '12895.png', 'carpet-metal_contamination_0_crop.png', 'carpet-metal_contamination_0_flip1.png', 'carpet-metal_contamination_0_rotation.png', 'carpet-metal_contamination_1_crop.png', 'carpet-metal_contamination_1_flip1.png', 'carpet-metal_contamination_1_rotation.png', 'carpet-metal_contamination_2_crop.png', 'carpet-metal_contamination_2_flip1.png', 'carpet-metal_contamination_2_rotation.png', 'carpet-metal_contamination_3_crop.png', 'carpet-metal_contamination_3_flip1.png', 'carpet-metal_contamination_3_rotation.png', 'carpet-metal_contamination_4_crop.png', 'carpet-metal_contamination_4_flip1.png', 'carpet-metal_contamination_4_rotation.png', 'carpet-metal_contamination_5_crop.png', 'carpet-metal_contamination_5_flip1.png', 'carpet-metal_contamination_5_rotation.png', 'carpet-metal_contamination_6_crop.png', 'carpet-metal_contamination_6_flip1.png', 'carpet-metal_contamination_6_rotation.png', 'carpet-metal_contamination_7_crop.png', 'carpet-metal_contamination_7_flip1.png', 'carpet-metal_contamination_7_rotation.png', 'carpet-metal_contamination_8_crop.png', 'carpet-metal_contamination_8_flip1.png', 'carpet-metal_contamination_8_rotation.png', 'carpet-metal_contamination_9_flip1.png', 'carpet-metal_contamination_9_rotation.png', 'carpet-metal_contamination_10_flip1.png', 'carpet-metal_contamination_10_rotation.png', 'carpet-metal_contamination_11_flip1.png', 'carpet-metal_contamination_11_rotation.png', 'carpet-metal_contamination_12_flip1.png', 'carpet-metal_contamination_12_rotation.png', 'carpet-metal_contamination_13_flip1.png', 'carpet-metal_contamination_13_rotation.png', 'carpet-metal_contamination_14_flip1.png', 'carpet-metal_contamination_14_rotation.png', 'carpet-metal_contamination_15_flip1.png', 'carpet-metal_contamination_15_rotation.png', 'carpet-metal_contamination_16_flip1.png', 'carpet-metal_contamination_16_rotation.png', 'carpet-metal_contamination_17_flip1.png', 'carpet-metal_contamination_17_rotation.png', 'carpet-metal_contamination_18_flip1.png', 'carpet-metal_contamination_19_flip1.png', 'carpet-metal_contamination_20_flip1.png', 'carpet-metal_contamination_21_flip1.png', 'carpet-metal_contamination_22_flip1.png', 'carpet-metal_contamination_23_flip1.png', 'carpet-metal_contamination_24_flip1.png', 'carpet-metal_contamination_25_flip1.png', 'carpet-metal_contamination_26_flip1.png', 'carpet-metal_contamination_27_flip1.png', 'carpet-metal_contamination_28_flip1.png', 'carpet-metal_contamination_29_flip1.png', 'carpet-metal_contamination_30_flip1.png', 'carpet-metal_contamination_31_flip1.png', 'carpet-metal_contamination_32_flip1.png', 'carpet-metal_contamination_33_flip1.png', 'carpet-metal_contamination_34_flip1.png', 'carpet-metal_contamination_35_flip1.png']\n"
     ]
    },
    {
     "name": "stderr",
     "output_type": "stream",
     "text": [
      "\r",
      " 42%|████▏     | 37/88 [02:14<05:27,  6.42s/it]"
     ]
    },
    {
     "name": "stdout",
     "output_type": "stream",
     "text": [
      "metal_nut-color\n",
      "['10142.png', '10275.png', '10655.png', '10966.png', '11488.png', '12101.png', '12666.png', '12977.png', '13060.png', '13691.png', '14216.png', 'metal_nut-color_0_crop.png', 'metal_nut-color_0_flip1.png', 'metal_nut-color_0_rotation.png', 'metal_nut-color_1_crop.png', 'metal_nut-color_1_flip1.png', 'metal_nut-color_1_rotation.png', 'metal_nut-color_2_crop.png', 'metal_nut-color_2_flip1.png', 'metal_nut-color_2_rotation.png', 'metal_nut-color_3_crop.png', 'metal_nut-color_3_flip1.png', 'metal_nut-color_3_rotation.png', 'metal_nut-color_4_crop.png', 'metal_nut-color_4_flip1.png', 'metal_nut-color_4_rotation.png', 'metal_nut-color_5_crop.png', 'metal_nut-color_5_flip1.png', 'metal_nut-color_5_rotation.png', 'metal_nut-color_6_crop.png', 'metal_nut-color_6_flip1.png', 'metal_nut-color_6_rotation.png', 'metal_nut-color_7_crop.png', 'metal_nut-color_7_flip1.png', 'metal_nut-color_7_rotation.png', 'metal_nut-color_8_crop.png', 'metal_nut-color_8_flip1.png', 'metal_nut-color_8_rotation.png', 'metal_nut-color_9_crop.png', 'metal_nut-color_9_flip1.png', 'metal_nut-color_9_rotation.png', 'metal_nut-color_10_crop.png', 'metal_nut-color_10_flip1.png', 'metal_nut-color_10_rotation.png', 'metal_nut-color_11_flip1.png', 'metal_nut-color_11_rotation.png', 'metal_nut-color_12_flip1.png', 'metal_nut-color_12_rotation.png', 'metal_nut-color_13_flip1.png', 'metal_nut-color_13_rotation.png', 'metal_nut-color_14_flip1.png', 'metal_nut-color_14_rotation.png', 'metal_nut-color_15_flip1.png', 'metal_nut-color_15_rotation.png', 'metal_nut-color_16_flip1.png', 'metal_nut-color_16_rotation.png', 'metal_nut-color_17_flip1.png', 'metal_nut-color_17_rotation.png', 'metal_nut-color_18_flip1.png', 'metal_nut-color_18_rotation.png', 'metal_nut-color_19_flip1.png', 'metal_nut-color_19_rotation.png', 'metal_nut-color_20_flip1.png', 'metal_nut-color_20_rotation.png', 'metal_nut-color_21_flip1.png', 'metal_nut-color_21_rotation.png', 'metal_nut-color_22_flip1.png', 'metal_nut-color_23_flip1.png', 'metal_nut-color_24_flip1.png', 'metal_nut-color_25_flip1.png', 'metal_nut-color_26_flip1.png', 'metal_nut-color_27_flip1.png', 'metal_nut-color_28_flip1.png', 'metal_nut-color_29_flip1.png', 'metal_nut-color_30_flip1.png', 'metal_nut-color_31_flip1.png', 'metal_nut-color_32_flip1.png', 'metal_nut-color_33_flip1.png', 'metal_nut-color_34_flip1.png', 'metal_nut-color_35_flip1.png', 'metal_nut-color_36_flip1.png', 'metal_nut-color_37_flip1.png', 'metal_nut-color_38_flip1.png', 'metal_nut-color_39_flip1.png', 'metal_nut-color_40_flip1.png', 'metal_nut-color_41_flip1.png', 'metal_nut-color_42_flip1.png', 'metal_nut-color_43_flip1.png']\n"
     ]
    },
    {
     "name": "stderr",
     "output_type": "stream",
     "text": [
      "\r",
      " 43%|████▎     | 38/88 [02:21<05:29,  6.59s/it]"
     ]
    },
    {
     "name": "stdout",
     "output_type": "stream",
     "text": [
      "transistor-bent_lead\n",
      "['10144.png', '12353.png', '12355.png', '13752.png', '14248.png', 'transistor-bent_lead_0_crop.png', 'transistor-bent_lead_0_flip1.png', 'transistor-bent_lead_0_rotation.png', 'transistor-bent_lead_1_crop.png', 'transistor-bent_lead_1_flip1.png', 'transistor-bent_lead_1_rotation.png', 'transistor-bent_lead_2_crop.png', 'transistor-bent_lead_2_flip1.png', 'transistor-bent_lead_2_rotation.png', 'transistor-bent_lead_3_crop.png', 'transistor-bent_lead_3_flip1.png', 'transistor-bent_lead_3_rotation.png', 'transistor-bent_lead_4_crop.png', 'transistor-bent_lead_4_flip1.png', 'transistor-bent_lead_4_rotation.png', 'transistor-bent_lead_5_flip1.png', 'transistor-bent_lead_5_rotation.png', 'transistor-bent_lead_6_flip1.png', 'transistor-bent_lead_6_rotation.png', 'transistor-bent_lead_7_flip1.png', 'transistor-bent_lead_7_rotation.png', 'transistor-bent_lead_8_flip1.png', 'transistor-bent_lead_8_rotation.png', 'transistor-bent_lead_9_flip1.png', 'transistor-bent_lead_9_rotation.png', 'transistor-bent_lead_10_flip1.png', 'transistor-bent_lead_11_flip1.png', 'transistor-bent_lead_12_flip1.png', 'transistor-bent_lead_13_flip1.png', 'transistor-bent_lead_14_flip1.png', 'transistor-bent_lead_15_flip1.png', 'transistor-bent_lead_16_flip1.png', 'transistor-bent_lead_17_flip1.png', 'transistor-bent_lead_18_flip1.png', 'transistor-bent_lead_19_flip1.png']\n"
     ]
    },
    {
     "name": "stderr",
     "output_type": "stream",
     "text": [
      "\r",
      " 44%|████▍     | 39/88 [02:24<04:36,  5.64s/it]"
     ]
    },
    {
     "name": "stdout",
     "output_type": "stream",
     "text": [
      "zipper-fabric_interior\n",
      "['10153.png', '10182.png', '10445.png', '10478.png', '11455.png', '11600.png', '12556.png', '14205.png', 'zipper-fabric_interior_0_crop.png', 'zipper-fabric_interior_0_flip1.png', 'zipper-fabric_interior_0_rotation.png', 'zipper-fabric_interior_1_crop.png', 'zipper-fabric_interior_1_flip1.png', 'zipper-fabric_interior_1_rotation.png', 'zipper-fabric_interior_2_crop.png', 'zipper-fabric_interior_2_flip1.png', 'zipper-fabric_interior_2_rotation.png', 'zipper-fabric_interior_3_crop.png', 'zipper-fabric_interior_3_flip1.png', 'zipper-fabric_interior_3_rotation.png', 'zipper-fabric_interior_4_crop.png', 'zipper-fabric_interior_4_flip1.png', 'zipper-fabric_interior_4_rotation.png', 'zipper-fabric_interior_5_crop.png', 'zipper-fabric_interior_5_flip1.png', 'zipper-fabric_interior_5_rotation.png', 'zipper-fabric_interior_6_crop.png', 'zipper-fabric_interior_6_flip1.png', 'zipper-fabric_interior_6_rotation.png', 'zipper-fabric_interior_7_crop.png', 'zipper-fabric_interior_7_flip1.png', 'zipper-fabric_interior_7_rotation.png', 'zipper-fabric_interior_8_flip1.png', 'zipper-fabric_interior_8_rotation.png', 'zipper-fabric_interior_9_flip1.png', 'zipper-fabric_interior_9_rotation.png', 'zipper-fabric_interior_10_flip1.png', 'zipper-fabric_interior_10_rotation.png', 'zipper-fabric_interior_11_flip1.png', 'zipper-fabric_interior_11_rotation.png', 'zipper-fabric_interior_12_flip1.png', 'zipper-fabric_interior_12_rotation.png', 'zipper-fabric_interior_13_flip1.png', 'zipper-fabric_interior_13_rotation.png', 'zipper-fabric_interior_14_flip1.png', 'zipper-fabric_interior_14_rotation.png', 'zipper-fabric_interior_15_flip1.png', 'zipper-fabric_interior_15_rotation.png', 'zipper-fabric_interior_16_flip1.png', 'zipper-fabric_interior_17_flip1.png', 'zipper-fabric_interior_18_flip1.png', 'zipper-fabric_interior_19_flip1.png', 'zipper-fabric_interior_20_flip1.png', 'zipper-fabric_interior_21_flip1.png', 'zipper-fabric_interior_22_flip1.png', 'zipper-fabric_interior_23_flip1.png', 'zipper-fabric_interior_24_flip1.png', 'zipper-fabric_interior_25_flip1.png', 'zipper-fabric_interior_26_flip1.png', 'zipper-fabric_interior_27_flip1.png', 'zipper-fabric_interior_28_flip1.png', 'zipper-fabric_interior_29_flip1.png', 'zipper-fabric_interior_30_flip1.png', 'zipper-fabric_interior_31_flip1.png']\n"
     ]
    },
    {
     "name": "stderr",
     "output_type": "stream",
     "text": [
      "\r",
      " 45%|████▌     | 40/88 [02:28<04:10,  5.22s/it]"
     ]
    },
    {
     "name": "stdout",
     "output_type": "stream",
     "text": [
      "leather-fold\n",
      "['10154.png', '10233.png', '12675.png', '13233.png', '13438.png', '13488.png', '13654.png', '13662.png', '13713.png', 'leather-fold_0_crop.png', 'leather-fold_0_flip1.png', 'leather-fold_0_rotation.png', 'leather-fold_1_crop.png', 'leather-fold_1_flip1.png', 'leather-fold_1_rotation.png', 'leather-fold_2_crop.png', 'leather-fold_2_flip1.png', 'leather-fold_2_rotation.png', 'leather-fold_3_crop.png', 'leather-fold_3_flip1.png', 'leather-fold_3_rotation.png', 'leather-fold_4_crop.png', 'leather-fold_4_flip1.png', 'leather-fold_4_rotation.png', 'leather-fold_5_crop.png', 'leather-fold_5_flip1.png', 'leather-fold_5_rotation.png', 'leather-fold_6_crop.png', 'leather-fold_6_flip1.png', 'leather-fold_6_rotation.png', 'leather-fold_7_crop.png', 'leather-fold_7_flip1.png', 'leather-fold_7_rotation.png', 'leather-fold_8_crop.png', 'leather-fold_8_flip1.png', 'leather-fold_8_rotation.png', 'leather-fold_9_flip1.png', 'leather-fold_9_rotation.png', 'leather-fold_10_flip1.png', 'leather-fold_10_rotation.png', 'leather-fold_11_flip1.png', 'leather-fold_11_rotation.png', 'leather-fold_12_flip1.png', 'leather-fold_12_rotation.png', 'leather-fold_13_flip1.png', 'leather-fold_13_rotation.png', 'leather-fold_14_flip1.png', 'leather-fold_14_rotation.png', 'leather-fold_15_flip1.png', 'leather-fold_15_rotation.png', 'leather-fold_16_flip1.png', 'leather-fold_16_rotation.png', 'leather-fold_17_flip1.png', 'leather-fold_17_rotation.png', 'leather-fold_18_flip1.png', 'leather-fold_19_flip1.png', 'leather-fold_20_flip1.png', 'leather-fold_21_flip1.png', 'leather-fold_22_flip1.png', 'leather-fold_23_flip1.png', 'leather-fold_24_flip1.png', 'leather-fold_25_flip1.png', 'leather-fold_26_flip1.png', 'leather-fold_27_flip1.png', 'leather-fold_28_flip1.png', 'leather-fold_29_flip1.png', 'leather-fold_30_flip1.png', 'leather-fold_31_flip1.png', 'leather-fold_32_flip1.png', 'leather-fold_33_flip1.png', 'leather-fold_34_flip1.png', 'leather-fold_35_flip1.png']\n"
     ]
    },
    {
     "name": "stderr",
     "output_type": "stream",
     "text": [
      "\r",
      " 47%|████▋     | 41/88 [02:34<04:16,  5.45s/it]"
     ]
    },
    {
     "name": "stdout",
     "output_type": "stream",
     "text": [
      "tile-glue_strip\n",
      "['10157.png', '11107.png', '11588.png', '11932.png', '12930.png', '13464.png', '13623.png', '13636.png', '13799.png', 'tile-glue_strip_0_crop.png', 'tile-glue_strip_0_flip1.png', 'tile-glue_strip_0_rotation.png', 'tile-glue_strip_1_crop.png', 'tile-glue_strip_1_flip1.png', 'tile-glue_strip_1_rotation.png', 'tile-glue_strip_2_crop.png', 'tile-glue_strip_2_flip1.png', 'tile-glue_strip_2_rotation.png', 'tile-glue_strip_3_crop.png', 'tile-glue_strip_3_flip1.png', 'tile-glue_strip_3_rotation.png', 'tile-glue_strip_4_crop.png', 'tile-glue_strip_4_flip1.png', 'tile-glue_strip_4_rotation.png', 'tile-glue_strip_5_crop.png', 'tile-glue_strip_5_flip1.png', 'tile-glue_strip_5_rotation.png', 'tile-glue_strip_6_crop.png', 'tile-glue_strip_6_flip1.png', 'tile-glue_strip_6_rotation.png', 'tile-glue_strip_7_crop.png', 'tile-glue_strip_7_flip1.png', 'tile-glue_strip_7_rotation.png', 'tile-glue_strip_8_crop.png', 'tile-glue_strip_8_flip1.png', 'tile-glue_strip_8_rotation.png', 'tile-glue_strip_9_flip1.png', 'tile-glue_strip_9_rotation.png', 'tile-glue_strip_10_flip1.png', 'tile-glue_strip_10_rotation.png', 'tile-glue_strip_11_flip1.png', 'tile-glue_strip_11_rotation.png', 'tile-glue_strip_12_flip1.png', 'tile-glue_strip_12_rotation.png', 'tile-glue_strip_13_flip1.png', 'tile-glue_strip_13_rotation.png', 'tile-glue_strip_14_flip1.png', 'tile-glue_strip_14_rotation.png', 'tile-glue_strip_15_flip1.png', 'tile-glue_strip_15_rotation.png', 'tile-glue_strip_16_flip1.png', 'tile-glue_strip_16_rotation.png', 'tile-glue_strip_17_flip1.png', 'tile-glue_strip_17_rotation.png', 'tile-glue_strip_18_flip1.png', 'tile-glue_strip_19_flip1.png', 'tile-glue_strip_20_flip1.png', 'tile-glue_strip_21_flip1.png', 'tile-glue_strip_22_flip1.png', 'tile-glue_strip_23_flip1.png', 'tile-glue_strip_24_flip1.png', 'tile-glue_strip_25_flip1.png', 'tile-glue_strip_26_flip1.png', 'tile-glue_strip_27_flip1.png', 'tile-glue_strip_28_flip1.png', 'tile-glue_strip_29_flip1.png', 'tile-glue_strip_30_flip1.png', 'tile-glue_strip_31_flip1.png', 'tile-glue_strip_32_flip1.png', 'tile-glue_strip_33_flip1.png', 'tile-glue_strip_34_flip1.png', 'tile-glue_strip_35_flip1.png']\n"
     ]
    },
    {
     "name": "stderr",
     "output_type": "stream",
     "text": [
      "\r",
      " 48%|████▊     | 42/88 [02:40<04:18,  5.62s/it]"
     ]
    },
    {
     "name": "stdout",
     "output_type": "stream",
     "text": [
      "screw-scratch_neck\n",
      "['10165.png', '10498.png', '10940.png', '11157.png', '11447.png', '11972.png', '12265.png', '12433.png', '12780.png', '13081.png', '13138.png', '13182.png', '13460.png', 'screw-scratch_neck_0_crop.png', 'screw-scratch_neck_0_flip1.png', 'screw-scratch_neck_0_rotation.png', 'screw-scratch_neck_1_crop.png', 'screw-scratch_neck_1_flip1.png', 'screw-scratch_neck_1_rotation.png', 'screw-scratch_neck_2_crop.png', 'screw-scratch_neck_2_flip1.png', 'screw-scratch_neck_2_rotation.png', 'screw-scratch_neck_3_crop.png', 'screw-scratch_neck_3_flip1.png', 'screw-scratch_neck_3_rotation.png', 'screw-scratch_neck_4_crop.png', 'screw-scratch_neck_4_flip1.png', 'screw-scratch_neck_4_rotation.png', 'screw-scratch_neck_5_crop.png', 'screw-scratch_neck_5_flip1.png', 'screw-scratch_neck_5_rotation.png', 'screw-scratch_neck_6_crop.png', 'screw-scratch_neck_6_flip1.png', 'screw-scratch_neck_6_rotation.png', 'screw-scratch_neck_7_crop.png', 'screw-scratch_neck_7_flip1.png', 'screw-scratch_neck_7_rotation.png', 'screw-scratch_neck_8_crop.png', 'screw-scratch_neck_8_flip1.png', 'screw-scratch_neck_8_rotation.png', 'screw-scratch_neck_9_crop.png', 'screw-scratch_neck_9_flip1.png', 'screw-scratch_neck_9_rotation.png', 'screw-scratch_neck_10_crop.png', 'screw-scratch_neck_10_flip1.png', 'screw-scratch_neck_10_rotation.png', 'screw-scratch_neck_11_crop.png', 'screw-scratch_neck_11_flip1.png', 'screw-scratch_neck_11_rotation.png', 'screw-scratch_neck_12_crop.png', 'screw-scratch_neck_12_flip1.png', 'screw-scratch_neck_12_rotation.png', 'screw-scratch_neck_13_flip1.png', 'screw-scratch_neck_13_rotation.png', 'screw-scratch_neck_14_flip1.png', 'screw-scratch_neck_14_rotation.png', 'screw-scratch_neck_15_flip1.png', 'screw-scratch_neck_15_rotation.png', 'screw-scratch_neck_16_flip1.png', 'screw-scratch_neck_16_rotation.png', 'screw-scratch_neck_17_flip1.png', 'screw-scratch_neck_17_rotation.png', 'screw-scratch_neck_18_flip1.png', 'screw-scratch_neck_18_rotation.png', 'screw-scratch_neck_19_flip1.png', 'screw-scratch_neck_19_rotation.png', 'screw-scratch_neck_20_flip1.png', 'screw-scratch_neck_20_rotation.png', 'screw-scratch_neck_21_flip1.png', 'screw-scratch_neck_21_rotation.png', 'screw-scratch_neck_22_flip1.png', 'screw-scratch_neck_22_rotation.png', 'screw-scratch_neck_23_flip1.png', 'screw-scratch_neck_23_rotation.png', 'screw-scratch_neck_24_flip1.png', 'screw-scratch_neck_24_rotation.png', 'screw-scratch_neck_25_flip1.png', 'screw-scratch_neck_25_rotation.png', 'screw-scratch_neck_26_flip1.png', 'screw-scratch_neck_27_flip1.png', 'screw-scratch_neck_28_flip1.png', 'screw-scratch_neck_29_flip1.png', 'screw-scratch_neck_30_flip1.png', 'screw-scratch_neck_31_flip1.png', 'screw-scratch_neck_32_flip1.png', 'screw-scratch_neck_33_flip1.png', 'screw-scratch_neck_34_flip1.png', 'screw-scratch_neck_35_flip1.png', 'screw-scratch_neck_36_flip1.png', 'screw-scratch_neck_37_flip1.png', 'screw-scratch_neck_38_flip1.png', 'screw-scratch_neck_39_flip1.png', 'screw-scratch_neck_40_flip1.png', 'screw-scratch_neck_41_flip1.png', 'screw-scratch_neck_42_flip1.png', 'screw-scratch_neck_43_flip1.png', 'screw-scratch_neck_44_flip1.png', 'screw-scratch_neck_45_flip1.png', 'screw-scratch_neck_46_flip1.png', 'screw-scratch_neck_47_flip1.png', 'screw-scratch_neck_48_flip1.png', 'screw-scratch_neck_49_flip1.png', 'screw-scratch_neck_50_flip1.png', 'screw-scratch_neck_51_flip1.png']\n"
     ]
    },
    {
     "name": "stderr",
     "output_type": "stream",
     "text": [
      "\r",
      " 49%|████▉     | 43/88 [02:47<04:29,  5.98s/it]"
     ]
    },
    {
     "name": "stdout",
     "output_type": "stream",
     "text": [
      "screw-scratch_head\n",
      "['10197.png', '10304.png', '10367.png', '11078.png', '11727.png', '12555.png', '12778.png', '12795.png', '13369.png', '13483.png', '13733.png', '13888.png', 'screw-scratch_head_0_crop.png', 'screw-scratch_head_0_flip1.png', 'screw-scratch_head_0_rotation.png', 'screw-scratch_head_1_crop.png', 'screw-scratch_head_1_flip1.png', 'screw-scratch_head_1_rotation.png', 'screw-scratch_head_2_crop.png', 'screw-scratch_head_2_flip1.png', 'screw-scratch_head_2_rotation.png', 'screw-scratch_head_3_crop.png', 'screw-scratch_head_3_flip1.png', 'screw-scratch_head_3_rotation.png', 'screw-scratch_head_4_crop.png', 'screw-scratch_head_4_flip1.png', 'screw-scratch_head_4_rotation.png', 'screw-scratch_head_5_crop.png', 'screw-scratch_head_5_flip1.png', 'screw-scratch_head_5_rotation.png', 'screw-scratch_head_6_crop.png', 'screw-scratch_head_6_flip1.png', 'screw-scratch_head_6_rotation.png', 'screw-scratch_head_7_crop.png', 'screw-scratch_head_7_flip1.png', 'screw-scratch_head_7_rotation.png', 'screw-scratch_head_8_crop.png', 'screw-scratch_head_8_flip1.png', 'screw-scratch_head_8_rotation.png', 'screw-scratch_head_9_crop.png', 'screw-scratch_head_9_flip1.png', 'screw-scratch_head_9_rotation.png', 'screw-scratch_head_10_crop.png', 'screw-scratch_head_10_flip1.png', 'screw-scratch_head_10_rotation.png', 'screw-scratch_head_11_crop.png', 'screw-scratch_head_11_flip1.png', 'screw-scratch_head_11_rotation.png', 'screw-scratch_head_12_flip1.png', 'screw-scratch_head_12_rotation.png', 'screw-scratch_head_13_flip1.png', 'screw-scratch_head_13_rotation.png', 'screw-scratch_head_14_flip1.png', 'screw-scratch_head_14_rotation.png', 'screw-scratch_head_15_flip1.png', 'screw-scratch_head_15_rotation.png', 'screw-scratch_head_16_flip1.png', 'screw-scratch_head_16_rotation.png', 'screw-scratch_head_17_flip1.png', 'screw-scratch_head_17_rotation.png', 'screw-scratch_head_18_flip1.png', 'screw-scratch_head_18_rotation.png', 'screw-scratch_head_19_flip1.png', 'screw-scratch_head_19_rotation.png', 'screw-scratch_head_20_flip1.png', 'screw-scratch_head_20_rotation.png', 'screw-scratch_head_21_flip1.png', 'screw-scratch_head_21_rotation.png', 'screw-scratch_head_22_flip1.png', 'screw-scratch_head_22_rotation.png', 'screw-scratch_head_23_flip1.png', 'screw-scratch_head_23_rotation.png', 'screw-scratch_head_24_flip1.png', 'screw-scratch_head_25_flip1.png', 'screw-scratch_head_26_flip1.png', 'screw-scratch_head_27_flip1.png', 'screw-scratch_head_28_flip1.png', 'screw-scratch_head_29_flip1.png', 'screw-scratch_head_30_flip1.png', 'screw-scratch_head_31_flip1.png', 'screw-scratch_head_32_flip1.png', 'screw-scratch_head_33_flip1.png', 'screw-scratch_head_34_flip1.png', 'screw-scratch_head_35_flip1.png', 'screw-scratch_head_36_flip1.png', 'screw-scratch_head_37_flip1.png', 'screw-scratch_head_38_flip1.png', 'screw-scratch_head_39_flip1.png', 'screw-scratch_head_40_flip1.png', 'screw-scratch_head_41_flip1.png', 'screw-scratch_head_42_flip1.png', 'screw-scratch_head_43_flip1.png', 'screw-scratch_head_44_flip1.png', 'screw-scratch_head_45_flip1.png', 'screw-scratch_head_46_flip1.png', 'screw-scratch_head_47_flip1.png']\n"
     ]
    },
    {
     "name": "stderr",
     "output_type": "stream",
     "text": [
      "\r",
      " 50%|█████     | 44/88 [02:54<04:28,  6.10s/it]"
     ]
    },
    {
     "name": "stdout",
     "output_type": "stream",
     "text": [
      "hazelnut-cut\n",
      "['10200.png', '10942.png', '11172.png', '11443.png', '12034.png', '12486.png', '12809.png', '12914.png', '13683.png', 'hazelnut-cut_0_crop.png', 'hazelnut-cut_0_flip1.png', 'hazelnut-cut_0_rotation.png', 'hazelnut-cut_1_crop.png', 'hazelnut-cut_1_flip1.png', 'hazelnut-cut_1_rotation.png', 'hazelnut-cut_2_crop.png', 'hazelnut-cut_2_flip1.png', 'hazelnut-cut_2_rotation.png', 'hazelnut-cut_3_crop.png', 'hazelnut-cut_3_flip1.png', 'hazelnut-cut_3_rotation.png', 'hazelnut-cut_4_crop.png', 'hazelnut-cut_4_flip1.png', 'hazelnut-cut_4_rotation.png', 'hazelnut-cut_5_crop.png', 'hazelnut-cut_5_flip1.png', 'hazelnut-cut_5_rotation.png', 'hazelnut-cut_6_crop.png', 'hazelnut-cut_6_flip1.png', 'hazelnut-cut_6_rotation.png', 'hazelnut-cut_7_crop.png', 'hazelnut-cut_7_flip1.png', 'hazelnut-cut_7_rotation.png', 'hazelnut-cut_8_crop.png', 'hazelnut-cut_8_flip1.png', 'hazelnut-cut_8_rotation.png', 'hazelnut-cut_9_flip1.png', 'hazelnut-cut_9_rotation.png', 'hazelnut-cut_10_flip1.png', 'hazelnut-cut_10_rotation.png', 'hazelnut-cut_11_flip1.png', 'hazelnut-cut_11_rotation.png', 'hazelnut-cut_12_flip1.png', 'hazelnut-cut_12_rotation.png', 'hazelnut-cut_13_flip1.png', 'hazelnut-cut_13_rotation.png', 'hazelnut-cut_14_flip1.png', 'hazelnut-cut_14_rotation.png', 'hazelnut-cut_15_flip1.png', 'hazelnut-cut_15_rotation.png', 'hazelnut-cut_16_flip1.png', 'hazelnut-cut_16_rotation.png', 'hazelnut-cut_17_flip1.png', 'hazelnut-cut_17_rotation.png', 'hazelnut-cut_18_flip1.png', 'hazelnut-cut_19_flip1.png', 'hazelnut-cut_20_flip1.png', 'hazelnut-cut_21_flip1.png', 'hazelnut-cut_22_flip1.png', 'hazelnut-cut_23_flip1.png', 'hazelnut-cut_24_flip1.png', 'hazelnut-cut_25_flip1.png', 'hazelnut-cut_26_flip1.png', 'hazelnut-cut_27_flip1.png', 'hazelnut-cut_28_flip1.png', 'hazelnut-cut_29_flip1.png', 'hazelnut-cut_30_flip1.png', 'hazelnut-cut_31_flip1.png', 'hazelnut-cut_32_flip1.png', 'hazelnut-cut_33_flip1.png', 'hazelnut-cut_34_flip1.png', 'hazelnut-cut_35_flip1.png']\n"
     ]
    },
    {
     "name": "stderr",
     "output_type": "stream",
     "text": [
      "\r",
      " 51%|█████     | 45/88 [02:59<04:18,  6.00s/it]"
     ]
    },
    {
     "name": "stdout",
     "output_type": "stream",
     "text": [
      "bottle-broken_large\n",
      "['10204.png', '10260.png', '10712.png', '10839.png', '10912.png', '11143.png', '11828.png', '12006.png', '12253.png', '13456.png', 'bottle-broken_large_0_crop.png', 'bottle-broken_large_0_flip1.png', 'bottle-broken_large_0_rotation.png', 'bottle-broken_large_1_crop.png', 'bottle-broken_large_1_flip1.png', 'bottle-broken_large_1_rotation.png', 'bottle-broken_large_2_crop.png', 'bottle-broken_large_2_flip1.png', 'bottle-broken_large_2_rotation.png', 'bottle-broken_large_3_crop.png', 'bottle-broken_large_3_flip1.png', 'bottle-broken_large_3_rotation.png', 'bottle-broken_large_4_crop.png', 'bottle-broken_large_4_flip1.png', 'bottle-broken_large_4_rotation.png', 'bottle-broken_large_5_crop.png', 'bottle-broken_large_5_flip1.png', 'bottle-broken_large_5_rotation.png', 'bottle-broken_large_6_crop.png', 'bottle-broken_large_6_flip1.png', 'bottle-broken_large_6_rotation.png', 'bottle-broken_large_7_crop.png', 'bottle-broken_large_7_flip1.png', 'bottle-broken_large_7_rotation.png', 'bottle-broken_large_8_crop.png', 'bottle-broken_large_8_flip1.png', 'bottle-broken_large_8_rotation.png', 'bottle-broken_large_9_crop.png', 'bottle-broken_large_9_flip1.png', 'bottle-broken_large_9_rotation.png', 'bottle-broken_large_10_flip1.png', 'bottle-broken_large_10_rotation.png', 'bottle-broken_large_11_flip1.png', 'bottle-broken_large_11_rotation.png', 'bottle-broken_large_12_flip1.png', 'bottle-broken_large_12_rotation.png', 'bottle-broken_large_13_flip1.png', 'bottle-broken_large_13_rotation.png', 'bottle-broken_large_14_flip1.png', 'bottle-broken_large_14_rotation.png', 'bottle-broken_large_15_flip1.png', 'bottle-broken_large_15_rotation.png', 'bottle-broken_large_16_flip1.png', 'bottle-broken_large_16_rotation.png', 'bottle-broken_large_17_flip1.png', 'bottle-broken_large_17_rotation.png', 'bottle-broken_large_18_flip1.png', 'bottle-broken_large_18_rotation.png', 'bottle-broken_large_19_flip1.png', 'bottle-broken_large_19_rotation.png', 'bottle-broken_large_20_flip1.png', 'bottle-broken_large_21_flip1.png', 'bottle-broken_large_22_flip1.png', 'bottle-broken_large_23_flip1.png', 'bottle-broken_large_24_flip1.png', 'bottle-broken_large_25_flip1.png', 'bottle-broken_large_26_flip1.png', 'bottle-broken_large_27_flip1.png', 'bottle-broken_large_28_flip1.png', 'bottle-broken_large_29_flip1.png', 'bottle-broken_large_30_flip1.png', 'bottle-broken_large_31_flip1.png', 'bottle-broken_large_32_flip1.png', 'bottle-broken_large_33_flip1.png', 'bottle-broken_large_34_flip1.png', 'bottle-broken_large_35_flip1.png', 'bottle-broken_large_36_flip1.png', 'bottle-broken_large_37_flip1.png', 'bottle-broken_large_38_flip1.png', 'bottle-broken_large_39_flip1.png']\n"
     ]
    },
    {
     "name": "stderr",
     "output_type": "stream",
     "text": [
      "\r",
      " 52%|█████▏    | 46/88 [03:05<04:06,  5.86s/it]"
     ]
    },
    {
     "name": "stdout",
     "output_type": "stream",
     "text": [
      "bottle-broken_small\n",
      "['10217.png', '10244.png', '10767.png', '11628.png', '11791.png', '11805.png', '11905.png', '12278.png', '13436.png', '13679.png', '14139.png', 'bottle-broken_small_0_crop.png', 'bottle-broken_small_0_flip1.png', 'bottle-broken_small_0_rotation.png', 'bottle-broken_small_1_crop.png', 'bottle-broken_small_1_flip1.png', 'bottle-broken_small_1_rotation.png', 'bottle-broken_small_2_crop.png', 'bottle-broken_small_2_flip1.png', 'bottle-broken_small_2_rotation.png', 'bottle-broken_small_3_crop.png', 'bottle-broken_small_3_flip1.png', 'bottle-broken_small_3_rotation.png', 'bottle-broken_small_4_crop.png', 'bottle-broken_small_4_flip1.png', 'bottle-broken_small_4_rotation.png', 'bottle-broken_small_5_crop.png', 'bottle-broken_small_5_flip1.png', 'bottle-broken_small_5_rotation.png', 'bottle-broken_small_6_crop.png', 'bottle-broken_small_6_flip1.png', 'bottle-broken_small_6_rotation.png', 'bottle-broken_small_7_crop.png', 'bottle-broken_small_7_flip1.png', 'bottle-broken_small_7_rotation.png', 'bottle-broken_small_8_crop.png', 'bottle-broken_small_8_flip1.png', 'bottle-broken_small_8_rotation.png', 'bottle-broken_small_9_crop.png', 'bottle-broken_small_9_flip1.png', 'bottle-broken_small_9_rotation.png', 'bottle-broken_small_10_crop.png', 'bottle-broken_small_10_flip1.png', 'bottle-broken_small_10_rotation.png', 'bottle-broken_small_11_flip1.png', 'bottle-broken_small_11_rotation.png', 'bottle-broken_small_12_flip1.png', 'bottle-broken_small_12_rotation.png', 'bottle-broken_small_13_flip1.png', 'bottle-broken_small_13_rotation.png', 'bottle-broken_small_14_flip1.png', 'bottle-broken_small_14_rotation.png', 'bottle-broken_small_15_flip1.png', 'bottle-broken_small_15_rotation.png', 'bottle-broken_small_16_flip1.png', 'bottle-broken_small_16_rotation.png', 'bottle-broken_small_17_flip1.png', 'bottle-broken_small_17_rotation.png', 'bottle-broken_small_18_flip1.png', 'bottle-broken_small_18_rotation.png', 'bottle-broken_small_19_flip1.png', 'bottle-broken_small_19_rotation.png', 'bottle-broken_small_20_flip1.png', 'bottle-broken_small_20_rotation.png', 'bottle-broken_small_21_flip1.png', 'bottle-broken_small_21_rotation.png', 'bottle-broken_small_22_flip1.png', 'bottle-broken_small_23_flip1.png', 'bottle-broken_small_24_flip1.png', 'bottle-broken_small_25_flip1.png', 'bottle-broken_small_26_flip1.png', 'bottle-broken_small_27_flip1.png', 'bottle-broken_small_28_flip1.png', 'bottle-broken_small_29_flip1.png', 'bottle-broken_small_30_flip1.png', 'bottle-broken_small_31_flip1.png', 'bottle-broken_small_32_flip1.png', 'bottle-broken_small_33_flip1.png', 'bottle-broken_small_34_flip1.png', 'bottle-broken_small_35_flip1.png', 'bottle-broken_small_36_flip1.png', 'bottle-broken_small_37_flip1.png', 'bottle-broken_small_38_flip1.png', 'bottle-broken_small_39_flip1.png', 'bottle-broken_small_40_flip1.png', 'bottle-broken_small_41_flip1.png', 'bottle-broken_small_42_flip1.png', 'bottle-broken_small_43_flip1.png']\n"
     ]
    },
    {
     "name": "stderr",
     "output_type": "stream",
     "text": [
      "\r",
      " 53%|█████▎    | 47/88 [03:11<04:04,  5.95s/it]"
     ]
    },
    {
     "name": "stdout",
     "output_type": "stream",
     "text": [
      "leather-cut\n",
      "['10230.png', '10279.png', '10618.png', '11125.png', '11240.png', '11920.png', '12422.png', '13298.png', '13571.png', '14245.png', 'leather-cut_0_crop.png', 'leather-cut_0_flip1.png', 'leather-cut_0_rotation.png', 'leather-cut_1_crop.png', 'leather-cut_1_flip1.png', 'leather-cut_1_rotation.png', 'leather-cut_2_crop.png', 'leather-cut_2_flip1.png', 'leather-cut_2_rotation.png', 'leather-cut_3_crop.png', 'leather-cut_3_flip1.png', 'leather-cut_3_rotation.png', 'leather-cut_4_crop.png', 'leather-cut_4_flip1.png', 'leather-cut_4_rotation.png', 'leather-cut_5_crop.png', 'leather-cut_5_flip1.png', 'leather-cut_5_rotation.png', 'leather-cut_6_crop.png', 'leather-cut_6_flip1.png', 'leather-cut_6_rotation.png', 'leather-cut_7_crop.png', 'leather-cut_7_flip1.png', 'leather-cut_7_rotation.png', 'leather-cut_8_crop.png', 'leather-cut_8_flip1.png', 'leather-cut_8_rotation.png', 'leather-cut_9_crop.png', 'leather-cut_9_flip1.png', 'leather-cut_9_rotation.png', 'leather-cut_10_flip1.png', 'leather-cut_10_rotation.png', 'leather-cut_11_flip1.png', 'leather-cut_11_rotation.png', 'leather-cut_12_flip1.png', 'leather-cut_12_rotation.png', 'leather-cut_13_flip1.png', 'leather-cut_13_rotation.png', 'leather-cut_14_flip1.png', 'leather-cut_14_rotation.png', 'leather-cut_15_flip1.png', 'leather-cut_15_rotation.png', 'leather-cut_16_flip1.png', 'leather-cut_16_rotation.png', 'leather-cut_17_flip1.png', 'leather-cut_17_rotation.png', 'leather-cut_18_flip1.png', 'leather-cut_18_rotation.png', 'leather-cut_19_flip1.png', 'leather-cut_19_rotation.png', 'leather-cut_20_flip1.png', 'leather-cut_21_flip1.png', 'leather-cut_22_flip1.png', 'leather-cut_23_flip1.png', 'leather-cut_24_flip1.png', 'leather-cut_25_flip1.png', 'leather-cut_26_flip1.png', 'leather-cut_27_flip1.png', 'leather-cut_28_flip1.png', 'leather-cut_29_flip1.png', 'leather-cut_30_flip1.png', 'leather-cut_31_flip1.png', 'leather-cut_32_flip1.png', 'leather-cut_33_flip1.png', 'leather-cut_34_flip1.png', 'leather-cut_35_flip1.png', 'leather-cut_36_flip1.png', 'leather-cut_37_flip1.png', 'leather-cut_38_flip1.png', 'leather-cut_39_flip1.png']\n"
     ]
    },
    {
     "name": "stderr",
     "output_type": "stream",
     "text": [
      "\r",
      " 55%|█████▍    | 48/88 [03:18<04:06,  6.15s/it]"
     ]
    },
    {
     "name": "stdout",
     "output_type": "stream",
     "text": [
      "cable-cut_outer_insulation\n",
      "['10234.png', '10249.png', '11284.png', '12220.png', '14153.png', 'cable-cut_outer_insulation_0_crop.png', 'cable-cut_outer_insulation_0_flip1.png', 'cable-cut_outer_insulation_0_rotation.png', 'cable-cut_outer_insulation_1_crop.png', 'cable-cut_outer_insulation_1_flip1.png', 'cable-cut_outer_insulation_1_rotation.png', 'cable-cut_outer_insulation_2_crop.png', 'cable-cut_outer_insulation_2_flip1.png', 'cable-cut_outer_insulation_2_rotation.png', 'cable-cut_outer_insulation_3_crop.png', 'cable-cut_outer_insulation_3_flip1.png', 'cable-cut_outer_insulation_3_rotation.png', 'cable-cut_outer_insulation_4_crop.png', 'cable-cut_outer_insulation_4_flip1.png', 'cable-cut_outer_insulation_4_rotation.png', 'cable-cut_outer_insulation_5_flip1.png', 'cable-cut_outer_insulation_5_rotation.png', 'cable-cut_outer_insulation_6_flip1.png', 'cable-cut_outer_insulation_6_rotation.png', 'cable-cut_outer_insulation_7_flip1.png', 'cable-cut_outer_insulation_7_rotation.png', 'cable-cut_outer_insulation_8_flip1.png', 'cable-cut_outer_insulation_8_rotation.png', 'cable-cut_outer_insulation_9_flip1.png', 'cable-cut_outer_insulation_9_rotation.png', 'cable-cut_outer_insulation_10_flip1.png', 'cable-cut_outer_insulation_11_flip1.png', 'cable-cut_outer_insulation_12_flip1.png', 'cable-cut_outer_insulation_13_flip1.png', 'cable-cut_outer_insulation_14_flip1.png', 'cable-cut_outer_insulation_15_flip1.png', 'cable-cut_outer_insulation_16_flip1.png', 'cable-cut_outer_insulation_17_flip1.png', 'cable-cut_outer_insulation_18_flip1.png', 'cable-cut_outer_insulation_19_flip1.png']\n"
     ]
    },
    {
     "name": "stderr",
     "output_type": "stream",
     "text": [
      "\r",
      " 56%|█████▌    | 49/88 [03:21<03:27,  5.33s/it]"
     ]
    },
    {
     "name": "stdout",
     "output_type": "stream",
     "text": [
      "zipper-squeezed_teeth\n",
      "['10235.png', '10811.png', '11430.png', '11496.png', '11700.png', '13187.png', '13647.png', '13731.png', 'zipper-squeezed_teeth_0_crop.png', 'zipper-squeezed_teeth_0_flip1.png', 'zipper-squeezed_teeth_0_rotation.png', 'zipper-squeezed_teeth_1_crop.png', 'zipper-squeezed_teeth_1_flip1.png', 'zipper-squeezed_teeth_1_rotation.png', 'zipper-squeezed_teeth_2_crop.png', 'zipper-squeezed_teeth_2_flip1.png', 'zipper-squeezed_teeth_2_rotation.png', 'zipper-squeezed_teeth_3_crop.png', 'zipper-squeezed_teeth_3_flip1.png', 'zipper-squeezed_teeth_3_rotation.png', 'zipper-squeezed_teeth_4_crop.png', 'zipper-squeezed_teeth_4_flip1.png', 'zipper-squeezed_teeth_4_rotation.png', 'zipper-squeezed_teeth_5_crop.png', 'zipper-squeezed_teeth_5_flip1.png', 'zipper-squeezed_teeth_5_rotation.png', 'zipper-squeezed_teeth_6_crop.png', 'zipper-squeezed_teeth_6_flip1.png', 'zipper-squeezed_teeth_6_rotation.png', 'zipper-squeezed_teeth_7_crop.png', 'zipper-squeezed_teeth_7_flip1.png', 'zipper-squeezed_teeth_7_rotation.png', 'zipper-squeezed_teeth_8_flip1.png', 'zipper-squeezed_teeth_8_rotation.png', 'zipper-squeezed_teeth_9_flip1.png', 'zipper-squeezed_teeth_9_rotation.png', 'zipper-squeezed_teeth_10_flip1.png', 'zipper-squeezed_teeth_10_rotation.png', 'zipper-squeezed_teeth_11_flip1.png', 'zipper-squeezed_teeth_11_rotation.png', 'zipper-squeezed_teeth_12_flip1.png', 'zipper-squeezed_teeth_12_rotation.png', 'zipper-squeezed_teeth_13_flip1.png', 'zipper-squeezed_teeth_13_rotation.png', 'zipper-squeezed_teeth_14_flip1.png', 'zipper-squeezed_teeth_14_rotation.png', 'zipper-squeezed_teeth_15_flip1.png', 'zipper-squeezed_teeth_15_rotation.png', 'zipper-squeezed_teeth_16_flip1.png', 'zipper-squeezed_teeth_17_flip1.png', 'zipper-squeezed_teeth_18_flip1.png', 'zipper-squeezed_teeth_19_flip1.png', 'zipper-squeezed_teeth_20_flip1.png', 'zipper-squeezed_teeth_21_flip1.png', 'zipper-squeezed_teeth_22_flip1.png', 'zipper-squeezed_teeth_23_flip1.png', 'zipper-squeezed_teeth_24_flip1.png', 'zipper-squeezed_teeth_25_flip1.png', 'zipper-squeezed_teeth_26_flip1.png', 'zipper-squeezed_teeth_27_flip1.png', 'zipper-squeezed_teeth_28_flip1.png', 'zipper-squeezed_teeth_29_flip1.png', 'zipper-squeezed_teeth_30_flip1.png', 'zipper-squeezed_teeth_31_flip1.png']\n"
     ]
    },
    {
     "name": "stderr",
     "output_type": "stream",
     "text": [
      "\r",
      " 57%|█████▋    | 50/88 [03:25<03:09,  5.00s/it]"
     ]
    },
    {
     "name": "stdout",
     "output_type": "stream",
     "text": [
      "toothbrush-defective\n",
      "['10237.png', '10573.png', '11080.png', '11218.png', '11231.png', '11750.png', '12159.png', '12163.png', '12321.png', '12873.png', '12925.png', '12955.png', '13134.png', '13245.png', '14053.png', 'toothbrush-defective_0_crop.png', 'toothbrush-defective_0_flip1.png', 'toothbrush-defective_0_rotation.png', 'toothbrush-defective_1_crop.png', 'toothbrush-defective_1_flip1.png', 'toothbrush-defective_1_rotation.png', 'toothbrush-defective_2_crop.png', 'toothbrush-defective_2_flip1.png', 'toothbrush-defective_2_rotation.png', 'toothbrush-defective_3_crop.png', 'toothbrush-defective_3_flip1.png', 'toothbrush-defective_3_rotation.png', 'toothbrush-defective_4_crop.png', 'toothbrush-defective_4_flip1.png', 'toothbrush-defective_4_rotation.png', 'toothbrush-defective_5_crop.png', 'toothbrush-defective_5_flip1.png', 'toothbrush-defective_5_rotation.png', 'toothbrush-defective_6_crop.png', 'toothbrush-defective_6_flip1.png', 'toothbrush-defective_6_rotation.png', 'toothbrush-defective_7_crop.png', 'toothbrush-defective_7_flip1.png', 'toothbrush-defective_7_rotation.png', 'toothbrush-defective_8_crop.png', 'toothbrush-defective_8_flip1.png', 'toothbrush-defective_8_rotation.png', 'toothbrush-defective_9_crop.png', 'toothbrush-defective_9_flip1.png', 'toothbrush-defective_9_rotation.png', 'toothbrush-defective_10_crop.png', 'toothbrush-defective_10_flip1.png', 'toothbrush-defective_10_rotation.png', 'toothbrush-defective_11_crop.png', 'toothbrush-defective_11_flip1.png', 'toothbrush-defective_11_rotation.png', 'toothbrush-defective_12_crop.png', 'toothbrush-defective_12_flip1.png', 'toothbrush-defective_12_rotation.png', 'toothbrush-defective_13_crop.png', 'toothbrush-defective_13_flip1.png', 'toothbrush-defective_13_rotation.png', 'toothbrush-defective_14_crop.png', 'toothbrush-defective_14_flip1.png', 'toothbrush-defective_14_rotation.png', 'toothbrush-defective_15_flip1.png', 'toothbrush-defective_15_rotation.png', 'toothbrush-defective_16_flip1.png', 'toothbrush-defective_16_rotation.png', 'toothbrush-defective_17_flip1.png', 'toothbrush-defective_17_rotation.png', 'toothbrush-defective_18_flip1.png', 'toothbrush-defective_18_rotation.png', 'toothbrush-defective_19_flip1.png', 'toothbrush-defective_19_rotation.png', 'toothbrush-defective_20_flip1.png', 'toothbrush-defective_20_rotation.png', 'toothbrush-defective_21_flip1.png', 'toothbrush-defective_21_rotation.png', 'toothbrush-defective_22_flip1.png', 'toothbrush-defective_22_rotation.png', 'toothbrush-defective_23_flip1.png', 'toothbrush-defective_23_rotation.png', 'toothbrush-defective_24_flip1.png', 'toothbrush-defective_24_rotation.png', 'toothbrush-defective_25_flip1.png', 'toothbrush-defective_25_rotation.png', 'toothbrush-defective_26_flip1.png', 'toothbrush-defective_26_rotation.png', 'toothbrush-defective_27_flip1.png', 'toothbrush-defective_27_rotation.png', 'toothbrush-defective_28_flip1.png', 'toothbrush-defective_28_rotation.png', 'toothbrush-defective_29_flip1.png', 'toothbrush-defective_29_rotation.png', 'toothbrush-defective_30_flip1.png', 'toothbrush-defective_31_flip1.png', 'toothbrush-defective_32_flip1.png', 'toothbrush-defective_33_flip1.png', 'toothbrush-defective_34_flip1.png', 'toothbrush-defective_35_flip1.png', 'toothbrush-defective_36_flip1.png', 'toothbrush-defective_37_flip1.png', 'toothbrush-defective_38_flip1.png', 'toothbrush-defective_39_flip1.png', 'toothbrush-defective_40_flip1.png', 'toothbrush-defective_41_flip1.png', 'toothbrush-defective_42_flip1.png', 'toothbrush-defective_43_flip1.png', 'toothbrush-defective_44_flip1.png', 'toothbrush-defective_45_flip1.png', 'toothbrush-defective_46_flip1.png', 'toothbrush-defective_47_flip1.png', 'toothbrush-defective_48_flip1.png', 'toothbrush-defective_49_flip1.png', 'toothbrush-defective_50_flip1.png', 'toothbrush-defective_51_flip1.png', 'toothbrush-defective_52_flip1.png', 'toothbrush-defective_53_flip1.png', 'toothbrush-defective_54_flip1.png', 'toothbrush-defective_55_flip1.png', 'toothbrush-defective_56_flip1.png', 'toothbrush-defective_57_flip1.png', 'toothbrush-defective_58_flip1.png', 'toothbrush-defective_59_flip1.png']\n"
     ]
    },
    {
     "name": "stderr",
     "output_type": "stream",
     "text": [
      "\r",
      " 58%|█████▊    | 51/88 [03:35<03:59,  6.46s/it]"
     ]
    },
    {
     "name": "stdout",
     "output_type": "stream",
     "text": [
      "cable-cut_inner_insulation\n",
      "['10239.png', '10777.png', '10891.png', '11215.png', '12372.png', '13013.png', '13967.png', 'cable-cut_inner_insulation_0_crop.png', 'cable-cut_inner_insulation_0_flip1.png', 'cable-cut_inner_insulation_0_rotation.png', 'cable-cut_inner_insulation_1_crop.png', 'cable-cut_inner_insulation_1_flip1.png', 'cable-cut_inner_insulation_1_rotation.png', 'cable-cut_inner_insulation_2_crop.png', 'cable-cut_inner_insulation_2_flip1.png', 'cable-cut_inner_insulation_2_rotation.png', 'cable-cut_inner_insulation_3_crop.png', 'cable-cut_inner_insulation_3_flip1.png', 'cable-cut_inner_insulation_3_rotation.png', 'cable-cut_inner_insulation_4_crop.png', 'cable-cut_inner_insulation_4_flip1.png', 'cable-cut_inner_insulation_4_rotation.png', 'cable-cut_inner_insulation_5_crop.png', 'cable-cut_inner_insulation_5_flip1.png', 'cable-cut_inner_insulation_5_rotation.png', 'cable-cut_inner_insulation_6_crop.png', 'cable-cut_inner_insulation_6_flip1.png', 'cable-cut_inner_insulation_6_rotation.png', 'cable-cut_inner_insulation_7_flip1.png', 'cable-cut_inner_insulation_7_rotation.png', 'cable-cut_inner_insulation_8_flip1.png', 'cable-cut_inner_insulation_8_rotation.png', 'cable-cut_inner_insulation_9_flip1.png', 'cable-cut_inner_insulation_9_rotation.png', 'cable-cut_inner_insulation_10_flip1.png', 'cable-cut_inner_insulation_10_rotation.png', 'cable-cut_inner_insulation_11_flip1.png', 'cable-cut_inner_insulation_11_rotation.png', 'cable-cut_inner_insulation_12_flip1.png', 'cable-cut_inner_insulation_12_rotation.png', 'cable-cut_inner_insulation_13_flip1.png', 'cable-cut_inner_insulation_13_rotation.png', 'cable-cut_inner_insulation_14_flip1.png', 'cable-cut_inner_insulation_15_flip1.png', 'cable-cut_inner_insulation_16_flip1.png', 'cable-cut_inner_insulation_17_flip1.png', 'cable-cut_inner_insulation_18_flip1.png', 'cable-cut_inner_insulation_19_flip1.png', 'cable-cut_inner_insulation_20_flip1.png', 'cable-cut_inner_insulation_21_flip1.png', 'cable-cut_inner_insulation_22_flip1.png', 'cable-cut_inner_insulation_23_flip1.png', 'cable-cut_inner_insulation_24_flip1.png', 'cable-cut_inner_insulation_25_flip1.png', 'cable-cut_inner_insulation_26_flip1.png', 'cable-cut_inner_insulation_27_flip1.png']\n"
     ]
    },
    {
     "name": "stderr",
     "output_type": "stream",
     "text": [
      "\r",
      " 59%|█████▉    | 52/88 [03:40<03:33,  5.93s/it]"
     ]
    },
    {
     "name": "stdout",
     "output_type": "stream",
     "text": [
      "pill-contamination\n",
      "['10243.png', '10694.png', '10764.png', '10806.png', '11251.png', '11393.png', '12806.png', '13000.png', '13500.png', '13553.png', '13784.png', 'pill-contamination_0_crop.png', 'pill-contamination_0_flip1.png', 'pill-contamination_0_rotation.png', 'pill-contamination_1_crop.png', 'pill-contamination_1_flip1.png', 'pill-contamination_1_rotation.png', 'pill-contamination_2_crop.png', 'pill-contamination_2_flip1.png', 'pill-contamination_2_rotation.png', 'pill-contamination_3_crop.png', 'pill-contamination_3_flip1.png', 'pill-contamination_3_rotation.png', 'pill-contamination_4_crop.png', 'pill-contamination_4_flip1.png', 'pill-contamination_4_rotation.png', 'pill-contamination_5_crop.png', 'pill-contamination_5_flip1.png', 'pill-contamination_5_rotation.png', 'pill-contamination_6_crop.png', 'pill-contamination_6_flip1.png', 'pill-contamination_6_rotation.png', 'pill-contamination_7_crop.png', 'pill-contamination_7_flip1.png', 'pill-contamination_7_rotation.png', 'pill-contamination_8_crop.png', 'pill-contamination_8_flip1.png', 'pill-contamination_8_rotation.png', 'pill-contamination_9_crop.png', 'pill-contamination_9_flip1.png', 'pill-contamination_9_rotation.png', 'pill-contamination_10_crop.png', 'pill-contamination_10_flip1.png', 'pill-contamination_10_rotation.png', 'pill-contamination_11_flip1.png', 'pill-contamination_11_rotation.png', 'pill-contamination_12_flip1.png', 'pill-contamination_12_rotation.png', 'pill-contamination_13_flip1.png', 'pill-contamination_13_rotation.png', 'pill-contamination_14_flip1.png', 'pill-contamination_14_rotation.png', 'pill-contamination_15_flip1.png', 'pill-contamination_15_rotation.png', 'pill-contamination_16_flip1.png', 'pill-contamination_16_rotation.png', 'pill-contamination_17_flip1.png', 'pill-contamination_17_rotation.png', 'pill-contamination_18_flip1.png', 'pill-contamination_18_rotation.png', 'pill-contamination_19_flip1.png', 'pill-contamination_19_rotation.png', 'pill-contamination_20_flip1.png', 'pill-contamination_20_rotation.png', 'pill-contamination_21_flip1.png', 'pill-contamination_21_rotation.png', 'pill-contamination_22_flip1.png', 'pill-contamination_23_flip1.png', 'pill-contamination_24_flip1.png', 'pill-contamination_25_flip1.png', 'pill-contamination_26_flip1.png', 'pill-contamination_27_flip1.png', 'pill-contamination_28_flip1.png', 'pill-contamination_29_flip1.png', 'pill-contamination_30_flip1.png', 'pill-contamination_31_flip1.png', 'pill-contamination_32_flip1.png', 'pill-contamination_33_flip1.png', 'pill-contamination_34_flip1.png', 'pill-contamination_35_flip1.png', 'pill-contamination_36_flip1.png', 'pill-contamination_37_flip1.png', 'pill-contamination_38_flip1.png', 'pill-contamination_39_flip1.png', 'pill-contamination_40_flip1.png', 'pill-contamination_41_flip1.png', 'pill-contamination_42_flip1.png', 'pill-contamination_43_flip1.png']\n"
     ]
    },
    {
     "name": "stderr",
     "output_type": "stream",
     "text": [
      "\r",
      " 60%|██████    | 53/88 [03:47<03:37,  6.23s/it]"
     ]
    },
    {
     "name": "stdout",
     "output_type": "stream",
     "text": [
      "cable-missing_wire\n",
      "['10284.png', '11141.png', '13167.png', '13540.png', '14192.png', 'cable-missing_wire_0_crop.png', 'cable-missing_wire_0_flip1.png', 'cable-missing_wire_0_rotation.png', 'cable-missing_wire_1_crop.png', 'cable-missing_wire_1_flip1.png', 'cable-missing_wire_1_rotation.png', 'cable-missing_wire_2_crop.png', 'cable-missing_wire_2_flip1.png', 'cable-missing_wire_2_rotation.png', 'cable-missing_wire_3_crop.png', 'cable-missing_wire_3_flip1.png', 'cable-missing_wire_3_rotation.png', 'cable-missing_wire_4_crop.png', 'cable-missing_wire_4_flip1.png', 'cable-missing_wire_4_rotation.png', 'cable-missing_wire_5_flip1.png', 'cable-missing_wire_5_rotation.png', 'cable-missing_wire_6_flip1.png', 'cable-missing_wire_6_rotation.png', 'cable-missing_wire_7_flip1.png', 'cable-missing_wire_7_rotation.png', 'cable-missing_wire_8_flip1.png', 'cable-missing_wire_8_rotation.png', 'cable-missing_wire_9_flip1.png', 'cable-missing_wire_9_rotation.png', 'cable-missing_wire_10_flip1.png', 'cable-missing_wire_11_flip1.png', 'cable-missing_wire_12_flip1.png', 'cable-missing_wire_13_flip1.png', 'cable-missing_wire_14_flip1.png', 'cable-missing_wire_15_flip1.png', 'cable-missing_wire_16_flip1.png', 'cable-missing_wire_17_flip1.png', 'cable-missing_wire_18_flip1.png', 'cable-missing_wire_19_flip1.png']\n"
     ]
    },
    {
     "name": "stderr",
     "output_type": "stream",
     "text": [
      "\r",
      " 61%|██████▏   | 54/88 [03:50<03:02,  5.37s/it]"
     ]
    },
    {
     "name": "stdout",
     "output_type": "stream",
     "text": [
      "carpet-thread\n",
      "['10291.png', '10470.png', '10810.png', '10956.png', '12415.png', '12560.png', '12708.png', '13620.png', '13894.png', '13950.png', 'carpet-thread_0_crop.png', 'carpet-thread_0_flip1.png', 'carpet-thread_0_rotation.png', 'carpet-thread_1_crop.png', 'carpet-thread_1_flip1.png', 'carpet-thread_1_rotation.png', 'carpet-thread_2_crop.png', 'carpet-thread_2_flip1.png', 'carpet-thread_2_rotation.png', 'carpet-thread_3_crop.png', 'carpet-thread_3_flip1.png', 'carpet-thread_3_rotation.png', 'carpet-thread_4_crop.png', 'carpet-thread_4_flip1.png', 'carpet-thread_4_rotation.png', 'carpet-thread_5_crop.png', 'carpet-thread_5_flip1.png', 'carpet-thread_5_rotation.png', 'carpet-thread_6_crop.png', 'carpet-thread_6_flip1.png', 'carpet-thread_6_rotation.png', 'carpet-thread_7_crop.png', 'carpet-thread_7_flip1.png', 'carpet-thread_7_rotation.png', 'carpet-thread_8_crop.png', 'carpet-thread_8_flip1.png', 'carpet-thread_8_rotation.png', 'carpet-thread_9_crop.png', 'carpet-thread_9_flip1.png', 'carpet-thread_9_rotation.png', 'carpet-thread_10_flip1.png', 'carpet-thread_10_rotation.png', 'carpet-thread_11_flip1.png', 'carpet-thread_11_rotation.png', 'carpet-thread_12_flip1.png', 'carpet-thread_12_rotation.png', 'carpet-thread_13_flip1.png', 'carpet-thread_13_rotation.png', 'carpet-thread_14_flip1.png', 'carpet-thread_14_rotation.png', 'carpet-thread_15_flip1.png', 'carpet-thread_15_rotation.png', 'carpet-thread_16_flip1.png', 'carpet-thread_16_rotation.png', 'carpet-thread_17_flip1.png', 'carpet-thread_17_rotation.png', 'carpet-thread_18_flip1.png', 'carpet-thread_18_rotation.png', 'carpet-thread_19_flip1.png', 'carpet-thread_19_rotation.png', 'carpet-thread_20_flip1.png', 'carpet-thread_21_flip1.png', 'carpet-thread_22_flip1.png', 'carpet-thread_23_flip1.png', 'carpet-thread_24_flip1.png', 'carpet-thread_25_flip1.png', 'carpet-thread_26_flip1.png', 'carpet-thread_27_flip1.png', 'carpet-thread_28_flip1.png', 'carpet-thread_29_flip1.png', 'carpet-thread_30_flip1.png', 'carpet-thread_31_flip1.png', 'carpet-thread_32_flip1.png', 'carpet-thread_33_flip1.png', 'carpet-thread_34_flip1.png', 'carpet-thread_35_flip1.png', 'carpet-thread_36_flip1.png', 'carpet-thread_37_flip1.png', 'carpet-thread_38_flip1.png', 'carpet-thread_39_flip1.png']\n"
     ]
    },
    {
     "name": "stderr",
     "output_type": "stream",
     "text": [
      "\r",
      " 62%|██████▎   | 55/88 [03:57<03:12,  5.82s/it]"
     ]
    },
    {
     "name": "stdout",
     "output_type": "stream",
     "text": [
      "grid-broken\n",
      "['10292.png', '10679.png', '11259.png', '13067.png', '13989.png', '14266.png', 'grid-broken_0_crop.png', 'grid-broken_0_flip1.png', 'grid-broken_0_rotation.png', 'grid-broken_1_crop.png', 'grid-broken_1_flip1.png', 'grid-broken_1_rotation.png', 'grid-broken_2_crop.png', 'grid-broken_2_flip1.png', 'grid-broken_2_rotation.png', 'grid-broken_3_crop.png', 'grid-broken_3_flip1.png', 'grid-broken_3_rotation.png', 'grid-broken_4_crop.png', 'grid-broken_4_flip1.png', 'grid-broken_4_rotation.png', 'grid-broken_5_crop.png', 'grid-broken_5_flip1.png', 'grid-broken_5_rotation.png', 'grid-broken_6_flip1.png', 'grid-broken_6_rotation.png', 'grid-broken_7_flip1.png', 'grid-broken_7_rotation.png', 'grid-broken_8_flip1.png', 'grid-broken_8_rotation.png', 'grid-broken_9_flip1.png', 'grid-broken_9_rotation.png', 'grid-broken_10_flip1.png', 'grid-broken_10_rotation.png', 'grid-broken_11_flip1.png', 'grid-broken_11_rotation.png', 'grid-broken_12_flip1.png', 'grid-broken_13_flip1.png', 'grid-broken_14_flip1.png', 'grid-broken_15_flip1.png', 'grid-broken_16_flip1.png', 'grid-broken_17_flip1.png', 'grid-broken_18_flip1.png', 'grid-broken_19_flip1.png', 'grid-broken_20_flip1.png', 'grid-broken_21_flip1.png', 'grid-broken_22_flip1.png', 'grid-broken_23_flip1.png']\n"
     ]
    },
    {
     "name": "stderr",
     "output_type": "stream",
     "text": [
      "\r",
      " 64%|██████▎   | 56/88 [04:00<02:41,  5.05s/it]"
     ]
    },
    {
     "name": "stdout",
     "output_type": "stream",
     "text": [
      "pill-faulty_imprint\n",
      "['10305.png', '10671.png', '10970.png', '11055.png', '11063.png', '11241.png', '11646.png', '12145.png', '12631.png', '13722.png', 'pill-faulty_imprint_0_crop.png', 'pill-faulty_imprint_0_flip1.png', 'pill-faulty_imprint_0_rotation.png', 'pill-faulty_imprint_1_crop.png', 'pill-faulty_imprint_1_flip1.png', 'pill-faulty_imprint_1_rotation.png', 'pill-faulty_imprint_2_crop.png', 'pill-faulty_imprint_2_flip1.png', 'pill-faulty_imprint_2_rotation.png', 'pill-faulty_imprint_3_crop.png', 'pill-faulty_imprint_3_flip1.png', 'pill-faulty_imprint_3_rotation.png', 'pill-faulty_imprint_4_crop.png', 'pill-faulty_imprint_4_flip1.png', 'pill-faulty_imprint_4_rotation.png', 'pill-faulty_imprint_5_crop.png', 'pill-faulty_imprint_5_flip1.png', 'pill-faulty_imprint_5_rotation.png', 'pill-faulty_imprint_6_crop.png', 'pill-faulty_imprint_6_flip1.png', 'pill-faulty_imprint_6_rotation.png', 'pill-faulty_imprint_7_crop.png', 'pill-faulty_imprint_7_flip1.png', 'pill-faulty_imprint_7_rotation.png', 'pill-faulty_imprint_8_crop.png', 'pill-faulty_imprint_8_flip1.png', 'pill-faulty_imprint_8_rotation.png', 'pill-faulty_imprint_9_crop.png', 'pill-faulty_imprint_9_flip1.png', 'pill-faulty_imprint_9_rotation.png', 'pill-faulty_imprint_10_flip1.png', 'pill-faulty_imprint_10_rotation.png', 'pill-faulty_imprint_11_flip1.png', 'pill-faulty_imprint_11_rotation.png', 'pill-faulty_imprint_12_flip1.png', 'pill-faulty_imprint_12_rotation.png', 'pill-faulty_imprint_13_flip1.png', 'pill-faulty_imprint_13_rotation.png', 'pill-faulty_imprint_14_flip1.png', 'pill-faulty_imprint_14_rotation.png', 'pill-faulty_imprint_15_flip1.png', 'pill-faulty_imprint_15_rotation.png', 'pill-faulty_imprint_16_flip1.png', 'pill-faulty_imprint_16_rotation.png', 'pill-faulty_imprint_17_flip1.png', 'pill-faulty_imprint_17_rotation.png', 'pill-faulty_imprint_18_flip1.png', 'pill-faulty_imprint_18_rotation.png', 'pill-faulty_imprint_19_flip1.png', 'pill-faulty_imprint_19_rotation.png', 'pill-faulty_imprint_20_flip1.png', 'pill-faulty_imprint_21_flip1.png', 'pill-faulty_imprint_22_flip1.png', 'pill-faulty_imprint_23_flip1.png', 'pill-faulty_imprint_24_flip1.png', 'pill-faulty_imprint_25_flip1.png', 'pill-faulty_imprint_26_flip1.png', 'pill-faulty_imprint_27_flip1.png', 'pill-faulty_imprint_28_flip1.png', 'pill-faulty_imprint_29_flip1.png', 'pill-faulty_imprint_30_flip1.png', 'pill-faulty_imprint_31_flip1.png', 'pill-faulty_imprint_32_flip1.png', 'pill-faulty_imprint_33_flip1.png', 'pill-faulty_imprint_34_flip1.png', 'pill-faulty_imprint_35_flip1.png', 'pill-faulty_imprint_36_flip1.png', 'pill-faulty_imprint_37_flip1.png', 'pill-faulty_imprint_38_flip1.png', 'pill-faulty_imprint_39_flip1.png']\n"
     ]
    },
    {
     "name": "stderr",
     "output_type": "stream",
     "text": [
      "\r",
      " 65%|██████▍   | 57/88 [04:07<02:47,  5.40s/it]"
     ]
    },
    {
     "name": "stdout",
     "output_type": "stream",
     "text": [
      "hazelnut-hole\n",
      "['10312.png', '10688.png', '11364.png', '11431.png', '12088.png', '12090.png', '13237.png', '13956.png', '14097.png', 'hazelnut-hole_0_crop.png', 'hazelnut-hole_0_flip1.png', 'hazelnut-hole_0_rotation.png', 'hazelnut-hole_1_crop.png', 'hazelnut-hole_1_flip1.png', 'hazelnut-hole_1_rotation.png', 'hazelnut-hole_2_crop.png', 'hazelnut-hole_2_flip1.png', 'hazelnut-hole_2_rotation.png', 'hazelnut-hole_3_crop.png', 'hazelnut-hole_3_flip1.png', 'hazelnut-hole_3_rotation.png', 'hazelnut-hole_4_crop.png', 'hazelnut-hole_4_flip1.png', 'hazelnut-hole_4_rotation.png', 'hazelnut-hole_5_crop.png', 'hazelnut-hole_5_flip1.png', 'hazelnut-hole_5_rotation.png', 'hazelnut-hole_6_crop.png', 'hazelnut-hole_6_flip1.png', 'hazelnut-hole_6_rotation.png', 'hazelnut-hole_7_crop.png', 'hazelnut-hole_7_flip1.png', 'hazelnut-hole_7_rotation.png', 'hazelnut-hole_8_crop.png', 'hazelnut-hole_8_flip1.png', 'hazelnut-hole_8_rotation.png', 'hazelnut-hole_9_flip1.png', 'hazelnut-hole_9_rotation.png', 'hazelnut-hole_10_flip1.png', 'hazelnut-hole_10_rotation.png', 'hazelnut-hole_11_flip1.png', 'hazelnut-hole_11_rotation.png', 'hazelnut-hole_12_flip1.png', 'hazelnut-hole_12_rotation.png', 'hazelnut-hole_13_flip1.png', 'hazelnut-hole_13_rotation.png', 'hazelnut-hole_14_flip1.png', 'hazelnut-hole_14_rotation.png', 'hazelnut-hole_15_flip1.png', 'hazelnut-hole_15_rotation.png', 'hazelnut-hole_16_flip1.png', 'hazelnut-hole_16_rotation.png', 'hazelnut-hole_17_flip1.png', 'hazelnut-hole_17_rotation.png', 'hazelnut-hole_18_flip1.png', 'hazelnut-hole_19_flip1.png', 'hazelnut-hole_20_flip1.png', 'hazelnut-hole_21_flip1.png', 'hazelnut-hole_22_flip1.png', 'hazelnut-hole_23_flip1.png', 'hazelnut-hole_24_flip1.png', 'hazelnut-hole_25_flip1.png', 'hazelnut-hole_26_flip1.png', 'hazelnut-hole_27_flip1.png', 'hazelnut-hole_28_flip1.png', 'hazelnut-hole_29_flip1.png', 'hazelnut-hole_30_flip1.png', 'hazelnut-hole_31_flip1.png', 'hazelnut-hole_32_flip1.png', 'hazelnut-hole_33_flip1.png', 'hazelnut-hole_34_flip1.png', 'hazelnut-hole_35_flip1.png']\n"
     ]
    },
    {
     "name": "stderr",
     "output_type": "stream",
     "text": [
      "\r",
      " 66%|██████▌   | 58/88 [04:12<02:45,  5.53s/it]"
     ]
    },
    {
     "name": "stdout",
     "output_type": "stream",
     "text": [
      "leather-glue\n",
      "['10314.png', '11574.png', '11842.png', '11895.png', '12076.png', '12341.png', '12377.png', '13091.png', '13400.png', '13897.png', 'leather-glue_0_crop.png', 'leather-glue_0_flip1.png', 'leather-glue_0_rotation.png', 'leather-glue_1_crop.png', 'leather-glue_1_flip1.png', 'leather-glue_1_rotation.png', 'leather-glue_2_crop.png', 'leather-glue_2_flip1.png', 'leather-glue_2_rotation.png', 'leather-glue_3_crop.png', 'leather-glue_3_flip1.png', 'leather-glue_3_rotation.png', 'leather-glue_4_crop.png', 'leather-glue_4_flip1.png', 'leather-glue_4_rotation.png', 'leather-glue_5_crop.png', 'leather-glue_5_flip1.png', 'leather-glue_5_rotation.png', 'leather-glue_6_crop.png', 'leather-glue_6_flip1.png', 'leather-glue_6_rotation.png', 'leather-glue_7_crop.png', 'leather-glue_7_flip1.png', 'leather-glue_7_rotation.png', 'leather-glue_8_crop.png', 'leather-glue_8_flip1.png', 'leather-glue_8_rotation.png', 'leather-glue_9_crop.png', 'leather-glue_9_flip1.png', 'leather-glue_9_rotation.png', 'leather-glue_10_flip1.png', 'leather-glue_10_rotation.png', 'leather-glue_11_flip1.png', 'leather-glue_11_rotation.png', 'leather-glue_12_flip1.png', 'leather-glue_12_rotation.png', 'leather-glue_13_flip1.png', 'leather-glue_13_rotation.png', 'leather-glue_14_flip1.png', 'leather-glue_14_rotation.png', 'leather-glue_15_flip1.png', 'leather-glue_15_rotation.png', 'leather-glue_16_flip1.png', 'leather-glue_16_rotation.png', 'leather-glue_17_flip1.png', 'leather-glue_17_rotation.png', 'leather-glue_18_flip1.png', 'leather-glue_18_rotation.png', 'leather-glue_19_flip1.png', 'leather-glue_19_rotation.png', 'leather-glue_20_flip1.png', 'leather-glue_21_flip1.png', 'leather-glue_22_flip1.png', 'leather-glue_23_flip1.png', 'leather-glue_24_flip1.png', 'leather-glue_25_flip1.png', 'leather-glue_26_flip1.png', 'leather-glue_27_flip1.png', 'leather-glue_28_flip1.png', 'leather-glue_29_flip1.png', 'leather-glue_30_flip1.png', 'leather-glue_31_flip1.png', 'leather-glue_32_flip1.png', 'leather-glue_33_flip1.png', 'leather-glue_34_flip1.png', 'leather-glue_35_flip1.png', 'leather-glue_36_flip1.png', 'leather-glue_37_flip1.png', 'leather-glue_38_flip1.png', 'leather-glue_39_flip1.png']\n"
     ]
    },
    {
     "name": "stderr",
     "output_type": "stream",
     "text": [
      "\r",
      " 67%|██████▋   | 59/88 [04:19<02:50,  5.87s/it]"
     ]
    },
    {
     "name": "stdout",
     "output_type": "stream",
     "text": [
      "leather-poke\n",
      "['10327.png', '10739.png', '11203.png', '11210.png', '12294.png', '12502.png', '12506.png', '12909.png', '14237.png', 'leather-poke_0_crop.png', 'leather-poke_0_flip1.png', 'leather-poke_0_rotation.png', 'leather-poke_1_crop.png', 'leather-poke_1_flip1.png', 'leather-poke_1_rotation.png', 'leather-poke_2_crop.png', 'leather-poke_2_flip1.png', 'leather-poke_2_rotation.png', 'leather-poke_3_crop.png', 'leather-poke_3_flip1.png', 'leather-poke_3_rotation.png', 'leather-poke_4_crop.png', 'leather-poke_4_flip1.png', 'leather-poke_4_rotation.png', 'leather-poke_5_crop.png', 'leather-poke_5_flip1.png', 'leather-poke_5_rotation.png', 'leather-poke_6_crop.png', 'leather-poke_6_flip1.png', 'leather-poke_6_rotation.png', 'leather-poke_7_crop.png', 'leather-poke_7_flip1.png', 'leather-poke_7_rotation.png', 'leather-poke_8_crop.png', 'leather-poke_8_flip1.png', 'leather-poke_8_rotation.png', 'leather-poke_9_flip1.png', 'leather-poke_9_rotation.png', 'leather-poke_10_flip1.png', 'leather-poke_10_rotation.png', 'leather-poke_11_flip1.png', 'leather-poke_11_rotation.png', 'leather-poke_12_flip1.png', 'leather-poke_12_rotation.png', 'leather-poke_13_flip1.png', 'leather-poke_13_rotation.png', 'leather-poke_14_flip1.png', 'leather-poke_14_rotation.png', 'leather-poke_15_flip1.png', 'leather-poke_15_rotation.png', 'leather-poke_16_flip1.png', 'leather-poke_16_rotation.png', 'leather-poke_17_flip1.png', 'leather-poke_17_rotation.png', 'leather-poke_18_flip1.png', 'leather-poke_19_flip1.png', 'leather-poke_20_flip1.png', 'leather-poke_21_flip1.png', 'leather-poke_22_flip1.png', 'leather-poke_23_flip1.png', 'leather-poke_24_flip1.png', 'leather-poke_25_flip1.png', 'leather-poke_26_flip1.png', 'leather-poke_27_flip1.png', 'leather-poke_28_flip1.png', 'leather-poke_29_flip1.png', 'leather-poke_30_flip1.png', 'leather-poke_31_flip1.png', 'leather-poke_32_flip1.png', 'leather-poke_33_flip1.png', 'leather-poke_34_flip1.png', 'leather-poke_35_flip1.png']\n"
     ]
    },
    {
     "name": "stderr",
     "output_type": "stream",
     "text": [
      "\r",
      " 68%|██████▊   | 60/88 [04:25<02:45,  5.92s/it]"
     ]
    },
    {
     "name": "stdout",
     "output_type": "stream",
     "text": [
      "transistor-damaged_case\n",
      "['10392.png', '11479.png', '11569.png', '12016.png', '12384.png', 'transistor-damaged_case_0_crop.png', 'transistor-damaged_case_0_flip1.png', 'transistor-damaged_case_0_rotation.png', 'transistor-damaged_case_1_crop.png', 'transistor-damaged_case_1_flip1.png', 'transistor-damaged_case_1_rotation.png', 'transistor-damaged_case_2_crop.png', 'transistor-damaged_case_2_flip1.png', 'transistor-damaged_case_2_rotation.png', 'transistor-damaged_case_3_crop.png', 'transistor-damaged_case_3_flip1.png', 'transistor-damaged_case_3_rotation.png', 'transistor-damaged_case_4_crop.png', 'transistor-damaged_case_4_flip1.png', 'transistor-damaged_case_4_rotation.png', 'transistor-damaged_case_5_flip1.png', 'transistor-damaged_case_5_rotation.png', 'transistor-damaged_case_6_flip1.png', 'transistor-damaged_case_6_rotation.png', 'transistor-damaged_case_7_flip1.png', 'transistor-damaged_case_7_rotation.png', 'transistor-damaged_case_8_flip1.png', 'transistor-damaged_case_8_rotation.png', 'transistor-damaged_case_9_flip1.png', 'transistor-damaged_case_9_rotation.png', 'transistor-damaged_case_10_flip1.png', 'transistor-damaged_case_11_flip1.png', 'transistor-damaged_case_12_flip1.png', 'transistor-damaged_case_13_flip1.png', 'transistor-damaged_case_14_flip1.png', 'transistor-damaged_case_15_flip1.png', 'transistor-damaged_case_16_flip1.png', 'transistor-damaged_case_17_flip1.png', 'transistor-damaged_case_18_flip1.png', 'transistor-damaged_case_19_flip1.png']\n"
     ]
    },
    {
     "name": "stderr",
     "output_type": "stream",
     "text": [
      "\r",
      " 69%|██████▉   | 61/88 [04:28<02:18,  5.14s/it]"
     ]
    },
    {
     "name": "stdout",
     "output_type": "stream",
     "text": [
      "wood-scratch\n",
      "['10441.png', '10635.png', '10832.png', '11658.png', '12083.png', '12313.png', '12500.png', '12510.png', '12623.png', '13505.png', '14208.png', 'wood-scratch_0_crop.png', 'wood-scratch_0_flip1.png', 'wood-scratch_0_rotation.png', 'wood-scratch_1_crop.png', 'wood-scratch_1_flip1.png', 'wood-scratch_1_rotation.png', 'wood-scratch_2_crop.png', 'wood-scratch_2_flip1.png', 'wood-scratch_2_rotation.png', 'wood-scratch_3_crop.png', 'wood-scratch_3_flip1.png', 'wood-scratch_3_rotation.png', 'wood-scratch_4_crop.png', 'wood-scratch_4_flip1.png', 'wood-scratch_4_rotation.png', 'wood-scratch_5_crop.png', 'wood-scratch_5_flip1.png', 'wood-scratch_5_rotation.png', 'wood-scratch_6_crop.png', 'wood-scratch_6_flip1.png', 'wood-scratch_6_rotation.png', 'wood-scratch_7_crop.png', 'wood-scratch_7_flip1.png', 'wood-scratch_7_rotation.png', 'wood-scratch_8_crop.png', 'wood-scratch_8_flip1.png', 'wood-scratch_8_rotation.png', 'wood-scratch_9_crop.png', 'wood-scratch_9_flip1.png', 'wood-scratch_9_rotation.png', 'wood-scratch_10_crop.png', 'wood-scratch_10_flip1.png', 'wood-scratch_10_rotation.png', 'wood-scratch_11_flip1.png', 'wood-scratch_11_rotation.png', 'wood-scratch_12_flip1.png', 'wood-scratch_12_rotation.png', 'wood-scratch_13_flip1.png', 'wood-scratch_13_rotation.png', 'wood-scratch_14_flip1.png', 'wood-scratch_14_rotation.png', 'wood-scratch_15_flip1.png', 'wood-scratch_15_rotation.png', 'wood-scratch_16_flip1.png', 'wood-scratch_16_rotation.png', 'wood-scratch_17_flip1.png', 'wood-scratch_17_rotation.png', 'wood-scratch_18_flip1.png', 'wood-scratch_18_rotation.png', 'wood-scratch_19_flip1.png', 'wood-scratch_19_rotation.png', 'wood-scratch_20_flip1.png', 'wood-scratch_20_rotation.png', 'wood-scratch_21_flip1.png', 'wood-scratch_21_rotation.png', 'wood-scratch_22_flip1.png', 'wood-scratch_23_flip1.png', 'wood-scratch_24_flip1.png', 'wood-scratch_25_flip1.png', 'wood-scratch_26_flip1.png', 'wood-scratch_27_flip1.png', 'wood-scratch_28_flip1.png', 'wood-scratch_29_flip1.png', 'wood-scratch_30_flip1.png', 'wood-scratch_31_flip1.png', 'wood-scratch_32_flip1.png', 'wood-scratch_33_flip1.png', 'wood-scratch_34_flip1.png', 'wood-scratch_35_flip1.png', 'wood-scratch_36_flip1.png', 'wood-scratch_37_flip1.png', 'wood-scratch_38_flip1.png', 'wood-scratch_39_flip1.png', 'wood-scratch_40_flip1.png', 'wood-scratch_41_flip1.png', 'wood-scratch_42_flip1.png', 'wood-scratch_43_flip1.png']\n"
     ]
    },
    {
     "name": "stderr",
     "output_type": "stream",
     "text": [
      "\r",
      " 70%|███████   | 62/88 [04:36<02:30,  5.79s/it]"
     ]
    },
    {
     "name": "stdout",
     "output_type": "stream",
     "text": [
      "tile-gray_stroke\n",
      "['10463.png', '10487.png', '11916.png', '12581.png', '13072.png', '13372.png', '13409.png', '13459.png', 'tile-gray_stroke_0_crop.png', 'tile-gray_stroke_0_flip1.png', 'tile-gray_stroke_0_rotation.png', 'tile-gray_stroke_1_crop.png', 'tile-gray_stroke_1_flip1.png', 'tile-gray_stroke_1_rotation.png', 'tile-gray_stroke_2_crop.png', 'tile-gray_stroke_2_flip1.png', 'tile-gray_stroke_2_rotation.png', 'tile-gray_stroke_3_crop.png', 'tile-gray_stroke_3_flip1.png', 'tile-gray_stroke_3_rotation.png', 'tile-gray_stroke_4_crop.png', 'tile-gray_stroke_4_flip1.png', 'tile-gray_stroke_4_rotation.png', 'tile-gray_stroke_5_crop.png', 'tile-gray_stroke_5_flip1.png', 'tile-gray_stroke_5_rotation.png', 'tile-gray_stroke_6_crop.png', 'tile-gray_stroke_6_flip1.png', 'tile-gray_stroke_6_rotation.png', 'tile-gray_stroke_7_crop.png', 'tile-gray_stroke_7_flip1.png', 'tile-gray_stroke_7_rotation.png', 'tile-gray_stroke_8_flip1.png', 'tile-gray_stroke_8_rotation.png', 'tile-gray_stroke_9_flip1.png', 'tile-gray_stroke_9_rotation.png', 'tile-gray_stroke_10_flip1.png', 'tile-gray_stroke_10_rotation.png', 'tile-gray_stroke_11_flip1.png', 'tile-gray_stroke_11_rotation.png', 'tile-gray_stroke_12_flip1.png', 'tile-gray_stroke_12_rotation.png', 'tile-gray_stroke_13_flip1.png', 'tile-gray_stroke_13_rotation.png', 'tile-gray_stroke_14_flip1.png', 'tile-gray_stroke_14_rotation.png', 'tile-gray_stroke_15_flip1.png', 'tile-gray_stroke_15_rotation.png', 'tile-gray_stroke_16_flip1.png', 'tile-gray_stroke_17_flip1.png', 'tile-gray_stroke_18_flip1.png', 'tile-gray_stroke_19_flip1.png', 'tile-gray_stroke_20_flip1.png', 'tile-gray_stroke_21_flip1.png', 'tile-gray_stroke_22_flip1.png', 'tile-gray_stroke_23_flip1.png', 'tile-gray_stroke_24_flip1.png', 'tile-gray_stroke_25_flip1.png', 'tile-gray_stroke_26_flip1.png', 'tile-gray_stroke_27_flip1.png', 'tile-gray_stroke_28_flip1.png', 'tile-gray_stroke_29_flip1.png', 'tile-gray_stroke_30_flip1.png', 'tile-gray_stroke_31_flip1.png']\n"
     ]
    },
    {
     "name": "stderr",
     "output_type": "stream",
     "text": [
      "\r",
      " 72%|███████▏  | 63/88 [04:41<02:21,  5.64s/it]"
     ]
    },
    {
     "name": "stdout",
     "output_type": "stream",
     "text": [
      "capsule-faulty_imprint\n",
      "['10473.png', '11415.png', '11577.png', '11779.png', '11787.png', '12094.png', '12443.png', '12483.png', '12984.png', '13221.png', '14006.png', 'capsule-faulty_imprint_0_crop.png', 'capsule-faulty_imprint_0_flip1.png', 'capsule-faulty_imprint_0_rotation.png', 'capsule-faulty_imprint_1_crop.png', 'capsule-faulty_imprint_1_flip1.png', 'capsule-faulty_imprint_1_rotation.png', 'capsule-faulty_imprint_2_crop.png', 'capsule-faulty_imprint_2_flip1.png', 'capsule-faulty_imprint_2_rotation.png', 'capsule-faulty_imprint_3_crop.png', 'capsule-faulty_imprint_3_flip1.png', 'capsule-faulty_imprint_3_rotation.png', 'capsule-faulty_imprint_4_crop.png', 'capsule-faulty_imprint_4_flip1.png', 'capsule-faulty_imprint_4_rotation.png', 'capsule-faulty_imprint_5_crop.png', 'capsule-faulty_imprint_5_flip1.png', 'capsule-faulty_imprint_5_rotation.png', 'capsule-faulty_imprint_6_crop.png', 'capsule-faulty_imprint_6_flip1.png', 'capsule-faulty_imprint_6_rotation.png', 'capsule-faulty_imprint_7_crop.png', 'capsule-faulty_imprint_7_flip1.png', 'capsule-faulty_imprint_7_rotation.png', 'capsule-faulty_imprint_8_crop.png', 'capsule-faulty_imprint_8_flip1.png', 'capsule-faulty_imprint_8_rotation.png', 'capsule-faulty_imprint_9_crop.png', 'capsule-faulty_imprint_9_flip1.png', 'capsule-faulty_imprint_9_rotation.png', 'capsule-faulty_imprint_10_crop.png', 'capsule-faulty_imprint_10_flip1.png', 'capsule-faulty_imprint_10_rotation.png', 'capsule-faulty_imprint_11_flip1.png', 'capsule-faulty_imprint_11_rotation.png', 'capsule-faulty_imprint_12_flip1.png', 'capsule-faulty_imprint_12_rotation.png', 'capsule-faulty_imprint_13_flip1.png', 'capsule-faulty_imprint_13_rotation.png', 'capsule-faulty_imprint_14_flip1.png', 'capsule-faulty_imprint_14_rotation.png', 'capsule-faulty_imprint_15_flip1.png', 'capsule-faulty_imprint_15_rotation.png', 'capsule-faulty_imprint_16_flip1.png', 'capsule-faulty_imprint_16_rotation.png', 'capsule-faulty_imprint_17_flip1.png', 'capsule-faulty_imprint_17_rotation.png', 'capsule-faulty_imprint_18_flip1.png', 'capsule-faulty_imprint_18_rotation.png', 'capsule-faulty_imprint_19_flip1.png', 'capsule-faulty_imprint_19_rotation.png', 'capsule-faulty_imprint_20_flip1.png', 'capsule-faulty_imprint_20_rotation.png', 'capsule-faulty_imprint_21_flip1.png', 'capsule-faulty_imprint_21_rotation.png', 'capsule-faulty_imprint_22_flip1.png', 'capsule-faulty_imprint_23_flip1.png', 'capsule-faulty_imprint_24_flip1.png', 'capsule-faulty_imprint_25_flip1.png', 'capsule-faulty_imprint_26_flip1.png', 'capsule-faulty_imprint_27_flip1.png', 'capsule-faulty_imprint_28_flip1.png', 'capsule-faulty_imprint_29_flip1.png', 'capsule-faulty_imprint_30_flip1.png', 'capsule-faulty_imprint_31_flip1.png', 'capsule-faulty_imprint_32_flip1.png', 'capsule-faulty_imprint_33_flip1.png', 'capsule-faulty_imprint_34_flip1.png', 'capsule-faulty_imprint_35_flip1.png', 'capsule-faulty_imprint_36_flip1.png', 'capsule-faulty_imprint_37_flip1.png', 'capsule-faulty_imprint_38_flip1.png', 'capsule-faulty_imprint_39_flip1.png', 'capsule-faulty_imprint_40_flip1.png', 'capsule-faulty_imprint_41_flip1.png', 'capsule-faulty_imprint_42_flip1.png', 'capsule-faulty_imprint_43_flip1.png']\n"
     ]
    },
    {
     "name": "stderr",
     "output_type": "stream",
     "text": [
      "\r",
      " 73%|███████▎  | 64/88 [04:48<02:26,  6.10s/it]"
     ]
    },
    {
     "name": "stdout",
     "output_type": "stream",
     "text": [
      "grid-glue\n",
      "['10509.png', '11182.png', '11798.png', '11919.png', '12820.png', '13693.png', 'grid-glue_0_crop.png', 'grid-glue_0_flip1.png', 'grid-glue_0_rotation.png', 'grid-glue_1_crop.png', 'grid-glue_1_flip1.png', 'grid-glue_1_rotation.png', 'grid-glue_2_crop.png', 'grid-glue_2_flip1.png', 'grid-glue_2_rotation.png', 'grid-glue_3_crop.png', 'grid-glue_3_flip1.png', 'grid-glue_3_rotation.png', 'grid-glue_4_crop.png', 'grid-glue_4_flip1.png', 'grid-glue_4_rotation.png', 'grid-glue_5_crop.png', 'grid-glue_5_flip1.png', 'grid-glue_5_rotation.png', 'grid-glue_6_flip1.png', 'grid-glue_6_rotation.png', 'grid-glue_7_flip1.png', 'grid-glue_7_rotation.png', 'grid-glue_8_flip1.png', 'grid-glue_8_rotation.png', 'grid-glue_9_flip1.png', 'grid-glue_9_rotation.png', 'grid-glue_10_flip1.png', 'grid-glue_10_rotation.png', 'grid-glue_11_flip1.png', 'grid-glue_11_rotation.png', 'grid-glue_12_flip1.png', 'grid-glue_13_flip1.png', 'grid-glue_14_flip1.png', 'grid-glue_15_flip1.png', 'grid-glue_16_flip1.png', 'grid-glue_17_flip1.png', 'grid-glue_18_flip1.png', 'grid-glue_19_flip1.png', 'grid-glue_20_flip1.png', 'grid-glue_21_flip1.png', 'grid-glue_22_flip1.png', 'grid-glue_23_flip1.png']\n"
     ]
    },
    {
     "name": "stderr",
     "output_type": "stream",
     "text": [
      "\r",
      " 74%|███████▍  | 65/88 [04:52<02:02,  5.31s/it]"
     ]
    },
    {
     "name": "stdout",
     "output_type": "stream",
     "text": [
      "zipper-combined\n",
      "['10537.png', '10753.png', '10802.png', '11730.png', '13475.png', '13511.png', '14070.png', '14195.png', 'zipper-combined_0_crop.png', 'zipper-combined_0_flip1.png', 'zipper-combined_0_rotation.png', 'zipper-combined_1_crop.png', 'zipper-combined_1_flip1.png', 'zipper-combined_1_rotation.png', 'zipper-combined_2_crop.png', 'zipper-combined_2_flip1.png', 'zipper-combined_2_rotation.png', 'zipper-combined_3_crop.png', 'zipper-combined_3_flip1.png', 'zipper-combined_3_rotation.png', 'zipper-combined_4_crop.png', 'zipper-combined_4_flip1.png', 'zipper-combined_4_rotation.png', 'zipper-combined_5_crop.png', 'zipper-combined_5_flip1.png', 'zipper-combined_5_rotation.png', 'zipper-combined_6_crop.png', 'zipper-combined_6_flip1.png', 'zipper-combined_6_rotation.png', 'zipper-combined_7_crop.png', 'zipper-combined_7_flip1.png', 'zipper-combined_7_rotation.png', 'zipper-combined_8_flip1.png', 'zipper-combined_8_rotation.png', 'zipper-combined_9_flip1.png', 'zipper-combined_9_rotation.png', 'zipper-combined_10_flip1.png', 'zipper-combined_10_rotation.png', 'zipper-combined_11_flip1.png', 'zipper-combined_11_rotation.png', 'zipper-combined_12_flip1.png', 'zipper-combined_12_rotation.png', 'zipper-combined_13_flip1.png', 'zipper-combined_13_rotation.png', 'zipper-combined_14_flip1.png', 'zipper-combined_14_rotation.png', 'zipper-combined_15_flip1.png', 'zipper-combined_15_rotation.png', 'zipper-combined_16_flip1.png', 'zipper-combined_17_flip1.png', 'zipper-combined_18_flip1.png', 'zipper-combined_19_flip1.png', 'zipper-combined_20_flip1.png', 'zipper-combined_21_flip1.png', 'zipper-combined_22_flip1.png', 'zipper-combined_23_flip1.png', 'zipper-combined_24_flip1.png', 'zipper-combined_25_flip1.png', 'zipper-combined_26_flip1.png', 'zipper-combined_27_flip1.png', 'zipper-combined_28_flip1.png', 'zipper-combined_29_flip1.png', 'zipper-combined_30_flip1.png', 'zipper-combined_31_flip1.png']\n"
     ]
    },
    {
     "name": "stderr",
     "output_type": "stream",
     "text": [
      "\r",
      " 75%|███████▌  | 66/88 [04:56<01:50,  5.01s/it]"
     ]
    },
    {
     "name": "stdout",
     "output_type": "stream",
     "text": [
      "carpet-color\n",
      "['10555.png', '10866.png', '11065.png', '11340.png', '11862.png', '11891.png', '13613.png', '14125.png', '14182.png', '14213.png', 'carpet-color_0_crop.png', 'carpet-color_0_flip1.png', 'carpet-color_0_rotation.png', 'carpet-color_1_crop.png', 'carpet-color_1_flip1.png', 'carpet-color_1_rotation.png', 'carpet-color_2_crop.png', 'carpet-color_2_flip1.png', 'carpet-color_2_rotation.png', 'carpet-color_3_crop.png', 'carpet-color_3_flip1.png', 'carpet-color_3_rotation.png', 'carpet-color_4_crop.png', 'carpet-color_4_flip1.png', 'carpet-color_4_rotation.png', 'carpet-color_5_crop.png', 'carpet-color_5_flip1.png', 'carpet-color_5_rotation.png', 'carpet-color_6_crop.png', 'carpet-color_6_flip1.png', 'carpet-color_6_rotation.png', 'carpet-color_7_crop.png', 'carpet-color_7_flip1.png', 'carpet-color_7_rotation.png', 'carpet-color_8_crop.png', 'carpet-color_8_flip1.png', 'carpet-color_8_rotation.png', 'carpet-color_9_crop.png', 'carpet-color_9_flip1.png', 'carpet-color_9_rotation.png', 'carpet-color_10_flip1.png', 'carpet-color_10_rotation.png', 'carpet-color_11_flip1.png', 'carpet-color_11_rotation.png', 'carpet-color_12_flip1.png', 'carpet-color_12_rotation.png', 'carpet-color_13_flip1.png', 'carpet-color_13_rotation.png', 'carpet-color_14_flip1.png', 'carpet-color_14_rotation.png', 'carpet-color_15_flip1.png', 'carpet-color_15_rotation.png', 'carpet-color_16_flip1.png', 'carpet-color_16_rotation.png', 'carpet-color_17_flip1.png', 'carpet-color_17_rotation.png', 'carpet-color_18_flip1.png', 'carpet-color_18_rotation.png', 'carpet-color_19_flip1.png', 'carpet-color_19_rotation.png', 'carpet-color_20_flip1.png', 'carpet-color_21_flip1.png', 'carpet-color_22_flip1.png', 'carpet-color_23_flip1.png', 'carpet-color_24_flip1.png', 'carpet-color_25_flip1.png', 'carpet-color_26_flip1.png', 'carpet-color_27_flip1.png', 'carpet-color_28_flip1.png', 'carpet-color_29_flip1.png', 'carpet-color_30_flip1.png', 'carpet-color_31_flip1.png', 'carpet-color_32_flip1.png', 'carpet-color_33_flip1.png', 'carpet-color_34_flip1.png', 'carpet-color_35_flip1.png', 'carpet-color_36_flip1.png', 'carpet-color_37_flip1.png', 'carpet-color_38_flip1.png', 'carpet-color_39_flip1.png']\n"
     ]
    },
    {
     "name": "stderr",
     "output_type": "stream",
     "text": [
      "\r",
      " 76%|███████▌  | 67/88 [05:03<01:55,  5.52s/it]"
     ]
    },
    {
     "name": "stdout",
     "output_type": "stream",
     "text": [
      "grid-bent\n",
      "['10582.png', '11088.png', '12230.png', '13392.png', '13653.png', '13858.png', 'grid-bent_0_crop.png', 'grid-bent_0_flip1.png', 'grid-bent_0_rotation.png', 'grid-bent_1_crop.png', 'grid-bent_1_flip1.png', 'grid-bent_1_rotation.png', 'grid-bent_2_crop.png', 'grid-bent_2_flip1.png', 'grid-bent_2_rotation.png', 'grid-bent_3_crop.png', 'grid-bent_3_flip1.png', 'grid-bent_3_rotation.png', 'grid-bent_4_crop.png', 'grid-bent_4_flip1.png', 'grid-bent_4_rotation.png', 'grid-bent_5_crop.png', 'grid-bent_5_flip1.png', 'grid-bent_5_rotation.png', 'grid-bent_6_flip1.png', 'grid-bent_6_rotation.png', 'grid-bent_7_flip1.png', 'grid-bent_7_rotation.png', 'grid-bent_8_flip1.png', 'grid-bent_8_rotation.png', 'grid-bent_9_flip1.png', 'grid-bent_9_rotation.png', 'grid-bent_10_flip1.png', 'grid-bent_10_rotation.png', 'grid-bent_11_flip1.png', 'grid-bent_11_rotation.png', 'grid-bent_12_flip1.png', 'grid-bent_13_flip1.png', 'grid-bent_14_flip1.png', 'grid-bent_15_flip1.png', 'grid-bent_16_flip1.png', 'grid-bent_17_flip1.png', 'grid-bent_18_flip1.png', 'grid-bent_19_flip1.png', 'grid-bent_20_flip1.png', 'grid-bent_21_flip1.png', 'grid-bent_22_flip1.png', 'grid-bent_23_flip1.png']\n"
     ]
    },
    {
     "name": "stderr",
     "output_type": "stream",
     "text": [
      "\r",
      " 77%|███████▋  | 68/88 [05:06<01:37,  4.86s/it]"
     ]
    },
    {
     "name": "stdout",
     "output_type": "stream",
     "text": [
      "pill-combined\n",
      "['10591.png', '10922.png', '11565.png', '12003.png', '12369.png', '12651.png', '12808.png', '13088.png', '13777.png', 'pill-combined_0_crop.png', 'pill-combined_0_flip1.png', 'pill-combined_0_rotation.png', 'pill-combined_1_crop.png', 'pill-combined_1_flip1.png', 'pill-combined_1_rotation.png', 'pill-combined_2_crop.png', 'pill-combined_2_flip1.png', 'pill-combined_2_rotation.png', 'pill-combined_3_crop.png', 'pill-combined_3_flip1.png', 'pill-combined_3_rotation.png', 'pill-combined_4_crop.png', 'pill-combined_4_flip1.png', 'pill-combined_4_rotation.png', 'pill-combined_5_crop.png', 'pill-combined_5_flip1.png', 'pill-combined_5_rotation.png', 'pill-combined_6_crop.png', 'pill-combined_6_flip1.png', 'pill-combined_6_rotation.png', 'pill-combined_7_crop.png', 'pill-combined_7_flip1.png', 'pill-combined_7_rotation.png', 'pill-combined_8_crop.png', 'pill-combined_8_flip1.png', 'pill-combined_8_rotation.png', 'pill-combined_9_flip1.png', 'pill-combined_9_rotation.png', 'pill-combined_10_flip1.png', 'pill-combined_10_rotation.png', 'pill-combined_11_flip1.png', 'pill-combined_11_rotation.png', 'pill-combined_12_flip1.png', 'pill-combined_12_rotation.png', 'pill-combined_13_flip1.png', 'pill-combined_13_rotation.png', 'pill-combined_14_flip1.png', 'pill-combined_14_rotation.png', 'pill-combined_15_flip1.png', 'pill-combined_15_rotation.png', 'pill-combined_16_flip1.png', 'pill-combined_16_rotation.png', 'pill-combined_17_flip1.png', 'pill-combined_17_rotation.png', 'pill-combined_18_flip1.png', 'pill-combined_19_flip1.png', 'pill-combined_20_flip1.png', 'pill-combined_21_flip1.png', 'pill-combined_22_flip1.png', 'pill-combined_23_flip1.png', 'pill-combined_24_flip1.png', 'pill-combined_25_flip1.png', 'pill-combined_26_flip1.png', 'pill-combined_27_flip1.png', 'pill-combined_28_flip1.png', 'pill-combined_29_flip1.png', 'pill-combined_30_flip1.png', 'pill-combined_31_flip1.png', 'pill-combined_32_flip1.png', 'pill-combined_33_flip1.png', 'pill-combined_34_flip1.png', 'pill-combined_35_flip1.png']\n"
     ]
    },
    {
     "name": "stderr",
     "output_type": "stream",
     "text": [
      "\r",
      " 78%|███████▊  | 69/88 [05:12<01:37,  5.11s/it]"
     ]
    },
    {
     "name": "stdout",
     "output_type": "stream",
     "text": [
      "hazelnut-print\n",
      "['10599.png', '10710.png', '10808.png', '11048.png', '12707.png', '12740.png', '13380.png', '13769.png', '14173.png', 'hazelnut-print_0_crop.png', 'hazelnut-print_0_flip1.png', 'hazelnut-print_0_rotation.png', 'hazelnut-print_1_crop.png', 'hazelnut-print_1_flip1.png', 'hazelnut-print_1_rotation.png', 'hazelnut-print_2_crop.png', 'hazelnut-print_2_flip1.png', 'hazelnut-print_2_rotation.png', 'hazelnut-print_3_crop.png', 'hazelnut-print_3_flip1.png', 'hazelnut-print_3_rotation.png', 'hazelnut-print_4_crop.png', 'hazelnut-print_4_flip1.png', 'hazelnut-print_4_rotation.png', 'hazelnut-print_5_crop.png', 'hazelnut-print_5_flip1.png', 'hazelnut-print_5_rotation.png', 'hazelnut-print_6_crop.png', 'hazelnut-print_6_flip1.png', 'hazelnut-print_6_rotation.png', 'hazelnut-print_7_crop.png', 'hazelnut-print_7_flip1.png', 'hazelnut-print_7_rotation.png', 'hazelnut-print_8_crop.png', 'hazelnut-print_8_flip1.png', 'hazelnut-print_8_rotation.png', 'hazelnut-print_9_flip1.png', 'hazelnut-print_9_rotation.png', 'hazelnut-print_10_flip1.png', 'hazelnut-print_10_rotation.png', 'hazelnut-print_11_flip1.png', 'hazelnut-print_11_rotation.png', 'hazelnut-print_12_flip1.png', 'hazelnut-print_12_rotation.png', 'hazelnut-print_13_flip1.png', 'hazelnut-print_13_rotation.png', 'hazelnut-print_14_flip1.png', 'hazelnut-print_14_rotation.png', 'hazelnut-print_15_flip1.png', 'hazelnut-print_15_rotation.png', 'hazelnut-print_16_flip1.png', 'hazelnut-print_16_rotation.png', 'hazelnut-print_17_flip1.png', 'hazelnut-print_17_rotation.png', 'hazelnut-print_18_flip1.png', 'hazelnut-print_19_flip1.png', 'hazelnut-print_20_flip1.png', 'hazelnut-print_21_flip1.png', 'hazelnut-print_22_flip1.png', 'hazelnut-print_23_flip1.png', 'hazelnut-print_24_flip1.png', 'hazelnut-print_25_flip1.png', 'hazelnut-print_26_flip1.png', 'hazelnut-print_27_flip1.png', 'hazelnut-print_28_flip1.png', 'hazelnut-print_29_flip1.png', 'hazelnut-print_30_flip1.png', 'hazelnut-print_31_flip1.png', 'hazelnut-print_32_flip1.png', 'hazelnut-print_33_flip1.png', 'hazelnut-print_34_flip1.png', 'hazelnut-print_35_flip1.png']\n"
     ]
    },
    {
     "name": "stderr",
     "output_type": "stream",
     "text": [
      "\r",
      " 80%|███████▉  | 70/88 [05:18<01:35,  5.33s/it]"
     ]
    },
    {
     "name": "stdout",
     "output_type": "stream",
     "text": [
      "cable-combined\n",
      "['10634.png', '11993.png', '12711.png', '12942.png', '13208.png', '14251.png', 'cable-combined_0_crop.png', 'cable-combined_0_flip1.png', 'cable-combined_0_rotation.png', 'cable-combined_1_crop.png', 'cable-combined_1_flip1.png', 'cable-combined_1_rotation.png', 'cable-combined_2_crop.png', 'cable-combined_2_flip1.png', 'cable-combined_2_rotation.png', 'cable-combined_3_crop.png', 'cable-combined_3_flip1.png', 'cable-combined_3_rotation.png', 'cable-combined_4_crop.png', 'cable-combined_4_flip1.png', 'cable-combined_4_rotation.png', 'cable-combined_5_crop.png', 'cable-combined_5_flip1.png', 'cable-combined_5_rotation.png', 'cable-combined_6_flip1.png', 'cable-combined_6_rotation.png', 'cable-combined_7_flip1.png', 'cable-combined_7_rotation.png', 'cable-combined_8_flip1.png', 'cable-combined_8_rotation.png', 'cable-combined_9_flip1.png', 'cable-combined_9_rotation.png', 'cable-combined_10_flip1.png', 'cable-combined_10_rotation.png', 'cable-combined_11_flip1.png', 'cable-combined_11_rotation.png', 'cable-combined_12_flip1.png', 'cable-combined_13_flip1.png', 'cable-combined_14_flip1.png', 'cable-combined_15_flip1.png', 'cable-combined_16_flip1.png', 'cable-combined_17_flip1.png', 'cable-combined_18_flip1.png', 'cable-combined_19_flip1.png', 'cable-combined_20_flip1.png', 'cable-combined_21_flip1.png', 'cable-combined_22_flip1.png', 'cable-combined_23_flip1.png']\n"
     ]
    },
    {
     "name": "stderr",
     "output_type": "stream",
     "text": [
      "\r",
      " 81%|████████  | 71/88 [05:22<01:24,  4.95s/it]"
     ]
    },
    {
     "name": "stdout",
     "output_type": "stream",
     "text": [
      "capsule-scratch\n",
      "['10676.png', '11376.png', '11592.png', '11656.png', '11914.png', '12548.png', '12739.png', '12781.png', '12966.png', '13269.png', '13442.png', '13849.png', 'capsule-scratch_0_crop.png', 'capsule-scratch_0_flip1.png', 'capsule-scratch_0_rotation.png', 'capsule-scratch_1_crop.png', 'capsule-scratch_1_flip1.png', 'capsule-scratch_1_rotation.png', 'capsule-scratch_2_crop.png', 'capsule-scratch_2_flip1.png', 'capsule-scratch_2_rotation.png', 'capsule-scratch_3_crop.png', 'capsule-scratch_3_flip1.png', 'capsule-scratch_3_rotation.png', 'capsule-scratch_4_crop.png', 'capsule-scratch_4_flip1.png', 'capsule-scratch_4_rotation.png', 'capsule-scratch_5_crop.png', 'capsule-scratch_5_flip1.png', 'capsule-scratch_5_rotation.png', 'capsule-scratch_6_crop.png', 'capsule-scratch_6_flip1.png', 'capsule-scratch_6_rotation.png', 'capsule-scratch_7_crop.png', 'capsule-scratch_7_flip1.png', 'capsule-scratch_7_rotation.png', 'capsule-scratch_8_crop.png', 'capsule-scratch_8_flip1.png', 'capsule-scratch_8_rotation.png', 'capsule-scratch_9_crop.png', 'capsule-scratch_9_flip1.png', 'capsule-scratch_9_rotation.png', 'capsule-scratch_10_crop.png', 'capsule-scratch_10_flip1.png', 'capsule-scratch_10_rotation.png', 'capsule-scratch_11_crop.png', 'capsule-scratch_11_flip1.png', 'capsule-scratch_11_rotation.png', 'capsule-scratch_12_flip1.png', 'capsule-scratch_12_rotation.png', 'capsule-scratch_13_flip1.png', 'capsule-scratch_13_rotation.png', 'capsule-scratch_14_flip1.png', 'capsule-scratch_14_rotation.png', 'capsule-scratch_15_flip1.png', 'capsule-scratch_15_rotation.png', 'capsule-scratch_16_flip1.png', 'capsule-scratch_16_rotation.png', 'capsule-scratch_17_flip1.png', 'capsule-scratch_17_rotation.png', 'capsule-scratch_18_flip1.png', 'capsule-scratch_18_rotation.png', 'capsule-scratch_19_flip1.png', 'capsule-scratch_19_rotation.png', 'capsule-scratch_20_flip1.png', 'capsule-scratch_20_rotation.png', 'capsule-scratch_21_flip1.png', 'capsule-scratch_21_rotation.png', 'capsule-scratch_22_flip1.png', 'capsule-scratch_22_rotation.png', 'capsule-scratch_23_flip1.png', 'capsule-scratch_23_rotation.png', 'capsule-scratch_24_flip1.png', 'capsule-scratch_25_flip1.png', 'capsule-scratch_26_flip1.png', 'capsule-scratch_27_flip1.png', 'capsule-scratch_28_flip1.png', 'capsule-scratch_29_flip1.png', 'capsule-scratch_30_flip1.png', 'capsule-scratch_31_flip1.png', 'capsule-scratch_32_flip1.png', 'capsule-scratch_33_flip1.png', 'capsule-scratch_34_flip1.png', 'capsule-scratch_35_flip1.png', 'capsule-scratch_36_flip1.png', 'capsule-scratch_37_flip1.png', 'capsule-scratch_38_flip1.png', 'capsule-scratch_39_flip1.png', 'capsule-scratch_40_flip1.png', 'capsule-scratch_41_flip1.png', 'capsule-scratch_42_flip1.png', 'capsule-scratch_43_flip1.png', 'capsule-scratch_44_flip1.png', 'capsule-scratch_45_flip1.png', 'capsule-scratch_46_flip1.png', 'capsule-scratch_47_flip1.png']\n"
     ]
    },
    {
     "name": "stderr",
     "output_type": "stream",
     "text": [
      "\r",
      " 82%|████████▏ | 72/88 [05:29<01:32,  5.80s/it]"
     ]
    },
    {
     "name": "stdout",
     "output_type": "stream",
     "text": [
      "metal_nut-bent\n",
      "['10682.png', '11439.png', '11444.png', '11745.png', '11781.png', '11818.png', '11831.png', '12861.png', '13294.png', '13590.png', '13830.png', '14005.png', '14150.png', 'metal_nut-bent_0_crop.png', 'metal_nut-bent_0_flip1.png', 'metal_nut-bent_0_rotation.png', 'metal_nut-bent_1_crop.png', 'metal_nut-bent_1_flip1.png', 'metal_nut-bent_1_rotation.png', 'metal_nut-bent_2_crop.png', 'metal_nut-bent_2_flip1.png', 'metal_nut-bent_2_rotation.png', 'metal_nut-bent_3_crop.png', 'metal_nut-bent_3_flip1.png', 'metal_nut-bent_3_rotation.png', 'metal_nut-bent_4_crop.png', 'metal_nut-bent_4_flip1.png', 'metal_nut-bent_4_rotation.png', 'metal_nut-bent_5_crop.png', 'metal_nut-bent_5_flip1.png', 'metal_nut-bent_5_rotation.png', 'metal_nut-bent_6_crop.png', 'metal_nut-bent_6_flip1.png', 'metal_nut-bent_6_rotation.png', 'metal_nut-bent_7_crop.png', 'metal_nut-bent_7_flip1.png', 'metal_nut-bent_7_rotation.png', 'metal_nut-bent_8_crop.png', 'metal_nut-bent_8_flip1.png', 'metal_nut-bent_8_rotation.png', 'metal_nut-bent_9_crop.png', 'metal_nut-bent_9_flip1.png', 'metal_nut-bent_9_rotation.png', 'metal_nut-bent_10_crop.png', 'metal_nut-bent_10_flip1.png', 'metal_nut-bent_10_rotation.png', 'metal_nut-bent_11_crop.png', 'metal_nut-bent_11_flip1.png', 'metal_nut-bent_11_rotation.png', 'metal_nut-bent_12_crop.png', 'metal_nut-bent_12_flip1.png', 'metal_nut-bent_12_rotation.png', 'metal_nut-bent_13_flip1.png', 'metal_nut-bent_13_rotation.png', 'metal_nut-bent_14_flip1.png', 'metal_nut-bent_14_rotation.png', 'metal_nut-bent_15_flip1.png', 'metal_nut-bent_15_rotation.png', 'metal_nut-bent_16_flip1.png', 'metal_nut-bent_16_rotation.png', 'metal_nut-bent_17_flip1.png', 'metal_nut-bent_17_rotation.png', 'metal_nut-bent_18_flip1.png', 'metal_nut-bent_18_rotation.png', 'metal_nut-bent_19_flip1.png', 'metal_nut-bent_19_rotation.png', 'metal_nut-bent_20_flip1.png', 'metal_nut-bent_20_rotation.png', 'metal_nut-bent_21_flip1.png', 'metal_nut-bent_21_rotation.png', 'metal_nut-bent_22_flip1.png', 'metal_nut-bent_22_rotation.png', 'metal_nut-bent_23_flip1.png', 'metal_nut-bent_23_rotation.png', 'metal_nut-bent_24_flip1.png', 'metal_nut-bent_24_rotation.png', 'metal_nut-bent_25_flip1.png', 'metal_nut-bent_25_rotation.png', 'metal_nut-bent_26_flip1.png', 'metal_nut-bent_27_flip1.png', 'metal_nut-bent_28_flip1.png', 'metal_nut-bent_29_flip1.png', 'metal_nut-bent_30_flip1.png', 'metal_nut-bent_31_flip1.png', 'metal_nut-bent_32_flip1.png', 'metal_nut-bent_33_flip1.png', 'metal_nut-bent_34_flip1.png', 'metal_nut-bent_35_flip1.png', 'metal_nut-bent_36_flip1.png', 'metal_nut-bent_37_flip1.png', 'metal_nut-bent_38_flip1.png', 'metal_nut-bent_39_flip1.png', 'metal_nut-bent_40_flip1.png', 'metal_nut-bent_41_flip1.png', 'metal_nut-bent_42_flip1.png', 'metal_nut-bent_43_flip1.png', 'metal_nut-bent_44_flip1.png', 'metal_nut-bent_45_flip1.png', 'metal_nut-bent_46_flip1.png', 'metal_nut-bent_47_flip1.png', 'metal_nut-bent_48_flip1.png', 'metal_nut-bent_49_flip1.png', 'metal_nut-bent_50_flip1.png', 'metal_nut-bent_51_flip1.png']\n"
     ]
    },
    {
     "name": "stderr",
     "output_type": "stream",
     "text": [
      "\r",
      " 83%|████████▎ | 73/88 [05:38<01:38,  6.58s/it]"
     ]
    },
    {
     "name": "stdout",
     "output_type": "stream",
     "text": [
      "zipper-broken_teeth\n",
      "['10702.png', '10757.png', '10774.png', '10849.png', '11060.png', '11198.png', '12436.png', '12450.png', '13884.png', '14085.png', 'zipper-broken_teeth_0_crop.png', 'zipper-broken_teeth_0_flip1.png', 'zipper-broken_teeth_0_rotation.png', 'zipper-broken_teeth_1_crop.png', 'zipper-broken_teeth_1_flip1.png', 'zipper-broken_teeth_1_rotation.png', 'zipper-broken_teeth_2_crop.png', 'zipper-broken_teeth_2_flip1.png', 'zipper-broken_teeth_2_rotation.png', 'zipper-broken_teeth_3_crop.png', 'zipper-broken_teeth_3_flip1.png', 'zipper-broken_teeth_3_rotation.png', 'zipper-broken_teeth_4_crop.png', 'zipper-broken_teeth_4_flip1.png', 'zipper-broken_teeth_4_rotation.png', 'zipper-broken_teeth_5_crop.png', 'zipper-broken_teeth_5_flip1.png', 'zipper-broken_teeth_5_rotation.png', 'zipper-broken_teeth_6_crop.png', 'zipper-broken_teeth_6_flip1.png', 'zipper-broken_teeth_6_rotation.png', 'zipper-broken_teeth_7_crop.png', 'zipper-broken_teeth_7_flip1.png', 'zipper-broken_teeth_7_rotation.png', 'zipper-broken_teeth_8_crop.png', 'zipper-broken_teeth_8_flip1.png', 'zipper-broken_teeth_8_rotation.png', 'zipper-broken_teeth_9_crop.png', 'zipper-broken_teeth_9_flip1.png', 'zipper-broken_teeth_9_rotation.png', 'zipper-broken_teeth_10_flip1.png', 'zipper-broken_teeth_10_rotation.png', 'zipper-broken_teeth_11_flip1.png', 'zipper-broken_teeth_11_rotation.png', 'zipper-broken_teeth_12_flip1.png', 'zipper-broken_teeth_12_rotation.png', 'zipper-broken_teeth_13_flip1.png', 'zipper-broken_teeth_13_rotation.png', 'zipper-broken_teeth_14_flip1.png', 'zipper-broken_teeth_14_rotation.png', 'zipper-broken_teeth_15_flip1.png', 'zipper-broken_teeth_15_rotation.png', 'zipper-broken_teeth_16_flip1.png', 'zipper-broken_teeth_16_rotation.png', 'zipper-broken_teeth_17_flip1.png', 'zipper-broken_teeth_17_rotation.png', 'zipper-broken_teeth_18_flip1.png', 'zipper-broken_teeth_18_rotation.png', 'zipper-broken_teeth_19_flip1.png', 'zipper-broken_teeth_19_rotation.png', 'zipper-broken_teeth_20_flip1.png', 'zipper-broken_teeth_21_flip1.png', 'zipper-broken_teeth_22_flip1.png', 'zipper-broken_teeth_23_flip1.png', 'zipper-broken_teeth_24_flip1.png', 'zipper-broken_teeth_25_flip1.png', 'zipper-broken_teeth_26_flip1.png', 'zipper-broken_teeth_27_flip1.png', 'zipper-broken_teeth_28_flip1.png', 'zipper-broken_teeth_29_flip1.png', 'zipper-broken_teeth_30_flip1.png', 'zipper-broken_teeth_31_flip1.png', 'zipper-broken_teeth_32_flip1.png', 'zipper-broken_teeth_33_flip1.png', 'zipper-broken_teeth_34_flip1.png', 'zipper-broken_teeth_35_flip1.png', 'zipper-broken_teeth_36_flip1.png', 'zipper-broken_teeth_37_flip1.png', 'zipper-broken_teeth_38_flip1.png', 'zipper-broken_teeth_39_flip1.png']\n"
     ]
    },
    {
     "name": "stderr",
     "output_type": "stream",
     "text": [
      "\r",
      " 84%|████████▍ | 74/88 [05:43<01:27,  6.22s/it]"
     ]
    },
    {
     "name": "stdout",
     "output_type": "stream",
     "text": [
      "tile-oil\n",
      "['10727.png', '10829.png', '10869.png', '12136.png', '12302.png', '12998.png', '13350.png', '13393.png', '13931.png', 'tile-oil_0_crop.png', 'tile-oil_0_flip1.png', 'tile-oil_0_rotation.png', 'tile-oil_1_crop.png', 'tile-oil_1_flip1.png', 'tile-oil_1_rotation.png', 'tile-oil_2_crop.png', 'tile-oil_2_flip1.png', 'tile-oil_2_rotation.png', 'tile-oil_3_crop.png', 'tile-oil_3_flip1.png', 'tile-oil_3_rotation.png', 'tile-oil_4_crop.png', 'tile-oil_4_flip1.png', 'tile-oil_4_rotation.png', 'tile-oil_5_crop.png', 'tile-oil_5_flip1.png', 'tile-oil_5_rotation.png', 'tile-oil_6_crop.png', 'tile-oil_6_flip1.png', 'tile-oil_6_rotation.png', 'tile-oil_7_crop.png', 'tile-oil_7_flip1.png', 'tile-oil_7_rotation.png', 'tile-oil_8_crop.png', 'tile-oil_8_flip1.png', 'tile-oil_8_rotation.png', 'tile-oil_9_flip1.png', 'tile-oil_9_rotation.png', 'tile-oil_10_flip1.png', 'tile-oil_10_rotation.png', 'tile-oil_11_flip1.png', 'tile-oil_11_rotation.png', 'tile-oil_12_flip1.png', 'tile-oil_12_rotation.png', 'tile-oil_13_flip1.png', 'tile-oil_13_rotation.png', 'tile-oil_14_flip1.png', 'tile-oil_14_rotation.png', 'tile-oil_15_flip1.png', 'tile-oil_15_rotation.png', 'tile-oil_16_flip1.png', 'tile-oil_16_rotation.png', 'tile-oil_17_flip1.png', 'tile-oil_17_rotation.png', 'tile-oil_18_flip1.png', 'tile-oil_19_flip1.png', 'tile-oil_20_flip1.png', 'tile-oil_21_flip1.png', 'tile-oil_22_flip1.png', 'tile-oil_23_flip1.png', 'tile-oil_24_flip1.png', 'tile-oil_25_flip1.png', 'tile-oil_26_flip1.png', 'tile-oil_27_flip1.png', 'tile-oil_28_flip1.png', 'tile-oil_29_flip1.png', 'tile-oil_30_flip1.png', 'tile-oil_31_flip1.png', 'tile-oil_32_flip1.png', 'tile-oil_33_flip1.png', 'tile-oil_34_flip1.png', 'tile-oil_35_flip1.png']\n"
     ]
    },
    {
     "name": "stderr",
     "output_type": "stream",
     "text": [
      "\r",
      " 85%|████████▌ | 75/88 [05:49<01:19,  6.13s/it]"
     ]
    },
    {
     "name": "stdout",
     "output_type": "stream",
     "text": [
      "transistor-misplaced\n",
      "['10824.png', '11017.png', '12471.png', '14014.png', '14203.png', 'transistor-misplaced_0_crop.png', 'transistor-misplaced_0_flip1.png', 'transistor-misplaced_0_rotation.png', 'transistor-misplaced_1_crop.png', 'transistor-misplaced_1_flip1.png', 'transistor-misplaced_1_rotation.png', 'transistor-misplaced_2_crop.png', 'transistor-misplaced_2_flip1.png', 'transistor-misplaced_2_rotation.png', 'transistor-misplaced_3_crop.png', 'transistor-misplaced_3_flip1.png', 'transistor-misplaced_3_rotation.png', 'transistor-misplaced_4_crop.png', 'transistor-misplaced_4_flip1.png', 'transistor-misplaced_4_rotation.png', 'transistor-misplaced_5_flip1.png', 'transistor-misplaced_5_rotation.png', 'transistor-misplaced_6_flip1.png', 'transistor-misplaced_6_rotation.png', 'transistor-misplaced_7_flip1.png', 'transistor-misplaced_7_rotation.png', 'transistor-misplaced_8_flip1.png', 'transistor-misplaced_8_rotation.png', 'transistor-misplaced_9_flip1.png', 'transistor-misplaced_9_rotation.png', 'transistor-misplaced_10_flip1.png', 'transistor-misplaced_11_flip1.png', 'transistor-misplaced_12_flip1.png', 'transistor-misplaced_13_flip1.png', 'transistor-misplaced_14_flip1.png', 'transistor-misplaced_15_flip1.png', 'transistor-misplaced_16_flip1.png', 'transistor-misplaced_17_flip1.png', 'transistor-misplaced_18_flip1.png', 'transistor-misplaced_19_flip1.png']\n"
     ]
    },
    {
     "name": "stderr",
     "output_type": "stream",
     "text": [
      "\r",
      " 86%|████████▋ | 76/88 [05:52<01:03,  5.29s/it]"
     ]
    },
    {
     "name": "stdout",
     "output_type": "stream",
     "text": [
      "grid-thread\n",
      "['10971.png', '11470.png', '11562.png', '11979.png', '13622.png', '14023.png', 'grid-thread_0_crop.png', 'grid-thread_0_flip1.png', 'grid-thread_0_rotation.png', 'grid-thread_1_crop.png', 'grid-thread_1_flip1.png', 'grid-thread_1_rotation.png', 'grid-thread_2_crop.png', 'grid-thread_2_flip1.png', 'grid-thread_2_rotation.png', 'grid-thread_3_crop.png', 'grid-thread_3_flip1.png', 'grid-thread_3_rotation.png', 'grid-thread_4_crop.png', 'grid-thread_4_flip1.png', 'grid-thread_4_rotation.png', 'grid-thread_5_crop.png', 'grid-thread_5_flip1.png', 'grid-thread_5_rotation.png', 'grid-thread_6_flip1.png', 'grid-thread_6_rotation.png', 'grid-thread_7_flip1.png', 'grid-thread_7_rotation.png', 'grid-thread_8_flip1.png', 'grid-thread_8_rotation.png', 'grid-thread_9_flip1.png', 'grid-thread_9_rotation.png', 'grid-thread_10_flip1.png', 'grid-thread_10_rotation.png', 'grid-thread_11_flip1.png', 'grid-thread_11_rotation.png', 'grid-thread_12_flip1.png', 'grid-thread_13_flip1.png', 'grid-thread_14_flip1.png', 'grid-thread_15_flip1.png', 'grid-thread_16_flip1.png', 'grid-thread_17_flip1.png', 'grid-thread_18_flip1.png', 'grid-thread_19_flip1.png', 'grid-thread_20_flip1.png', 'grid-thread_21_flip1.png', 'grid-thread_22_flip1.png', 'grid-thread_23_flip1.png']\n"
     ]
    },
    {
     "name": "stderr",
     "output_type": "stream",
     "text": [
      "\r",
      " 88%|████████▊ | 77/88 [05:56<00:51,  4.72s/it]"
     ]
    },
    {
     "name": "stdout",
     "output_type": "stream",
     "text": [
      "grid-metal_contamination\n",
      "['11024.png', '11237.png', '12827.png', '12969.png', '13651.png', '14233.png', 'grid-metal_contamination_0_crop.png', 'grid-metal_contamination_0_flip1.png', 'grid-metal_contamination_0_rotation.png', 'grid-metal_contamination_1_crop.png', 'grid-metal_contamination_1_flip1.png', 'grid-metal_contamination_1_rotation.png', 'grid-metal_contamination_2_crop.png', 'grid-metal_contamination_2_flip1.png', 'grid-metal_contamination_2_rotation.png', 'grid-metal_contamination_3_crop.png', 'grid-metal_contamination_3_flip1.png', 'grid-metal_contamination_3_rotation.png', 'grid-metal_contamination_4_crop.png', 'grid-metal_contamination_4_flip1.png', 'grid-metal_contamination_4_rotation.png', 'grid-metal_contamination_5_crop.png', 'grid-metal_contamination_5_flip1.png', 'grid-metal_contamination_5_rotation.png', 'grid-metal_contamination_6_flip1.png', 'grid-metal_contamination_6_rotation.png', 'grid-metal_contamination_7_flip1.png', 'grid-metal_contamination_7_rotation.png', 'grid-metal_contamination_8_flip1.png', 'grid-metal_contamination_8_rotation.png', 'grid-metal_contamination_9_flip1.png', 'grid-metal_contamination_9_rotation.png', 'grid-metal_contamination_10_flip1.png', 'grid-metal_contamination_10_rotation.png', 'grid-metal_contamination_11_flip1.png', 'grid-metal_contamination_11_rotation.png', 'grid-metal_contamination_12_flip1.png', 'grid-metal_contamination_13_flip1.png', 'grid-metal_contamination_14_flip1.png', 'grid-metal_contamination_15_flip1.png', 'grid-metal_contamination_16_flip1.png', 'grid-metal_contamination_17_flip1.png', 'grid-metal_contamination_18_flip1.png', 'grid-metal_contamination_19_flip1.png', 'grid-metal_contamination_20_flip1.png', 'grid-metal_contamination_21_flip1.png', 'grid-metal_contamination_22_flip1.png', 'grid-metal_contamination_23_flip1.png']\n"
     ]
    },
    {
     "name": "stderr",
     "output_type": "stream",
     "text": [
      "\r",
      " 89%|████████▊ | 78/88 [05:59<00:43,  4.33s/it]"
     ]
    },
    {
     "name": "stdout",
     "output_type": "stream",
     "text": [
      "carpet-cut\n",
      "['11033.png', '11139.png', '11382.png', '11726.png', '13080.png', '13117.png', '13407.png', '13419.png', '13484.png', 'carpet-cut_0_crop.png', 'carpet-cut_0_flip1.png', 'carpet-cut_0_rotation.png', 'carpet-cut_1_crop.png', 'carpet-cut_1_flip1.png', 'carpet-cut_1_rotation.png', 'carpet-cut_2_crop.png', 'carpet-cut_2_flip1.png', 'carpet-cut_2_rotation.png', 'carpet-cut_3_crop.png', 'carpet-cut_3_flip1.png', 'carpet-cut_3_rotation.png', 'carpet-cut_4_crop.png', 'carpet-cut_4_flip1.png', 'carpet-cut_4_rotation.png', 'carpet-cut_5_crop.png', 'carpet-cut_5_flip1.png', 'carpet-cut_5_rotation.png', 'carpet-cut_6_crop.png', 'carpet-cut_6_flip1.png', 'carpet-cut_6_rotation.png', 'carpet-cut_7_crop.png', 'carpet-cut_7_flip1.png', 'carpet-cut_7_rotation.png', 'carpet-cut_8_crop.png', 'carpet-cut_8_flip1.png', 'carpet-cut_8_rotation.png', 'carpet-cut_9_flip1.png', 'carpet-cut_9_rotation.png', 'carpet-cut_10_flip1.png', 'carpet-cut_10_rotation.png', 'carpet-cut_11_flip1.png', 'carpet-cut_11_rotation.png', 'carpet-cut_12_flip1.png', 'carpet-cut_12_rotation.png', 'carpet-cut_13_flip1.png', 'carpet-cut_13_rotation.png', 'carpet-cut_14_flip1.png', 'carpet-cut_14_rotation.png', 'carpet-cut_15_flip1.png', 'carpet-cut_15_rotation.png', 'carpet-cut_16_flip1.png', 'carpet-cut_16_rotation.png', 'carpet-cut_17_flip1.png', 'carpet-cut_17_rotation.png', 'carpet-cut_18_flip1.png', 'carpet-cut_19_flip1.png', 'carpet-cut_20_flip1.png', 'carpet-cut_21_flip1.png', 'carpet-cut_22_flip1.png', 'carpet-cut_23_flip1.png', 'carpet-cut_24_flip1.png', 'carpet-cut_25_flip1.png', 'carpet-cut_26_flip1.png', 'carpet-cut_27_flip1.png', 'carpet-cut_28_flip1.png', 'carpet-cut_29_flip1.png', 'carpet-cut_30_flip1.png', 'carpet-cut_31_flip1.png', 'carpet-cut_32_flip1.png', 'carpet-cut_33_flip1.png', 'carpet-cut_34_flip1.png', 'carpet-cut_35_flip1.png']\n"
     ]
    },
    {
     "name": "stderr",
     "output_type": "stream",
     "text": [
      "\r",
      " 90%|████████▉ | 79/88 [06:05<00:43,  4.88s/it]"
     ]
    },
    {
     "name": "stdout",
     "output_type": "stream",
     "text": [
      "wood-color\n",
      "['11134.png', '11281.png', '13321.png', '13667.png', 'wood-color_0_crop.png', 'wood-color_0_flip1.png', 'wood-color_0_rotation.png', 'wood-color_1_crop.png', 'wood-color_1_flip1.png', 'wood-color_1_rotation.png', 'wood-color_2_crop.png', 'wood-color_2_flip1.png', 'wood-color_2_rotation.png', 'wood-color_3_crop.png', 'wood-color_3_flip1.png', 'wood-color_3_rotation.png', 'wood-color_4_flip1.png', 'wood-color_4_rotation.png', 'wood-color_5_flip1.png', 'wood-color_5_rotation.png', 'wood-color_6_flip1.png', 'wood-color_6_rotation.png', 'wood-color_7_flip1.png', 'wood-color_7_rotation.png', 'wood-color_8_flip1.png', 'wood-color_9_flip1.png', 'wood-color_10_flip1.png', 'wood-color_11_flip1.png', 'wood-color_12_flip1.png', 'wood-color_13_flip1.png', 'wood-color_14_flip1.png', 'wood-color_15_flip1.png']\n"
     ]
    },
    {
     "name": "stderr",
     "output_type": "stream",
     "text": [
      "\r",
      " 91%|█████████ | 80/88 [06:08<00:33,  4.21s/it]"
     ]
    },
    {
     "name": "stdout",
     "output_type": "stream",
     "text": [
      "cable-cable_swap\n",
      "['11168.png', '11732.png', '11863.png', '12853.png', '12992.png', '13921.png', 'cable-cable_swap_0_crop.png', 'cable-cable_swap_0_flip1.png', 'cable-cable_swap_0_rotation.png', 'cable-cable_swap_1_crop.png', 'cable-cable_swap_1_flip1.png', 'cable-cable_swap_1_rotation.png', 'cable-cable_swap_2_crop.png', 'cable-cable_swap_2_flip1.png', 'cable-cable_swap_2_rotation.png', 'cable-cable_swap_3_crop.png', 'cable-cable_swap_3_flip1.png', 'cable-cable_swap_3_rotation.png', 'cable-cable_swap_4_crop.png', 'cable-cable_swap_4_flip1.png', 'cable-cable_swap_4_rotation.png', 'cable-cable_swap_5_crop.png', 'cable-cable_swap_5_flip1.png', 'cable-cable_swap_5_rotation.png', 'cable-cable_swap_6_flip1.png', 'cable-cable_swap_6_rotation.png', 'cable-cable_swap_7_flip1.png', 'cable-cable_swap_7_rotation.png', 'cable-cable_swap_8_flip1.png', 'cable-cable_swap_8_rotation.png', 'cable-cable_swap_9_flip1.png', 'cable-cable_swap_9_rotation.png', 'cable-cable_swap_10_flip1.png', 'cable-cable_swap_10_rotation.png', 'cable-cable_swap_11_flip1.png', 'cable-cable_swap_11_rotation.png', 'cable-cable_swap_12_flip1.png', 'cable-cable_swap_13_flip1.png', 'cable-cable_swap_14_flip1.png', 'cable-cable_swap_15_flip1.png', 'cable-cable_swap_16_flip1.png', 'cable-cable_swap_17_flip1.png', 'cable-cable_swap_18_flip1.png', 'cable-cable_swap_19_flip1.png', 'cable-cable_swap_20_flip1.png', 'cable-cable_swap_21_flip1.png', 'cable-cable_swap_22_flip1.png', 'cable-cable_swap_23_flip1.png']\n"
     ]
    },
    {
     "name": "stderr",
     "output_type": "stream",
     "text": [
      "\r",
      " 92%|█████████▏| 81/88 [06:12<00:29,  4.16s/it]"
     ]
    },
    {
     "name": "stdout",
     "output_type": "stream",
     "text": [
      "tile-crack\n",
      "['11206.png', '11598.png', '12541.png', '12589.png', '12876.png', '12999.png', '13857.png', '14193.png', '14204.png', 'tile-crack_0_crop.png', 'tile-crack_0_flip1.png', 'tile-crack_0_rotation.png', 'tile-crack_1_crop.png', 'tile-crack_1_flip1.png', 'tile-crack_1_rotation.png', 'tile-crack_2_crop.png', 'tile-crack_2_flip1.png', 'tile-crack_2_rotation.png', 'tile-crack_3_crop.png', 'tile-crack_3_flip1.png', 'tile-crack_3_rotation.png', 'tile-crack_4_crop.png', 'tile-crack_4_flip1.png', 'tile-crack_4_rotation.png', 'tile-crack_5_crop.png', 'tile-crack_5_flip1.png', 'tile-crack_5_rotation.png', 'tile-crack_6_crop.png', 'tile-crack_6_flip1.png', 'tile-crack_6_rotation.png', 'tile-crack_7_crop.png', 'tile-crack_7_flip1.png', 'tile-crack_7_rotation.png', 'tile-crack_8_crop.png', 'tile-crack_8_flip1.png', 'tile-crack_8_rotation.png', 'tile-crack_9_flip1.png', 'tile-crack_9_rotation.png', 'tile-crack_10_flip1.png', 'tile-crack_10_rotation.png', 'tile-crack_11_flip1.png', 'tile-crack_11_rotation.png', 'tile-crack_12_flip1.png', 'tile-crack_12_rotation.png', 'tile-crack_13_flip1.png', 'tile-crack_13_rotation.png', 'tile-crack_14_flip1.png', 'tile-crack_14_rotation.png', 'tile-crack_15_flip1.png', 'tile-crack_15_rotation.png', 'tile-crack_16_flip1.png', 'tile-crack_16_rotation.png', 'tile-crack_17_flip1.png', 'tile-crack_17_rotation.png', 'tile-crack_18_flip1.png', 'tile-crack_19_flip1.png', 'tile-crack_20_flip1.png', 'tile-crack_21_flip1.png', 'tile-crack_22_flip1.png', 'tile-crack_23_flip1.png', 'tile-crack_24_flip1.png', 'tile-crack_25_flip1.png', 'tile-crack_26_flip1.png', 'tile-crack_27_flip1.png', 'tile-crack_28_flip1.png', 'tile-crack_29_flip1.png', 'tile-crack_30_flip1.png', 'tile-crack_31_flip1.png', 'tile-crack_32_flip1.png', 'tile-crack_33_flip1.png', 'tile-crack_34_flip1.png', 'tile-crack_35_flip1.png']\n"
     ]
    },
    {
     "name": "stderr",
     "output_type": "stream",
     "text": [
      "\r",
      " 93%|█████████▎| 82/88 [06:18<00:28,  4.73s/it]"
     ]
    },
    {
     "name": "stdout",
     "output_type": "stream",
     "text": [
      "leather-color\n",
      "['11294.png', '11838.png', '11900.png', '12023.png', '12309.png', '12716.png', '13230.png', '13312.png', '13817.png', '14152.png', 'leather-color_0_crop.png', 'leather-color_0_flip1.png', 'leather-color_0_rotation.png', 'leather-color_1_crop.png', 'leather-color_1_flip1.png', 'leather-color_1_rotation.png', 'leather-color_2_crop.png', 'leather-color_2_flip1.png', 'leather-color_2_rotation.png', 'leather-color_3_crop.png', 'leather-color_3_flip1.png', 'leather-color_3_rotation.png', 'leather-color_4_crop.png', 'leather-color_4_flip1.png', 'leather-color_4_rotation.png', 'leather-color_5_crop.png', 'leather-color_5_flip1.png', 'leather-color_5_rotation.png', 'leather-color_6_crop.png', 'leather-color_6_flip1.png', 'leather-color_6_rotation.png', 'leather-color_7_crop.png', 'leather-color_7_flip1.png', 'leather-color_7_rotation.png', 'leather-color_8_crop.png', 'leather-color_8_flip1.png', 'leather-color_8_rotation.png', 'leather-color_9_crop.png', 'leather-color_9_flip1.png', 'leather-color_9_rotation.png', 'leather-color_10_flip1.png', 'leather-color_10_rotation.png', 'leather-color_11_flip1.png', 'leather-color_11_rotation.png', 'leather-color_12_flip1.png', 'leather-color_12_rotation.png', 'leather-color_13_flip1.png', 'leather-color_13_rotation.png', 'leather-color_14_flip1.png', 'leather-color_14_rotation.png', 'leather-color_15_flip1.png', 'leather-color_15_rotation.png', 'leather-color_16_flip1.png', 'leather-color_16_rotation.png', 'leather-color_17_flip1.png', 'leather-color_17_rotation.png', 'leather-color_18_flip1.png', 'leather-color_18_rotation.png', 'leather-color_19_flip1.png', 'leather-color_19_rotation.png', 'leather-color_20_flip1.png', 'leather-color_21_flip1.png', 'leather-color_22_flip1.png', 'leather-color_23_flip1.png', 'leather-color_24_flip1.png', 'leather-color_25_flip1.png', 'leather-color_26_flip1.png', 'leather-color_27_flip1.png', 'leather-color_28_flip1.png', 'leather-color_29_flip1.png', 'leather-color_30_flip1.png', 'leather-color_31_flip1.png', 'leather-color_32_flip1.png', 'leather-color_33_flip1.png', 'leather-color_34_flip1.png', 'leather-color_35_flip1.png', 'leather-color_36_flip1.png', 'leather-color_37_flip1.png', 'leather-color_38_flip1.png', 'leather-color_39_flip1.png']\n"
     ]
    },
    {
     "name": "stderr",
     "output_type": "stream",
     "text": [
      "\r",
      " 94%|█████████▍| 83/88 [06:25<00:26,  5.32s/it]"
     ]
    },
    {
     "name": "stdout",
     "output_type": "stream",
     "text": [
      "cable-poke_insulation\n",
      "['11438.png', '11637.png', '12086.png', '12627.png', '12783.png', 'cable-poke_insulation_0_crop.png', 'cable-poke_insulation_0_flip1.png', 'cable-poke_insulation_0_rotation.png', 'cable-poke_insulation_1_crop.png', 'cable-poke_insulation_1_flip1.png', 'cable-poke_insulation_1_rotation.png', 'cable-poke_insulation_2_crop.png', 'cable-poke_insulation_2_flip1.png', 'cable-poke_insulation_2_rotation.png', 'cable-poke_insulation_3_crop.png', 'cable-poke_insulation_3_flip1.png', 'cable-poke_insulation_3_rotation.png', 'cable-poke_insulation_4_crop.png', 'cable-poke_insulation_4_flip1.png', 'cable-poke_insulation_4_rotation.png', 'cable-poke_insulation_5_flip1.png', 'cable-poke_insulation_5_rotation.png', 'cable-poke_insulation_6_flip1.png', 'cable-poke_insulation_6_rotation.png', 'cable-poke_insulation_7_flip1.png', 'cable-poke_insulation_7_rotation.png', 'cable-poke_insulation_8_flip1.png', 'cable-poke_insulation_8_rotation.png', 'cable-poke_insulation_9_flip1.png', 'cable-poke_insulation_9_rotation.png', 'cable-poke_insulation_10_flip1.png', 'cable-poke_insulation_11_flip1.png', 'cable-poke_insulation_12_flip1.png', 'cable-poke_insulation_13_flip1.png', 'cable-poke_insulation_14_flip1.png', 'cable-poke_insulation_15_flip1.png', 'cable-poke_insulation_16_flip1.png', 'cable-poke_insulation_17_flip1.png', 'cable-poke_insulation_18_flip1.png', 'cable-poke_insulation_19_flip1.png']\n"
     ]
    },
    {
     "name": "stderr",
     "output_type": "stream",
     "text": [
      "\r",
      " 95%|█████████▌| 84/88 [06:28<00:18,  4.74s/it]"
     ]
    },
    {
     "name": "stdout",
     "output_type": "stream",
     "text": [
      "transistor-cut_lead\n",
      "['11449.png', '12904.png', '13015.png', '13159.png', '13776.png', 'transistor-cut_lead_0_crop.png', 'transistor-cut_lead_0_flip1.png', 'transistor-cut_lead_0_rotation.png', 'transistor-cut_lead_1_crop.png', 'transistor-cut_lead_1_flip1.png', 'transistor-cut_lead_1_rotation.png', 'transistor-cut_lead_2_crop.png', 'transistor-cut_lead_2_flip1.png', 'transistor-cut_lead_2_rotation.png', 'transistor-cut_lead_3_crop.png', 'transistor-cut_lead_3_flip1.png', 'transistor-cut_lead_3_rotation.png', 'transistor-cut_lead_4_crop.png', 'transistor-cut_lead_4_flip1.png', 'transistor-cut_lead_4_rotation.png', 'transistor-cut_lead_5_flip1.png', 'transistor-cut_lead_5_rotation.png', 'transistor-cut_lead_6_flip1.png', 'transistor-cut_lead_6_rotation.png', 'transistor-cut_lead_7_flip1.png', 'transistor-cut_lead_7_rotation.png', 'transistor-cut_lead_8_flip1.png', 'transistor-cut_lead_8_rotation.png', 'transistor-cut_lead_9_flip1.png', 'transistor-cut_lead_9_rotation.png', 'transistor-cut_lead_10_flip1.png', 'transistor-cut_lead_11_flip1.png', 'transistor-cut_lead_12_flip1.png', 'transistor-cut_lead_13_flip1.png', 'transistor-cut_lead_14_flip1.png', 'transistor-cut_lead_15_flip1.png', 'transistor-cut_lead_16_flip1.png', 'transistor-cut_lead_17_flip1.png', 'transistor-cut_lead_18_flip1.png', 'transistor-cut_lead_19_flip1.png']\n"
     ]
    },
    {
     "name": "stderr",
     "output_type": "stream",
     "text": [
      "\r",
      " 97%|█████████▋| 85/88 [06:32<00:13,  4.34s/it]"
     ]
    },
    {
     "name": "stdout",
     "output_type": "stream",
     "text": [
      "wood-hole\n",
      "['11795.png', '12525.png', '12748.png', '13226.png', '14069.png', 'wood-hole_0_crop.png', 'wood-hole_0_flip1.png', 'wood-hole_0_rotation.png', 'wood-hole_1_crop.png', 'wood-hole_1_flip1.png', 'wood-hole_1_rotation.png', 'wood-hole_2_crop.png', 'wood-hole_2_flip1.png', 'wood-hole_2_rotation.png', 'wood-hole_3_crop.png', 'wood-hole_3_flip1.png', 'wood-hole_3_rotation.png', 'wood-hole_4_crop.png', 'wood-hole_4_flip1.png', 'wood-hole_4_rotation.png', 'wood-hole_5_flip1.png', 'wood-hole_5_rotation.png', 'wood-hole_6_flip1.png', 'wood-hole_6_rotation.png', 'wood-hole_7_flip1.png', 'wood-hole_7_rotation.png', 'wood-hole_8_flip1.png', 'wood-hole_8_rotation.png', 'wood-hole_9_flip1.png', 'wood-hole_9_rotation.png', 'wood-hole_10_flip1.png', 'wood-hole_11_flip1.png', 'wood-hole_12_flip1.png', 'wood-hole_13_flip1.png', 'wood-hole_14_flip1.png', 'wood-hole_15_flip1.png', 'wood-hole_16_flip1.png', 'wood-hole_17_flip1.png', 'wood-hole_18_flip1.png', 'wood-hole_19_flip1.png']\n"
     ]
    },
    {
     "name": "stderr",
     "output_type": "stream",
     "text": [
      "\r",
      " 98%|█████████▊| 86/88 [06:35<00:08,  4.05s/it]"
     ]
    },
    {
     "name": "stdout",
     "output_type": "stream",
     "text": [
      "tile-rough\n",
      "['11947.png', '12012.png', '12096.png', '12383.png', '12399.png', '12630.png', '12819.png', '13246.png', 'tile-rough_0_crop.png', 'tile-rough_0_flip1.png', 'tile-rough_0_rotation.png', 'tile-rough_1_crop.png', 'tile-rough_1_flip1.png', 'tile-rough_1_rotation.png', 'tile-rough_2_crop.png', 'tile-rough_2_flip1.png', 'tile-rough_2_rotation.png', 'tile-rough_3_crop.png', 'tile-rough_3_flip1.png', 'tile-rough_3_rotation.png', 'tile-rough_4_crop.png', 'tile-rough_4_flip1.png', 'tile-rough_4_rotation.png', 'tile-rough_5_crop.png', 'tile-rough_5_flip1.png', 'tile-rough_5_rotation.png', 'tile-rough_6_crop.png', 'tile-rough_6_flip1.png', 'tile-rough_6_rotation.png', 'tile-rough_7_crop.png', 'tile-rough_7_flip1.png', 'tile-rough_7_rotation.png', 'tile-rough_8_flip1.png', 'tile-rough_8_rotation.png', 'tile-rough_9_flip1.png', 'tile-rough_9_rotation.png', 'tile-rough_10_flip1.png', 'tile-rough_10_rotation.png', 'tile-rough_11_flip1.png', 'tile-rough_11_rotation.png', 'tile-rough_12_flip1.png', 'tile-rough_12_rotation.png', 'tile-rough_13_flip1.png', 'tile-rough_13_rotation.png', 'tile-rough_14_flip1.png', 'tile-rough_14_rotation.png', 'tile-rough_15_flip1.png', 'tile-rough_15_rotation.png', 'tile-rough_16_flip1.png', 'tile-rough_17_flip1.png', 'tile-rough_18_flip1.png', 'tile-rough_19_flip1.png', 'tile-rough_20_flip1.png', 'tile-rough_21_flip1.png', 'tile-rough_22_flip1.png', 'tile-rough_23_flip1.png', 'tile-rough_24_flip1.png', 'tile-rough_25_flip1.png', 'tile-rough_26_flip1.png', 'tile-rough_27_flip1.png', 'tile-rough_28_flip1.png', 'tile-rough_29_flip1.png', 'tile-rough_30_flip1.png', 'tile-rough_31_flip1.png']\n"
     ]
    },
    {
     "name": "stderr",
     "output_type": "stream",
     "text": [
      "\r",
      " 99%|█████████▉| 87/88 [06:40<00:04,  4.41s/it]"
     ]
    },
    {
     "name": "stdout",
     "output_type": "stream",
     "text": [
      "wood-liquid\n",
      "['12106.png', '12178.png', '12610.png', '13183.png', '13259.png', 'wood-liquid_0_crop.png', 'wood-liquid_0_flip1.png', 'wood-liquid_0_rotation.png', 'wood-liquid_1_crop.png', 'wood-liquid_1_flip1.png', 'wood-liquid_1_rotation.png', 'wood-liquid_2_crop.png', 'wood-liquid_2_flip1.png', 'wood-liquid_2_rotation.png', 'wood-liquid_3_crop.png', 'wood-liquid_3_flip1.png', 'wood-liquid_3_rotation.png', 'wood-liquid_4_crop.png', 'wood-liquid_4_flip1.png', 'wood-liquid_4_rotation.png', 'wood-liquid_5_flip1.png', 'wood-liquid_5_rotation.png', 'wood-liquid_6_flip1.png', 'wood-liquid_6_rotation.png', 'wood-liquid_7_flip1.png', 'wood-liquid_7_rotation.png', 'wood-liquid_8_flip1.png', 'wood-liquid_8_rotation.png', 'wood-liquid_9_flip1.png', 'wood-liquid_9_rotation.png', 'wood-liquid_10_flip1.png', 'wood-liquid_11_flip1.png', 'wood-liquid_12_flip1.png', 'wood-liquid_13_flip1.png', 'wood-liquid_14_flip1.png', 'wood-liquid_15_flip1.png', 'wood-liquid_16_flip1.png', 'wood-liquid_17_flip1.png', 'wood-liquid_18_flip1.png', 'wood-liquid_19_flip1.png']\n"
     ]
    },
    {
     "name": "stderr",
     "output_type": "stream",
     "text": [
      "100%|██████████| 88/88 [06:44<00:00,  4.59s/it]\n"
     ]
    }
   ],
   "source": [
    "for label in tqdm(oslabel):\n",
    "    if 'good' not in label:\n",
    "        print(label)\n",
    "        idx = 0\n",
    "        one_sample = train_df[train_df['label'] == label].reset_index(drop=True)\n",
    "        images_list = natsorted(one_sample['file_name'])\n",
    "        print(images_list)\n",
    "        for _, image_name in enumerate(images_list):\n",
    "            image = np.array(Image.open(opj('./open/train_add_data/', image_name)).convert('RGB'))\n",
    "            \n",
    "            aug_img = cv2.flip(image, 2)\n",
    "            aug_img = cv2.resize(aug_img, dsize=(1024, 1024))\n",
    "            aug_img = cv2.cvtColor(aug_img, cv2.COLOR_BGR2RGB)\n",
    "            save_path = opj('./open/train_add_data', f'{label}_{idx}_flip2.png')\n",
    "            save_name = f'{label}_{idx}_flip2.png'\n",
    "            idx += 1\n",
    "            cv2.imwrite(save_path, aug_img)\n",
    "            train_df.loc[len(train_df)] = [save_name] + one_sample.iloc[0][1:].values.tolist()   "
   ]
  },
  {
   "cell_type": "markdown",
   "metadata": {},
   "source": [
    "# label 인코딩 후 증강된 csv 저장"
   ]
  },
  {
   "cell_type": "code",
   "execution_count": 12,
   "metadata": {},
   "outputs": [
    {
     "data": {
      "text/plain": [
       "[72,\n",
       " 15,\n",
       " 72,\n",
       " 76,\n",
       " 3,\n",
       " 76,\n",
       " 15,\n",
       " 55,\n",
       " 4,\n",
       " 72,\n",
       " 22,\n",
       " 33,\n",
       " 76,\n",
       " 53,\n",
       " 9,\n",
       " 76,\n",
       " 46,\n",
       " 76,\n",
       " 52,\n",
       " 59,\n",
       " 82,\n",
       " 40,\n",
       " 15,\n",
       " 54,\n",
       " 15,\n",
       " 33,\n",
       " 3,\n",
       " 76,\n",
       " 52,\n",
       " 68,\n",
       " 76,\n",
       " 33,\n",
       " 9,\n",
       " 31,\n",
       " 52,\n",
       " 56,\n",
       " 84,\n",
       " 63,\n",
       " 9,\n",
       " 9,\n",
       " 76,\n",
       " 21,\n",
       " 72,\n",
       " 76,\n",
       " 55,\n",
       " 63,\n",
       " 55,\n",
       " 45,\n",
       " 76,\n",
       " 72,\n",
       " 21,\n",
       " 21,\n",
       " 76,\n",
       " 2,\n",
       " 52,\n",
       " 63,\n",
       " 28,\n",
       " 21,\n",
       " 3,\n",
       " 76,\n",
       " 3,\n",
       " 76,\n",
       " 28,\n",
       " 84,\n",
       " 33,\n",
       " 55,\n",
       " 40,\n",
       " 40,\n",
       " 55,\n",
       " 55,\n",
       " 21,\n",
       " 84,\n",
       " 72,\n",
       " 86,\n",
       " 40,\n",
       " 63,\n",
       " 33,\n",
       " 40,\n",
       " 84,\n",
       " 21,\n",
       " 15,\n",
       " 84,\n",
       " 50,\n",
       " 21,\n",
       " 28,\n",
       " 33,\n",
       " 52,\n",
       " 33,\n",
       " 75,\n",
       " 31,\n",
       " 55,\n",
       " 72,\n",
       " 47,\n",
       " 45,\n",
       " 3,\n",
       " 60,\n",
       " 10,\n",
       " 72,\n",
       " 84,\n",
       " 45,\n",
       " 15,\n",
       " 9,\n",
       " 33,\n",
       " 45,\n",
       " 47,\n",
       " 21,\n",
       " 45,\n",
       " 33,\n",
       " 63,\n",
       " 40,\n",
       " 18,\n",
       " 18,\n",
       " 85,\n",
       " 13,\n",
       " 59,\n",
       " 40,\n",
       " 68,\n",
       " 21,\n",
       " 16,\n",
       " 68,\n",
       " 55,\n",
       " 52,\n",
       " 45,\n",
       " 55,\n",
       " 55,\n",
       " 33,\n",
       " 55,\n",
       " 21,\n",
       " 84,\n",
       " 63,\n",
       " 55,\n",
       " 84,\n",
       " 44,\n",
       " 23,\n",
       " 33,\n",
       " 72,\n",
       " 33,\n",
       " 55,\n",
       " 72,\n",
       " 55,\n",
       " 72,\n",
       " 55,\n",
       " 43,\n",
       " 72,\n",
       " 69,\n",
       " 63,\n",
       " 72,\n",
       " 9,\n",
       " 84,\n",
       " 40,\n",
       " 28,\n",
       " 28,\n",
       " 33,\n",
       " 83,\n",
       " 38,\n",
       " 63,\n",
       " 13,\n",
       " 62,\n",
       " 9,\n",
       " 3,\n",
       " 40,\n",
       " 33,\n",
       " 9,\n",
       " 9,\n",
       " 21,\n",
       " 58,\n",
       " 45,\n",
       " 55,\n",
       " 21,\n",
       " 59,\n",
       " 63,\n",
       " 9,\n",
       " 3,\n",
       " 33,\n",
       " 84,\n",
       " 63,\n",
       " 68,\n",
       " 33,\n",
       " 28,\n",
       " 40,\n",
       " 9,\n",
       " 15,\n",
       " 83,\n",
       " 52,\n",
       " 45,\n",
       " 33,\n",
       " 21,\n",
       " 63,\n",
       " 28,\n",
       " 15,\n",
       " 63,\n",
       " 45,\n",
       " 76,\n",
       " 76,\n",
       " 84,\n",
       " 40,\n",
       " 76,\n",
       " 57,\n",
       " 45,\n",
       " 72,\n",
       " 32,\n",
       " 55,\n",
       " 68,\n",
       " 33,\n",
       " 0,\n",
       " 9,\n",
       " 55,\n",
       " 3,\n",
       " 9,\n",
       " 63,\n",
       " 21,\n",
       " 28,\n",
       " 84,\n",
       " 21,\n",
       " 33,\n",
       " 33,\n",
       " 72,\n",
       " 1,\n",
       " 40,\n",
       " 21,\n",
       " 46,\n",
       " 3,\n",
       " 28,\n",
       " 21,\n",
       " 33,\n",
       " 52,\n",
       " 45,\n",
       " 63,\n",
       " 84,\n",
       " 28,\n",
       " 37,\n",
       " 55,\n",
       " 9,\n",
       " 38,\n",
       " 8,\n",
       " 87,\n",
       " 84,\n",
       " 67,\n",
       " 55,\n",
       " 7,\n",
       " 3,\n",
       " 76,\n",
       " 55,\n",
       " 49,\n",
       " 1,\n",
       " 33,\n",
       " 21,\n",
       " 63,\n",
       " 3,\n",
       " 8,\n",
       " 45,\n",
       " 76,\n",
       " 76,\n",
       " 40,\n",
       " 63,\n",
       " 15,\n",
       " 45,\n",
       " 3,\n",
       " 33,\n",
       " 84,\n",
       " 0,\n",
       " 76,\n",
       " 3,\n",
       " 15,\n",
       " 63,\n",
       " 45,\n",
       " 76,\n",
       " 21,\n",
       " 68,\n",
       " 33,\n",
       " 55,\n",
       " 63,\n",
       " 55,\n",
       " 55,\n",
       " 33,\n",
       " 43,\n",
       " 40,\n",
       " 40,\n",
       " 9,\n",
       " 37,\n",
       " 9,\n",
       " 9,\n",
       " 21,\n",
       " 72,\n",
       " 11,\n",
       " 28,\n",
       " 15,\n",
       " 52,\n",
       " 45,\n",
       " 84,\n",
       " 72,\n",
       " 24,\n",
       " 26,\n",
       " 55,\n",
       " 45,\n",
       " 33,\n",
       " 72,\n",
       " 9,\n",
       " 15,\n",
       " 52,\n",
       " 9,\n",
       " 33,\n",
       " 28,\n",
       " 21,\n",
       " 57,\n",
       " 51,\n",
       " 28,\n",
       " 22,\n",
       " 3,\n",
       " 55,\n",
       " 52,\n",
       " 21,\n",
       " 34,\n",
       " 55,\n",
       " 39,\n",
       " 45,\n",
       " 40,\n",
       " 15,\n",
       " 33,\n",
       " 63,\n",
       " 68,\n",
       " 76,\n",
       " 33,\n",
       " 28,\n",
       " 40,\n",
       " 76,\n",
       " 45,\n",
       " 41,\n",
       " 9,\n",
       " 28,\n",
       " 15,\n",
       " 45,\n",
       " 21,\n",
       " 40,\n",
       " 33,\n",
       " 9,\n",
       " 55,\n",
       " 84,\n",
       " 40,\n",
       " 63,\n",
       " 84,\n",
       " 76,\n",
       " 63,\n",
       " 18,\n",
       " 55,\n",
       " 40,\n",
       " 55,\n",
       " 15,\n",
       " 21,\n",
       " 33,\n",
       " 21,\n",
       " 63,\n",
       " 84,\n",
       " 45,\n",
       " 21,\n",
       " 3,\n",
       " 63,\n",
       " 76,\n",
       " 52,\n",
       " 45,\n",
       " 28,\n",
       " 84,\n",
       " 76,\n",
       " 63,\n",
       " 76,\n",
       " 55,\n",
       " 72,\n",
       " 57,\n",
       " 55,\n",
       " 33,\n",
       " 28,\n",
       " 85,\n",
       " 84,\n",
       " 28,\n",
       " 28,\n",
       " 3,\n",
       " 55,\n",
       " 72,\n",
       " 9,\n",
       " 76,\n",
       " 63,\n",
       " 21,\n",
       " 3,\n",
       " 63,\n",
       " 72,\n",
       " 3,\n",
       " 55,\n",
       " 40,\n",
       " 45,\n",
       " 33,\n",
       " 52,\n",
       " 72,\n",
       " 71,\n",
       " 52,\n",
       " 52,\n",
       " 33,\n",
       " 76,\n",
       " 33,\n",
       " 33,\n",
       " 76,\n",
       " 63,\n",
       " 3,\n",
       " 45,\n",
       " 3,\n",
       " 76,\n",
       " 33,\n",
       " 21,\n",
       " 50,\n",
       " 28,\n",
       " 9,\n",
       " 63,\n",
       " 21,\n",
       " 72,\n",
       " 52,\n",
       " 40,\n",
       " 76,\n",
       " 55,\n",
       " 21,\n",
       " 55,\n",
       " 84,\n",
       " 21,\n",
       " 9,\n",
       " 55,\n",
       " 40,\n",
       " 9,\n",
       " 63,\n",
       " 86,\n",
       " 55,\n",
       " 28,\n",
       " 63,\n",
       " 76,\n",
       " 45,\n",
       " 21,\n",
       " 33,\n",
       " 76,\n",
       " 72,\n",
       " 15,\n",
       " 84,\n",
       " 9,\n",
       " 68,\n",
       " 45,\n",
       " 79,\n",
       " 9,\n",
       " 33,\n",
       " 13,\n",
       " 83,\n",
       " 33,\n",
       " 3,\n",
       " 55,\n",
       " 72,\n",
       " 33,\n",
       " 72,\n",
       " 55,\n",
       " 55,\n",
       " 33,\n",
       " 40,\n",
       " 55,\n",
       " 76,\n",
       " 3,\n",
       " 63,\n",
       " 52,\n",
       " 45,\n",
       " 52,\n",
       " 64,\n",
       " 28,\n",
       " 33,\n",
       " 33,\n",
       " 21,\n",
       " 21,\n",
       " 21,\n",
       " 24,\n",
       " 33,\n",
       " 9,\n",
       " 14,\n",
       " 3,\n",
       " 33,\n",
       " 52,\n",
       " 33,\n",
       " 83,\n",
       " 55,\n",
       " 84,\n",
       " 28,\n",
       " 3,\n",
       " 55,\n",
       " 76,\n",
       " 21,\n",
       " 85,\n",
       " 64,\n",
       " 72,\n",
       " 21,\n",
       " 52,\n",
       " 9,\n",
       " 55,\n",
       " 45,\n",
       " 21,\n",
       " 21,\n",
       " 52,\n",
       " 15,\n",
       " 58,\n",
       " 40,\n",
       " 33,\n",
       " 45,\n",
       " 45,\n",
       " 55,\n",
       " 52,\n",
       " 63,\n",
       " 33,\n",
       " 45,\n",
       " 45,\n",
       " 27,\n",
       " 15,\n",
       " 63,\n",
       " 63,\n",
       " 45,\n",
       " 84,\n",
       " 33,\n",
       " 33,\n",
       " 21,\n",
       " 21,\n",
       " 33,\n",
       " 3,\n",
       " 15,\n",
       " 9,\n",
       " 40,\n",
       " 3,\n",
       " 45,\n",
       " 52,\n",
       " 55,\n",
       " 40,\n",
       " 33,\n",
       " 76,\n",
       " 45,\n",
       " 33,\n",
       " 63,\n",
       " 53,\n",
       " 9,\n",
       " 9,\n",
       " 81,\n",
       " 33,\n",
       " 33,\n",
       " 68,\n",
       " 33,\n",
       " 3,\n",
       " 52,\n",
       " 84,\n",
       " 72,\n",
       " 15,\n",
       " 45,\n",
       " 63,\n",
       " 55,\n",
       " 9,\n",
       " 72,\n",
       " 3,\n",
       " 76,\n",
       " 84,\n",
       " 19,\n",
       " 52,\n",
       " 86,\n",
       " 52,\n",
       " 28,\n",
       " 33,\n",
       " 76,\n",
       " 33,\n",
       " 40,\n",
       " 55,\n",
       " 63,\n",
       " 3,\n",
       " 84,\n",
       " 40,\n",
       " 3,\n",
       " 76,\n",
       " 52,\n",
       " 33,\n",
       " 67,\n",
       " 3,\n",
       " 72,\n",
       " 33,\n",
       " 76,\n",
       " 72,\n",
       " 40,\n",
       " 3,\n",
       " 3,\n",
       " 25,\n",
       " 72,\n",
       " 3,\n",
       " 46,\n",
       " 28,\n",
       " 55,\n",
       " 40,\n",
       " 52,\n",
       " 28,\n",
       " 48,\n",
       " 28,\n",
       " 45,\n",
       " 45,\n",
       " 72,\n",
       " 28,\n",
       " 63,\n",
       " 40,\n",
       " 35,\n",
       " 84,\n",
       " 68,\n",
       " 63,\n",
       " 15,\n",
       " 15,\n",
       " 86,\n",
       " 9,\n",
       " 33,\n",
       " 28,\n",
       " 45,\n",
       " 9,\n",
       " 21,\n",
       " 40,\n",
       " 52,\n",
       " 55,\n",
       " 40,\n",
       " 63,\n",
       " 15,\n",
       " 37,\n",
       " 76,\n",
       " 45,\n",
       " 21,\n",
       " 76,\n",
       " 28,\n",
       " 21,\n",
       " 15,\n",
       " 21,\n",
       " 63,\n",
       " 44,\n",
       " 68,\n",
       " 28,\n",
       " 40,\n",
       " 28,\n",
       " 9,\n",
       " 6,\n",
       " 79,\n",
       " 9,\n",
       " 33,\n",
       " 76,\n",
       " 84,\n",
       " 45,\n",
       " 22,\n",
       " 52,\n",
       " 21,\n",
       " 9,\n",
       " 3,\n",
       " 9,\n",
       " 28,\n",
       " 28,\n",
       " 52,\n",
       " 40,\n",
       " 15,\n",
       " 9,\n",
       " 3,\n",
       " 68,\n",
       " 43,\n",
       " 40,\n",
       " 52,\n",
       " 28,\n",
       " 84,\n",
       " 45,\n",
       " 9,\n",
       " 52,\n",
       " 40,\n",
       " 40,\n",
       " 9,\n",
       " 84,\n",
       " 63,\n",
       " 63,\n",
       " 72,\n",
       " 21,\n",
       " 51,\n",
       " 72,\n",
       " 33,\n",
       " 3,\n",
       " 54,\n",
       " 17,\n",
       " 52,\n",
       " 40,\n",
       " 26,\n",
       " 63,\n",
       " 3,\n",
       " 42,\n",
       " 84,\n",
       " 76,\n",
       " 63,\n",
       " 52,\n",
       " 21,\n",
       " 34,\n",
       " 63,\n",
       " 52,\n",
       " 45,\n",
       " 76,\n",
       " 63,\n",
       " 49,\n",
       " 15,\n",
       " 28,\n",
       " 63,\n",
       " 84,\n",
       " 84,\n",
       " 84,\n",
       " 3,\n",
       " 80,\n",
       " 33,\n",
       " 63,\n",
       " 55,\n",
       " 40,\n",
       " 45,\n",
       " 45,\n",
       " 52,\n",
       " 35,\n",
       " 22,\n",
       " 0,\n",
       " 33,\n",
       " 33,\n",
       " 84,\n",
       " 72,\n",
       " 28,\n",
       " 63,\n",
       " 33,\n",
       " 15,\n",
       " 21,\n",
       " 45,\n",
       " 76,\n",
       " 63,\n",
       " 9,\n",
       " 85,\n",
       " 65,\n",
       " 63,\n",
       " 84,\n",
       " 76,\n",
       " 13,\n",
       " 63,\n",
       " 72,\n",
       " 9,\n",
       " 55,\n",
       " 54,\n",
       " 28,\n",
       " 33,\n",
       " 41,\n",
       " 40,\n",
       " 84,\n",
       " 47,\n",
       " 28,\n",
       " 3,\n",
       " 45,\n",
       " 40,\n",
       " 63,\n",
       " 50,\n",
       " 47,\n",
       " 84,\n",
       " 3,\n",
       " 55,\n",
       " 81,\n",
       " 52,\n",
       " 21,\n",
       " 76,\n",
       " 80,\n",
       " 21,\n",
       " 2,\n",
       " 72,\n",
       " 9,\n",
       " 45,\n",
       " 84,\n",
       " 49,\n",
       " 40,\n",
       " 55,\n",
       " 1,\n",
       " 28,\n",
       " 55,\n",
       " 55,\n",
       " 40,\n",
       " 3,\n",
       " 55,\n",
       " 80,\n",
       " 84,\n",
       " 55,\n",
       " 7,\n",
       " 15,\n",
       " 3,\n",
       " 28,\n",
       " 72,\n",
       " 21,\n",
       " 55,\n",
       " 3,\n",
       " 15,\n",
       " 40,\n",
       " 63,\n",
       " 21,\n",
       " 72,\n",
       " 63,\n",
       " 10,\n",
       " 3,\n",
       " 76,\n",
       " 3,\n",
       " 21,\n",
       " 15,\n",
       " 63,\n",
       " 76,\n",
       " 76,\n",
       " 76,\n",
       " 72,\n",
       " 81,\n",
       " 63,\n",
       " 52,\n",
       " 45,\n",
       " 49,\n",
       " 15,\n",
       " 35,\n",
       " 63,\n",
       " 24,\n",
       " 87,\n",
       " 21,\n",
       " 52,\n",
       " 63,\n",
       " 15,\n",
       " 21,\n",
       " 9,\n",
       " 68,\n",
       " 45,\n",
       " 47,\n",
       " 72,\n",
       " 33,\n",
       " 45,\n",
       " 73,\n",
       " 40,\n",
       " 76,\n",
       " 3,\n",
       " 68,\n",
       " 65,\n",
       " 52,\n",
       " 45,\n",
       " 79,\n",
       " 9,\n",
       " 84,\n",
       " 63,\n",
       " 9,\n",
       " 2,\n",
       " 63,\n",
       " 0,\n",
       " 33,\n",
       " 76,\n",
       " 56,\n",
       " 68,\n",
       " 55,\n",
       " 52,\n",
       " 52,\n",
       " 15,\n",
       " 33,\n",
       " 80,\n",
       " 55,\n",
       " 21,\n",
       " 55,\n",
       " 45,\n",
       " 72,\n",
       " 52,\n",
       " 45,\n",
       " 52,\n",
       " 55,\n",
       " 76,\n",
       " 9,\n",
       " 82,\n",
       " 9,\n",
       " 76,\n",
       " 21,\n",
       " 33,\n",
       " 19,\n",
       " 55,\n",
       " 21,\n",
       " 65,\n",
       " 76,\n",
       " 3,\n",
       " 84,\n",
       " 9,\n",
       " 55,\n",
       " 3,\n",
       " 15,\n",
       " 40,\n",
       " 45,\n",
       " 72,\n",
       " 33,\n",
       " 33,\n",
       " 33,\n",
       " 40,\n",
       " 33,\n",
       " 76,\n",
       " 21,\n",
       " 86,\n",
       " 59,\n",
       " 33,\n",
       " 63,\n",
       " 7,\n",
       " 21,\n",
       " 76,\n",
       " 84,\n",
       " 63,\n",
       " 15,\n",
       " 33,\n",
       " 3,\n",
       " 84,\n",
       " 45,\n",
       " 63,\n",
       " 84,\n",
       " 16,\n",
       " 55,\n",
       " 52,\n",
       " 33,\n",
       " 21,\n",
       " 72,\n",
       " 40,\n",
       " 63,\n",
       " 9,\n",
       " 0,\n",
       " 3,\n",
       " 53,\n",
       " 72,\n",
       " 3,\n",
       " 84,\n",
       " 21,\n",
       " 40,\n",
       " 15,\n",
       " 55,\n",
       " 48,\n",
       " 72,\n",
       " 21,\n",
       " 84,\n",
       " 33,\n",
       " 40,\n",
       " 45,\n",
       " 63,\n",
       " 52,\n",
       " 21,\n",
       " 9,\n",
       " 55,\n",
       " 84,\n",
       " 33,\n",
       " 45,\n",
       " 28,\n",
       " 3,\n",
       " 52,\n",
       " 58,\n",
       " 52,\n",
       " 32,\n",
       " 55,\n",
       " 21,\n",
       " 63,\n",
       " 55,\n",
       " 15,\n",
       " 23,\n",
       " 76,\n",
       " 84,\n",
       " 28,\n",
       " 76,\n",
       " 55,\n",
       " 33,\n",
       " 45,\n",
       " 24,\n",
       " 33,\n",
       " 40,\n",
       " 76,\n",
       " 15,\n",
       " 28,\n",
       " 15,\n",
       " 9,\n",
       " 55,\n",
       " 40,\n",
       " 43,\n",
       " 33,\n",
       " 3,\n",
       " 9,\n",
       " 51,\n",
       " 30,\n",
       " 40,\n",
       " 40,\n",
       " 33,\n",
       " 72,\n",
       " 40,\n",
       " 9,\n",
       " 28,\n",
       " 15,\n",
       " 28,\n",
       " 52,\n",
       " 21,\n",
       " 52,\n",
       " 21,\n",
       " 40,\n",
       " 28,\n",
       " 40,\n",
       " 21,\n",
       " 45,\n",
       " 40,\n",
       " 3,\n",
       " 72,\n",
       " 76,\n",
       " 21,\n",
       " 84,\n",
       " 21,\n",
       " 33,\n",
       " 21,\n",
       " 15,\n",
       " ...]"
      ]
     },
     "execution_count": 12,
     "metadata": {},
     "output_type": "execute_result"
    }
   ],
   "source": [
    "train_labels = train_df[\"label\"]\n",
    "\n",
    "label_unique = sorted(np.unique(train_labels))\n",
    "label_unique = {key:value for key,value in zip(label_unique, range(len(label_unique)))}\n",
    "\n",
    "train_labels = [label_unique[k] for k in train_labels]\n",
    "train_labels"
   ]
  },
  {
   "cell_type": "code",
   "execution_count": 13,
   "metadata": {},
   "outputs": [],
   "source": [
    "train_df['encoder_label'] = train_labels"
   ]
  },
  {
   "cell_type": "code",
   "execution_count": 14,
   "metadata": {},
   "outputs": [],
   "source": [
    "train_df.to_csv('./open/train_df_add_data.csv')"
   ]
  },
  {
   "cell_type": "markdown",
   "metadata": {},
   "source": [
    "# 증강된 데이터 셋 불러오기"
   ]
  },
  {
   "cell_type": "code",
   "execution_count": 15,
   "metadata": {},
   "outputs": [
    {
     "name": "stdout",
     "output_type": "stream",
     "text": [
      "   Unnamed: 0  file_name       class state            label  encoder_label\n",
      "0           0  10000.png  transistor  good  transistor-good             72\n",
      "1           1  10001.png     capsule  good     capsule-good             15\n",
      "2           2  10002.png  transistor  good  transistor-good             72\n",
      "3           3  10003.png        wood  good        wood-good             76\n",
      "4           4  10004.png      bottle  good      bottle-good              3\n",
      "   index  file_name\n",
      "0      0  20000.png\n",
      "1      1  20001.png\n",
      "2      2  20002.png\n",
      "3      3  20003.png\n",
      "4      4  20004.png\n",
      "(13997, 6)\n",
      "(2154, 2)\n"
     ]
    }
   ],
   "source": [
    "DATA_DIR = './open'\n",
    "\n",
    "train_df = pd.read_csv(os.path.join(DATA_DIR, 'train_df_add_data.csv'))\n",
    "test_df = pd.read_csv(os.path.join(DATA_DIR, 'test_df.csv'))\n",
    "\n",
    "print(train_df.head())\n",
    "print(test_df.head())\n",
    "print(train_df.shape)\n",
    "print(test_df.shape)"
   ]
  },
  {
   "cell_type": "code",
   "execution_count": 16,
   "metadata": {},
   "outputs": [
    {
     "data": {
      "text/plain": [
       "array(['transistor-good', 'capsule-good', 'wood-good', 'bottle-good',\n",
       "       'screw-good', 'cable-bent_wire', 'carpet-hole', 'hazelnut-good',\n",
       "       'pill-pill_type', 'cable-good', 'metal_nut-scratch', 'pill-good',\n",
       "       'screw-thread_side', 'zipper-fabric_border', 'leather-good',\n",
       "       'pill-scratch', 'toothbrush-good', 'hazelnut-crack',\n",
       "       'screw-manipulated_front', 'zipper-good', 'tile-good',\n",
       "       'carpet-good', 'metal_nut-good', 'bottle-contamination',\n",
       "       'grid-good', 'zipper-split_teeth', 'pill-crack', 'wood-combined',\n",
       "       'pill-color', 'screw-thread_top', 'cable-missing_cable',\n",
       "       'capsule-squeeze', 'zipper-rough', 'capsule-crack', 'capsule-poke',\n",
       "       'metal_nut-flip', 'carpet-metal_contamination', 'metal_nut-color',\n",
       "       'transistor-bent_lead', 'zipper-fabric_interior', 'leather-fold',\n",
       "       'tile-glue_strip', 'screw-scratch_neck', 'screw-scratch_head',\n",
       "       'hazelnut-cut', 'bottle-broken_large', 'bottle-broken_small',\n",
       "       'leather-cut', 'cable-cut_outer_insulation',\n",
       "       'zipper-squeezed_teeth', 'toothbrush-defective',\n",
       "       'cable-cut_inner_insulation', 'pill-contamination',\n",
       "       'cable-missing_wire', 'carpet-thread', 'grid-broken',\n",
       "       'pill-faulty_imprint', 'hazelnut-hole', 'leather-glue',\n",
       "       'leather-poke', 'transistor-damaged_case', 'wood-scratch',\n",
       "       'tile-gray_stroke', 'capsule-faulty_imprint', 'grid-glue',\n",
       "       'zipper-combined', 'carpet-color', 'grid-bent', 'pill-combined',\n",
       "       'hazelnut-print', 'cable-combined', 'capsule-scratch',\n",
       "       'metal_nut-bent', 'zipper-broken_teeth', 'tile-oil',\n",
       "       'transistor-misplaced', 'grid-thread', 'grid-metal_contamination',\n",
       "       'carpet-cut', 'wood-color', 'cable-cable_swap', 'tile-crack',\n",
       "       'leather-color', 'cable-poke_insulation', 'transistor-cut_lead',\n",
       "       'wood-hole', 'tile-rough', 'wood-liquid'], dtype=object)"
      ]
     },
     "execution_count": 16,
     "metadata": {},
     "output_type": "execute_result"
    }
   ],
   "source": [
    "train_df['label'].unique()"
   ]
  },
  {
   "cell_type": "code",
   "execution_count": 17,
   "metadata": {},
   "outputs": [
    {
     "data": {
      "text/plain": [
       "88"
      ]
     },
     "execution_count": 17,
     "metadata": {},
     "output_type": "execute_result"
    }
   ],
   "source": [
    "class_num = len(train_df.encoder_label.unique())\n",
    "class_num"
   ]
  },
  {
   "cell_type": "code",
   "execution_count": 18,
   "metadata": {},
   "outputs": [],
   "source": [
    "# Warmup Learning rate scheduler\n",
    "from torch.optim.lr_scheduler import _LRScheduler\n",
    "class WarmUpLR(_LRScheduler):\n",
    "    \"\"\"warmup_training learning rate scheduler\n",
    "    Args:\n",
    "        optimizer: optimzier(e.g. SGD)\n",
    "        total_iters: totoal_iters of warmup phase\n",
    "    \"\"\"\n",
    "    def __init__(self, optimizer, total_iters, last_epoch=-1):\n",
    "        \n",
    "        self.total_iters = total_iters\n",
    "        super().__init__(optimizer, last_epoch)\n",
    "\n",
    "    def get_lr(self):\n",
    "        \"\"\"we will use the first m batches, and set the learning\n",
    "        rate to base_lr * m / total_iters\n",
    "        \"\"\"\n",
    "        return [base_lr * self.last_epoch / (self.total_iters + 1e-8) for base_lr in self.base_lrs]\n",
    "\n",
    "# Logging\n",
    "def get_root_logger(logger_name='basicsr',\n",
    "                    log_level=logging.INFO,\n",
    "                    log_file=None):\n",
    "\n",
    "    logger = logging.getLogger(logger_name)\n",
    "    # if the logger has been initialized, just return it\n",
    "    if logger.hasHandlers():\n",
    "        return logger\n",
    "\n",
    "    format_str = '%(asctime)s %(levelname)s: %(message)s'\n",
    "    logging.basicConfig(format=format_str, level=log_level)\n",
    "\n",
    "    if log_file is not None:\n",
    "        file_handler = logging.FileHandler(log_file, 'w')\n",
    "        file_handler.setFormatter(logging.Formatter(format_str))\n",
    "        file_handler.setLevel(log_level)\n",
    "        logger.addHandler(file_handler)\n",
    "\n",
    "    return logger\n",
    "\n",
    "class AvgMeter(object):\n",
    "    def __init__(self):\n",
    "        self.reset()\n",
    "\n",
    "    def reset(self):\n",
    "        self.val = 0\n",
    "        self.avg = 0\n",
    "        self.sum = 0\n",
    "        self.count = 0\n",
    "        self.losses = []\n",
    "\n",
    "    def update(self, val, n=1):\n",
    "        self.val = val\n",
    "        self.sum += val * n\n",
    "        self.count += n\n",
    "        self.avg = self.sum / self.count\n",
    "        self.losses.append(val)"
   ]
  },
  {
   "cell_type": "code",
   "execution_count": 19,
   "metadata": {},
   "outputs": [],
   "source": [
    "class RandomRotation(transforms.RandomRotation):\n",
    "    def __init__(self, p: float, degrees: int):\n",
    "        super(RandomRotation, self).__init__(degrees)\n",
    "        self.p = p\n",
    "\n",
    "    def forward(self, img):\n",
    "        if torch.rand(1) < self.p:\n",
    "            fill = self.fill\n",
    "            if isinstance(img, Tensor):\n",
    "                if isinstance(fill, (int, float)):\n",
    "                    fill = [float(fill)] * F.get_image_num_channels(img)\n",
    "                else:\n",
    "                    fill = [float(f) for f in fill]\n",
    "            angle = self.get_params(self.degrees)\n",
    "\n",
    "            img = F.rotate(img, angle, self.resample, self.expand, self.center, fill)\n",
    "        return img"
   ]
  },
  {
   "cell_type": "code",
   "execution_count": 20,
   "metadata": {},
   "outputs": [],
   "source": [
    "class Train_Dataset(Dataset):\n",
    "    def __init__(self, df, transform=None):\n",
    "        self.img_path = df['file_name'].values\n",
    "        self.target = df['encoder_label'].values \n",
    "        self.transform = transform\n",
    "\n",
    "        print(f'Dataset size:{len(self.img_path)}')\n",
    "\n",
    "    def __getitem__(self, idx):\n",
    "        \n",
    "        image = Image.open(opj('./open/train_add_data/', self.img_path[idx])).convert('RGB')\n",
    "        image = self.transform(image)\n",
    "        target = self.target[idx]\n",
    "\n",
    "        return image, target\n",
    "\n",
    "    def __len__(self):\n",
    "        return len(self.img_path)\n",
    "\n",
    "class Test_dataset(Dataset):\n",
    "    def __init__(self, df, transform=None):\n",
    "        self.img_path = df['file_name'].values\n",
    "        self.transform = transform\n",
    "\n",
    "        print(f'Test Dataset size:{len(self.img_path)}')\n",
    "\n",
    "    def __getitem__(self, idx):\n",
    "\n",
    "        image = Image.open(opj('./open/test/', self.img_path[idx])).convert('RGB')\n",
    "        image = self.transform(image)\n",
    "\n",
    "        return image\n",
    "\n",
    "    def __len__(self):\n",
    "        return len(self.img_path)\n",
    "\n",
    "def get_loader(df, phase: str, batch_size, shuffle,\n",
    "               num_workers, transform):\n",
    "    if phase == 'test':\n",
    "        dataset = Test_dataset(df, transform)\n",
    "        data_loader = DataLoader(dataset, batch_size=batch_size, shuffle=shuffle, num_workers=num_workers, pin_memory=True)\n",
    "    else:\n",
    "        dataset = Train_Dataset(df, transform)\n",
    "        data_loader = DataLoader(dataset, batch_size=batch_size, shuffle=shuffle, num_workers=num_workers, \n",
    "                                 pin_memory=True,\n",
    "                                 drop_last=False)\n",
    "    return data_loader\n",
    "\n",
    "def get_train_augmentation(img_size, ver):\n",
    "    if ver==1: # for validset\n",
    "        transform = transforms.Compose([\n",
    "                transforms.Resize((img_size, img_size)),\n",
    "                transforms.ToTensor(),\n",
    "                transforms.Normalize(mean=[0.485, 0.456, 0.406],\n",
    "                                     std=[0.229, 0.224, 0.225]),\n",
    "            ])\n",
    "\n",
    "    if ver == 2:\n",
    "\n",
    "        transform = transforms.Compose([\n",
    "                transforms.RandomHorizontalFlip(p=0.3),\n",
    "                transforms.RandomVerticalFlip(p=0.3),\n",
    "                transforms.ColorJitter(brightness=0.1, contrast=0.1, saturation=0.1),\n",
    "                transforms.RandomAffine((-20,20)),\n",
    "                RandomRotation(0.5, degrees=5),\n",
    "                transforms.Resize((img_size, img_size)),\n",
    "                transforms.ToTensor(), \n",
    "                transforms.Normalize(mean=[0.485, 0.456, 0.406],\n",
    "                                     std=[0.229, 0.224, 0.225]),\n",
    "            ])\n",
    "    \n",
    "    \n",
    "    return transform"
   ]
  },
  {
   "cell_type": "code",
   "execution_count": 21,
   "metadata": {},
   "outputs": [],
   "source": [
    "class Network(nn.Module):\n",
    "    def __init__(self, args):\n",
    "        super().__init__()\n",
    "        self.model_ft = timm.create_model(args.model_name, pretrained=True,\n",
    "                                    drop_path_rate=args.drop_path_rate,\n",
    "                                    )\n",
    "        num_head = self.model_ft.head.fc.in_features\n",
    "        self.model_ft.head.fc = nn.Linear(num_head, 88)\n",
    "\n",
    "#         self.model_ft = coatnet_3()\n",
    "#         num_ftrs = self.model_ft.fc.in_features\n",
    "#         self.model_ft.fc = nn.Linear(num_ftrs, args.class_num)\n",
    "        \n",
    "    def forward(self, x):\n",
    "        out = self.model_ft(x)\n",
    "        return out\n",
    "\n",
    "class Network_test(nn.Module):\n",
    "    def __init__(self, encoder_name):\n",
    "        super().__init__()\n",
    "        self.model_ft = timm.create_model(args.model_name, pretrained=True,\n",
    "                                    drop_path_rate=args.drop_path_rate,\n",
    "                                    )\n",
    "        num_head = self.model_ft.head.fc.in_features\n",
    "        self.model_ft.head.fc = nn.Linear(num_head, 88)\n",
    "\n",
    "#         self.model_ft = coatnet_3()\n",
    "#         num_ftrs = self.model_ft.fc.in_features\n",
    "#         self.model_ft.fc = nn.Linear(num_ftrs, args.class_num)\n",
    "\n",
    "    def forward(self, x):\n",
    "        out = self.model_ft(x)\n",
    "        return out"
   ]
  },
  {
   "cell_type": "code",
   "execution_count": 22,
   "metadata": {},
   "outputs": [
    {
     "name": "stdout",
     "output_type": "stream",
     "text": [
      "class_weight: tensor([2.4437, 2.2216, 2.2216, 1.8708, 3.4911, 4.0729, 4.0729, 3.4911, 4.8875,\n",
      "        1.7455, 4.0729, 4.8875, 4.8875, 2.0365, 2.2216, 1.7854, 2.2216, 2.0365,\n",
      "        2.4437, 2.4437, 2.7153, 1.3964, 2.7153, 2.7153, 2.4437, 4.0729, 4.0729,\n",
      "        4.0729, 1.4811, 4.0729, 4.0729, 2.7153, 2.7153, 1.0000, 2.7153, 2.7153,\n",
      "        2.4437, 2.4437, 2.7153, 2.4437, 1.5959, 2.7153, 1.8798, 2.2216, 2.0365,\n",
      "        1.7773, 2.0365, 1.8798, 2.7153, 2.2216, 1.8798, 2.4437, 1.4644, 4.8875,\n",
      "        2.0365, 1.2219, 2.0365, 2.0365, 1.8798, 2.0365, 2.0365, 2.7153, 2.7153,\n",
      "        1.7000, 3.0547, 2.7153, 3.0547, 1.6292, 6.5167, 4.8875, 4.8875, 4.8875,\n",
      "        1.8357, 4.8875, 6.1094, 4.0729, 1.5830, 4.8875, 4.8875, 2.2216, 2.4437,\n",
      "        3.0547, 2.7153, 3.0547, 1.6292, 2.7153, 2.7153, 3.0547],\n",
      "       device='cuda:0')\n"
     ]
    }
   ],
   "source": [
    "# # weighted crossentropy loss를 위한 weight 계산 함수\n",
    "\n",
    "\n",
    "class_num = train_df.groupby([\"encoder_label\"])[\"encoder_label\"].count().tolist()\n",
    "class_weight = torch.tensor(np.max(class_num) / class_num).to(\"cuda\", dtype=torch.float)\n",
    "print(f\"class_weight: {class_weight}\")"
   ]
  },
  {
   "cell_type": "code",
   "execution_count": 23,
   "metadata": {},
   "outputs": [],
   "source": [
    "class FocalLoss(nn.Module):\n",
    "    \"\"\"\n",
    "    https://dacon.io/competitions/official/235585/codeshare/1796\n",
    "    \"\"\"\n",
    "\n",
    "    def __init__(self, gamma=2.0, eps=1e-7):\n",
    "        super(FocalLoss, self).__init__()\n",
    "        self.gamma = gamma\n",
    "        # print(self.gamma)\n",
    "        self.eps = eps\n",
    "        self.ce = nn.CrossEntropyLoss(reduction=\"none\")\n",
    "\n",
    "    def forward(self, input, target):\n",
    "        logp = self.ce(input, target)\n",
    "        p = torch.exp(-logp)\n",
    "        loss = (1 - p) ** self.gamma * logp\n",
    "        return loss.mean()"
   ]
  },
  {
   "cell_type": "code",
   "execution_count": 24,
   "metadata": {},
   "outputs": [],
   "source": [
    "class Trainer():\n",
    "    def __init__(self, args, save_path):\n",
    "        '''\n",
    "        args: arguments\n",
    "        save_path: Model 가중치 저장 경로\n",
    "        '''\n",
    "        super(Trainer, self).__init__()\n",
    "        self.device = torch.device('cuda' if torch.cuda.is_available() else 'cpu')\n",
    "\n",
    "        # Logging\n",
    "        log_file = os.path.join(save_path, 'log.log')\n",
    "        self.logger = get_root_logger(logger_name='IR', log_level=logging.INFO, log_file=log_file)\n",
    "        self.logger.info(args)\n",
    "        # self.logger.info(args.tag)\n",
    "\n",
    "        # Train, Valid Set load\n",
    "        ############################################################################\n",
    "        if args.step == 0 :\n",
    "            df_train = pd.read_csv(opj(args.data_path, 'train_df_add_data.csv'))\n",
    "        else :\n",
    "            df_train = pd.read_csv(opj(args.data_path, f'train_{args.step}step.csv'))\n",
    "\n",
    "#         if args.image_type is not None:\n",
    "#             df_train['img_path'] = df_train['img_path'].apply(lambda x:x.replace('train_imgs', args.image_type))\n",
    "#             df_train['img_path'] = df_train['img_path'].apply(lambda x:x.replace('test_imgs', 'test_1024'))\n",
    "\n",
    "        kf = StratifiedKFold(n_splits=args.Kfold, shuffle=True, random_state=args.seed)\n",
    "        for fold, (train_idx, val_idx) in enumerate(kf.split(range(len(df_train)), y=df_train['encoder_label'])):\n",
    "            df_train.loc[val_idx, 'fold'] = fold\n",
    "        val_idx = list(df_train[df_train['fold'] == int(args.fold)].index)\n",
    "\n",
    "        df_val = df_train[df_train['fold'] == args.fold].reset_index(drop=True)\n",
    "        df_train = df_train[df_train['fold'] != args.fold].reset_index(drop=True)\n",
    "\n",
    "        # Augmentation\n",
    "        self.train_transform = get_train_augmentation(img_size=args.img_size, ver=args.aug_ver)\n",
    "        self.test_transform = get_train_augmentation(img_size=args.img_size, ver=1)\n",
    "\n",
    "        # TrainLoader\n",
    "        self.train_loader = get_loader(df_train, phase='train', batch_size=args.batch_size, shuffle=True,\n",
    "                                       num_workers=args.num_workers, transform=self.train_transform)\n",
    "        self.val_loader = get_loader(df_val, phase='train', batch_size=args.batch_size, shuffle=False,\n",
    "                                       num_workers=args.num_workers, transform=self.test_transform)\n",
    "\n",
    "        # Network\n",
    "        self.model = Network(args).to(self.device)\n",
    "\n",
    "        # Loss\n",
    "#         self.criterion = nn.CrossEntropyLoss(weight=class_weight)\n",
    "        self.criterion = FocalLoss()\n",
    "#         self.criterion = CutMixCrossEntropyLoss(True)\n",
    "        \n",
    "        # Optimizer & Scheduler\n",
    "#         self.optimizer = Lookahead(torch.optim.Adam(self.model.parameters(), lr=args.initial_lr), k=5, alpha=0.5)\n",
    "        self.optimizer = optim.Lamb(self.model.parameters(), lr=args.initial_lr)\n",
    "        \n",
    "        iter_per_epoch = len(self.train_loader)\n",
    "        self.warmup_scheduler = WarmUpLR(self.optimizer, iter_per_epoch * args.warm_epoch)\n",
    "\n",
    "        if args.scheduler == 'step':\n",
    "            self.scheduler = torch.optim.lr_scheduler.MultiStepLR(self.optimizer, milestones=args.milestone, gamma=args.lr_factor, verbose=True)\n",
    "        elif args.scheduler == 'cos':\n",
    "            tmax = args.tmax # half-cycle \n",
    "            self.scheduler = torch.optim.lr_scheduler.CosineAnnealingLR(self.optimizer, T_max = tmax, eta_min=args.min_lr, verbose=True)\n",
    "        elif args.scheduler == 'cycle':\n",
    "            self.scheduler = torch.optim.lr_scheduler.OneCycleLR(self.optimizer, max_lr=args.max_lr, steps_per_epoch=iter_per_epoch, epochs=args.epochs)\n",
    "        else:\n",
    "            self.scheduler = torch.optim.lr_scheduler.ReduceLROnPlateau(self.optimizer, patience=5, factor=0.5, mode=\"max\", verbose=True)\n",
    "            \n",
    "        if args.multi_gpu:\n",
    "            self.model = nn.DataParallel(self.model).to(self.device)\n",
    "\n",
    "        # Train / Validate\n",
    "        best_loss = np.inf\n",
    "        best_acc = 0\n",
    "        best_epoch = 0\n",
    "        early_stopping = 0\n",
    "        start = time.time()\n",
    "        for epoch in range(1, args.epochs+1):\n",
    "            self.epoch = epoch\n",
    "\n",
    "            if args.scheduler == 'cos':\n",
    "                if epoch > args.warm_epoch:\n",
    "                    self.scheduler.step()\n",
    "\n",
    "            # Training\n",
    "            train_loss, train_acc, train_f1 = self.training(args)\n",
    "\n",
    "            # Model weight in Multi_GPU or Single GPU\n",
    "            state_dict= self.model.module.state_dict() if args.multi_gpu else self.model.state_dict()\n",
    "\n",
    "            # Validation\n",
    "            val_loss, val_acc, val_f1 = self.validate(args, phase='val')\n",
    "\n",
    "            # Save models\n",
    "            if val_loss < best_loss:\n",
    "                early_stopping = 0\n",
    "                best_epoch = epoch\n",
    "                best_loss = val_loss\n",
    "                best_acc = val_acc\n",
    "                best_f1 = val_f1\n",
    "\n",
    "                torch.save({'epoch':epoch,\n",
    "                            'state_dict':state_dict,\n",
    "                            'optimizer': self.optimizer.state_dict(),\n",
    "                            'scheduler': self.scheduler.state_dict(),\n",
    "                    }, os.path.join(save_path, 'best_model.pth'))\n",
    "                self.logger.info(f'-----------------SAVE:{best_epoch}epoch----------------')\n",
    "            else:\n",
    "                early_stopping += 1\n",
    "\n",
    "            # Early Stopping\n",
    "            if early_stopping == args.patience:\n",
    "                break\n",
    "\n",
    "        self.logger.info(f'\\nBest Val Epoch:{best_epoch} | Val Loss:{best_loss:.4f} | Val Acc:{best_acc:.4f} | Val F1:{best_f1:.4f}')\n",
    "        end = time.time()\n",
    "        self.logger.info(f'Total Process time:{(end - start) / 60:.3f}Minute')\n",
    "\n",
    "    # Training\n",
    "    def training(self, args):\n",
    "        self.model.train()\n",
    "        train_loss = AvgMeter()\n",
    "        train_acc = 0\n",
    "        preds_list = []\n",
    "        targets_list = []\n",
    "\n",
    "        scaler = grad_scaler.GradScaler()\n",
    "        \n",
    "        for i, (images, targets) in enumerate(tqdm(self.train_loader)):\n",
    "            images = torch.tensor(images, device=self.device, dtype=torch.float32)\n",
    "            targets = torch.tensor(targets, device=self.device, dtype=torch.long)\n",
    "            \n",
    "            if self.epoch <= args.warm_epoch:\n",
    "                self.warmup_scheduler.step()\n",
    "\n",
    "            self.model.zero_grad(set_to_none=True)\n",
    "    \n",
    "            if args.amp:\n",
    "                with autocast():\n",
    "                    preds = self.model(images)\n",
    "                    loss = self.criterion(preds, targets)\n",
    "                    \n",
    "                scaler.scale(loss).backward()\n",
    "\n",
    "                # Gradient Clipping\n",
    "                if args.clipping is not None:\n",
    "                    scaler.unscale_(self.optimizer)\n",
    "                    torch.nn.utils.clip_grad_norm_(self.model.parameters(), args.clipping)\n",
    "\n",
    "                scaler.step(self.optimizer)\n",
    "                scaler.update()\n",
    "\n",
    "            else:\n",
    "                preds = self.model(images)\n",
    "                loss = self.criterion(preds, targets)\n",
    "                loss.backward()\n",
    "                nn.utils.clip_grad_norm_(self.model.parameters(), args.clipping)\n",
    "                self.optimizer.step()\n",
    "\n",
    "            if args.scheduler == 'cycle':\n",
    "                if self.epoch > args.warm_epoch:\n",
    "                    self.scheduler.step()\n",
    "\n",
    "            # Metric\n",
    "            train_acc += (preds.argmax(dim=1) == targets).sum().item()\n",
    "            preds_list.extend(preds.argmax(dim=1).cpu().detach().numpy())\n",
    "            targets_list.extend(targets.cpu().detach().numpy())\n",
    "            # log\n",
    "            train_loss.update(loss.item(), n=images.size(0))\n",
    "\n",
    "        train_acc /= len(self.train_loader.dataset)\n",
    "        train_f1 = f1_score(np.array(targets_list), np.array(preds_list), average='macro')\n",
    "\n",
    "        self.logger.info(f'Epoch:[{self.epoch:03d}/{args.epochs:03d}]')\n",
    "        self.logger.info(f'Train Loss:{train_loss.avg:.3f} | Acc:{train_acc:.4f} | F1:{train_f1:.4f}')\n",
    "        return train_loss.avg, train_acc, train_f1\n",
    "            \n",
    "    # Validation or Dev\n",
    "    def validate(self, args, phase='val'):\n",
    "        self.model.eval()\n",
    "        with torch.no_grad():\n",
    "            val_loss = AvgMeter()\n",
    "            val_acc = 0\n",
    "            preds_list = []\n",
    "            targets_list = []\n",
    "\n",
    "            for i, (images, targets) in enumerate(self.val_loader):\n",
    "                images = torch.tensor(images, device=self.device, dtype=torch.float32)\n",
    "                targets = torch.tensor(targets, device=self.device, dtype=torch.long)\n",
    "\n",
    "                preds = self.model(images)\n",
    "                loss = self.criterion(preds, targets)\n",
    "\n",
    "                # Metric\n",
    "                val_acc += (preds.argmax(dim=1) == targets).sum().item()\n",
    "                preds_list.extend(preds.argmax(dim=1).cpu().detach().numpy())\n",
    "                targets_list.extend(targets.cpu().detach().numpy())\n",
    "\n",
    "                # log\n",
    "                val_loss.update(loss.item(), n=images.size(0))\n",
    "            val_acc /= len(self.val_loader.dataset)\n",
    "            val_f1 = f1_score(np.array(targets_list), np.array(preds_list), average='macro')\n",
    "\n",
    "            self.logger.info(f'{phase} Loss:{val_loss.avg:.3f} | Acc:{val_acc:.4f} | F1:{val_f1:.4f}')\n",
    "        return val_loss.avg, val_acc, val_f1"
   ]
  },
  {
   "cell_type": "code",
   "execution_count": 25,
   "metadata": {},
   "outputs": [],
   "source": [
    "def main(args):\n",
    "    print('<---- Training Params ---->')\n",
    "    \n",
    "    # Random Seed\n",
    "    seed = args.seed\n",
    "    os.environ['PYTHONHASHSEED'] = str(seed)\n",
    "    random.seed(seed)\n",
    "    np.random.seed(seed)\n",
    "    torch.manual_seed(seed)\n",
    "    torch.cuda.manual_seed(seed)\n",
    "    torch.cuda.manual_seed_all(seed)\n",
    "    torch.backends.cudnn.benchmark = True\n",
    "\n",
    "    save_path = os.path.join(args.model_path, (args.exp_num).zfill(3))\n",
    "    \n",
    "    # Create model directory\n",
    "    os.makedirs(save_path, exist_ok=True)\n",
    "    Trainer(args, save_path)\n",
    "\n",
    "    return save_path"
   ]
  },
  {
   "cell_type": "code",
   "execution_count": 26,
   "metadata": {},
   "outputs": [
    {
     "name": "stdout",
     "output_type": "stream",
     "text": [
      "Device: cuda\n",
      "Current cuda device: 0\n",
      "Count of using GPUs: 2\n"
     ]
    }
   ],
   "source": [
    "device = torch.device(\"cuda\" if torch.cuda.is_available() else \"cpu\")\n",
    "\n",
    "print('Device:', device)\n",
    "print('Current cuda device:', torch.cuda.current_device())\n",
    "print('Count of using GPUs:', torch.cuda.device_count())"
   ]
  },
  {
   "cell_type": "code",
   "execution_count": 27,
   "metadata": {},
   "outputs": [],
   "source": [
    "device = torch.device('cuda' if torch.cuda.is_available() else 'cpu')\n",
    "sub = pd.read_csv('./open/sample_submission.csv')\n",
    "df_train = pd.read_csv('./open/train_df_add_data.csv')\n",
    "df_test = pd.read_csv('./open/test_df.csv')"
   ]
  },
  {
   "cell_type": "code",
   "execution_count": 28,
   "metadata": {},
   "outputs": [],
   "source": [
    "def predict(encoder_name, test_loader, device, model_path):\n",
    "    model = Network_test(encoder_name).to(device)\n",
    "    model.load_state_dict(torch.load(opj(model_path, 'best_model.pth'))['state_dict'])\n",
    "    model.eval()\n",
    "    preds_list = []\n",
    "    with torch.no_grad():\n",
    "        for images in tqdm(test_loader):\n",
    "            images = torch.as_tensor(images, device=device, dtype=torch.float32)\n",
    "            preds = model(images)\n",
    "            preds = torch.softmax(preds, dim=1)\n",
    "            preds_list.extend(preds.cpu().tolist())\n",
    "\n",
    "    return np.array(preds_list)\n",
    "\n",
    "def ensemble_5fold(model_path_list, test_loader, device):\n",
    "    predict_list = []\n",
    "    for model_path in model_path_list:\n",
    "        prediction = predict(encoder_name= 'regnety_040', test_loader = test_loader, device = device, model_path = model_path)\n",
    "        predict_list.append(prediction)\n",
    "    ensemble = (predict_list[0] + predict_list[1] + predict_list[2] + predict_list[3] + predict_list[4])/len(predict_list)\n",
    "\n",
    "    return ensemble\n"
   ]
  },
  {
   "cell_type": "code",
   "execution_count": null,
   "metadata": {
    "scrolled": true
   },
   "outputs": [
    {
     "name": "stderr",
     "output_type": "stream",
     "text": [
      "2022-05-03 14:10:35,657 INFO: {'exp_num': '0', 'data_path': './open', 'Kfold': 5, 'model_path': 'label_results/', 'image_type': 'train_1024', 'class_num': 88, 'model_name': 'regnety_040', 'drop_path_rate': 0.2, 'img_size': 512, 'batch_size': 16, 'epochs': 100, 'optimizer': 'Lamb', 'initial_lr': 0.0005, 'weight_decay': 0.001, 'aug_ver': 2, 'scheduler': 'Reduce', 'warm_epoch': 5, 'max_lr': 0.001, 'min_lr': 5e-05, 'tmax': 145, 'patience': 7, 'clipping': None, 'amp': True, 'multi_gpu': True, 'logging': False, 'num_workers': 4, 'seed': 42, 'step': 0, 'fold': 0}\n"
     ]
    },
    {
     "name": "stdout",
     "output_type": "stream",
     "text": [
      "<---- Training Params ---->\n",
      "Dataset size:11197\n",
      "Dataset size:2800\n"
     ]
    },
    {
     "name": "stderr",
     "output_type": "stream",
     "text": [
      "2022-05-03 14:10:36,000 INFO: Loading pretrained weights from url (https://github.com/rwightman/pytorch-image-models/releases/download/v0.1-regnet/regnety_040-f0d569f9.pth)\n",
      "100%|██████████| 700/700 [04:28<00:00,  2.60it/s]\n",
      "2022-05-03 14:15:05,083 INFO: Epoch:[001/100]\n",
      "2022-05-03 14:15:05,084 INFO: Train Loss:4.249 | Acc:0.0608 | F1:0.0325\n",
      "2022-05-03 14:15:41,916 INFO: val Loss:3.394 | Acc:0.2600 | F1:0.0921\n",
      "2022-05-03 14:15:42,632 INFO: -----------------SAVE:1epoch----------------\n",
      "100%|██████████| 700/700 [06:37<00:00,  1.76it/s]\n",
      "2022-05-03 14:22:19,778 INFO: Epoch:[002/100]\n",
      "2022-05-03 14:22:19,779 INFO: Train Loss:3.083 | Acc:0.2633 | F1:0.1158\n",
      "2022-05-03 14:22:55,472 INFO: val Loss:1.827 | Acc:0.3336 | F1:0.1426\n",
      "2022-05-03 14:22:56,206 INFO: -----------------SAVE:2epoch----------------\n",
      "100%|██████████| 700/700 [06:29<00:00,  1.80it/s]\n",
      "2022-05-03 14:29:25,717 INFO: Epoch:[003/100]\n",
      "2022-05-03 14:29:25,718 INFO: Train Loss:2.102 | Acc:0.3230 | F1:0.2026\n",
      "2022-05-03 14:30:00,708 INFO: val Loss:1.158 | Acc:0.4271 | F1:0.2669\n",
      "2022-05-03 14:30:01,362 INFO: -----------------SAVE:3epoch----------------\n",
      "100%|██████████| 700/700 [06:28<00:00,  1.80it/s]\n",
      "2022-05-03 14:36:29,810 INFO: Epoch:[004/100]\n",
      "2022-05-03 14:36:29,811 INFO: Train Loss:1.606 | Acc:0.3993 | F1:0.3068\n",
      "2022-05-03 14:37:04,079 INFO: val Loss:0.932 | Acc:0.4850 | F1:0.3589\n",
      "2022-05-03 14:37:04,797 INFO: -----------------SAVE:4epoch----------------\n",
      "100%|██████████| 700/700 [06:34<00:00,  1.77it/s]\n",
      "2022-05-03 14:43:39,295 INFO: Epoch:[005/100]\n",
      "2022-05-03 14:43:39,296 INFO: Train Loss:1.293 | Acc:0.4808 | F1:0.4209\n",
      "2022-05-03 14:44:15,256 INFO: val Loss:0.661 | Acc:0.6296 | F1:0.5352\n",
      "2022-05-03 14:44:15,937 INFO: -----------------SAVE:5epoch----------------\n",
      "100%|██████████| 700/700 [06:24<00:00,  1.82it/s]\n",
      "2022-05-03 14:50:40,865 INFO: Epoch:[006/100]\n",
      "2022-05-03 14:50:40,865 INFO: Train Loss:0.990 | Acc:0.5795 | F1:0.5394\n",
      "2022-05-03 14:51:15,876 INFO: val Loss:0.426 | Acc:0.7096 | F1:0.6431\n",
      "2022-05-03 14:51:16,573 INFO: -----------------SAVE:6epoch----------------\n",
      "100%|██████████| 700/700 [06:42<00:00,  1.74it/s]\n",
      "2022-05-03 14:57:59,335 INFO: Epoch:[007/100]\n",
      "2022-05-03 14:57:59,336 INFO: Train Loss:0.716 | Acc:0.6901 | F1:0.6634\n",
      "2022-05-03 14:58:35,190 INFO: val Loss:0.261 | Acc:0.8171 | F1:0.7642\n",
      "2022-05-03 14:58:35,857 INFO: -----------------SAVE:7epoch----------------\n",
      "100%|██████████| 700/700 [06:36<00:00,  1.77it/s]\n",
      "2022-05-03 15:05:12,285 INFO: Epoch:[008/100]\n",
      "2022-05-03 15:05:12,286 INFO: Train Loss:0.490 | Acc:0.7692 | F1:0.7532\n",
      "2022-05-03 15:05:46,974 INFO: val Loss:0.142 | Acc:0.8993 | F1:0.8800\n",
      "2022-05-03 15:05:47,620 INFO: -----------------SAVE:8epoch----------------\n",
      "100%|██████████| 700/700 [06:23<00:00,  1.82it/s]\n",
      "2022-05-03 15:12:11,564 INFO: Epoch:[009/100]\n",
      "2022-05-03 15:12:11,564 INFO: Train Loss:0.361 | Acc:0.8234 | F1:0.8118\n",
      "2022-05-03 15:12:46,537 INFO: val Loss:0.064 | Acc:0.9425 | F1:0.9300\n",
      "2022-05-03 15:12:47,349 INFO: -----------------SAVE:9epoch----------------\n",
      "100%|██████████| 700/700 [06:28<00:00,  1.80it/s]\n",
      "2022-05-03 15:19:15,592 INFO: Epoch:[010/100]\n",
      "2022-05-03 15:19:15,592 INFO: Train Loss:0.272 | Acc:0.8641 | F1:0.8565\n",
      "2022-05-03 15:19:51,857 INFO: val Loss:0.058 | Acc:0.9500 | F1:0.9514\n",
      "2022-05-03 15:19:52,557 INFO: -----------------SAVE:10epoch----------------\n",
      "100%|██████████| 700/700 [06:33<00:00,  1.78it/s]\n",
      "2022-05-03 15:26:25,757 INFO: Epoch:[011/100]\n",
      "2022-05-03 15:26:25,758 INFO: Train Loss:0.212 | Acc:0.8889 | F1:0.8835\n",
      "2022-05-03 15:27:00,936 INFO: val Loss:0.046 | Acc:0.9557 | F1:0.9497\n",
      "2022-05-03 15:27:01,750 INFO: -----------------SAVE:11epoch----------------\n",
      "100%|██████████| 700/700 [06:38<00:00,  1.76it/s]\n",
      "2022-05-03 15:33:39,833 INFO: Epoch:[012/100]\n",
      "2022-05-03 15:33:39,834 INFO: Train Loss:0.169 | Acc:0.9110 | F1:0.9077\n",
      "2022-05-03 15:34:15,120 INFO: val Loss:0.040 | Acc:0.9589 | F1:0.9597\n",
      "2022-05-03 15:34:15,810 INFO: -----------------SAVE:12epoch----------------\n",
      "100%|██████████| 700/700 [06:25<00:00,  1.82it/s]\n",
      "2022-05-03 15:40:41,103 INFO: Epoch:[013/100]\n",
      "2022-05-03 15:40:41,104 INFO: Train Loss:0.144 | Acc:0.9199 | F1:0.9167\n",
      "2022-05-03 15:41:15,671 INFO: val Loss:0.010 | Acc:0.9900 | F1:0.9905\n",
      "2022-05-03 15:41:16,317 INFO: -----------------SAVE:13epoch----------------\n",
      "100%|██████████| 700/700 [06:28<00:00,  1.80it/s]\n",
      "2022-05-03 15:47:44,647 INFO: Epoch:[014/100]\n",
      "2022-05-03 15:47:44,648 INFO: Train Loss:0.115 | Acc:0.9338 | F1:0.9294\n",
      "2022-05-03 15:48:20,571 INFO: val Loss:0.020 | Acc:0.9800 | F1:0.9766\n",
      "100%|██████████| 700/700 [06:31<00:00,  1.79it/s]\n",
      "2022-05-03 15:54:51,698 INFO: Epoch:[015/100]\n",
      "2022-05-03 15:54:51,699 INFO: Train Loss:0.106 | Acc:0.9407 | F1:0.9366\n",
      "2022-05-03 15:55:27,792 INFO: val Loss:0.074 | Acc:0.9604 | F1:0.9572\n",
      "100%|██████████| 700/700 [06:31<00:00,  1.79it/s]\n",
      "2022-05-03 16:01:59,324 INFO: Epoch:[016/100]\n",
      "2022-05-03 16:01:59,325 INFO: Train Loss:0.093 | Acc:0.9451 | F1:0.9427\n",
      "2022-05-03 16:02:35,581 INFO: val Loss:0.017 | Acc:0.9779 | F1:0.9739\n",
      "100%|██████████| 700/700 [06:31<00:00,  1.79it/s]\n",
      "2022-05-03 16:09:07,089 INFO: Epoch:[017/100]\n",
      "2022-05-03 16:09:07,090 INFO: Train Loss:0.076 | Acc:0.9547 | F1:0.9526\n",
      "2022-05-03 16:09:43,577 INFO: val Loss:0.016 | Acc:0.9854 | F1:0.9773\n",
      "100%|██████████| 700/700 [06:42<00:00,  1.74it/s]\n",
      "2022-05-03 16:16:25,823 INFO: Epoch:[018/100]\n",
      "2022-05-03 16:16:25,824 INFO: Train Loss:0.071 | Acc:0.9559 | F1:0.9547\n",
      "2022-05-03 16:17:01,984 INFO: val Loss:0.019 | Acc:0.9843 | F1:0.9832\n",
      "100%|██████████| 700/700 [06:46<00:00,  1.72it/s]\n",
      "2022-05-03 16:23:48,403 INFO: Epoch:[019/100]\n",
      "2022-05-03 16:23:48,403 INFO: Train Loss:0.068 | Acc:0.9574 | F1:0.9561\n",
      "2022-05-03 16:24:22,458 INFO: val Loss:0.006 | Acc:0.9971 | F1:0.9971\n",
      "2022-05-03 16:24:23,106 INFO: -----------------SAVE:19epoch----------------\n",
      "100%|██████████| 700/700 [06:32<00:00,  1.78it/s]\n",
      "2022-05-03 16:30:56,055 INFO: Epoch:[020/100]\n",
      "2022-05-03 16:30:56,056 INFO: Train Loss:0.060 | Acc:0.9648 | F1:0.9621\n",
      "2022-05-03 16:31:32,566 INFO: val Loss:0.005 | Acc:0.9943 | F1:0.9940\n",
      "2022-05-03 16:31:33,217 INFO: -----------------SAVE:20epoch----------------\n",
      "100%|██████████| 700/700 [06:24<00:00,  1.82it/s]\n",
      "2022-05-03 16:37:58,209 INFO: Epoch:[021/100]\n",
      "2022-05-03 16:37:58,210 INFO: Train Loss:0.053 | Acc:0.9653 | F1:0.9642\n",
      "2022-05-03 16:38:33,600 INFO: val Loss:0.013 | Acc:0.9882 | F1:0.9794\n",
      "100%|██████████| 700/700 [06:29<00:00,  1.79it/s]\n",
      "2022-05-03 16:45:03,618 INFO: Epoch:[022/100]\n",
      "2022-05-03 16:45:03,619 INFO: Train Loss:0.057 | Acc:0.9655 | F1:0.9634\n",
      "2022-05-03 16:45:38,139 INFO: val Loss:0.015 | Acc:0.9861 | F1:0.9844\n",
      "100%|██████████| 700/700 [06:32<00:00,  1.78it/s]\n",
      "2022-05-03 16:52:10,330 INFO: Epoch:[023/100]\n",
      "2022-05-03 16:52:10,331 INFO: Train Loss:0.050 | Acc:0.9690 | F1:0.9669\n",
      "2022-05-03 16:52:47,263 INFO: val Loss:0.007 | Acc:0.9954 | F1:0.9954\n",
      "100%|██████████| 700/700 [06:30<00:00,  1.79it/s]\n",
      "2022-05-03 16:59:18,170 INFO: Epoch:[024/100]\n",
      "2022-05-03 16:59:18,171 INFO: Train Loss:0.049 | Acc:0.9698 | F1:0.9693\n",
      "2022-05-03 16:59:54,392 INFO: val Loss:0.013 | Acc:0.9921 | F1:0.9926\n",
      "100%|██████████| 700/700 [06:22<00:00,  1.83it/s]\n",
      "2022-05-03 17:06:17,087 INFO: Epoch:[025/100]\n",
      "2022-05-03 17:06:17,088 INFO: Train Loss:0.048 | Acc:0.9708 | F1:0.9693\n",
      "2022-05-03 17:06:53,472 INFO: val Loss:0.007 | Acc:0.9946 | F1:0.9952\n",
      "100%|██████████| 700/700 [06:38<00:00,  1.76it/s]\n",
      "2022-05-03 17:13:31,921 INFO: Epoch:[026/100]\n",
      "2022-05-03 17:13:31,922 INFO: Train Loss:0.041 | Acc:0.9735 | F1:0.9724\n",
      "2022-05-03 17:14:08,853 INFO: val Loss:0.004 | Acc:0.9950 | F1:0.9951\n",
      "2022-05-03 17:14:09,509 INFO: -----------------SAVE:26epoch----------------\n",
      "100%|██████████| 700/700 [06:33<00:00,  1.78it/s]\n",
      "2022-05-03 17:20:43,135 INFO: Epoch:[027/100]\n",
      "2022-05-03 17:20:43,136 INFO: Train Loss:0.041 | Acc:0.9737 | F1:0.9716\n",
      "2022-05-03 17:21:19,605 INFO: val Loss:0.003 | Acc:0.9975 | F1:0.9969\n",
      "2022-05-03 17:21:20,347 INFO: -----------------SAVE:27epoch----------------\n",
      "100%|██████████| 700/700 [06:30<00:00,  1.79it/s]\n",
      "2022-05-03 17:27:50,552 INFO: Epoch:[028/100]\n",
      "2022-05-03 17:27:50,553 INFO: Train Loss:0.037 | Acc:0.9756 | F1:0.9746\n",
      "2022-05-03 17:28:25,038 INFO: val Loss:0.004 | Acc:0.9961 | F1:0.9961\n",
      "100%|██████████| 700/700 [06:34<00:00,  1.77it/s]\n",
      "2022-05-03 17:34:59,711 INFO: Epoch:[029/100]\n"
     ]
    },
    {
     "name": "stderr",
     "output_type": "stream",
     "text": [
      "2022-05-03 17:34:59,712 INFO: Train Loss:0.037 | Acc:0.9764 | F1:0.9759\n",
      "2022-05-03 17:35:35,766 INFO: val Loss:0.004 | Acc:0.9954 | F1:0.9952\n",
      "100%|██████████| 700/700 [06:38<00:00,  1.76it/s]\n",
      "2022-05-03 17:42:14,259 INFO: Epoch:[030/100]\n",
      "2022-05-03 17:42:14,260 INFO: Train Loss:0.038 | Acc:0.9754 | F1:0.9748\n",
      "2022-05-03 17:42:50,055 INFO: val Loss:0.014 | Acc:0.9925 | F1:0.9923\n",
      "100%|██████████| 700/700 [06:38<00:00,  1.76it/s]\n",
      "2022-05-03 17:49:28,836 INFO: Epoch:[031/100]\n",
      "2022-05-03 17:49:28,837 INFO: Train Loss:0.036 | Acc:0.9770 | F1:0.9770\n",
      "2022-05-03 17:50:04,309 INFO: val Loss:0.004 | Acc:0.9961 | F1:0.9953\n",
      "100%|██████████| 700/700 [06:22<00:00,  1.83it/s]\n",
      "2022-05-03 17:56:26,788 INFO: Epoch:[032/100]\n",
      "2022-05-03 17:56:26,789 INFO: Train Loss:0.031 | Acc:0.9793 | F1:0.9790\n",
      "2022-05-03 17:57:01,802 INFO: val Loss:0.010 | Acc:0.9925 | F1:0.9910\n",
      "100%|██████████| 700/700 [06:17<00:00,  1.85it/s]\n",
      "2022-05-03 18:03:19,188 INFO: Epoch:[033/100]\n",
      "2022-05-03 18:03:19,189 INFO: Train Loss:0.032 | Acc:0.9797 | F1:0.9791\n",
      "2022-05-03 18:03:53,824 INFO: val Loss:0.015 | Acc:0.9957 | F1:0.9952\n",
      "100%|██████████| 700/700 [06:33<00:00,  1.78it/s]\n",
      "2022-05-03 18:10:27,801 INFO: Epoch:[034/100]\n",
      "2022-05-03 18:10:27,802 INFO: Train Loss:0.031 | Acc:0.9788 | F1:0.9775\n",
      "2022-05-03 18:11:04,253 INFO: val Loss:0.002 | Acc:0.9979 | F1:0.9976\n",
      "2022-05-03 18:11:04,863 INFO: -----------------SAVE:34epoch----------------\n",
      "100%|██████████| 700/700 [06:29<00:00,  1.80it/s]\n",
      "2022-05-03 18:17:34,360 INFO: Epoch:[035/100]\n",
      "2022-05-03 18:17:34,361 INFO: Train Loss:0.033 | Acc:0.9792 | F1:0.9768\n",
      "2022-05-03 18:18:10,933 INFO: val Loss:0.002 | Acc:0.9979 | F1:0.9973\n",
      "2022-05-03 18:18:11,642 INFO: -----------------SAVE:35epoch----------------\n",
      "100%|██████████| 700/700 [06:25<00:00,  1.82it/s]\n",
      "2022-05-03 18:24:36,790 INFO: Epoch:[036/100]\n",
      "2022-05-03 18:24:36,791 INFO: Train Loss:0.031 | Acc:0.9795 | F1:0.9785\n",
      "2022-05-03 18:25:12,625 INFO: val Loss:0.011 | Acc:0.9918 | F1:0.9894\n",
      "100%|██████████| 700/700 [06:41<00:00,  1.74it/s]\n",
      "2022-05-03 18:31:54,167 INFO: Epoch:[037/100]\n",
      "2022-05-03 18:31:54,168 INFO: Train Loss:0.028 | Acc:0.9828 | F1:0.9821\n",
      "2022-05-03 18:32:30,480 INFO: val Loss:0.004 | Acc:0.9971 | F1:0.9959\n",
      "100%|██████████| 700/700 [06:27<00:00,  1.81it/s]\n",
      "2022-05-03 18:38:58,161 INFO: Epoch:[038/100]\n",
      "2022-05-03 18:38:58,162 INFO: Train Loss:0.027 | Acc:0.9829 | F1:0.9831\n",
      "2022-05-03 18:39:34,074 INFO: val Loss:0.000 | Acc:0.9993 | F1:0.9992\n",
      "2022-05-03 18:39:34,790 INFO: -----------------SAVE:38epoch----------------\n",
      "100%|██████████| 700/700 [06:10<00:00,  1.89it/s]\n",
      "2022-05-03 18:45:45,442 INFO: Epoch:[039/100]\n",
      "2022-05-03 18:45:45,442 INFO: Train Loss:0.027 | Acc:0.9829 | F1:0.9820\n",
      "2022-05-03 18:46:20,684 INFO: val Loss:0.067 | Acc:0.9843 | F1:0.9829\n",
      "100%|██████████| 700/700 [06:35<00:00,  1.77it/s]\n",
      "2022-05-03 18:52:56,558 INFO: Epoch:[040/100]\n",
      "2022-05-03 18:52:56,559 INFO: Train Loss:0.028 | Acc:0.9829 | F1:0.9822\n",
      "2022-05-03 18:53:32,682 INFO: val Loss:0.002 | Acc:0.9971 | F1:0.9972\n",
      "100%|██████████| 700/700 [06:34<00:00,  1.78it/s]\n",
      "2022-05-03 19:00:06,988 INFO: Epoch:[041/100]\n",
      "2022-05-03 19:00:06,989 INFO: Train Loss:0.024 | Acc:0.9835 | F1:0.9830\n",
      "2022-05-03 19:00:42,941 INFO: val Loss:0.000 | Acc:0.9993 | F1:0.9994\n",
      "100%|██████████| 700/700 [06:31<00:00,  1.79it/s]\n",
      "2022-05-03 19:07:14,909 INFO: Epoch:[042/100]\n",
      "2022-05-03 19:07:14,910 INFO: Train Loss:0.027 | Acc:0.9820 | F1:0.9820\n",
      "2022-05-03 19:07:50,593 INFO: val Loss:0.005 | Acc:0.9971 | F1:0.9974\n",
      "100%|██████████| 700/700 [06:34<00:00,  1.78it/s]\n",
      "2022-05-03 19:14:24,642 INFO: Epoch:[043/100]\n",
      "2022-05-03 19:14:24,643 INFO: Train Loss:0.023 | Acc:0.9853 | F1:0.9844\n",
      "2022-05-03 19:15:00,877 INFO: val Loss:0.001 | Acc:0.9986 | F1:0.9988\n",
      "100%|██████████| 700/700 [06:27<00:00,  1.80it/s]\n",
      "2022-05-03 19:21:28,735 INFO: Epoch:[044/100]\n",
      "2022-05-03 19:21:28,736 INFO: Train Loss:0.023 | Acc:0.9850 | F1:0.9846\n",
      "2022-05-03 19:22:03,848 INFO: val Loss:0.001 | Acc:0.9993 | F1:0.9989\n",
      "100%|██████████| 700/700 [06:34<00:00,  1.78it/s]\n",
      "2022-05-03 19:28:38,161 INFO: Epoch:[045/100]\n",
      "2022-05-03 19:28:38,162 INFO: Train Loss:0.025 | Acc:0.9841 | F1:0.9833\n",
      "2022-05-03 19:29:13,557 INFO: val Loss:0.006 | Acc:0.9946 | F1:0.9942\n",
      "2022-05-03 19:29:13,559 INFO: \n",
      "Best Val Epoch:38 | Val Loss:0.0003 | Val Acc:0.9993 | Val F1:0.9992\n",
      "2022-05-03 19:29:13,560 INFO: Total Process time:318.623Minute\n",
      "2022-05-03 19:29:13,571 INFO: {'exp_num': '1', 'data_path': './open', 'Kfold': 5, 'model_path': 'label_results/', 'image_type': 'train_1024', 'class_num': 88, 'model_name': 'regnety_040', 'drop_path_rate': 0.2, 'img_size': 512, 'batch_size': 16, 'epochs': 100, 'optimizer': 'Lamb', 'initial_lr': 0.0005, 'weight_decay': 0.001, 'aug_ver': 2, 'scheduler': 'Reduce', 'warm_epoch': 5, 'max_lr': 0.001, 'min_lr': 5e-05, 'tmax': 145, 'patience': 7, 'clipping': None, 'amp': True, 'multi_gpu': True, 'logging': False, 'num_workers': 4, 'seed': 42, 'step': 0, 'fold': 1}\n"
     ]
    },
    {
     "name": "stdout",
     "output_type": "stream",
     "text": [
      "<---- Training Params ---->\n",
      "Dataset size:11197\n",
      "Dataset size:2800\n"
     ]
    },
    {
     "name": "stderr",
     "output_type": "stream",
     "text": [
      "2022-05-03 19:29:13,969 INFO: Loading pretrained weights from url (https://github.com/rwightman/pytorch-image-models/releases/download/v0.1-regnet/regnety_040-f0d569f9.pth)\n",
      "100%|██████████| 700/700 [06:39<00:00,  1.75it/s]\n",
      "2022-05-03 19:35:53,672 INFO: Epoch:[001/100]\n",
      "2022-05-03 19:35:53,673 INFO: Train Loss:4.243 | Acc:0.0597 | F1:0.0310\n",
      "2022-05-03 19:36:29,289 INFO: val Loss:3.382 | Acc:0.2686 | F1:0.0922\n",
      "2022-05-03 19:36:30,159 INFO: -----------------SAVE:1epoch----------------\n",
      "100%|██████████| 700/700 [06:24<00:00,  1.82it/s]\n",
      "2022-05-03 19:42:54,520 INFO: Epoch:[002/100]\n",
      "2022-05-03 19:42:54,521 INFO: Train Loss:3.081 | Acc:0.2649 | F1:0.1156\n",
      "2022-05-03 19:43:28,108 INFO: val Loss:1.813 | Acc:0.3211 | F1:0.1311\n"
     ]
    }
   ],
   "source": [
    "args.step = 0\n",
    "models_path = []\n",
    "for s_fold in range(5): # 5fold\n",
    "    args.fold = s_fold\n",
    "    args.exp_num = str(s_fold)\n",
    "    save_path = main(args)\n",
    "    models_path.append(save_path)"
   ]
  },
  {
   "cell_type": "code",
   "execution_count": null,
   "metadata": {},
   "outputs": [],
   "source": [
    "img_size = 512\n",
    "\n",
    "test_transform = get_train_augmentation(img_size=img_size, ver=1)\n",
    "test_dataset = Test_dataset(df_test, test_transform)\n",
    "test_loader = DataLoader(test_dataset, batch_size=64, shuffle=False, num_workers=0)"
   ]
  },
  {
   "cell_type": "code",
   "execution_count": null,
   "metadata": {},
   "outputs": [],
   "source": [
    "# models_path = ['./label_results/000', './label_results/001', './label_results/002', './label_results/003', './label_results/004']"
   ]
  },
  {
   "cell_type": "code",
   "execution_count": null,
   "metadata": {},
   "outputs": [],
   "source": [
    "ensemble = ensemble_5fold(models_path, test_loader, device)"
   ]
  },
  {
   "cell_type": "code",
   "execution_count": null,
   "metadata": {},
   "outputs": [],
   "source": [
    "f_pred = ensemble.argmax(axis=1).tolist()\n",
    "f_pred"
   ]
  },
  {
   "cell_type": "code",
   "execution_count": null,
   "metadata": {},
   "outputs": [],
   "source": [
    "train_y = pd.read_csv(\"./open/train_df_add_data.csv\")\n",
    "\n",
    "train_labels = train_y[\"label\"]\n",
    "\n",
    "label_unique = sorted(np.unique(train_labels))\n",
    "label_unique = {key:value for key,value in zip(label_unique, range(len(label_unique)))}\n"
   ]
  },
  {
   "cell_type": "code",
   "execution_count": null,
   "metadata": {},
   "outputs": [],
   "source": [
    "label_decoder = {val:key for key, val in label_unique.items()}\n",
    "\n",
    "f_result = [label_decoder[result] for result in f_pred]"
   ]
  },
  {
   "cell_type": "code",
   "execution_count": null,
   "metadata": {},
   "outputs": [],
   "source": [
    "f_result"
   ]
  },
  {
   "cell_type": "code",
   "execution_count": null,
   "metadata": {},
   "outputs": [],
   "source": [
    "submission = pd.read_csv(\"./open/sample_submission.csv\")\n",
    "\n",
    "submission[\"label\"] = f_result\n",
    "\n",
    "submission"
   ]
  },
  {
   "cell_type": "code",
   "execution_count": null,
   "metadata": {},
   "outputs": [],
   "source": [
    "submission.to_csv(\"./submission/label_result_add_0503_label_regnety_040.csv\", index = False)"
   ]
  },
  {
   "cell_type": "code",
   "execution_count": null,
   "metadata": {},
   "outputs": [],
   "source": []
  }
 ],
 "metadata": {
  "kernelspec": {
   "display_name": "Python 3",
   "language": "python",
   "name": "python3"
  },
  "language_info": {
   "codemirror_mode": {
    "name": "ipython",
    "version": 3
   },
   "file_extension": ".py",
   "mimetype": "text/x-python",
   "name": "python",
   "nbconvert_exporter": "python",
   "pygments_lexer": "ipython3",
   "version": "3.6.9"
  }
 },
 "nbformat": 4,
 "nbformat_minor": 2
}
